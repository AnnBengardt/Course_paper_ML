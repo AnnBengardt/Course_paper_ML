{
  "nbformat": 4,
  "nbformat_minor": 0,
  "metadata": {
    "colab": {
      "name": "Марунько Анна ПИ19-2 Курсовая работа.ipynb",
      "provenance": [],
      "collapsed_sections": [
        "GvS1WApn96xc",
        "SgqmFmTM_d-f",
        "Fwyz3nzXINN4",
        "6taenwQuIZaV",
        "ahlckE8dYVT7",
        "w6jiTh-5Yjdj",
        "zks91Xd5dOCl",
        "SxITRbHqiKmu",
        "CVXFolqIk4kP",
        "S_1jTq30qM7z",
        "iLGHpptsU8-M",
        "fI777lCNU_cM",
        "2cDtg5sQWgHV",
        "ovf3qydHcBU1",
        "xfDSblVUhZME",
        "ecEj0AcejU-l"
      ],
      "mount_file_id": "1Pab6idKXf-yFvv7BdZP8Iby4o24UzymH",
      "authorship_tag": "ABX9TyMedHrUuA4dv59BGddgekCm"
    },
    "kernelspec": {
      "name": "python3",
      "display_name": "Python 3"
    },
    "language_info": {
      "name": "python"
    }
  },
  "cells": [
    {
      "cell_type": "markdown",
      "source": [
        "#Курсовая работа\n",
        "##по дисциплине «Технологии анализа данных и машинное обучение»\n",
        "####на тему: «Предварительный анализ данных и построение признаков в задачах распознавания темы текста»\n"
      ],
      "metadata": {
        "id": "K-smGcQ49JTJ"
      }
    },
    {
      "cell_type": "markdown",
      "source": [
        "##Загрузка данных"
      ],
      "metadata": {
        "id": "GvS1WApn96xc"
      }
    },
    {
      "cell_type": "code",
      "source": [
        "#!pip install gensim --upgrade"
      ],
      "metadata": {
        "id": "Bwb3WxNZpMwP"
      },
      "execution_count": null,
      "outputs": []
    },
    {
      "cell_type": "code",
      "execution_count": null,
      "metadata": {
        "id": "ls1xB6_179ho"
      },
      "outputs": [],
      "source": [
        "import os\n",
        "import numpy as np\n",
        "import pandas as pd"
      ]
    },
    {
      "cell_type": "code",
      "source": [
        "DATA_PATH = '/content/drive/MyDrive/Dataset/data/'\n",
        "fairy_tales = []\n",
        "\n",
        "file_names = os.listdir(DATA_PATH)\n",
        "for file_name in file_names:\n",
        "    with open(DATA_PATH + file_name, encoding='utf-8', errors='ignore', mode='r+') as f:\n",
        "        data = f.read()\n",
        "    fairy_tales.append(data)\n",
        "len(fairy_tales)"
      ],
      "metadata": {
        "colab": {
          "base_uri": "https://localhost:8080/"
        },
        "id": "bFHIHnIW-oTX",
        "outputId": "de974193-d414-4812-c781-5505b26c5bbc"
      },
      "execution_count": null,
      "outputs": [
        {
          "output_type": "execute_result",
          "data": {
            "text/plain": [
              "1455"
            ]
          },
          "metadata": {},
          "execution_count": 3
        }
      ]
    },
    {
      "cell_type": "markdown",
      "source": [
        "##Предобработка данных"
      ],
      "metadata": {
        "id": "SgqmFmTM_d-f"
      }
    },
    {
      "cell_type": "markdown",
      "source": [
        "В первую очередь необходимо удалить слова-\"выбросы\". Поскольку тексты взяты из книг со сказками, то во всех них присутствуют такие слова как \"Illustration\", \"Chapter\", \"Decoration\" (это обозначения элементов в книгах). Для распознавания темы текстов они бесполезны."
      ],
      "metadata": {
        "id": "gOPHZ6XK_haO"
      }
    },
    {
      "cell_type": "code",
      "source": [
        "import re\n",
        "\n",
        "for text in fairy_tales:\n",
        "    \n",
        "    chapter_pattern=re.compile(r'(CHAPTER [A-Z]+)|([Cc]hapter [A-Z]+)')\n",
        "    decoration_pattern=re.compile(r'(\\[Decoration])|(Decoration)')\n",
        "    ill_pattern=re.compile(r'(\\[Illustration:?[\\s\\w]*])|(Illustration)')\n",
        "    text = re.sub(chapter_pattern, '', text)\n",
        "    text = re.sub(ill_pattern, '', text)\n",
        "    text = re.sub(decoration_pattern, '', text)"
      ],
      "metadata": {
        "id": "3ynJCZPx_f9L"
      },
      "execution_count": null,
      "outputs": []
    },
    {
      "cell_type": "markdown",
      "source": [
        "Далее общая предобработка данных: очистка от не английских букв (Æ, Œ, Ö, Å и т.д.), от html-тэгов, от специальных символов (~, *, $ и т. д.), от соединений (I'm, he'll, we'd и т. д.), от повторов символов, от стоп-слов, от чисел. Также будет проведена лемматизация слов."
      ],
      "metadata": {
        "id": "iNshUrToEZgA"
      }
    },
    {
      "cell_type": "code",
      "source": [
        "from string import punctuation\n",
        "import nltk"
      ],
      "metadata": {
        "id": "WbjjjwRQEY5E"
      },
      "execution_count": null,
      "outputs": []
    },
    {
      "cell_type": "code",
      "source": [
        "import unicodedata\n",
        "\n",
        "def remove_accented_chars(text):\n",
        "    text = unicodedata.normalize('NFKD', text).encode('ascii', 'ignore').decode('utf-8', 'ignore')\n",
        "    return text"
      ],
      "metadata": {
        "id": "ai0gCG9_F_CA"
      },
      "execution_count": null,
      "outputs": []
    },
    {
      "cell_type": "code",
      "source": [
        "import re\n",
        "from bs4 import BeautifulSoup\n",
        "\n",
        "def strip_html_tags(text):\n",
        "    soup = BeautifulSoup(text, \"html.parser\")\n",
        "    [s.extract() for s in soup(['iframe', 'script'])]\n",
        "    stripped_text = soup.get_text()\n",
        "    stripped_text = re.sub(r'[\\r|\\n|\\r\\n]+', '\\n', stripped_text)\n",
        "    return stripped_text"
      ],
      "metadata": {
        "id": "h1RCEyudGAio"
      },
      "execution_count": null,
      "outputs": []
    },
    {
      "cell_type": "code",
      "source": [
        "def remove_special_characters(text, remove_digits=False):\n",
        "    pattern = r'[^a-zA-z0-9\\s]' if not remove_digits else r'[^a-zA-z\\s]'\n",
        "    text = re.sub(pattern, '', text)\n",
        "    return text"
      ],
      "metadata": {
        "id": "J-uij7PYGCAd"
      },
      "execution_count": null,
      "outputs": []
    },
    {
      "cell_type": "code",
      "source": [
        "from contractions import CONTRACTION_MAP\n",
        "\n",
        "def expand_contractions(text, contraction_mapping=CONTRACTION_MAP):\n",
        "    \n",
        "    contractions_pattern = re.compile('({})'.format('|'.join(contraction_mapping.keys())), \n",
        "                                      flags=re.IGNORECASE|re.DOTALL)\n",
        "    def expand_match(contraction):\n",
        "        match = contraction.group(0)\n",
        "        first_char = match[0]\n",
        "        expanded_contraction = contraction_mapping.get(match)\\\n",
        "                                if contraction_mapping.get(match)\\\n",
        "                                else contraction_mapping.get(match.lower())                       \n",
        "        expanded_contraction = first_char+expanded_contraction[1:]\n",
        "        return expanded_contraction\n",
        "        \n",
        "    expanded_text = contractions_pattern.sub(expand_match, text)\n",
        "    expanded_text = re.sub(\"'\", \"\", expanded_text)\n",
        "    return expanded_text"
      ],
      "metadata": {
        "id": "2j36B-g2GDUF"
      },
      "execution_count": null,
      "outputs": []
    },
    {
      "cell_type": "code",
      "source": [
        "from nltk.corpus import wordnet\n",
        "\n",
        "def remove_repeated_characters(tokens):\n",
        "    repeat_pattern = re.compile(r'(\\w*)(\\w)\\2(\\w*)')\n",
        "    match_substitution = r'\\1\\2\\3'\n",
        "    def replace(old_word):\n",
        "        if wordnet.synsets(old_word):\n",
        "            return old_word\n",
        "        new_word = repeat_pattern.sub(match_substitution, old_word)\n",
        "        return replace(new_word) if new_word != old_word else new_word\n",
        "            \n",
        "    correct_tokens = [replace(word) for word in tokens]\n",
        "    return correct_tokens"
      ],
      "metadata": {
        "id": "3RuA4Ak6GKe6"
      },
      "execution_count": null,
      "outputs": []
    },
    {
      "cell_type": "code",
      "source": [
        "import spacy\n",
        "# use spacy.load('en') if you have downloaded the language model en directly after install spacy\n",
        "nlp = spacy.load('en_core_web_sm')\n",
        "\n",
        "def lemmatize_text(text):\n",
        "    text = nlp(text)\n",
        "    text = ' '.join([word.lemma_ if word.lemma_ != '-PRON-' else word.text for word in text])\n",
        "    return text"
      ],
      "metadata": {
        "id": "XEFiWBrqGKc3"
      },
      "execution_count": null,
      "outputs": []
    },
    {
      "cell_type": "code",
      "source": [
        "nltk.download('stopwords')"
      ],
      "metadata": {
        "colab": {
          "base_uri": "https://localhost:8080/"
        },
        "id": "IncywJ2gGKZs",
        "outputId": "a63586a2-c89e-49f9-a85a-8d142d7ffa8d"
      },
      "execution_count": null,
      "outputs": [
        {
          "output_type": "stream",
          "name": "stdout",
          "text": [
            "[nltk_data] Downloading package stopwords to /root/nltk_data...\n",
            "[nltk_data]   Package stopwords is already up-to-date!\n"
          ]
        },
        {
          "output_type": "execute_result",
          "data": {
            "text/plain": [
              "True"
            ]
          },
          "metadata": {},
          "execution_count": 12
        }
      ]
    },
    {
      "cell_type": "code",
      "source": [
        "from nltk.tokenize.toktok import ToktokTokenizer\n",
        "tokenizer = ToktokTokenizer()\n",
        "stopword_list = nltk.corpus.stopwords.words('english')\n",
        "def remove_stopwords(text, is_lower_case=False, stopwords=stopword_list):\n",
        "    tokens = tokenizer.tokenize(text)\n",
        "    tokens = [token.strip() for token in tokens]\n",
        "    if is_lower_case:\n",
        "        filtered_tokens = [token for token in tokens if token not in stopwords]\n",
        "    else:\n",
        "        filtered_tokens = [token for token in tokens if token.lower() not in stopwords]\n",
        "    filtered_text = ' '.join(filtered_tokens)    \n",
        "    return filtered_text"
      ],
      "metadata": {
        "id": "Bi3RO8faGKXC"
      },
      "execution_count": null,
      "outputs": []
    },
    {
      "cell_type": "code",
      "source": [
        "def normalize_corpus(corpus, html_stripping=True, contraction_expansion=True,\n",
        "                     accented_char_removal=True, text_lower_case=True, \n",
        "                     text_lemmatization=True, special_char_removal=True, \n",
        "                     stopword_removal=True, remove_digits=True):\n",
        "    \n",
        "    normalized_corpus = []\n",
        "    # normalize each document in the corpus\n",
        "    for doc in corpus:\n",
        "        # strip HTML\n",
        "        if html_stripping:\n",
        "            doc = strip_html_tags(doc)\n",
        "        # remove accented characters\n",
        "        if accented_char_removal:\n",
        "            doc = remove_accented_chars(doc)\n",
        "        # expand contractions    \n",
        "        #if contraction_expansion:\n",
        "            #doc = expand_contractions(doc)\n",
        "        # lowercase the text    \n",
        "        if text_lower_case:\n",
        "            doc = doc.lower()\n",
        "        # remove extra newlines\n",
        "        doc = re.sub(r'[\\r|\\n|\\r\\n]+', ' ',doc)\n",
        "        # lemmatize text\n",
        "        if text_lemmatization:\n",
        "            doc = lemmatize_text(doc)\n",
        "        # remove special characters and\\or digits    \n",
        "        if special_char_removal:\n",
        "            # insert spaces between special characters to isolate them    \n",
        "            special_char_pattern = re.compile(r'([[{.(-)!_}\\]])')\n",
        "            doc = special_char_pattern.sub(\" \\\\1 \", doc)\n",
        "            doc = re.sub(special_char_pattern, \"\", doc)\n",
        "            doc = remove_special_characters(doc, remove_digits=remove_digits)  \n",
        "        # remove extra whitespace\n",
        "        doc = re.sub(' +', ' ', doc)\n",
        "        # remove stopwords\n",
        "        if stopword_removal:\n",
        "            doc = remove_stopwords(doc, is_lower_case=text_lower_case)\n",
        "            \n",
        "        normalized_corpus.append(doc)\n",
        "        \n",
        "    return normalized_corpus"
      ],
      "metadata": {
        "id": "w2rGptoIGPx-"
      },
      "execution_count": null,
      "outputs": []
    },
    {
      "cell_type": "code",
      "source": [
        "# Дополнительная функция предобработки с RegexpTokenizer и WordNetLemmatizer,\n",
        "# ещё одно удаление стоп-слов для улучшения набора данных и рез-тов моделирования\n",
        "\n",
        "import nltk\n",
        "nltk.download(\"stopwords\")\n",
        "nltk.download('wordnet')\n",
        "stop_words = nltk.corpus.stopwords.words('english')\n",
        "\n",
        "wtk = nltk.tokenize.RegexpTokenizer(r'\\w+')\n",
        "wnl = nltk.stem.wordnet.WordNetLemmatizer()\n",
        "\n",
        "def normalize_corpus_2(texts):\n",
        "  norm_texts = []\n",
        "  for text in texts:\n",
        "    text = text.lower()\n",
        "    paper_tokens = [token.strip() for token in wtk.tokenize(text)]\n",
        "    paper_tokens = [wnl.lemmatize(token) for token in paper_tokens if not token.isnumeric()]\n",
        "    paper_tokens = [token for token in paper_tokens if len(token) > 1]\n",
        "    paper_tokens = [token for token in paper_tokens if token not in stop_words]\n",
        "    paper_tokens = list(filter(None, paper_tokens))\n",
        "    if paper_tokens:\n",
        "      norm_texts.append(paper_tokens)\n",
        "  return norm_texts"
      ],
      "metadata": {
        "id": "dLfJXBZnv-Zx",
        "colab": {
          "base_uri": "https://localhost:8080/"
        },
        "outputId": "083a6643-f860-4746-bdb1-60eabd173203"
      },
      "execution_count": null,
      "outputs": [
        {
          "output_type": "stream",
          "name": "stdout",
          "text": [
            "[nltk_data] Downloading package stopwords to /root/nltk_data...\n",
            "[nltk_data]   Package stopwords is already up-to-date!\n",
            "[nltk_data] Downloading package wordnet to /root/nltk_data...\n",
            "[nltk_data]   Package wordnet is already up-to-date!\n"
          ]
        }
      ]
    },
    {
      "cell_type": "code",
      "source": [
        "norm_fairy_tales = list(filter(None, normalize_corpus(fairy_tales)))"
      ],
      "metadata": {
        "id": "BQb4mqc6GZp8",
        "colab": {
          "base_uri": "https://localhost:8080/"
        },
        "outputId": "73717304-3f81-4e7c-a484-4ca078be1f47"
      },
      "execution_count": null,
      "outputs": [
        {
          "output_type": "stream",
          "name": "stderr",
          "text": [
            "/usr/local/lib/python3.7/dist-packages/ipykernel_launcher.py:29: FutureWarning: Possible nested set at position 2\n"
          ]
        }
      ]
    },
    {
      "cell_type": "code",
      "source": [
        "norm_fairy_tales_no_lemm = list(filter(None, normalize_corpus(fairy_tales, text_lemmatization=False)))"
      ],
      "metadata": {
        "colab": {
          "base_uri": "https://localhost:8080/"
        },
        "id": "YbOyM-o6Jaan",
        "outputId": "9546325d-4a05-43f2-b56b-5324ddc4d1e7"
      },
      "execution_count": null,
      "outputs": [
        {
          "output_type": "stream",
          "name": "stderr",
          "text": [
            "/usr/local/lib/python3.7/dist-packages/ipykernel_launcher.py:29: FutureWarning: Possible nested set at position 2\n"
          ]
        }
      ]
    },
    {
      "cell_type": "markdown",
      "source": [
        "##Извлечение ключевых фраз (keyphrases)"
      ],
      "metadata": {
        "id": "Fwyz3nzXINN4"
      }
    },
    {
      "cell_type": "markdown",
      "source": [
        "###Collocations (N-grams)"
      ],
      "metadata": {
        "id": "6taenwQuIZaV"
      }
    },
    {
      "cell_type": "code",
      "source": [
        "nltk.download('punkt')"
      ],
      "metadata": {
        "colab": {
          "base_uri": "https://localhost:8080/"
        },
        "id": "wue95sTQKmLY",
        "outputId": "09a3574e-3647-455a-cdf1-9669fa1a8027"
      },
      "execution_count": null,
      "outputs": [
        {
          "output_type": "stream",
          "name": "stdout",
          "text": [
            "[nltk_data] Downloading package punkt to /root/nltk_data...\n",
            "[nltk_data]   Package punkt is already up-to-date!\n"
          ]
        },
        {
          "output_type": "execute_result",
          "data": {
            "text/plain": [
              "True"
            ]
          },
          "metadata": {},
          "execution_count": 17
        }
      ]
    },
    {
      "cell_type": "code",
      "source": [
        "# bigrams\n",
        "from nltk.tokenize import word_tokenize\n",
        "from nltk.collocations import BigramCollocationFinder\n",
        "from nltk.collocations import BigramAssocMeasures as bigram_measures\n",
        "\n",
        "finder = BigramCollocationFinder.from_documents([word_tokenize(tale) \n",
        "                                                    for tale in norm_fairy_tales_no_lemm])\n",
        "finder"
      ],
      "metadata": {
        "id": "jjeY11vBG00f"
      },
      "execution_count": null,
      "outputs": []
    },
    {
      "cell_type": "code",
      "source": [
        "finder.nbest(bigram_measures.raw_freq, 10)"
      ],
      "metadata": {
        "colab": {
          "base_uri": "https://localhost:8080/"
        },
        "id": "38hdgjTmI1KN",
        "outputId": "d9c30f94-1332-4ff0-a8f6-6b082bdf0423"
      },
      "execution_count": null,
      "outputs": [
        {
          "output_type": "execute_result",
          "data": {
            "text/plain": [
              "[('old', 'man'),\n",
              " ('old', 'woman'),\n",
              " ('one', 'day'),\n",
              " ('can', 'not'),\n",
              " ('young', 'man'),\n",
              " ('next', 'morning'),\n",
              " ('next', 'day'),\n",
              " ('let', 'us'),\n",
              " ('long', 'time'),\n",
              " ('could', 'see')]"
            ]
          },
          "metadata": {},
          "execution_count": 18
        }
      ]
    },
    {
      "cell_type": "code",
      "source": [
        "finder = BigramCollocationFinder.from_documents([word_tokenize(tale) \n",
        "                                                    for tale in norm_fairy_tales_no_lemm[:5]])\n",
        "finder"
      ],
      "metadata": {
        "id": "9Yap2aclW2Zg"
      },
      "execution_count": null,
      "outputs": []
    },
    {
      "cell_type": "code",
      "source": [
        "finder.nbest(bigram_measures.raw_freq, 10)"
      ],
      "metadata": {
        "colab": {
          "base_uri": "https://localhost:8080/"
        },
        "id": "lTDuBjkOXAxa",
        "outputId": "3d6163ae-a503-452d-c46f-9ef5731f2f4d"
      },
      "execution_count": null,
      "outputs": [
        {
          "output_type": "execute_result",
          "data": {
            "text/plain": [
              "[('earl', 'st'),\n",
              " ('st', 'clair'),\n",
              " ('earl', 'gregory'),\n",
              " ('old', 'woman'),\n",
              " ('peerie', 'folk'),\n",
              " ('robin', 'redbreast'),\n",
              " ('elfin', 'king'),\n",
              " ('kings', 'palace'),\n",
              " ('thou', 'wilt'),\n",
              " ('elder', 'sister')]"
            ]
          },
          "metadata": {},
          "execution_count": 27
        }
      ]
    },
    {
      "cell_type": "code",
      "source": [
        "# trigrams\n",
        "from nltk.collocations import TrigramCollocationFinder\n",
        "from nltk.collocations import TrigramAssocMeasures as trigram_measures\n",
        "\n",
        "finder = TrigramCollocationFinder.from_documents([word_tokenize(tale) \n",
        "                                                    for tale in norm_fairy_tales_no_lemm])"
      ],
      "metadata": {
        "id": "q9uGv3HuI8sc"
      },
      "execution_count": null,
      "outputs": []
    },
    {
      "cell_type": "code",
      "source": [
        "finder.nbest(bigram_measures.raw_freq, 10)"
      ],
      "metadata": {
        "colab": {
          "base_uri": "https://localhost:8080/"
        },
        "id": "fZtqp2vUI_3c",
        "outputId": "d55a2972-3802-43f2-e03d-a6a203aeb79e"
      },
      "execution_count": null,
      "outputs": [
        {
          "output_type": "execute_result",
          "data": {
            "text/plain": [
              "[('said', 'old', 'woman'),\n",
              " ('said', 'old', 'man'),\n",
              " ('let', 'us', 'go'),\n",
              " ('sun', 'wu', 'kung'),\n",
              " ('old', 'man', 'said'),\n",
              " ('upon', 'time', 'lived'),\n",
              " ('old', 'woman', 'said'),\n",
              " ('early', 'next', 'morning'),\n",
              " ('little', 'old', 'woman'),\n",
              " ('says', 'old', 'man')]"
            ]
          },
          "metadata": {},
          "execution_count": 20
        }
      ]
    },
    {
      "cell_type": "code",
      "source": [
        "finder = TrigramCollocationFinder.from_documents([word_tokenize(tale) \n",
        "                                                    for tale in norm_fairy_tales_no_lemm[:5]])"
      ],
      "metadata": {
        "id": "6D0pwMfbWqhR"
      },
      "execution_count": null,
      "outputs": []
    },
    {
      "cell_type": "code",
      "source": [
        "finder.nbest(bigram_measures.raw_freq, 10)"
      ],
      "metadata": {
        "colab": {
          "base_uri": "https://localhost:8080/"
        },
        "id": "0T7p2iAWWxXL",
        "outputId": "8adeaf82-62c2-4b5e-d4ea-0dde3111252d"
      },
      "execution_count": null,
      "outputs": [
        {
          "output_type": "execute_result",
          "data": {
            "text/plain": [
              "[('earl', 'st', 'clair'),\n",
              " ('cold', 'winters', 'day'),\n",
              " ('good', 'morning', 'robin'),\n",
              " ('mayest', 'thou', 'going'),\n",
              " ('merry', 'yule', 'morning'),\n",
              " ('morning', 'robin', 'redbreast'),\n",
              " ('sing', 'song', 'merry'),\n",
              " ('song', 'merry', 'yule'),\n",
              " ('day', 'im', 'road'),\n",
              " ('early', 'cold', 'winters')]"
            ]
          },
          "metadata": {},
          "execution_count": 25
        }
      ]
    },
    {
      "cell_type": "markdown",
      "source": [
        "###Weighted Tag-Based Phrase Extraction (TF-IDF)"
      ],
      "metadata": {
        "id": "qw8xZ7efL3oJ"
      }
    },
    {
      "cell_type": "code",
      "source": [
        "from gensim.summarization import keywords\n",
        "for i in range(5):\n",
        "  key_words = keywords(norm_fairy_tales[i], ratio=1.0, scores=True, lemmatize=False)\n",
        "  res = str([(item, round(score, 3)) for item, score in key_words][:10])\n",
        "  print(f\"Ключевые фразы для сказки №{i+1}: {res}\")"
      ],
      "metadata": {
        "colab": {
          "base_uri": "https://localhost:8080/"
        },
        "id": "Tpn4KrAtMnkz",
        "outputId": "8097da74-78d6-4f2a-b596-19f6d706105f"
      },
      "execution_count": null,
      "outputs": [
        {
          "output_type": "stream",
          "name": "stdout",
          "text": [
            "Ключевые фразы для сказки №1: [('coming', 0.203), ('thou sayest', 0.14), ('young earl', 0.125), ('haunt elfin knight', 0.114), ('man', 0.114), ('till', 0.099), ('clair', 0.096), ('follow', 0.094), ('follower', 0.094), ('step', 0.092)]\n",
            "Ключевые фразы для сказки №2: [('talking', 0.122), ('glen', 0.122), ('brownie know scotland story write', 0.111), ('tell', 0.106), ('reply', 0.083), ('look good turn need assistance farmer', 0.082), ('wife leave door barn', 0.08), ('send old woman live seven', 0.079), ('ask wage', 0.077), ('lady', 0.074)]\n",
            "Ключевые фразы для сказки №3: [('lady', 0.164), ('ambassador', 0.138), ('eld sister', 0.135), ('lovely little glass shoe', 0.128), ('bride', 0.126), ('fit tiny foot imaginable', 0.104), ('sea dwelt great mighty prince live grand castle', 0.1), ('order', 0.096), ('laird', 0.093), ('lord courtier tell determination come', 0.091)]\n",
            "Ключевые фразы для сказки №4: [('peerie folk', 0.112), ('daughter young princess grow', 0.105), ('feed cabbage', 0.097), ('little field', 0.093), ('come night steal', 0.087), ('look vanish', 0.082), ('ask', 0.078), ('pasture tell', 0.077), ('bicker porridge boil', 0.077), ('carry enormous creel arm', 0.077)]\n",
            "Ключевые фразы для сказки №5: [('look mayest thou', 0.151), ('try catch good', 0.128), ('little robin redbreast hop branch briar bush tasty breakfast', 0.109), ('fox', 0.102), ('gle sitting feather ruffle feel', 0.097), ('ask', 0.09), ('old grey pussy baudron', 0.088), ('worry', 0.08), ('come nearer prithee', 0.079), ('quoth sit tail foot', 0.076)]\n"
          ]
        }
      ]
    },
    {
      "cell_type": "markdown",
      "source": [
        "Можно увидеть, что ключевые фразы и для всего набора данных (1455 сказок), и просто для 5 сказок хотя и передают какую-то часть их содержания, но можно примерно догадаться, о чём пойдёт речь, только в случае с ключевыми фразами для 5 сказок (lady, Robin Redbreast, King's palace). Однако этого всё равно не достаточно, чтобы сделать вывод о темах текстов. Поэтому стоит обратиться к моделям из семейства Topic Modeling."
      ],
      "metadata": {
        "id": "8QJvrVRQXOmo"
      }
    },
    {
      "cell_type": "markdown",
      "source": [
        "##Topic Modeling"
      ],
      "metadata": {
        "id": "ahlckE8dYVT7"
      }
    },
    {
      "cell_type": "markdown",
      "source": [
        "###Построение признаков"
      ],
      "metadata": {
        "id": "w6jiTh-5Yjdj"
      }
    },
    {
      "cell_type": "code",
      "source": [
        "# Дополнительная обработка данных перед Topic Modeling для улучшения результатов\n",
        "\n",
        "norm_fairy_tales_tkn = normalize_corpus_2(norm_fairy_tales)"
      ],
      "metadata": {
        "id": "Ci0AVyS8wy2O"
      },
      "execution_count": null,
      "outputs": []
    },
    {
      "cell_type": "code",
      "source": [
        "# Построение Bigrams фраз из корпуса\n",
        "\n",
        "import gensim\n",
        "bigram = gensim.models.Phrases(norm_fairy_tales_tkn, min_count=15, threshold=15,\n",
        "                              delimiter='_') # higher threshold fewer phrases.\n",
        "bigram_model = gensim.models.phrases.Phraser(bigram)"
      ],
      "metadata": {
        "id": "Z2vz76Y8YRW6"
      },
      "execution_count": null,
      "outputs": []
    },
    {
      "cell_type": "code",
      "source": [
        "print(bigram_model[norm_fairy_tales_tkn[0]][:50])\n",
        "\n",
        "# Модель поделила тексты на Bigrams - самостоятельные слова остались отдельно\n",
        "# А фразы слились (seven_year, shake_head и т.д.)"
      ],
      "metadata": {
        "colab": {
          "base_uri": "https://localhost:8080/"
        },
        "id": "KO4U2ti4ZLM5",
        "outputId": "b944e999-e203-42ce-c302-e71baa0d41c5"
      },
      "execution_count": null,
      "outputs": [
        {
          "output_type": "stream",
          "name": "stdout",
          "text": [
            "['lone', 'moor', 'scotland', 'time', 'past', 'say', 'haunt', 'elfin', 'knight', 'knight', 'see', 'rare', 'interval', 'every', 'seven_year', 'fear', 'lie', 'country', 'round', 'every', 'someone', 'would', 'set', 'cross', 'moor', 'would', 'never', 'hear', 'although', 'man', 'may', 'search', 'every', 'inch', 'ground', 'trace', 'would', 'find', 'thrill', 'horror', 'search', 'party', 'would', 'go', 'home', 'shake_head', 'whisper', 'one', 'another', 'fall']\n"
          ]
        }
      ]
    },
    {
      "cell_type": "code",
      "source": [
        "norm_corpus_bigrams = [bigram_model[tale] for tale in norm_fairy_tales_tkn]\n",
        "\n",
        "dictionary = gensim.corpora.Dictionary(norm_corpus_bigrams)"
      ],
      "metadata": {
        "id": "jAg1UeESZRfr"
      },
      "execution_count": null,
      "outputs": []
    },
    {
      "cell_type": "code",
      "source": [
        "print('Пример записей из словаря:', list(dictionary.items())[50:55])\n",
        "print('Размер словаря:', len(dictionary))"
      ],
      "metadata": {
        "colab": {
          "base_uri": "https://localhost:8080/"
        },
        "id": "-joY31tobwW_",
        "outputId": "1c4b3333-95a2-4331-8119-45a7ca3c8cba"
      },
      "execution_count": null,
      "outputs": [
        {
          "output_type": "stream",
          "name": "stdout",
          "text": [
            "Пример записей из словаря: [(50, 'black'), (51, 'bless'), (52, 'blessed'), (53, 'block'), (54, 'blood')]\n",
            "Размер словаря: 25743\n"
          ]
        }
      ]
    },
    {
      "cell_type": "code",
      "source": [
        "# Для уменьшения масштабов словаря и поиска уникальных тем уберём слова, \n",
        "# встретившиеся по всему набору данных менее 20 раз \n",
        "# а также те слова, которые появились в более 60% текстов\n",
        "# Позже путём перебора были выявлены более подходящие значения для набора данных - 15 и 75% \n",
        "\n",
        "dictionary.filter_extremes(no_below=15, no_above=0.75)\n",
        "print('Total Vocabulary Size:', len(dictionary))"
      ],
      "metadata": {
        "colab": {
          "base_uri": "https://localhost:8080/"
        },
        "id": "znJnQaRqb3Hs",
        "outputId": "38cb26be-20e5-42cd-dcaf-53275d5a126f"
      },
      "execution_count": null,
      "outputs": [
        {
          "output_type": "stream",
          "name": "stdout",
          "text": [
            "Total Vocabulary Size: 4963\n"
          ]
        }
      ]
    },
    {
      "cell_type": "code",
      "source": [
        "# Создание Bag of Words из полученного словаря\n",
        "\n",
        "bow_corpus = [dictionary.doc2bow(text) for text in norm_corpus_bigrams]\n",
        "print(bow_corpus[1][50:60])"
      ],
      "metadata": {
        "colab": {
          "base_uri": "https://localhost:8080/"
        },
        "id": "mf31K7mFcuBy",
        "outputId": "70cf04ec-ff05-4db0-fed1-9149c2f77ee5"
      },
      "execution_count": null,
      "outputs": [
        {
          "output_type": "stream",
          "name": "stdout",
          "text": [
            "[(215, 2), (216, 2), (221, 1), (222, 1), (224, 1), (229, 1), (231, 4), (232, 1), (233, 1), (234, 1)]\n"
          ]
        }
      ]
    },
    {
      "cell_type": "code",
      "source": [
        "print([(dictionary[idx] , freq) for idx, freq in bow_corpus[1][50:60]])"
      ],
      "metadata": {
        "colab": {
          "base_uri": "https://localhost:8080/"
        },
        "id": "soM1A31vc-Nb",
        "outputId": "5d510acb-89bc-4e74-e65a-9dbe65efb95e"
      },
      "execution_count": null,
      "outputs": [
        {
          "output_type": "stream",
          "name": "stdout",
          "text": [
            "[('hear', 2), ('heart', 2), ('help', 1), ('hide', 1), ('hither', 1), ('home', 1), ('horse', 4), ('horseman', 1), ('hour', 1), ('however', 1)]\n"
          ]
        }
      ]
    },
    {
      "cell_type": "code",
      "source": [
        "# Проверка: длина bow_corpus должна быть равна количеству текстов\n",
        "\n",
        "print(len(bow_corpus))"
      ],
      "metadata": {
        "colab": {
          "base_uri": "https://localhost:8080/"
        },
        "id": "ljAr-l7TdAdS",
        "outputId": "a760da7f-3c43-4d1a-baa1-689143b72a68"
      },
      "execution_count": null,
      "outputs": [
        {
          "output_type": "stream",
          "name": "stdout",
          "text": [
            "1455\n"
          ]
        }
      ]
    },
    {
      "cell_type": "markdown",
      "source": [
        "###Latent Semantic Indexing (LSI)"
      ],
      "metadata": {
        "id": "zks91Xd5dOCl"
      }
    },
    {
      "cell_type": "code",
      "source": [
        "# Предположительно в наборе текстов можно выделить 10 тем, позже этот гиперпараметр будет скорректирован\n",
        "\n",
        "TOTAL_TOPICS = 10"
      ],
      "metadata": {
        "id": "ou0wBuJKdLct"
      },
      "execution_count": null,
      "outputs": []
    },
    {
      "cell_type": "code",
      "source": [
        "lsi_bow = gensim.models.LsiModel(bow_corpus, id2word=dictionary, \n",
        "                                 num_topics=TOTAL_TOPICS, onepass=True, chunksize=1455, power_iters=1500)"
      ],
      "metadata": {
        "id": "P_DZi9lWe6lc"
      },
      "execution_count": null,
      "outputs": []
    },
    {
      "cell_type": "code",
      "source": [
        "# Термины из полученных 10 тем\n",
        "\n",
        "for n in range(TOTAL_TOPICS):\n",
        "  print('Topic #'+str(n+1)+':')\n",
        "  print('='*50)\n",
        "  d1 = []\n",
        "  d2 = []\n",
        "  for term, wt in lsi_bow.show_topic(n, topn=20):\n",
        "    if wt >= 0:\n",
        "      d1.append((term, round(wt, 3)))\n",
        "    else:\n",
        "      d2.append((term, round(wt, 3)))\n",
        "  print('Direction 1:', d1)\n",
        "  print('-'*50)\n",
        "  print('Direction 2:', d2)\n",
        "  print('-'*50)\n",
        "  print()"
      ],
      "metadata": {
        "colab": {
          "base_uri": "https://localhost:8080/"
        },
        "id": "0rslda-DgQUP",
        "outputId": "fc2da5d4-7a48-43e1-d3c6-8394c412c18f"
      },
      "execution_count": null,
      "outputs": [
        {
          "output_type": "stream",
          "name": "stdout",
          "text": [
            "Topic #1:\n",
            "==================================================\n",
            "Direction 1: [('king', 0.261), ('princess', 0.193), ('prince', 0.162), ('great', 0.157), ('get', 0.136), ('may', 0.127), ('old', 0.124), ('think', 0.123), ('good', 0.119), ('upon', 0.117), ('ask', 0.116), ('back', 0.114), ('son', 0.109), ('leave', 0.104), ('must', 0.103), ('long', 0.103), ('hear', 0.101), ('two', 0.1), ('father', 0.098), ('hand', 0.097)]\n",
            "--------------------------------------------------\n",
            "Direction 2: []\n",
            "--------------------------------------------------\n",
            "\n",
            "Topic #2:\n",
            "==================================================\n",
            "Direction 1: [('king', 0.471), ('old', 0.089), ('queen', 0.075)]\n",
            "--------------------------------------------------\n",
            "Direction 2: [('sultan', -0.434), ('princess', -0.255), ('palace', -0.209), ('mother', -0.186), ('lamp', -0.167), ('slave', -0.145), ('magician', -0.134), ('much', -0.098), ('return', -0.09), ('soon', -0.089), ('son', -0.088), ('may', -0.086), ('reply', -0.083), ('majesty', -0.082), ('great', -0.08), ('present', -0.079), ('immediately', -0.077)]\n",
            "--------------------------------------------------\n",
            "\n",
            "Topic #3:\n",
            "==================================================\n",
            "Direction 1: [('king', 0.527), ('princess', 0.414), ('prince', 0.336), ('queen', 0.209), ('fairy', 0.098), ('palace', 0.095)]\n",
            "--------------------------------------------------\n",
            "Direction 2: [('old', -0.222), ('get', -0.156), ('wife', -0.124), ('house', -0.113), ('home', -0.105), ('good', -0.093), ('child', -0.089), ('girl', -0.076), ('back', -0.071), ('boy', -0.07), ('eat', -0.07), ('brother', -0.068), ('old_woman', -0.061), ('thee', -0.06)]\n",
            "--------------------------------------------------\n",
            "\n",
            "Topic #4:\n",
            "==================================================\n",
            "Direction 1: [('king', 0.504), ('son', 0.171), ('sultan', 0.155), ('mother', 0.116), ('palace', 0.091), ('lamp', 0.074), ('daughter', 0.064), ('slave', 0.064), ('great', 0.053), ('answer', 0.05)]\n",
            "--------------------------------------------------\n",
            "Direction 2: [('prince', -0.7), ('emperor', -0.106), ('princess', -0.1), ('fairy', -0.098), ('tree', -0.069), ('bird', -0.065), ('sister', -0.057), ('horse', -0.051), ('queen', -0.049), ('golden', -0.047)]\n",
            "--------------------------------------------------\n",
            "\n",
            "Topic #5:\n",
            "==================================================\n",
            "Direction 1: [('princess', 0.286), ('old', 0.272), ('get', 0.272), ('girl', 0.128), ('daughter', 0.119), ('home', 0.117), ('old_woman', 0.117), ('think', 0.106), ('want', 0.098), ('good', 0.087)]\n",
            "--------------------------------------------------\n",
            "Direction 2: [('sea', -0.226), ('upon', -0.218), ('great', -0.172), ('god', -0.17), ('thee', -0.124), ('land', -0.111), ('thy', -0.098), ('water', -0.095), ('heart', -0.09), ('eye', -0.088)]\n",
            "--------------------------------------------------\n",
            "\n",
            "Topic #6:\n",
            "==================================================\n",
            "Direction 1: [('prince', 0.406), ('son', 0.267), ('horse', 0.181), ('giant', 0.176), ('get', 0.175), ('sultan', 0.139), ('king', 0.137), ('brother', 0.122), ('father', 0.111), ('master', 0.086), ('ask', 0.086)]\n",
            "--------------------------------------------------\n",
            "Direction 2: [('princess', -0.32), ('old', -0.249), ('queen', -0.227), ('fairy', -0.163), ('upon', -0.117), ('cry', -0.099), ('love', -0.095), ('hear', -0.081), ('heart', -0.08)]\n",
            "--------------------------------------------------\n",
            "\n",
            "Topic #7:\n",
            "==================================================\n",
            "Direction 1: [('old', 0.351), ('prince', 0.239), ('fairy', 0.207), ('girl', 0.206), ('mother', 0.168), ('child', 0.158), ('son', 0.147), ('sultan', 0.137), ('father', 0.129), ('queen', 0.112), ('beautiful', 0.1), ('pretty', 0.09)]\n",
            "--------------------------------------------------\n",
            "Direction 2: [('princess', -0.4), ('horse', -0.196), ('emperor', -0.18), ('brother', -0.122), ('youth', -0.106), ('giant', -0.105), ('get', -0.104), ('ride', -0.091)]\n",
            "--------------------------------------------------\n",
            "\n",
            "Topic #8:\n",
            "==================================================\n",
            "Direction 1: [('fairy', 0.2), ('queen', 0.175), ('think', 0.14), ('good', 0.127), ('get', 0.11), ('eat', 0.106), ('cat', 0.105), ('may', 0.092)]\n",
            "--------------------------------------------------\n",
            "Direction 2: [('old', -0.447), ('princess', -0.282), ('sea', -0.245), ('horse', -0.135), ('three', -0.124), ('water', -0.12), ('daughter', -0.119), ('young', -0.102), ('father', -0.096), ('son', -0.096), ('old_woman', -0.09), ('palace', -0.089)]\n",
            "--------------------------------------------------\n",
            "\n",
            "Topic #9:\n",
            "==================================================\n",
            "Direction 1: [('giant', 0.374), ('great', 0.148), ('thor', 0.116), ('loki', 0.094), ('sultan', 0.092), ('head', 0.09)]\n",
            "--------------------------------------------------\n",
            "Direction 2: [('brother', -0.37), ('wife', -0.263), ('emperor', -0.213), ('sister', -0.186), ('thee', -0.174), ('bird', -0.121), ('queen', -0.117), ('upon', -0.108), ('poor', -0.103), ('us', -0.096), ('house', -0.09), ('thy', -0.089), ('father', -0.088), ('reply', -0.087)]\n",
            "--------------------------------------------------\n",
            "\n",
            "Topic #10:\n",
            "==================================================\n",
            "Direction 1: [('girl', 0.367), ('mother', 0.236), ('daughter', 0.195), ('beautiful', 0.16), ('young', 0.152), ('woman', 0.148), ('father', 0.136), ('eye', 0.124), ('sister', 0.118), ('bird', 0.108), ('boy', 0.108), ('tree', 0.106), ('queen', 0.104)]\n",
            "--------------------------------------------------\n",
            "Direction 2: [('old', -0.392), ('king', -0.135), ('prince', -0.134), ('upon', -0.132), ('sea', -0.109), ('cat', -0.107), ('fish', -0.1)]\n",
            "--------------------------------------------------\n",
            "\n"
          ]
        }
      ]
    },
    {
      "cell_type": "code",
      "source": [
        "# Матрицы (U, S, and VT)\n",
        "\n",
        "term_topic = lsi_bow.projection.u\n",
        "singular_values = lsi_bow.projection.s\n",
        "topic_document = (gensim.matutils.corpus2dense(lsi_bow[bow_corpus], len(singular_values)).T / singular_values).T\n",
        "term_topic.shape, singular_values.shape, topic_document.shape"
      ],
      "metadata": {
        "colab": {
          "base_uri": "https://localhost:8080/"
        },
        "id": "YZ0h7A9-gjiR",
        "outputId": "658dfee8-e793-4da6-a8d8-06e410046b4c"
      },
      "execution_count": null,
      "outputs": [
        {
          "output_type": "stream",
          "name": "stderr",
          "text": [
            "/usr/local/lib/python3.7/dist-packages/gensim/matutils.py:502: FutureWarning: arrays to stack must be passed as a \"sequence\" type such as list or tuple. Support for non-sequence iterables such as generators is deprecated as of NumPy 1.16 and will raise an error in the future.\n",
            "  result = np.column_stack(sparse2full(doc, num_terms) for doc in corpus)\n"
          ]
        },
        {
          "output_type": "execute_result",
          "data": {
            "text/plain": [
              "((4052, 10), (10,), (10, 1455))"
            ]
          },
          "metadata": {},
          "execution_count": 58
        }
      ]
    },
    {
      "cell_type": "code",
      "source": [
        "# Таблица принадлежности текста к темам (большее по модулю значение)\n",
        "document_topics = pd.DataFrame(np.round(topic_document.T, 3), \n",
        "                               columns=['T'+str(i) for i in range(1, TOTAL_TOPICS+1)])\n",
        "document_topics.head()"
      ],
      "metadata": {
        "colab": {
          "base_uri": "https://localhost:8080/",
          "height": 206
        },
        "id": "ZDmE2Hxigrjw",
        "outputId": "593854e4-1f1e-45f2-b08d-2e199db22cf0"
      },
      "execution_count": null,
      "outputs": [
        {
          "output_type": "execute_result",
          "data": {
            "text/plain": [
              "      T1     T2     T3     T4     T5     T6     T7     T8     T9    T10\n",
              "0  0.023  0.011 -0.013  0.007 -0.038 -0.013 -0.008 -0.003  0.003 -0.003\n",
              "1  0.013  0.002 -0.018 -0.004  0.002 -0.005 -0.006  0.009  0.003 -0.002\n",
              "2  0.012  0.004  0.005 -0.035  0.003  0.023  0.008  0.002  0.000  0.002\n",
              "3  0.022 -0.001 -0.008 -0.007  0.029 -0.018 -0.044  0.006  0.028  0.012\n",
              "4  0.011  0.011  0.002  0.016  0.006 -0.004  0.005  0.002 -0.012 -0.018"
            ],
            "text/html": [
              "\n",
              "  <div id=\"df-fda3cc93-eb2c-44af-b6c8-4a63e689f518\">\n",
              "    <div class=\"colab-df-container\">\n",
              "      <div>\n",
              "<style scoped>\n",
              "    .dataframe tbody tr th:only-of-type {\n",
              "        vertical-align: middle;\n",
              "    }\n",
              "\n",
              "    .dataframe tbody tr th {\n",
              "        vertical-align: top;\n",
              "    }\n",
              "\n",
              "    .dataframe thead th {\n",
              "        text-align: right;\n",
              "    }\n",
              "</style>\n",
              "<table border=\"1\" class=\"dataframe\">\n",
              "  <thead>\n",
              "    <tr style=\"text-align: right;\">\n",
              "      <th></th>\n",
              "      <th>T1</th>\n",
              "      <th>T2</th>\n",
              "      <th>T3</th>\n",
              "      <th>T4</th>\n",
              "      <th>T5</th>\n",
              "      <th>T6</th>\n",
              "      <th>T7</th>\n",
              "      <th>T8</th>\n",
              "      <th>T9</th>\n",
              "      <th>T10</th>\n",
              "    </tr>\n",
              "  </thead>\n",
              "  <tbody>\n",
              "    <tr>\n",
              "      <th>0</th>\n",
              "      <td>0.023</td>\n",
              "      <td>0.011</td>\n",
              "      <td>-0.013</td>\n",
              "      <td>0.007</td>\n",
              "      <td>-0.038</td>\n",
              "      <td>-0.013</td>\n",
              "      <td>-0.008</td>\n",
              "      <td>-0.003</td>\n",
              "      <td>0.003</td>\n",
              "      <td>-0.003</td>\n",
              "    </tr>\n",
              "    <tr>\n",
              "      <th>1</th>\n",
              "      <td>0.013</td>\n",
              "      <td>0.002</td>\n",
              "      <td>-0.018</td>\n",
              "      <td>-0.004</td>\n",
              "      <td>0.002</td>\n",
              "      <td>-0.005</td>\n",
              "      <td>-0.006</td>\n",
              "      <td>0.009</td>\n",
              "      <td>0.003</td>\n",
              "      <td>-0.002</td>\n",
              "    </tr>\n",
              "    <tr>\n",
              "      <th>2</th>\n",
              "      <td>0.012</td>\n",
              "      <td>0.004</td>\n",
              "      <td>0.005</td>\n",
              "      <td>-0.035</td>\n",
              "      <td>0.003</td>\n",
              "      <td>0.023</td>\n",
              "      <td>0.008</td>\n",
              "      <td>0.002</td>\n",
              "      <td>0.000</td>\n",
              "      <td>0.002</td>\n",
              "    </tr>\n",
              "    <tr>\n",
              "      <th>3</th>\n",
              "      <td>0.022</td>\n",
              "      <td>-0.001</td>\n",
              "      <td>-0.008</td>\n",
              "      <td>-0.007</td>\n",
              "      <td>0.029</td>\n",
              "      <td>-0.018</td>\n",
              "      <td>-0.044</td>\n",
              "      <td>0.006</td>\n",
              "      <td>0.028</td>\n",
              "      <td>0.012</td>\n",
              "    </tr>\n",
              "    <tr>\n",
              "      <th>4</th>\n",
              "      <td>0.011</td>\n",
              "      <td>0.011</td>\n",
              "      <td>0.002</td>\n",
              "      <td>0.016</td>\n",
              "      <td>0.006</td>\n",
              "      <td>-0.004</td>\n",
              "      <td>0.005</td>\n",
              "      <td>0.002</td>\n",
              "      <td>-0.012</td>\n",
              "      <td>-0.018</td>\n",
              "    </tr>\n",
              "  </tbody>\n",
              "</table>\n",
              "</div>\n",
              "      <button class=\"colab-df-convert\" onclick=\"convertToInteractive('df-fda3cc93-eb2c-44af-b6c8-4a63e689f518')\"\n",
              "              title=\"Convert this dataframe to an interactive table.\"\n",
              "              style=\"display:none;\">\n",
              "        \n",
              "  <svg xmlns=\"http://www.w3.org/2000/svg\" height=\"24px\"viewBox=\"0 0 24 24\"\n",
              "       width=\"24px\">\n",
              "    <path d=\"M0 0h24v24H0V0z\" fill=\"none\"/>\n",
              "    <path d=\"M18.56 5.44l.94 2.06.94-2.06 2.06-.94-2.06-.94-.94-2.06-.94 2.06-2.06.94zm-11 1L8.5 8.5l.94-2.06 2.06-.94-2.06-.94L8.5 2.5l-.94 2.06-2.06.94zm10 10l.94 2.06.94-2.06 2.06-.94-2.06-.94-.94-2.06-.94 2.06-2.06.94z\"/><path d=\"M17.41 7.96l-1.37-1.37c-.4-.4-.92-.59-1.43-.59-.52 0-1.04.2-1.43.59L10.3 9.45l-7.72 7.72c-.78.78-.78 2.05 0 2.83L4 21.41c.39.39.9.59 1.41.59.51 0 1.02-.2 1.41-.59l7.78-7.78 2.81-2.81c.8-.78.8-2.07 0-2.86zM5.41 20L4 18.59l7.72-7.72 1.47 1.35L5.41 20z\"/>\n",
              "  </svg>\n",
              "      </button>\n",
              "      \n",
              "  <style>\n",
              "    .colab-df-container {\n",
              "      display:flex;\n",
              "      flex-wrap:wrap;\n",
              "      gap: 12px;\n",
              "    }\n",
              "\n",
              "    .colab-df-convert {\n",
              "      background-color: #E8F0FE;\n",
              "      border: none;\n",
              "      border-radius: 50%;\n",
              "      cursor: pointer;\n",
              "      display: none;\n",
              "      fill: #1967D2;\n",
              "      height: 32px;\n",
              "      padding: 0 0 0 0;\n",
              "      width: 32px;\n",
              "    }\n",
              "\n",
              "    .colab-df-convert:hover {\n",
              "      background-color: #E2EBFA;\n",
              "      box-shadow: 0px 1px 2px rgba(60, 64, 67, 0.3), 0px 1px 3px 1px rgba(60, 64, 67, 0.15);\n",
              "      fill: #174EA6;\n",
              "    }\n",
              "\n",
              "    [theme=dark] .colab-df-convert {\n",
              "      background-color: #3B4455;\n",
              "      fill: #D2E3FC;\n",
              "    }\n",
              "\n",
              "    [theme=dark] .colab-df-convert:hover {\n",
              "      background-color: #434B5C;\n",
              "      box-shadow: 0px 1px 3px 1px rgba(0, 0, 0, 0.15);\n",
              "      filter: drop-shadow(0px 1px 2px rgba(0, 0, 0, 0.3));\n",
              "      fill: #FFFFFF;\n",
              "    }\n",
              "  </style>\n",
              "\n",
              "      <script>\n",
              "        const buttonEl =\n",
              "          document.querySelector('#df-fda3cc93-eb2c-44af-b6c8-4a63e689f518 button.colab-df-convert');\n",
              "        buttonEl.style.display =\n",
              "          google.colab.kernel.accessAllowed ? 'block' : 'none';\n",
              "\n",
              "        async function convertToInteractive(key) {\n",
              "          const element = document.querySelector('#df-fda3cc93-eb2c-44af-b6c8-4a63e689f518');\n",
              "          const dataTable =\n",
              "            await google.colab.kernel.invokeFunction('convertToInteractive',\n",
              "                                                     [key], {});\n",
              "          if (!dataTable) return;\n",
              "\n",
              "          const docLinkHtml = 'Like what you see? Visit the ' +\n",
              "            '<a target=\"_blank\" href=https://colab.research.google.com/notebooks/data_table.ipynb>data table notebook</a>'\n",
              "            + ' to learn more about interactive tables.';\n",
              "          element.innerHTML = '';\n",
              "          dataTable['output_type'] = 'display_data';\n",
              "          await google.colab.output.renderOutput(dataTable, element);\n",
              "          const docLink = document.createElement('div');\n",
              "          docLink.innerHTML = docLinkHtml;\n",
              "          element.appendChild(docLink);\n",
              "        }\n",
              "      </script>\n",
              "    </div>\n",
              "  </div>\n",
              "  "
            ]
          },
          "metadata": {},
          "execution_count": 60
        }
      ]
    },
    {
      "cell_type": "code",
      "source": [
        "# Оценка модели: чем больше Cv и чем меньше UMass, тем лучше\n",
        "\n",
        "cv_coherence_model_lsi = gensim.models.CoherenceModel( model=lsi_bow,\n",
        "                                                      corpus=bow_corpus,\n",
        "                                                      texts=norm_corpus_bigrams,\n",
        "                                                      dictionary=dictionary,\n",
        "                                                      coherence='c_v')\n",
        "avg_coherence_cv = cv_coherence_model_lsi.get_coherence()\n",
        "\n",
        "umass_coherence_model_lda = gensim.models.CoherenceModel( model=lsi_bow,\n",
        "                                                        corpus=bow_corpus,\n",
        "                                                        texts=norm_corpus_bigrams,\n",
        "                                                        dictionary=dictionary,\n",
        "                                                        coherence='u_mass')\n",
        "avg_coherence_umass = umass_coherence_model_lda.get_coherence()\n",
        "\n",
        "\n",
        "print('Avg. Coherence Score (Cv):', avg_coherence_cv)\n",
        "print('Avg. Coherence Score (UMass):', avg_coherence_umass)"
      ],
      "metadata": {
        "colab": {
          "base_uri": "https://localhost:8080/"
        },
        "id": "WjL2cKTqg_zo",
        "outputId": "528b6cf6-3e66-4e86-a9d0-806f347c94b6"
      },
      "execution_count": null,
      "outputs": [
        {
          "output_type": "stream",
          "name": "stdout",
          "text": [
            "Avg. Coherence Score (Cv): 0.3311361873024728\n",
            "Avg. Coherence Score (UMass): -0.9404976337098259\n"
          ]
        }
      ]
    },
    {
      "cell_type": "markdown",
      "source": [
        "###Latent Dirichlet Allocation (LDA)"
      ],
      "metadata": {
        "id": "SxITRbHqiKmu"
      }
    },
    {
      "cell_type": "code",
      "source": [
        "lda_model = gensim.models.LdaModel(corpus=bow_corpus, id2word=dictionary, chunksize=1455,\n",
        "                                   alpha='auto', eta='auto', random_state=42, iterations=2000, \n",
        "                                   num_topics=TOTAL_TOPICS, passes=20, eval_every=None)"
      ],
      "metadata": {
        "id": "IlqEUrXShHt8"
      },
      "execution_count": null,
      "outputs": []
    },
    {
      "cell_type": "code",
      "source": [
        "topics_with_wts = [item[0] for item in lda_model.top_topics(bow_corpus, topn=20)]\n",
        "print('LDA Topics with Weights')\n",
        "print('='*50)\n",
        "for idx, topic in enumerate(topics_with_wts):\n",
        "  print('Topic #'+str(idx+1)+':')\n",
        "  print([(term, round(wt, 3)) for wt, term in topic])\n",
        "  print()"
      ],
      "metadata": {
        "colab": {
          "base_uri": "https://localhost:8080/"
        },
        "id": "J77KPgY6ilRx",
        "outputId": "20adada8-7de0-4f68-da4e-3dde9fb36f35"
      },
      "execution_count": null,
      "outputs": [
        {
          "output_type": "stream",
          "name": "stdout",
          "text": [
            "LDA Topics with Weights\n",
            "==================================================\n",
            "Topic #1:\n",
            "[('king', 0.022), ('prince', 0.015), ('princess', 0.015), ('queen', 0.008), ('palace', 0.006), ('father', 0.006), ('great', 0.005), ('upon', 0.005), ('daughter', 0.005), ('son', 0.005), ('may', 0.005), ('ask', 0.005), ('young', 0.005), ('much', 0.004), ('good', 0.004), ('think', 0.004), ('leave', 0.004), ('must', 0.004), ('bring', 0.004), ('two', 0.004)]\n",
            "\n",
            "Topic #2:\n",
            "[('girl', 0.009), ('old', 0.008), ('never', 0.006), ('think', 0.006), ('cry', 0.006), ('hear', 0.005), ('long', 0.005), ('back', 0.005), ('get', 0.005), ('good', 0.005), ('must', 0.005), ('mother', 0.004), ('child', 0.004), ('house', 0.004), ('begin', 0.004), ('sit', 0.004), ('night', 0.004), ('last', 0.004), ('ask', 0.004), ('home', 0.004)]\n",
            "\n",
            "Topic #3:\n",
            "[('giant', 0.01), ('horse', 0.01), ('get', 0.007), ('head', 0.007), ('back', 0.007), ('two', 0.006), ('king', 0.006), ('three', 0.006), ('tree', 0.006), ('great', 0.005), ('eye', 0.005), ('way', 0.005), ('think', 0.004), ('run', 0.004), ('night', 0.004), ('castle', 0.004), ('stand', 0.004), ('cry', 0.004), ('ride', 0.004), ('long', 0.004)]\n",
            "\n",
            "Topic #4:\n",
            "[('get', 0.015), ('wife', 0.009), ('good', 0.009), ('think', 0.008), ('old', 0.008), ('ask', 0.008), ('home', 0.007), ('king', 0.007), ('back', 0.007), ('want', 0.006), ('master', 0.005), ('house', 0.005), ('must', 0.005), ('poor', 0.005), ('may', 0.005), ('begin', 0.005), ('put', 0.005), ('cat', 0.005), ('run', 0.005), ('way', 0.005)]\n",
            "\n",
            "Topic #5:\n",
            "[('great', 0.008), ('upon', 0.007), ('love', 0.006), ('heart', 0.006), ('king', 0.006), ('thee', 0.005), ('god', 0.005), ('hear', 0.005), ('tree', 0.005), ('land', 0.005), ('thy', 0.005), ('old', 0.004), ('shall', 0.004), ('bird', 0.004), ('night', 0.004), ('eye', 0.004), ('may', 0.004), ('yet', 0.004), ('child', 0.004), ('son', 0.004)]\n",
            "\n",
            "Topic #6:\n",
            "[('sea', 0.01), ('great', 0.008), ('king', 0.006), ('dragon', 0.005), ('water', 0.005), ('upon', 0.005), ('ship', 0.005), ('old', 0.005), ('long', 0.004), ('mountain', 0.004), ('emperor', 0.004), ('hand', 0.004), ('land', 0.004), ('people', 0.003), ('fish', 0.003), ('hear', 0.003), ('two', 0.003), ('may', 0.003), ('rise', 0.003), ('stand', 0.003)]\n",
            "\n",
            "Topic #7:\n",
            "[('old', 0.01), ('daughter', 0.01), ('giant', 0.008), ('father', 0.008), ('loki', 0.008), ('odin', 0.007), ('god', 0.007), ('hand', 0.006), ('upon', 0.006), ('great', 0.006), ('back', 0.006), ('brother', 0.006), ('son', 0.006), ('thor', 0.006), ('thee', 0.006), ('bring', 0.006), ('may', 0.006), ('sit', 0.005), ('leave', 0.005), ('head', 0.005)]\n",
            "\n",
            "Topic #8:\n",
            "[('p', 0.017), ('story', 0.014), ('tale', 0.008), ('fairy', 0.007), ('old', 0.007), ('also', 0.007), ('water', 0.005), ('three', 0.005), ('russian', 0.005), ('get', 0.004), ('two', 0.004), ('cf', 0.004), ('people', 0.004), ('may', 0.004), ('pp', 0.004), ('live', 0.004), ('girl', 0.004), ('call', 0.004), ('name', 0.004), ('good', 0.003)]\n",
            "\n",
            "Topic #9:\n",
            "[('wolf', 0.032), ('bear', 0.017), ('fox', 0.014), ('devil', 0.01), ('good', 0.01), ('get', 0.009), ('hare', 0.009), ('eat', 0.009), ('mill', 0.007), ('run', 0.007), ('house', 0.006), ('begin', 0.006), ('back', 0.006), ('pig', 0.006), ('sit', 0.006), ('upon', 0.005), ('fly', 0.005), ('cock', 0.005), ('think', 0.005), ('lie', 0.005)]\n",
            "\n",
            "Topic #10:\n",
            "[('jack', 0.051), ('sparrow', 0.015), ('mother', 0.009), ('water', 0.008), ('dog', 0.008), ('get', 0.008), ('ox', 0.006), ('boy', 0.005), ('home', 0.005), ('eat', 0.005), ('begin', 0.005), ('brother', 0.005), ('old', 0.005), ('back', 0.005), ('castle', 0.005), ('night', 0.005), ('kill', 0.005), ('cat', 0.004), ('people', 0.004), ('good', 0.004)]\n",
            "\n"
          ]
        }
      ]
    },
    {
      "cell_type": "code",
      "source": [
        "# Оценка модели: чем больше Cv и чем меньше UMass и perplexity, тем лучше\n",
        "cv_coherence_model_lda = gensim.models.CoherenceModel( model=lda_model,\n",
        "                                                      corpus=bow_corpus,\n",
        "                                                      texts=norm_corpus_bigrams,\n",
        "                                                      dictionary=dictionary,\n",
        "                                                      coherence='c_v')\n",
        "avg_coherence_cv = cv_coherence_model_lda.get_coherence()\n",
        "\n",
        "umass_coherence_model_lda = gensim.models.CoherenceModel( model=lda_model,\n",
        "                                                        corpus=bow_corpus,\n",
        "                                                        texts=norm_corpus_bigrams,\n",
        "                                                        dictionary=dictionary,\n",
        "                                                        coherence='u_mass')\n",
        "avg_coherence_umass = umass_coherence_model_lda.get_coherence()\n",
        "\n",
        "perplexity = lda_model.log_perplexity(bow_corpus)\n",
        "\n",
        "print('Avg. Coherence Score (Cv):', avg_coherence_cv)\n",
        "print('Avg. Coherence Score (UMass):', avg_coherence_umass)\n",
        "print('Model Perplexity:', perplexity)"
      ],
      "metadata": {
        "colab": {
          "base_uri": "https://localhost:8080/"
        },
        "id": "WByvx2uZkICI",
        "outputId": "2a1644ba-e89c-4fff-ad50-554a5dc5326d"
      },
      "execution_count": null,
      "outputs": [
        {
          "output_type": "stream",
          "name": "stdout",
          "text": [
            "Avg. Coherence Score (Cv): 0.3121939968575376\n",
            "Avg. Coherence Score (UMass): -0.6443171916040582\n",
            "Model Perplexity: -7.242730379501205\n"
          ]
        }
      ]
    },
    {
      "cell_type": "markdown",
      "source": [
        "###Non-Negative Matrix factorization"
      ],
      "metadata": {
        "id": "CVXFolqIk4kP"
      }
    },
    {
      "cell_type": "code",
      "source": [
        "from gensim.models import Nmf\n",
        "from gensim.test.utils import common_texts\n",
        "from gensim.corpora.dictionary import Dictionary\n",
        "\n",
        "nmf = Nmf(bow_corpus, num_topics=10, id2word=dictionary, chunksize=1455, random_state=42, \n",
        "                      w_max_iter=2000, passes=20)"
      ],
      "metadata": {
        "id": "x_PzXUfEimGU"
      },
      "execution_count": null,
      "outputs": []
    },
    {
      "cell_type": "code",
      "source": [
        "cv_coherence_model_nmf = gensim.models.CoherenceModel( model=nmf,\n",
        "                                                      corpus=bow_corpus,\n",
        "                                                      texts=norm_corpus_bigrams,\n",
        "                                                      dictionary=dictionary,\n",
        "                                                      coherence='c_v')\n",
        "avg_coherence_cv = cv_coherence_model_nmf.get_coherence()\n",
        "\n",
        "umass_coherence_model_nmf = gensim.models.CoherenceModel( model=nmf,\n",
        "                                                        corpus=bow_corpus,\n",
        "                                                        texts=norm_corpus_bigrams,\n",
        "                                                        dictionary=dictionary,\n",
        "                                                        coherence='u_mass')\n",
        "avg_coherence_umass = umass_coherence_model_nmf.get_coherence()\n",
        "\n",
        "\n",
        "print('Avg. Coherence Score (Cv):', avg_coherence_cv)\n",
        "print('Avg. Coherence Score (UMass):', avg_coherence_umass)"
      ],
      "metadata": {
        "colab": {
          "base_uri": "https://localhost:8080/"
        },
        "id": "oWsFoJBNlF5_",
        "outputId": "2d855539-5127-4ceb-876f-f3f99bbf43b6"
      },
      "execution_count": null,
      "outputs": [
        {
          "output_type": "stream",
          "name": "stdout",
          "text": [
            "Avg. Coherence Score (Cv): 0.31855359222068325\n",
            "Avg. Coherence Score (UMass): -0.7733345481565134\n"
          ]
        }
      ]
    },
    {
      "cell_type": "code",
      "source": [
        "topics_coherences = nmf.top_topics(bow_corpus, topn=20)\n",
        "topics_with_wts = [item[0] for item in topics_coherences]\n",
        "\n",
        "print('NMF Topics without Weights')\n",
        "print('='*50)\n",
        "for idx, topic in enumerate(topics_with_wts):\n",
        "  print('Topic #'+str(idx+1)+':')\n",
        "  print([term for wt, term in topic])\n",
        "  print()"
      ],
      "metadata": {
        "colab": {
          "base_uri": "https://localhost:8080/"
        },
        "id": "TaMkuHC-psKN",
        "outputId": "a96695a1-dd3d-4a96-e5cc-776774df1b6f"
      },
      "execution_count": null,
      "outputs": [
        {
          "output_type": "stream",
          "name": "stdout",
          "text": [
            "NMF Topics without Weights\n",
            "==================================================\n",
            "Topic #1:\n",
            "['get', 'think', 'must', 'back', 'long', 'way', 'king', 'may', 'great', 'good', 'ask', 'run', 'begin', 'want', 'stand', 'eat', 'water', 'master', 'answer', 'turn']\n",
            "\n",
            "Topic #2:\n",
            "['princess', 'think', 'much', 'upon', 'queen', 'may', 'soon', 'emperor', 'must', 'answer', 'good', 'great', 'never', 'nothing', 'hear', 'cry', 'without', 'leave', 'palace', 'love']\n",
            "\n",
            "Topic #3:\n",
            "['brother', 'two', 'three', 'prince', 'young', 'eye', 'horse', 'back', 'story', 'sister', 'place', 'leave', 'fly', 'son', 'us', 'hand', 'get', 'house', 'death', 'set']\n",
            "\n",
            "Topic #4:\n",
            "['prince', 'princess', 'may', 'queen', 'bird', 'way', 'great', 'emperor', 'upon', 'fairy', 'golden', 'ask', 'must', 'much', 'tree', 'think', 'shall', 'palace', 'hand', 'first']\n",
            "\n",
            "Topic #5:\n",
            "['wife', 'son', 'father', 'house', 'good', 'brother', 'get', 'home', 'ask', 'mother', 'think', 'poor', 'daughter', 'may', 'thee', 'husband', 'rich', 'answer', 'cry', 'put']\n",
            "\n",
            "Topic #6:\n",
            "['king', 'queen', 'son', 'beautiful', 'hear', 'old', 'daughter', 'girl', 'cry', 'marry', 'young', 'answer', 'woman', 'child', 'giant', 'night', 'pretty', 'send', 'upon', 'must']\n",
            "\n",
            "Topic #7:\n",
            "['horse', 'dragon', 'old', 'ride', 'mountain', 'ask', 'back', 'turn', 'hear', 'golden', 'head', 'stand', 'castle', 'fish', 'sword', 'till', 'home', 'great', 'youth', 'must']\n",
            "\n",
            "Topic #8:\n",
            "['girl', 'cat', 'young', 'daughter', 'beautiful', 'fairy', 'dog', 'pretty', 'prince', 'father', 'two', 'long', 'castle', 'room', 'good', 'mother', 'dress', 'poor', 'lady', 'three']\n",
            "\n",
            "Topic #9:\n",
            "['old', 'child', 'old_woman', 'good', 'think', 'get', 'house', 'never', 'turnip', 'home', 'hut', 'boy', 'forest', 'night', 'back', 'hear', 'tree', 'laugh', 'fish', 'sit']\n",
            "\n",
            "Topic #10:\n",
            "['sultan', 'palace', 'mother', 'lamp', 'son', 'magician', 'slave', 'great', 'return', 'soon', 'may', 'leave', 'present', 'bring', 'much', 'immediately', 'order', 'hall', 'reply', 'majesty']\n",
            "\n",
            "Topic #11:\n",
            "['king', 'princess', 'three', 'head', 'daughter', 'youth', 'horse', 'ride', 'palace', 'castle', 'sea', 'young', 'ask', 'eye', 'golden', 'great', 'water', 'troll', 'sword', 'two']\n",
            "\n",
            "Topic #12:\n",
            "['great', 'fairy', 'god', 'love', 'heart', 'queen', 'eye', 'upon', 'may', 'hand', 'loki', 'thing', 'yet', 'grow', 'ever', 'world', 'life', 'head', 'odin', 'even']\n",
            "\n",
            "Topic #13:\n",
            "['sea', 'upon', 'water', 'ship', 'thee', 'great', 'land', 'sailor', 'us', 'sail', 'hear', 'city', 'thy', 'night', 'merchant', 'thou', 'people', 'wind', 'bell', 'long']\n",
            "\n",
            "Topic #14:\n",
            "['giant', 'jack', 'get', 'castle', 'till', 'thee', 'tailor', 'head', 'tree', 'sit', 'shall', 'foal', 'thor', 'back', 'night', 'upon', 'rabbit', 'cry', 'thy', 'put']\n",
            "\n"
          ]
        }
      ]
    },
    {
      "cell_type": "markdown",
      "source": [
        "###Подбор гиперпараметра - количество тем"
      ],
      "metadata": {
        "id": "S_1jTq30qM7z"
      }
    },
    {
      "cell_type": "code",
      "source": [
        "from tqdm import tqdm\n",
        "def nmf_coherence_generator(corpus, texts, dictionary, start_topic_count=2, \n",
        "                                    end_topic_count=10, step=1, cpus=1):\n",
        "  models = []\n",
        "  coherence_scores = []\n",
        "  for topic_nums in tqdm(range(start_topic_count, end_topic_count+1, step)):\n",
        "    nmf_model = Nmf(corpus, num_topics=topic_nums, id2word=dictionary, chunksize=1455, random_state=42, \n",
        "                      w_max_iter=2000, passes=20)\n",
        "    \n",
        "    cv_coherence_model_nmf = gensim.models.CoherenceModel( model=nmf_model,\n",
        "                                                      corpus=corpus,\n",
        "                                                      texts=texts,\n",
        "                                                      dictionary=dictionary,\n",
        "                                                      coherence='c_v')\n",
        "    avg_coherence_cv = cv_coherence_model_nmf.get_coherence()\n",
        "    coherence_scores.append(avg_coherence_cv)\n",
        "    models.append(nmf_model)\n",
        "  return models, coherence_scores"
      ],
      "metadata": {
        "id": "Vir7NRvHqSB3"
      },
      "execution_count": null,
      "outputs": []
    },
    {
      "cell_type": "code",
      "source": [
        "nmf_models, coherence_scores = nmf_coherence_generator(corpus=bow_corpus,\n",
        "                                                                texts=norm_corpus_bigrams,\n",
        "                                                                dictionary=dictionary,\n",
        "                                                                start_topic_count=5,\n",
        "                                                                end_topic_count=25, step=1,\n",
        "                                                                cpus=16)"
      ],
      "metadata": {
        "colab": {
          "base_uri": "https://localhost:8080/"
        },
        "id": "ujhBdq8zriLU",
        "outputId": "fd476029-d648-4b65-e085-17bbf9c00179"
      },
      "execution_count": null,
      "outputs": [
        {
          "output_type": "stream",
          "name": "stderr",
          "text": [
            "100%|██████████| 21/21 [23:34<00:00, 67.35s/it]\n"
          ]
        }
      ]
    },
    {
      "cell_type": "code",
      "source": [
        "coherence_df = pd.DataFrame({'Number of Topics': range(5, 26, 1), \n",
        "                             'Coherence Score': np.round(coherence_scores, 4)})\n",
        "\n",
        "coherence_df.sort_values(by=['Coherence Score'], ascending=False).head(10)"
      ],
      "metadata": {
        "colab": {
          "base_uri": "https://localhost:8080/",
          "height": 363
        },
        "id": "-rY3FIx1r3YN",
        "outputId": "2fe91d7a-5a40-42d6-b57f-735a8e2a721f"
      },
      "execution_count": null,
      "outputs": [
        {
          "output_type": "execute_result",
          "data": {
            "text/plain": [
              "    Number of Topics  Coherence Score\n",
              "9                 14           0.3260\n",
              "16                21           0.3214\n",
              "10                15           0.3183\n",
              "20                25           0.3183\n",
              "14                19           0.3181\n",
              "1                  6           0.3146\n",
              "13                18           0.3135\n",
              "18                23           0.3133\n",
              "7                 12           0.3122\n",
              "4                  9           0.3117"
            ],
            "text/html": [
              "\n",
              "  <div id=\"df-185f7055-91b2-42b9-abc5-32260d58a3f6\">\n",
              "    <div class=\"colab-df-container\">\n",
              "      <div>\n",
              "<style scoped>\n",
              "    .dataframe tbody tr th:only-of-type {\n",
              "        vertical-align: middle;\n",
              "    }\n",
              "\n",
              "    .dataframe tbody tr th {\n",
              "        vertical-align: top;\n",
              "    }\n",
              "\n",
              "    .dataframe thead th {\n",
              "        text-align: right;\n",
              "    }\n",
              "</style>\n",
              "<table border=\"1\" class=\"dataframe\">\n",
              "  <thead>\n",
              "    <tr style=\"text-align: right;\">\n",
              "      <th></th>\n",
              "      <th>Number of Topics</th>\n",
              "      <th>Coherence Score</th>\n",
              "    </tr>\n",
              "  </thead>\n",
              "  <tbody>\n",
              "    <tr>\n",
              "      <th>9</th>\n",
              "      <td>14</td>\n",
              "      <td>0.3260</td>\n",
              "    </tr>\n",
              "    <tr>\n",
              "      <th>16</th>\n",
              "      <td>21</td>\n",
              "      <td>0.3214</td>\n",
              "    </tr>\n",
              "    <tr>\n",
              "      <th>10</th>\n",
              "      <td>15</td>\n",
              "      <td>0.3183</td>\n",
              "    </tr>\n",
              "    <tr>\n",
              "      <th>20</th>\n",
              "      <td>25</td>\n",
              "      <td>0.3183</td>\n",
              "    </tr>\n",
              "    <tr>\n",
              "      <th>14</th>\n",
              "      <td>19</td>\n",
              "      <td>0.3181</td>\n",
              "    </tr>\n",
              "    <tr>\n",
              "      <th>1</th>\n",
              "      <td>6</td>\n",
              "      <td>0.3146</td>\n",
              "    </tr>\n",
              "    <tr>\n",
              "      <th>13</th>\n",
              "      <td>18</td>\n",
              "      <td>0.3135</td>\n",
              "    </tr>\n",
              "    <tr>\n",
              "      <th>18</th>\n",
              "      <td>23</td>\n",
              "      <td>0.3133</td>\n",
              "    </tr>\n",
              "    <tr>\n",
              "      <th>7</th>\n",
              "      <td>12</td>\n",
              "      <td>0.3122</td>\n",
              "    </tr>\n",
              "    <tr>\n",
              "      <th>4</th>\n",
              "      <td>9</td>\n",
              "      <td>0.3117</td>\n",
              "    </tr>\n",
              "  </tbody>\n",
              "</table>\n",
              "</div>\n",
              "      <button class=\"colab-df-convert\" onclick=\"convertToInteractive('df-185f7055-91b2-42b9-abc5-32260d58a3f6')\"\n",
              "              title=\"Convert this dataframe to an interactive table.\"\n",
              "              style=\"display:none;\">\n",
              "        \n",
              "  <svg xmlns=\"http://www.w3.org/2000/svg\" height=\"24px\"viewBox=\"0 0 24 24\"\n",
              "       width=\"24px\">\n",
              "    <path d=\"M0 0h24v24H0V0z\" fill=\"none\"/>\n",
              "    <path d=\"M18.56 5.44l.94 2.06.94-2.06 2.06-.94-2.06-.94-.94-2.06-.94 2.06-2.06.94zm-11 1L8.5 8.5l.94-2.06 2.06-.94-2.06-.94L8.5 2.5l-.94 2.06-2.06.94zm10 10l.94 2.06.94-2.06 2.06-.94-2.06-.94-.94-2.06-.94 2.06-2.06.94z\"/><path d=\"M17.41 7.96l-1.37-1.37c-.4-.4-.92-.59-1.43-.59-.52 0-1.04.2-1.43.59L10.3 9.45l-7.72 7.72c-.78.78-.78 2.05 0 2.83L4 21.41c.39.39.9.59 1.41.59.51 0 1.02-.2 1.41-.59l7.78-7.78 2.81-2.81c.8-.78.8-2.07 0-2.86zM5.41 20L4 18.59l7.72-7.72 1.47 1.35L5.41 20z\"/>\n",
              "  </svg>\n",
              "      </button>\n",
              "      \n",
              "  <style>\n",
              "    .colab-df-container {\n",
              "      display:flex;\n",
              "      flex-wrap:wrap;\n",
              "      gap: 12px;\n",
              "    }\n",
              "\n",
              "    .colab-df-convert {\n",
              "      background-color: #E8F0FE;\n",
              "      border: none;\n",
              "      border-radius: 50%;\n",
              "      cursor: pointer;\n",
              "      display: none;\n",
              "      fill: #1967D2;\n",
              "      height: 32px;\n",
              "      padding: 0 0 0 0;\n",
              "      width: 32px;\n",
              "    }\n",
              "\n",
              "    .colab-df-convert:hover {\n",
              "      background-color: #E2EBFA;\n",
              "      box-shadow: 0px 1px 2px rgba(60, 64, 67, 0.3), 0px 1px 3px 1px rgba(60, 64, 67, 0.15);\n",
              "      fill: #174EA6;\n",
              "    }\n",
              "\n",
              "    [theme=dark] .colab-df-convert {\n",
              "      background-color: #3B4455;\n",
              "      fill: #D2E3FC;\n",
              "    }\n",
              "\n",
              "    [theme=dark] .colab-df-convert:hover {\n",
              "      background-color: #434B5C;\n",
              "      box-shadow: 0px 1px 3px 1px rgba(0, 0, 0, 0.15);\n",
              "      filter: drop-shadow(0px 1px 2px rgba(0, 0, 0, 0.3));\n",
              "      fill: #FFFFFF;\n",
              "    }\n",
              "  </style>\n",
              "\n",
              "      <script>\n",
              "        const buttonEl =\n",
              "          document.querySelector('#df-185f7055-91b2-42b9-abc5-32260d58a3f6 button.colab-df-convert');\n",
              "        buttonEl.style.display =\n",
              "          google.colab.kernel.accessAllowed ? 'block' : 'none';\n",
              "\n",
              "        async function convertToInteractive(key) {\n",
              "          const element = document.querySelector('#df-185f7055-91b2-42b9-abc5-32260d58a3f6');\n",
              "          const dataTable =\n",
              "            await google.colab.kernel.invokeFunction('convertToInteractive',\n",
              "                                                     [key], {});\n",
              "          if (!dataTable) return;\n",
              "\n",
              "          const docLinkHtml = 'Like what you see? Visit the ' +\n",
              "            '<a target=\"_blank\" href=https://colab.research.google.com/notebooks/data_table.ipynb>data table notebook</a>'\n",
              "            + ' to learn more about interactive tables.';\n",
              "          element.innerHTML = '';\n",
              "          dataTable['output_type'] = 'display_data';\n",
              "          await google.colab.output.renderOutput(dataTable, element);\n",
              "          const docLink = document.createElement('div');\n",
              "          docLink.innerHTML = docLinkHtml;\n",
              "          element.appendChild(docLink);\n",
              "        }\n",
              "      </script>\n",
              "    </div>\n",
              "  </div>\n",
              "  "
            ]
          },
          "metadata": {},
          "execution_count": 27
        }
      ]
    },
    {
      "cell_type": "code",
      "source": [
        "import matplotlib.pyplot as plt\n",
        "plt.style.use('fivethirtyeight')\n",
        "%matplotlib inline\n",
        "x_ax = range(5, 26, 1)\n",
        "y_ax = coherence_scores\n",
        "plt.figure(figsize=(12, 6))\n",
        "plt.plot(x_ax, y_ax, c='r')\n",
        "plt.axhline(y=0.32, c='k', linestyle='--', linewidth=2)\n",
        "plt.rcParams['figure.facecolor'] = 'white'\n",
        "xl = plt.xlabel('Number of Topics')\n",
        "yl = plt.ylabel('Coherence Score')"
      ],
      "metadata": {
        "colab": {
          "base_uri": "https://localhost:8080/",
          "height": 388
        },
        "id": "LuGLEwRGr91P",
        "outputId": "5e2ff329-bce4-4092-cfb1-be185e234c39"
      },
      "execution_count": null,
      "outputs": [
        {
          "output_type": "display_data",
          "data": {
            "text/plain": [
              "<Figure size 864x432 with 1 Axes>"
            ],
            "image/png": "[encoded data removed]"
          },
          "metadata": {
            "needs_background": "light"
          }
        }
      ]
    },
    {
      "cell_type": "code",
      "source": [
        "best_model_idx = coherence_df[coherence_df['Number of Topics'] == 14].index[0]\n",
        "best_nmf_model = nmf_models[best_model_idx]\n",
        "best_nmf_model.num_topics"
      ],
      "metadata": {
        "colab": {
          "base_uri": "https://localhost:8080/"
        },
        "id": "h5OOYrYGkTP-",
        "outputId": "d1a07475-7015-482a-d3db-9058fe58c963"
      },
      "execution_count": null,
      "outputs": [
        {
          "output_type": "execute_result",
          "data": {
            "text/plain": [
              "14"
            ]
          },
          "metadata": {},
          "execution_count": 29
        }
      ]
    },
    {
      "cell_type": "code",
      "source": [
        "topics = [[(term, round(wt, 3))\n",
        "                        for term, wt in best_nmf_model.show_topic(n, topn=20)]\n",
        "                        for n in range(0, best_nmf_model.num_topics)]\n",
        "\n",
        "topics_df = pd.DataFrame([[term for term, wt in topic] for topic in topics],\n",
        "                          columns = ['Term'+str(i) for i in range(1, 21)], \n",
        "                          index=['Topic '+str(t) for t in range(1, best_nmf_model.num_topics+1)]).T\n",
        "topics_df"
      ],
      "metadata": {
        "colab": {
          "base_uri": "https://localhost:8080/",
          "height": 677
        },
        "id": "J-YF7eGBkTMx",
        "outputId": "8601b556-d340-46b0-a371-805c67b1426e"
      },
      "execution_count": null,
      "outputs": [
        {
          "output_type": "execute_result",
          "data": {
            "text/plain": [
              "        Topic 1   Topic 2    Topic 3 Topic 4 Topic 5    Topic 6    Topic 7  \\\n",
              "Term1     horse   brother    old_man     get     man      child   princess   \n",
              "Term2     giant    father   daughter     man   great    old_man     prince   \n",
              "Term3       get    sister        old    wife    like       upon      queen   \n",
              "Term4       son     house     mother   think     eye       wolf    emperor   \n",
              "Term5      head      good  old_woman    want   heart       thee      fairy   \n",
              "Term6      back      wife       girl     ask     may       bear       bird   \n",
              "Term7       let       eye      three    back    hand        cry        may   \n",
              "Term8     three       two     father    good  people        god     golden   \n",
              "Term9     water      poor       home    home    love       tree        cry   \n",
              "Term10     till     think      young    must    long        thy       upon   \n",
              "Term11   master      girl     dragon    away     yet        eat       tree   \n",
              "Term12     tree       get        get     sit    even       good     castle   \n",
              "Term13      two      home  beautiful    king    face     forest       hear   \n",
              "Term14  serpent     leave      child    girl   woman      shall       must   \n",
              "Term15     home     never       like     cry    land  old_woman     sister   \n",
              "Term16      lie      dear   princess     old    seem      think        way   \n",
              "Term17      fly  merchant       head    long    life       love  beautiful   \n",
              "Term18      dog   nothing        lad   begin   fairy      never       hand   \n",
              "Term19      way      last      story     eat     boy       hear       long   \n",
              "Term20  brother     begin        ask    like   world      queen     garden   \n",
              "\n",
              "       Topic 8    Topic 9  Topic 10  Topic 11 Topic 12      Topic 13 Topic 14  \n",
              "Term1    youth       king       sea    prince      son      princess      man  \n",
              "Term2      may      queen      ship  princess   mother        sultan   sultan  \n",
              "Term3      get        son     water      king   sultan        palace     thee  \n",
              "Term4    troll   daughter     great     think    great          lamp   answer  \n",
              "Term5     must   princess      upon     great      may      magician      thy  \n",
              "Term6    think  beautiful     giant      upon    reply        mother  brother  \n",
              "Term7     ring     answer      fish    palace   palace         slave     thou  \n",
              "Term8     long     father    sailor      soon   return         think      ask  \n",
              "Term9     upon       hear      sail      good    place         never    reply  \n",
              "Term10   first      great       old     fairy    order         great    shall  \n",
              "Term11     put        sea      land      much     soon          hall     wife  \n",
              "Term12  robber       send  mountain      long  majesty          much      son  \n",
              "Term13    loki       upon      bell      back    leave           eye   father  \n",
              "Term14   leave        cry     night     quite     much  grand_vizier   return  \n",
              "Term15   great     palace      wave       way    slave         night     till  \n",
              "Term16    hand      bring    golden     bring  without        window     rich  \n",
              "Term17   horse      young      boat     begin     upon           sit      may  \n",
              "Term18   place      three      wind       set  present         world    bring  \n",
              "Term19    gold    kingdom      hear    beauty    child          head     upon  \n",
              "Term20   stand      marry      thor       may      two         dress      ram  "
            ],
            "text/html": [
              "\n",
              "  <div id=\"df-4b61a027-083c-41bf-b298-92fde14220ec\">\n",
              "    <div class=\"colab-df-container\">\n",
              "      <div>\n",
              "<style scoped>\n",
              "    .dataframe tbody tr th:only-of-type {\n",
              "        vertical-align: middle;\n",
              "    }\n",
              "\n",
              "    .dataframe tbody tr th {\n",
              "        vertical-align: top;\n",
              "    }\n",
              "\n",
              "    .dataframe thead th {\n",
              "        text-align: right;\n",
              "    }\n",
              "</style>\n",
              "<table border=\"1\" class=\"dataframe\">\n",
              "  <thead>\n",
              "    <tr style=\"text-align: right;\">\n",
              "      <th></th>\n",
              "      <th>Topic 1</th>\n",
              "      <th>Topic 2</th>\n",
              "      <th>Topic 3</th>\n",
              "      <th>Topic 4</th>\n",
              "      <th>Topic 5</th>\n",
              "      <th>Topic 6</th>\n",
              "      <th>Topic 7</th>\n",
              "      <th>Topic 8</th>\n",
              "      <th>Topic 9</th>\n",
              "      <th>Topic 10</th>\n",
              "      <th>Topic 11</th>\n",
              "      <th>Topic 12</th>\n",
              "      <th>Topic 13</th>\n",
              "      <th>Topic 14</th>\n",
              "    </tr>\n",
              "  </thead>\n",
              "  <tbody>\n",
              "    <tr>\n",
              "      <th>Term1</th>\n",
              "      <td>horse</td>\n",
              "      <td>brother</td>\n",
              "      <td>old_man</td>\n",
              "      <td>get</td>\n",
              "      <td>man</td>\n",
              "      <td>child</td>\n",
              "      <td>princess</td>\n",
              "      <td>youth</td>\n",
              "      <td>king</td>\n",
              "      <td>sea</td>\n",
              "      <td>prince</td>\n",
              "      <td>son</td>\n",
              "      <td>princess</td>\n",
              "      <td>man</td>\n",
              "    </tr>\n",
              "    <tr>\n",
              "      <th>Term2</th>\n",
              "      <td>giant</td>\n",
              "      <td>father</td>\n",
              "      <td>daughter</td>\n",
              "      <td>man</td>\n",
              "      <td>great</td>\n",
              "      <td>old_man</td>\n",
              "      <td>prince</td>\n",
              "      <td>may</td>\n",
              "      <td>queen</td>\n",
              "      <td>ship</td>\n",
              "      <td>princess</td>\n",
              "      <td>mother</td>\n",
              "      <td>sultan</td>\n",
              "      <td>sultan</td>\n",
              "    </tr>\n",
              "    <tr>\n",
              "      <th>Term3</th>\n",
              "      <td>get</td>\n",
              "      <td>sister</td>\n",
              "      <td>old</td>\n",
              "      <td>wife</td>\n",
              "      <td>like</td>\n",
              "      <td>upon</td>\n",
              "      <td>queen</td>\n",
              "      <td>get</td>\n",
              "      <td>son</td>\n",
              "      <td>water</td>\n",
              "      <td>king</td>\n",
              "      <td>sultan</td>\n",
              "      <td>palace</td>\n",
              "      <td>thee</td>\n",
              "    </tr>\n",
              "    <tr>\n",
              "      <th>Term4</th>\n",
              "      <td>son</td>\n",
              "      <td>house</td>\n",
              "      <td>mother</td>\n",
              "      <td>think</td>\n",
              "      <td>eye</td>\n",
              "      <td>wolf</td>\n",
              "      <td>emperor</td>\n",
              "      <td>troll</td>\n",
              "      <td>daughter</td>\n",
              "      <td>great</td>\n",
              "      <td>think</td>\n",
              "      <td>great</td>\n",
              "      <td>lamp</td>\n",
              "      <td>answer</td>\n",
              "    </tr>\n",
              "    <tr>\n",
              "      <th>Term5</th>\n",
              "      <td>head</td>\n",
              "      <td>good</td>\n",
              "      <td>old_woman</td>\n",
              "      <td>want</td>\n",
              "      <td>heart</td>\n",
              "      <td>thee</td>\n",
              "      <td>fairy</td>\n",
              "      <td>must</td>\n",
              "      <td>princess</td>\n",
              "      <td>upon</td>\n",
              "      <td>great</td>\n",
              "      <td>may</td>\n",
              "      <td>magician</td>\n",
              "      <td>thy</td>\n",
              "    </tr>\n",
              "    <tr>\n",
              "      <th>Term6</th>\n",
              "      <td>back</td>\n",
              "      <td>wife</td>\n",
              "      <td>girl</td>\n",
              "      <td>ask</td>\n",
              "      <td>may</td>\n",
              "      <td>bear</td>\n",
              "      <td>bird</td>\n",
              "      <td>think</td>\n",
              "      <td>beautiful</td>\n",
              "      <td>giant</td>\n",
              "      <td>upon</td>\n",
              "      <td>reply</td>\n",
              "      <td>mother</td>\n",
              "      <td>brother</td>\n",
              "    </tr>\n",
              "    <tr>\n",
              "      <th>Term7</th>\n",
              "      <td>let</td>\n",
              "      <td>eye</td>\n",
              "      <td>three</td>\n",
              "      <td>back</td>\n",
              "      <td>hand</td>\n",
              "      <td>cry</td>\n",
              "      <td>may</td>\n",
              "      <td>ring</td>\n",
              "      <td>answer</td>\n",
              "      <td>fish</td>\n",
              "      <td>palace</td>\n",
              "      <td>palace</td>\n",
              "      <td>slave</td>\n",
              "      <td>thou</td>\n",
              "    </tr>\n",
              "    <tr>\n",
              "      <th>Term8</th>\n",
              "      <td>three</td>\n",
              "      <td>two</td>\n",
              "      <td>father</td>\n",
              "      <td>good</td>\n",
              "      <td>people</td>\n",
              "      <td>god</td>\n",
              "      <td>golden</td>\n",
              "      <td>long</td>\n",
              "      <td>father</td>\n",
              "      <td>sailor</td>\n",
              "      <td>soon</td>\n",
              "      <td>return</td>\n",
              "      <td>think</td>\n",
              "      <td>ask</td>\n",
              "    </tr>\n",
              "    <tr>\n",
              "      <th>Term9</th>\n",
              "      <td>water</td>\n",
              "      <td>poor</td>\n",
              "      <td>home</td>\n",
              "      <td>home</td>\n",
              "      <td>love</td>\n",
              "      <td>tree</td>\n",
              "      <td>cry</td>\n",
              "      <td>upon</td>\n",
              "      <td>hear</td>\n",
              "      <td>sail</td>\n",
              "      <td>good</td>\n",
              "      <td>place</td>\n",
              "      <td>never</td>\n",
              "      <td>reply</td>\n",
              "    </tr>\n",
              "    <tr>\n",
              "      <th>Term10</th>\n",
              "      <td>till</td>\n",
              "      <td>think</td>\n",
              "      <td>young</td>\n",
              "      <td>must</td>\n",
              "      <td>long</td>\n",
              "      <td>thy</td>\n",
              "      <td>upon</td>\n",
              "      <td>first</td>\n",
              "      <td>great</td>\n",
              "      <td>old</td>\n",
              "      <td>fairy</td>\n",
              "      <td>order</td>\n",
              "      <td>great</td>\n",
              "      <td>shall</td>\n",
              "    </tr>\n",
              "    <tr>\n",
              "      <th>Term11</th>\n",
              "      <td>master</td>\n",
              "      <td>girl</td>\n",
              "      <td>dragon</td>\n",
              "      <td>away</td>\n",
              "      <td>yet</td>\n",
              "      <td>eat</td>\n",
              "      <td>tree</td>\n",
              "      <td>put</td>\n",
              "      <td>sea</td>\n",
              "      <td>land</td>\n",
              "      <td>much</td>\n",
              "      <td>soon</td>\n",
              "      <td>hall</td>\n",
              "      <td>wife</td>\n",
              "    </tr>\n",
              "    <tr>\n",
              "      <th>Term12</th>\n",
              "      <td>tree</td>\n",
              "      <td>get</td>\n",
              "      <td>get</td>\n",
              "      <td>sit</td>\n",
              "      <td>even</td>\n",
              "      <td>good</td>\n",
              "      <td>castle</td>\n",
              "      <td>robber</td>\n",
              "      <td>send</td>\n",
              "      <td>mountain</td>\n",
              "      <td>long</td>\n",
              "      <td>majesty</td>\n",
              "      <td>much</td>\n",
              "      <td>son</td>\n",
              "    </tr>\n",
              "    <tr>\n",
              "      <th>Term13</th>\n",
              "      <td>two</td>\n",
              "      <td>home</td>\n",
              "      <td>beautiful</td>\n",
              "      <td>king</td>\n",
              "      <td>face</td>\n",
              "      <td>forest</td>\n",
              "      <td>hear</td>\n",
              "      <td>loki</td>\n",
              "      <td>upon</td>\n",
              "      <td>bell</td>\n",
              "      <td>back</td>\n",
              "      <td>leave</td>\n",
              "      <td>eye</td>\n",
              "      <td>father</td>\n",
              "    </tr>\n",
              "    <tr>\n",
              "      <th>Term14</th>\n",
              "      <td>serpent</td>\n",
              "      <td>leave</td>\n",
              "      <td>child</td>\n",
              "      <td>girl</td>\n",
              "      <td>woman</td>\n",
              "      <td>shall</td>\n",
              "      <td>must</td>\n",
              "      <td>leave</td>\n",
              "      <td>cry</td>\n",
              "      <td>night</td>\n",
              "      <td>quite</td>\n",
              "      <td>much</td>\n",
              "      <td>grand_vizier</td>\n",
              "      <td>return</td>\n",
              "    </tr>\n",
              "    <tr>\n",
              "      <th>Term15</th>\n",
              "      <td>home</td>\n",
              "      <td>never</td>\n",
              "      <td>like</td>\n",
              "      <td>cry</td>\n",
              "      <td>land</td>\n",
              "      <td>old_woman</td>\n",
              "      <td>sister</td>\n",
              "      <td>great</td>\n",
              "      <td>palace</td>\n",
              "      <td>wave</td>\n",
              "      <td>way</td>\n",
              "      <td>slave</td>\n",
              "      <td>night</td>\n",
              "      <td>till</td>\n",
              "    </tr>\n",
              "    <tr>\n",
              "      <th>Term16</th>\n",
              "      <td>lie</td>\n",
              "      <td>dear</td>\n",
              "      <td>princess</td>\n",
              "      <td>old</td>\n",
              "      <td>seem</td>\n",
              "      <td>think</td>\n",
              "      <td>way</td>\n",
              "      <td>hand</td>\n",
              "      <td>bring</td>\n",
              "      <td>golden</td>\n",
              "      <td>bring</td>\n",
              "      <td>without</td>\n",
              "      <td>window</td>\n",
              "      <td>rich</td>\n",
              "    </tr>\n",
              "    <tr>\n",
              "      <th>Term17</th>\n",
              "      <td>fly</td>\n",
              "      <td>merchant</td>\n",
              "      <td>head</td>\n",
              "      <td>long</td>\n",
              "      <td>life</td>\n",
              "      <td>love</td>\n",
              "      <td>beautiful</td>\n",
              "      <td>horse</td>\n",
              "      <td>young</td>\n",
              "      <td>boat</td>\n",
              "      <td>begin</td>\n",
              "      <td>upon</td>\n",
              "      <td>sit</td>\n",
              "      <td>may</td>\n",
              "    </tr>\n",
              "    <tr>\n",
              "      <th>Term18</th>\n",
              "      <td>dog</td>\n",
              "      <td>nothing</td>\n",
              "      <td>lad</td>\n",
              "      <td>begin</td>\n",
              "      <td>fairy</td>\n",
              "      <td>never</td>\n",
              "      <td>hand</td>\n",
              "      <td>place</td>\n",
              "      <td>three</td>\n",
              "      <td>wind</td>\n",
              "      <td>set</td>\n",
              "      <td>present</td>\n",
              "      <td>world</td>\n",
              "      <td>bring</td>\n",
              "    </tr>\n",
              "    <tr>\n",
              "      <th>Term19</th>\n",
              "      <td>way</td>\n",
              "      <td>last</td>\n",
              "      <td>story</td>\n",
              "      <td>eat</td>\n",
              "      <td>boy</td>\n",
              "      <td>hear</td>\n",
              "      <td>long</td>\n",
              "      <td>gold</td>\n",
              "      <td>kingdom</td>\n",
              "      <td>hear</td>\n",
              "      <td>beauty</td>\n",
              "      <td>child</td>\n",
              "      <td>head</td>\n",
              "      <td>upon</td>\n",
              "    </tr>\n",
              "    <tr>\n",
              "      <th>Term20</th>\n",
              "      <td>brother</td>\n",
              "      <td>begin</td>\n",
              "      <td>ask</td>\n",
              "      <td>like</td>\n",
              "      <td>world</td>\n",
              "      <td>queen</td>\n",
              "      <td>garden</td>\n",
              "      <td>stand</td>\n",
              "      <td>marry</td>\n",
              "      <td>thor</td>\n",
              "      <td>may</td>\n",
              "      <td>two</td>\n",
              "      <td>dress</td>\n",
              "      <td>ram</td>\n",
              "    </tr>\n",
              "  </tbody>\n",
              "</table>\n",
              "</div>\n",
              "      <button class=\"colab-df-convert\" onclick=\"convertToInteractive('df-4b61a027-083c-41bf-b298-92fde14220ec')\"\n",
              "              title=\"Convert this dataframe to an interactive table.\"\n",
              "              style=\"display:none;\">\n",
              "        \n",
              "  <svg xmlns=\"http://www.w3.org/2000/svg\" height=\"24px\"viewBox=\"0 0 24 24\"\n",
              "       width=\"24px\">\n",
              "    <path d=\"M0 0h24v24H0V0z\" fill=\"none\"/>\n",
              "    <path d=\"M18.56 5.44l.94 2.06.94-2.06 2.06-.94-2.06-.94-.94-2.06-.94 2.06-2.06.94zm-11 1L8.5 8.5l.94-2.06 2.06-.94-2.06-.94L8.5 2.5l-.94 2.06-2.06.94zm10 10l.94 2.06.94-2.06 2.06-.94-2.06-.94-.94-2.06-.94 2.06-2.06.94z\"/><path d=\"M17.41 7.96l-1.37-1.37c-.4-.4-.92-.59-1.43-.59-.52 0-1.04.2-1.43.59L10.3 9.45l-7.72 7.72c-.78.78-.78 2.05 0 2.83L4 21.41c.39.39.9.59 1.41.59.51 0 1.02-.2 1.41-.59l7.78-7.78 2.81-2.81c.8-.78.8-2.07 0-2.86zM5.41 20L4 18.59l7.72-7.72 1.47 1.35L5.41 20z\"/>\n",
              "  </svg>\n",
              "      </button>\n",
              "      \n",
              "  <style>\n",
              "    .colab-df-container {\n",
              "      display:flex;\n",
              "      flex-wrap:wrap;\n",
              "      gap: 12px;\n",
              "    }\n",
              "\n",
              "    .colab-df-convert {\n",
              "      background-color: #E8F0FE;\n",
              "      border: none;\n",
              "      border-radius: 50%;\n",
              "      cursor: pointer;\n",
              "      display: none;\n",
              "      fill: #1967D2;\n",
              "      height: 32px;\n",
              "      padding: 0 0 0 0;\n",
              "      width: 32px;\n",
              "    }\n",
              "\n",
              "    .colab-df-convert:hover {\n",
              "      background-color: #E2EBFA;\n",
              "      box-shadow: 0px 1px 2px rgba(60, 64, 67, 0.3), 0px 1px 3px 1px rgba(60, 64, 67, 0.15);\n",
              "      fill: #174EA6;\n",
              "    }\n",
              "\n",
              "    [theme=dark] .colab-df-convert {\n",
              "      background-color: #3B4455;\n",
              "      fill: #D2E3FC;\n",
              "    }\n",
              "\n",
              "    [theme=dark] .colab-df-convert:hover {\n",
              "      background-color: #434B5C;\n",
              "      box-shadow: 0px 1px 3px 1px rgba(0, 0, 0, 0.15);\n",
              "      filter: drop-shadow(0px 1px 2px rgba(0, 0, 0, 0.3));\n",
              "      fill: #FFFFFF;\n",
              "    }\n",
              "  </style>\n",
              "\n",
              "      <script>\n",
              "        const buttonEl =\n",
              "          document.querySelector('#df-4b61a027-083c-41bf-b298-92fde14220ec button.colab-df-convert');\n",
              "        buttonEl.style.display =\n",
              "          google.colab.kernel.accessAllowed ? 'block' : 'none';\n",
              "\n",
              "        async function convertToInteractive(key) {\n",
              "          const element = document.querySelector('#df-4b61a027-083c-41bf-b298-92fde14220ec');\n",
              "          const dataTable =\n",
              "            await google.colab.kernel.invokeFunction('convertToInteractive',\n",
              "                                                     [key], {});\n",
              "          if (!dataTable) return;\n",
              "\n",
              "          const docLinkHtml = 'Like what you see? Visit the ' +\n",
              "            '<a target=\"_blank\" href=https://colab.research.google.com/notebooks/data_table.ipynb>data table notebook</a>'\n",
              "            + ' to learn more about interactive tables.';\n",
              "          element.innerHTML = '';\n",
              "          dataTable['output_type'] = 'display_data';\n",
              "          await google.colab.output.renderOutput(dataTable, element);\n",
              "          const docLink = document.createElement('div');\n",
              "          docLink.innerHTML = docLinkHtml;\n",
              "          element.appendChild(docLink);\n",
              "        }\n",
              "      </script>\n",
              "    </div>\n",
              "  </div>\n",
              "  "
            ]
          },
          "metadata": {},
          "execution_count": 30
        }
      ]
    },
    {
      "cell_type": "code",
      "source": [
        "def lsi_coherence_generator(corpus, texts, dictionary, start_topic_count=2, \n",
        "                                    end_topic_count=10, step=1, cpus=1):\n",
        "  models = []\n",
        "  coherence_scores = []\n",
        "  for topic_nums in tqdm(range(start_topic_count, end_topic_count+1, step)):\n",
        "    lsi_model = gensim.models.LsiModel(corpus, id2word=dictionary, \n",
        "                                 num_topics=topic_nums, onepass=True, chunksize=1455, power_iters=2000)\n",
        "    \n",
        "    cv_coherence_model_lsi = gensim.models.CoherenceModel( model=lsi_model,\n",
        "                                                      corpus=corpus,\n",
        "                                                      texts=texts,\n",
        "                                                      dictionary=dictionary,\n",
        "                                                      coherence='c_v')\n",
        "    avg_coherence_cv = cv_coherence_model_lsi.get_coherence()\n",
        "    coherence_scores.append(avg_coherence_cv)\n",
        "    models.append(lsi_model)\n",
        "  return models, coherence_scores"
      ],
      "metadata": {
        "id": "e_7iFZaL37oF"
      },
      "execution_count": null,
      "outputs": []
    },
    {
      "cell_type": "code",
      "source": [
        "lsi_models, coherence_scores_lsi = lsi_coherence_generator(corpus=bow_corpus,\n",
        "                                                                texts=norm_corpus_bigrams,\n",
        "                                                                dictionary=dictionary,\n",
        "                                                                start_topic_count=5,\n",
        "                                                                end_topic_count=20, step=1,\n",
        "                                                                cpus=16)"
      ],
      "metadata": {
        "colab": {
          "base_uri": "https://localhost:8080/"
        },
        "id": "056Wp39c-r3P",
        "outputId": "40a680fd-a9b4-41d3-937d-b457f00ea7cf"
      },
      "execution_count": null,
      "outputs": [
        {
          "output_type": "stream",
          "name": "stderr",
          "text": [
            "100%|██████████| 16/16 [1:59:59<00:00, 449.95s/it]\n"
          ]
        }
      ]
    },
    {
      "cell_type": "code",
      "source": [
        "coherence_df = pd.DataFrame({'Number of Topics': range(5, 21, 1), \n",
        "                             'Coherence Score': np.round(coherence_scores_lsi, 4)})\n",
        "\n",
        "coherence_df.sort_values(by=['Coherence Score'], ascending=False).head(10)"
      ],
      "metadata": {
        "colab": {
          "base_uri": "https://localhost:8080/",
          "height": 363
        },
        "id": "Zbu2SpHahumm",
        "outputId": "11a3097e-986b-4b50-bd2e-674eed6dbe24"
      },
      "execution_count": null,
      "outputs": [
        {
          "output_type": "execute_result",
          "data": {
            "text/plain": [
              "    Number of Topics  Coherence Score\n",
              "1                  6           0.3669\n",
              "0                  5           0.3632\n",
              "3                  8           0.3624\n",
              "6                 11           0.3417\n",
              "2                  7           0.3396\n",
              "5                 10           0.3392\n",
              "4                  9           0.3309\n",
              "10                15           0.3136\n",
              "11                16           0.3119\n",
              "12                17           0.3054"
            ],
            "text/html": [
              "\n",
              "  <div id=\"df-1141e5e8-e567-49e8-a700-a077f0eb7422\">\n",
              "    <div class=\"colab-df-container\">\n",
              "      <div>\n",
              "<style scoped>\n",
              "    .dataframe tbody tr th:only-of-type {\n",
              "        vertical-align: middle;\n",
              "    }\n",
              "\n",
              "    .dataframe tbody tr th {\n",
              "        vertical-align: top;\n",
              "    }\n",
              "\n",
              "    .dataframe thead th {\n",
              "        text-align: right;\n",
              "    }\n",
              "</style>\n",
              "<table border=\"1\" class=\"dataframe\">\n",
              "  <thead>\n",
              "    <tr style=\"text-align: right;\">\n",
              "      <th></th>\n",
              "      <th>Number of Topics</th>\n",
              "      <th>Coherence Score</th>\n",
              "    </tr>\n",
              "  </thead>\n",
              "  <tbody>\n",
              "    <tr>\n",
              "      <th>1</th>\n",
              "      <td>6</td>\n",
              "      <td>0.3669</td>\n",
              "    </tr>\n",
              "    <tr>\n",
              "      <th>0</th>\n",
              "      <td>5</td>\n",
              "      <td>0.3632</td>\n",
              "    </tr>\n",
              "    <tr>\n",
              "      <th>3</th>\n",
              "      <td>8</td>\n",
              "      <td>0.3624</td>\n",
              "    </tr>\n",
              "    <tr>\n",
              "      <th>6</th>\n",
              "      <td>11</td>\n",
              "      <td>0.3417</td>\n",
              "    </tr>\n",
              "    <tr>\n",
              "      <th>2</th>\n",
              "      <td>7</td>\n",
              "      <td>0.3396</td>\n",
              "    </tr>\n",
              "    <tr>\n",
              "      <th>5</th>\n",
              "      <td>10</td>\n",
              "      <td>0.3392</td>\n",
              "    </tr>\n",
              "    <tr>\n",
              "      <th>4</th>\n",
              "      <td>9</td>\n",
              "      <td>0.3309</td>\n",
              "    </tr>\n",
              "    <tr>\n",
              "      <th>10</th>\n",
              "      <td>15</td>\n",
              "      <td>0.3136</td>\n",
              "    </tr>\n",
              "    <tr>\n",
              "      <th>11</th>\n",
              "      <td>16</td>\n",
              "      <td>0.3119</td>\n",
              "    </tr>\n",
              "    <tr>\n",
              "      <th>12</th>\n",
              "      <td>17</td>\n",
              "      <td>0.3054</td>\n",
              "    </tr>\n",
              "  </tbody>\n",
              "</table>\n",
              "</div>\n",
              "      <button class=\"colab-df-convert\" onclick=\"convertToInteractive('df-1141e5e8-e567-49e8-a700-a077f0eb7422')\"\n",
              "              title=\"Convert this dataframe to an interactive table.\"\n",
              "              style=\"display:none;\">\n",
              "        \n",
              "  <svg xmlns=\"http://www.w3.org/2000/svg\" height=\"24px\"viewBox=\"0 0 24 24\"\n",
              "       width=\"24px\">\n",
              "    <path d=\"M0 0h24v24H0V0z\" fill=\"none\"/>\n",
              "    <path d=\"M18.56 5.44l.94 2.06.94-2.06 2.06-.94-2.06-.94-.94-2.06-.94 2.06-2.06.94zm-11 1L8.5 8.5l.94-2.06 2.06-.94-2.06-.94L8.5 2.5l-.94 2.06-2.06.94zm10 10l.94 2.06.94-2.06 2.06-.94-2.06-.94-.94-2.06-.94 2.06-2.06.94z\"/><path d=\"M17.41 7.96l-1.37-1.37c-.4-.4-.92-.59-1.43-.59-.52 0-1.04.2-1.43.59L10.3 9.45l-7.72 7.72c-.78.78-.78 2.05 0 2.83L4 21.41c.39.39.9.59 1.41.59.51 0 1.02-.2 1.41-.59l7.78-7.78 2.81-2.81c.8-.78.8-2.07 0-2.86zM5.41 20L4 18.59l7.72-7.72 1.47 1.35L5.41 20z\"/>\n",
              "  </svg>\n",
              "      </button>\n",
              "      \n",
              "  <style>\n",
              "    .colab-df-container {\n",
              "      display:flex;\n",
              "      flex-wrap:wrap;\n",
              "      gap: 12px;\n",
              "    }\n",
              "\n",
              "    .colab-df-convert {\n",
              "      background-color: #E8F0FE;\n",
              "      border: none;\n",
              "      border-radius: 50%;\n",
              "      cursor: pointer;\n",
              "      display: none;\n",
              "      fill: #1967D2;\n",
              "      height: 32px;\n",
              "      padding: 0 0 0 0;\n",
              "      width: 32px;\n",
              "    }\n",
              "\n",
              "    .colab-df-convert:hover {\n",
              "      background-color: #E2EBFA;\n",
              "      box-shadow: 0px 1px 2px rgba(60, 64, 67, 0.3), 0px 1px 3px 1px rgba(60, 64, 67, 0.15);\n",
              "      fill: #174EA6;\n",
              "    }\n",
              "\n",
              "    [theme=dark] .colab-df-convert {\n",
              "      background-color: #3B4455;\n",
              "      fill: #D2E3FC;\n",
              "    }\n",
              "\n",
              "    [theme=dark] .colab-df-convert:hover {\n",
              "      background-color: #434B5C;\n",
              "      box-shadow: 0px 1px 3px 1px rgba(0, 0, 0, 0.15);\n",
              "      filter: drop-shadow(0px 1px 2px rgba(0, 0, 0, 0.3));\n",
              "      fill: #FFFFFF;\n",
              "    }\n",
              "  </style>\n",
              "\n",
              "      <script>\n",
              "        const buttonEl =\n",
              "          document.querySelector('#df-1141e5e8-e567-49e8-a700-a077f0eb7422 button.colab-df-convert');\n",
              "        buttonEl.style.display =\n",
              "          google.colab.kernel.accessAllowed ? 'block' : 'none';\n",
              "\n",
              "        async function convertToInteractive(key) {\n",
              "          const element = document.querySelector('#df-1141e5e8-e567-49e8-a700-a077f0eb7422');\n",
              "          const dataTable =\n",
              "            await google.colab.kernel.invokeFunction('convertToInteractive',\n",
              "                                                     [key], {});\n",
              "          if (!dataTable) return;\n",
              "\n",
              "          const docLinkHtml = 'Like what you see? Visit the ' +\n",
              "            '<a target=\"_blank\" href=https://colab.research.google.com/notebooks/data_table.ipynb>data table notebook</a>'\n",
              "            + ' to learn more about interactive tables.';\n",
              "          element.innerHTML = '';\n",
              "          dataTable['output_type'] = 'display_data';\n",
              "          await google.colab.output.renderOutput(dataTable, element);\n",
              "          const docLink = document.createElement('div');\n",
              "          docLink.innerHTML = docLinkHtml;\n",
              "          element.appendChild(docLink);\n",
              "        }\n",
              "      </script>\n",
              "    </div>\n",
              "  </div>\n",
              "  "
            ]
          },
          "metadata": {},
          "execution_count": 32
        }
      ]
    },
    {
      "cell_type": "code",
      "source": [
        "import matplotlib.pyplot as plt\n",
        "%matplotlib inline\n",
        "x_ax = range(5, 21, 1)\n",
        "y_ax = coherence_scores_lsi\n",
        "plt.figure(figsize=(12, 6))\n",
        "plt.plot(x_ax, y_ax, c='r')\n",
        "plt.axhline(y=0.35, c='k', linestyle='--', linewidth=2)\n",
        "plt.rcParams['figure.facecolor'] = 'white'\n",
        "xl = plt.xlabel('Number of Topics')\n",
        "yl = plt.ylabel('Coherence Score')"
      ],
      "metadata": {
        "colab": {
          "base_uri": "https://localhost:8080/",
          "height": 389
        },
        "id": "N7LelUSzh0dA",
        "outputId": "fe51c11c-67a7-43e8-bfe6-147859fc0b41"
      },
      "execution_count": null,
      "outputs": [
        {
          "output_type": "display_data",
          "data": {
            "text/plain": [
              "<Figure size 864x432 with 1 Axes>"
            ],
            "image/png": "[encoded data removed]"
          },
          "metadata": {
            "needs_background": "light"
          }
        }
      ]
    },
    {
      "cell_type": "code",
      "source": [
        "best_model_idx = coherence_df[coherence_df['Number of Topics'] == 6].index[0]\n",
        "best_lsi_model = lsi_models[best_model_idx]\n",
        "best_lsi_model.num_topics"
      ],
      "metadata": {
        "colab": {
          "base_uri": "https://localhost:8080/"
        },
        "id": "JCQ5HJR4kTVj",
        "outputId": "064e7f54-047e-4075-bf54-93f48f66b992"
      },
      "execution_count": null,
      "outputs": [
        {
          "output_type": "execute_result",
          "data": {
            "text/plain": [
              "6"
            ]
          },
          "metadata": {},
          "execution_count": 39
        }
      ]
    },
    {
      "cell_type": "code",
      "source": [
        "topics_lsi = [[(term, round(wt, 3))\n",
        "                        for term, wt in best_lsi_model.show_topic(n, topn=20)]\n",
        "                        for n in range(0, best_lsi_model.num_topics)]\n",
        "\n",
        "topics_df = pd.DataFrame([[term for term, wt in topic] for topic in topics_lsi],\n",
        "                          columns = ['Term'+str(i) for i in range(1, 21)], \n",
        "                          index=['Topic '+str(t) for t in range(1, best_lsi_model.num_topics+1)]).T\n",
        "topics_df"
      ],
      "metadata": {
        "colab": {
          "base_uri": "https://localhost:8080/",
          "height": 677
        },
        "id": "nt2WwRV2kTS4",
        "outputId": "98d24f99-b98b-4f6c-a959-634a67985450"
      },
      "execution_count": null,
      "outputs": [
        {
          "output_type": "execute_result",
          "data": {
            "text/plain": [
              "         Topic 1       Topic 2   Topic 3   Topic 4    Topic 5   Topic 6\n",
              "Term1       king          king      king    prince        get    prince\n",
              "Term2   princess        sultan  princess      king       upon  princess\n",
              "Term3     prince      princess    prince    sultan        sea       son\n",
              "Term4      great        palace       man       son      great     queen\n",
              "Term5        man        mother     queen    mother        god      king\n",
              "Term6        get          lamp       get   emperor       girl     giant\n",
              "Term7        may         slave      wife    palace       home    sultan\n",
              "Term8      think      magician     house       man   daughter     horse\n",
              "Term9       good           man     fairy     fairy        man       cry\n",
              "Term10      back          much      home      lamp       land   old_man\n",
              "Term11       ask           son      good      tree      heart     fairy\n",
              "Term12      upon          soon    palace  princess    old_man    father\n",
              "Term13      like  grand_vizier   old_man     slave        ask     think\n",
              "Term14       son        return     child      bird  old_woman       old\n",
              "Term15     leave           may      thee    sister       want      thee\n",
              "Term16      must         reply       old  daughter       love   brother\n",
              "Term17      long       majesty       boy     great   princess     never\n",
              "Term18      hear         great   brother  magician        eye     child\n",
              "Term19    father       present       eat    answer      horse      good\n",
              "Term20       two   immediately      back       way       wife       thy"
            ],
            "text/html": [
              "\n",
              "  <div id=\"df-2c0fe33b-6842-4efb-9510-c1a511e77520\">\n",
              "    <div class=\"colab-df-container\">\n",
              "      <div>\n",
              "<style scoped>\n",
              "    .dataframe tbody tr th:only-of-type {\n",
              "        vertical-align: middle;\n",
              "    }\n",
              "\n",
              "    .dataframe tbody tr th {\n",
              "        vertical-align: top;\n",
              "    }\n",
              "\n",
              "    .dataframe thead th {\n",
              "        text-align: right;\n",
              "    }\n",
              "</style>\n",
              "<table border=\"1\" class=\"dataframe\">\n",
              "  <thead>\n",
              "    <tr style=\"text-align: right;\">\n",
              "      <th></th>\n",
              "      <th>Topic 1</th>\n",
              "      <th>Topic 2</th>\n",
              "      <th>Topic 3</th>\n",
              "      <th>Topic 4</th>\n",
              "      <th>Topic 5</th>\n",
              "      <th>Topic 6</th>\n",
              "    </tr>\n",
              "  </thead>\n",
              "  <tbody>\n",
              "    <tr>\n",
              "      <th>Term1</th>\n",
              "      <td>king</td>\n",
              "      <td>king</td>\n",
              "      <td>king</td>\n",
              "      <td>prince</td>\n",
              "      <td>get</td>\n",
              "      <td>prince</td>\n",
              "    </tr>\n",
              "    <tr>\n",
              "      <th>Term2</th>\n",
              "      <td>princess</td>\n",
              "      <td>sultan</td>\n",
              "      <td>princess</td>\n",
              "      <td>king</td>\n",
              "      <td>upon</td>\n",
              "      <td>princess</td>\n",
              "    </tr>\n",
              "    <tr>\n",
              "      <th>Term3</th>\n",
              "      <td>prince</td>\n",
              "      <td>princess</td>\n",
              "      <td>prince</td>\n",
              "      <td>sultan</td>\n",
              "      <td>sea</td>\n",
              "      <td>son</td>\n",
              "    </tr>\n",
              "    <tr>\n",
              "      <th>Term4</th>\n",
              "      <td>great</td>\n",
              "      <td>palace</td>\n",
              "      <td>man</td>\n",
              "      <td>son</td>\n",
              "      <td>great</td>\n",
              "      <td>queen</td>\n",
              "    </tr>\n",
              "    <tr>\n",
              "      <th>Term5</th>\n",
              "      <td>man</td>\n",
              "      <td>mother</td>\n",
              "      <td>queen</td>\n",
              "      <td>mother</td>\n",
              "      <td>god</td>\n",
              "      <td>king</td>\n",
              "    </tr>\n",
              "    <tr>\n",
              "      <th>Term6</th>\n",
              "      <td>get</td>\n",
              "      <td>lamp</td>\n",
              "      <td>get</td>\n",
              "      <td>emperor</td>\n",
              "      <td>girl</td>\n",
              "      <td>giant</td>\n",
              "    </tr>\n",
              "    <tr>\n",
              "      <th>Term7</th>\n",
              "      <td>may</td>\n",
              "      <td>slave</td>\n",
              "      <td>wife</td>\n",
              "      <td>palace</td>\n",
              "      <td>home</td>\n",
              "      <td>sultan</td>\n",
              "    </tr>\n",
              "    <tr>\n",
              "      <th>Term8</th>\n",
              "      <td>think</td>\n",
              "      <td>magician</td>\n",
              "      <td>house</td>\n",
              "      <td>man</td>\n",
              "      <td>daughter</td>\n",
              "      <td>horse</td>\n",
              "    </tr>\n",
              "    <tr>\n",
              "      <th>Term9</th>\n",
              "      <td>good</td>\n",
              "      <td>man</td>\n",
              "      <td>fairy</td>\n",
              "      <td>fairy</td>\n",
              "      <td>man</td>\n",
              "      <td>cry</td>\n",
              "    </tr>\n",
              "    <tr>\n",
              "      <th>Term10</th>\n",
              "      <td>back</td>\n",
              "      <td>much</td>\n",
              "      <td>home</td>\n",
              "      <td>lamp</td>\n",
              "      <td>land</td>\n",
              "      <td>old_man</td>\n",
              "    </tr>\n",
              "    <tr>\n",
              "      <th>Term11</th>\n",
              "      <td>ask</td>\n",
              "      <td>son</td>\n",
              "      <td>good</td>\n",
              "      <td>tree</td>\n",
              "      <td>heart</td>\n",
              "      <td>fairy</td>\n",
              "    </tr>\n",
              "    <tr>\n",
              "      <th>Term12</th>\n",
              "      <td>upon</td>\n",
              "      <td>soon</td>\n",
              "      <td>palace</td>\n",
              "      <td>princess</td>\n",
              "      <td>old_man</td>\n",
              "      <td>father</td>\n",
              "    </tr>\n",
              "    <tr>\n",
              "      <th>Term13</th>\n",
              "      <td>like</td>\n",
              "      <td>grand_vizier</td>\n",
              "      <td>old_man</td>\n",
              "      <td>slave</td>\n",
              "      <td>ask</td>\n",
              "      <td>think</td>\n",
              "    </tr>\n",
              "    <tr>\n",
              "      <th>Term14</th>\n",
              "      <td>son</td>\n",
              "      <td>return</td>\n",
              "      <td>child</td>\n",
              "      <td>bird</td>\n",
              "      <td>old_woman</td>\n",
              "      <td>old</td>\n",
              "    </tr>\n",
              "    <tr>\n",
              "      <th>Term15</th>\n",
              "      <td>leave</td>\n",
              "      <td>may</td>\n",
              "      <td>thee</td>\n",
              "      <td>sister</td>\n",
              "      <td>want</td>\n",
              "      <td>thee</td>\n",
              "    </tr>\n",
              "    <tr>\n",
              "      <th>Term16</th>\n",
              "      <td>must</td>\n",
              "      <td>reply</td>\n",
              "      <td>old</td>\n",
              "      <td>daughter</td>\n",
              "      <td>love</td>\n",
              "      <td>brother</td>\n",
              "    </tr>\n",
              "    <tr>\n",
              "      <th>Term17</th>\n",
              "      <td>long</td>\n",
              "      <td>majesty</td>\n",
              "      <td>boy</td>\n",
              "      <td>great</td>\n",
              "      <td>princess</td>\n",
              "      <td>never</td>\n",
              "    </tr>\n",
              "    <tr>\n",
              "      <th>Term18</th>\n",
              "      <td>hear</td>\n",
              "      <td>great</td>\n",
              "      <td>brother</td>\n",
              "      <td>magician</td>\n",
              "      <td>eye</td>\n",
              "      <td>child</td>\n",
              "    </tr>\n",
              "    <tr>\n",
              "      <th>Term19</th>\n",
              "      <td>father</td>\n",
              "      <td>present</td>\n",
              "      <td>eat</td>\n",
              "      <td>answer</td>\n",
              "      <td>horse</td>\n",
              "      <td>good</td>\n",
              "    </tr>\n",
              "    <tr>\n",
              "      <th>Term20</th>\n",
              "      <td>two</td>\n",
              "      <td>immediately</td>\n",
              "      <td>back</td>\n",
              "      <td>way</td>\n",
              "      <td>wife</td>\n",
              "      <td>thy</td>\n",
              "    </tr>\n",
              "  </tbody>\n",
              "</table>\n",
              "</div>\n",
              "      <button class=\"colab-df-convert\" onclick=\"convertToInteractive('df-2c0fe33b-6842-4efb-9510-c1a511e77520')\"\n",
              "              title=\"Convert this dataframe to an interactive table.\"\n",
              "              style=\"display:none;\">\n",
              "        \n",
              "  <svg xmlns=\"http://www.w3.org/2000/svg\" height=\"24px\"viewBox=\"0 0 24 24\"\n",
              "       width=\"24px\">\n",
              "    <path d=\"M0 0h24v24H0V0z\" fill=\"none\"/>\n",
              "    <path d=\"M18.56 5.44l.94 2.06.94-2.06 2.06-.94-2.06-.94-.94-2.06-.94 2.06-2.06.94zm-11 1L8.5 8.5l.94-2.06 2.06-.94-2.06-.94L8.5 2.5l-.94 2.06-2.06.94zm10 10l.94 2.06.94-2.06 2.06-.94-2.06-.94-.94-2.06-.94 2.06-2.06.94z\"/><path d=\"M17.41 7.96l-1.37-1.37c-.4-.4-.92-.59-1.43-.59-.52 0-1.04.2-1.43.59L10.3 9.45l-7.72 7.72c-.78.78-.78 2.05 0 2.83L4 21.41c.39.39.9.59 1.41.59.51 0 1.02-.2 1.41-.59l7.78-7.78 2.81-2.81c.8-.78.8-2.07 0-2.86zM5.41 20L4 18.59l7.72-7.72 1.47 1.35L5.41 20z\"/>\n",
              "  </svg>\n",
              "      </button>\n",
              "      \n",
              "  <style>\n",
              "    .colab-df-container {\n",
              "      display:flex;\n",
              "      flex-wrap:wrap;\n",
              "      gap: 12px;\n",
              "    }\n",
              "\n",
              "    .colab-df-convert {\n",
              "      background-color: #E8F0FE;\n",
              "      border: none;\n",
              "      border-radius: 50%;\n",
              "      cursor: pointer;\n",
              "      display: none;\n",
              "      fill: #1967D2;\n",
              "      height: 32px;\n",
              "      padding: 0 0 0 0;\n",
              "      width: 32px;\n",
              "    }\n",
              "\n",
              "    .colab-df-convert:hover {\n",
              "      background-color: #E2EBFA;\n",
              "      box-shadow: 0px 1px 2px rgba(60, 64, 67, 0.3), 0px 1px 3px 1px rgba(60, 64, 67, 0.15);\n",
              "      fill: #174EA6;\n",
              "    }\n",
              "\n",
              "    [theme=dark] .colab-df-convert {\n",
              "      background-color: #3B4455;\n",
              "      fill: #D2E3FC;\n",
              "    }\n",
              "\n",
              "    [theme=dark] .colab-df-convert:hover {\n",
              "      background-color: #434B5C;\n",
              "      box-shadow: 0px 1px 3px 1px rgba(0, 0, 0, 0.15);\n",
              "      filter: drop-shadow(0px 1px 2px rgba(0, 0, 0, 0.3));\n",
              "      fill: #FFFFFF;\n",
              "    }\n",
              "  </style>\n",
              "\n",
              "      <script>\n",
              "        const buttonEl =\n",
              "          document.querySelector('#df-2c0fe33b-6842-4efb-9510-c1a511e77520 button.colab-df-convert');\n",
              "        buttonEl.style.display =\n",
              "          google.colab.kernel.accessAllowed ? 'block' : 'none';\n",
              "\n",
              "        async function convertToInteractive(key) {\n",
              "          const element = document.querySelector('#df-2c0fe33b-6842-4efb-9510-c1a511e77520');\n",
              "          const dataTable =\n",
              "            await google.colab.kernel.invokeFunction('convertToInteractive',\n",
              "                                                     [key], {});\n",
              "          if (!dataTable) return;\n",
              "\n",
              "          const docLinkHtml = 'Like what you see? Visit the ' +\n",
              "            '<a target=\"_blank\" href=https://colab.research.google.com/notebooks/data_table.ipynb>data table notebook</a>'\n",
              "            + ' to learn more about interactive tables.';\n",
              "          element.innerHTML = '';\n",
              "          dataTable['output_type'] = 'display_data';\n",
              "          await google.colab.output.renderOutput(dataTable, element);\n",
              "          const docLink = document.createElement('div');\n",
              "          docLink.innerHTML = docLinkHtml;\n",
              "          element.appendChild(docLink);\n",
              "        }\n",
              "      </script>\n",
              "    </div>\n",
              "  </div>\n",
              "  "
            ]
          },
          "metadata": {},
          "execution_count": 40
        }
      ]
    },
    {
      "cell_type": "code",
      "source": [
        "def lda_coherence_generator(corpus, texts, dictionary, start_topic_count=2, \n",
        "                                    end_topic_count=10, step=1, cpus=1):\n",
        "  models = []\n",
        "  coherence_scores_lda = []\n",
        "  for topic_nums in tqdm(range(start_topic_count, end_topic_count+1, step)):\n",
        "    lda_model = gensim.models.LdaModel(corpus=corpus, id2word=dictionary, chunksize=1455,\n",
        "                                   alpha='auto', eta='auto', random_state=42, iterations=2000, \n",
        "                                   num_topics=topic_nums, passes=20, eval_every=None)\n",
        "    \n",
        "    cv_coherence_model_lda = gensim.models.CoherenceModel( model=lda_model,\n",
        "                                                        corpus=corpus,\n",
        "                                                        texts=texts,\n",
        "                                                        dictionary=dictionary,\n",
        "                                                        coherence='c_v')\n",
        "    avg_coherence_cv = cv_coherence_model_lda.get_coherence()\n",
        "    coherence_scores_lda.append(avg_coherence_cv)\n",
        "    models.append(lda_model)\n",
        "  return models, coherence_scores_lda"
      ],
      "metadata": {
        "id": "tnN-ouUMvKkW"
      },
      "execution_count": null,
      "outputs": []
    },
    {
      "cell_type": "code",
      "source": [
        "lda_models, coherence_scores_lda = lda_coherence_generator(corpus=bow_corpus,\n",
        "                                                                texts=norm_corpus_bigrams,\n",
        "                                                                dictionary=dictionary,\n",
        "                                                                start_topic_count=5,\n",
        "                                                                end_topic_count=25, step=1,\n",
        "                                                                cpus=16)"
      ],
      "metadata": {
        "id": "jsf5XQsxvrCX",
        "colab": {
          "base_uri": "https://localhost:8080/"
        },
        "outputId": "9cb43cc9-0317-4649-ea8b-360ef045fc3e"
      },
      "execution_count": null,
      "outputs": [
        {
          "output_type": "stream",
          "name": "stderr",
          "text": [
            "100%|██████████| 21/21 [1:10:24<00:00, 201.16s/it]\n"
          ]
        }
      ]
    },
    {
      "cell_type": "code",
      "source": [
        "coherence_df = pd.DataFrame({'Number of Topics': range(5, 26, 1), \n",
        "                             'Coherence Score': np.round(coherence_scores_lda, 4)})\n",
        "\n",
        "coherence_df.sort_values(by=['Coherence Score'], ascending=False).head(10)"
      ],
      "metadata": {
        "colab": {
          "base_uri": "https://localhost:8080/",
          "height": 363
        },
        "id": "q6CfOZjQC_py",
        "outputId": "df22dbf0-6daa-452b-c5e3-9190de201f1d"
      },
      "execution_count": null,
      "outputs": [
        {
          "output_type": "execute_result",
          "data": {
            "text/plain": [
              "    Number of Topics  Coherence Score\n",
              "14                19           0.3412\n",
              "12                17           0.3359\n",
              "10                15           0.3328\n",
              "20                25           0.3291\n",
              "15                20           0.3277\n",
              "9                 14           0.3269\n",
              "18                23           0.3248\n",
              "2                  7           0.3247\n",
              "13                18           0.3244\n",
              "1                  6           0.3232"
            ],
            "text/html": [
              "\n",
              "  <div id=\"df-bceca52b-dc6f-4ed5-99b9-582aad6e9d25\">\n",
              "    <div class=\"colab-df-container\">\n",
              "      <div>\n",
              "<style scoped>\n",
              "    .dataframe tbody tr th:only-of-type {\n",
              "        vertical-align: middle;\n",
              "    }\n",
              "\n",
              "    .dataframe tbody tr th {\n",
              "        vertical-align: top;\n",
              "    }\n",
              "\n",
              "    .dataframe thead th {\n",
              "        text-align: right;\n",
              "    }\n",
              "</style>\n",
              "<table border=\"1\" class=\"dataframe\">\n",
              "  <thead>\n",
              "    <tr style=\"text-align: right;\">\n",
              "      <th></th>\n",
              "      <th>Number of Topics</th>\n",
              "      <th>Coherence Score</th>\n",
              "    </tr>\n",
              "  </thead>\n",
              "  <tbody>\n",
              "    <tr>\n",
              "      <th>14</th>\n",
              "      <td>19</td>\n",
              "      <td>0.3412</td>\n",
              "    </tr>\n",
              "    <tr>\n",
              "      <th>12</th>\n",
              "      <td>17</td>\n",
              "      <td>0.3359</td>\n",
              "    </tr>\n",
              "    <tr>\n",
              "      <th>10</th>\n",
              "      <td>15</td>\n",
              "      <td>0.3328</td>\n",
              "    </tr>\n",
              "    <tr>\n",
              "      <th>20</th>\n",
              "      <td>25</td>\n",
              "      <td>0.3291</td>\n",
              "    </tr>\n",
              "    <tr>\n",
              "      <th>15</th>\n",
              "      <td>20</td>\n",
              "      <td>0.3277</td>\n",
              "    </tr>\n",
              "    <tr>\n",
              "      <th>9</th>\n",
              "      <td>14</td>\n",
              "      <td>0.3269</td>\n",
              "    </tr>\n",
              "    <tr>\n",
              "      <th>18</th>\n",
              "      <td>23</td>\n",
              "      <td>0.3248</td>\n",
              "    </tr>\n",
              "    <tr>\n",
              "      <th>2</th>\n",
              "      <td>7</td>\n",
              "      <td>0.3247</td>\n",
              "    </tr>\n",
              "    <tr>\n",
              "      <th>13</th>\n",
              "      <td>18</td>\n",
              "      <td>0.3244</td>\n",
              "    </tr>\n",
              "    <tr>\n",
              "      <th>1</th>\n",
              "      <td>6</td>\n",
              "      <td>0.3232</td>\n",
              "    </tr>\n",
              "  </tbody>\n",
              "</table>\n",
              "</div>\n",
              "      <button class=\"colab-df-convert\" onclick=\"convertToInteractive('df-bceca52b-dc6f-4ed5-99b9-582aad6e9d25')\"\n",
              "              title=\"Convert this dataframe to an interactive table.\"\n",
              "              style=\"display:none;\">\n",
              "        \n",
              "  <svg xmlns=\"http://www.w3.org/2000/svg\" height=\"24px\"viewBox=\"0 0 24 24\"\n",
              "       width=\"24px\">\n",
              "    <path d=\"M0 0h24v24H0V0z\" fill=\"none\"/>\n",
              "    <path d=\"M18.56 5.44l.94 2.06.94-2.06 2.06-.94-2.06-.94-.94-2.06-.94 2.06-2.06.94zm-11 1L8.5 8.5l.94-2.06 2.06-.94-2.06-.94L8.5 2.5l-.94 2.06-2.06.94zm10 10l.94 2.06.94-2.06 2.06-.94-2.06-.94-.94-2.06-.94 2.06-2.06.94z\"/><path d=\"M17.41 7.96l-1.37-1.37c-.4-.4-.92-.59-1.43-.59-.52 0-1.04.2-1.43.59L10.3 9.45l-7.72 7.72c-.78.78-.78 2.05 0 2.83L4 21.41c.39.39.9.59 1.41.59.51 0 1.02-.2 1.41-.59l7.78-7.78 2.81-2.81c.8-.78.8-2.07 0-2.86zM5.41 20L4 18.59l7.72-7.72 1.47 1.35L5.41 20z\"/>\n",
              "  </svg>\n",
              "      </button>\n",
              "      \n",
              "  <style>\n",
              "    .colab-df-container {\n",
              "      display:flex;\n",
              "      flex-wrap:wrap;\n",
              "      gap: 12px;\n",
              "    }\n",
              "\n",
              "    .colab-df-convert {\n",
              "      background-color: #E8F0FE;\n",
              "      border: none;\n",
              "      border-radius: 50%;\n",
              "      cursor: pointer;\n",
              "      display: none;\n",
              "      fill: #1967D2;\n",
              "      height: 32px;\n",
              "      padding: 0 0 0 0;\n",
              "      width: 32px;\n",
              "    }\n",
              "\n",
              "    .colab-df-convert:hover {\n",
              "      background-color: #E2EBFA;\n",
              "      box-shadow: 0px 1px 2px rgba(60, 64, 67, 0.3), 0px 1px 3px 1px rgba(60, 64, 67, 0.15);\n",
              "      fill: #174EA6;\n",
              "    }\n",
              "\n",
              "    [theme=dark] .colab-df-convert {\n",
              "      background-color: #3B4455;\n",
              "      fill: #D2E3FC;\n",
              "    }\n",
              "\n",
              "    [theme=dark] .colab-df-convert:hover {\n",
              "      background-color: #434B5C;\n",
              "      box-shadow: 0px 1px 3px 1px rgba(0, 0, 0, 0.15);\n",
              "      filter: drop-shadow(0px 1px 2px rgba(0, 0, 0, 0.3));\n",
              "      fill: #FFFFFF;\n",
              "    }\n",
              "  </style>\n",
              "\n",
              "      <script>\n",
              "        const buttonEl =\n",
              "          document.querySelector('#df-bceca52b-dc6f-4ed5-99b9-582aad6e9d25 button.colab-df-convert');\n",
              "        buttonEl.style.display =\n",
              "          google.colab.kernel.accessAllowed ? 'block' : 'none';\n",
              "\n",
              "        async function convertToInteractive(key) {\n",
              "          const element = document.querySelector('#df-bceca52b-dc6f-4ed5-99b9-582aad6e9d25');\n",
              "          const dataTable =\n",
              "            await google.colab.kernel.invokeFunction('convertToInteractive',\n",
              "                                                     [key], {});\n",
              "          if (!dataTable) return;\n",
              "\n",
              "          const docLinkHtml = 'Like what you see? Visit the ' +\n",
              "            '<a target=\"_blank\" href=https://colab.research.google.com/notebooks/data_table.ipynb>data table notebook</a>'\n",
              "            + ' to learn more about interactive tables.';\n",
              "          element.innerHTML = '';\n",
              "          dataTable['output_type'] = 'display_data';\n",
              "          await google.colab.output.renderOutput(dataTable, element);\n",
              "          const docLink = document.createElement('div');\n",
              "          docLink.innerHTML = docLinkHtml;\n",
              "          element.appendChild(docLink);\n",
              "        }\n",
              "      </script>\n",
              "    </div>\n",
              "  </div>\n",
              "  "
            ]
          },
          "metadata": {},
          "execution_count": 81
        }
      ]
    },
    {
      "cell_type": "code",
      "source": [
        "%matplotlib inline\n",
        "x_ax = range(5, 26, 1)\n",
        "y_ax = coherence_scores_lda\n",
        "plt.figure(figsize=(12, 6))\n",
        "plt.plot(x_ax, y_ax, c='r')\n",
        "plt.axhline(y=0.32, c='k', linestyle='--', linewidth=2)\n",
        "plt.rcParams['figure.facecolor'] = 'white'\n",
        "xl = plt.xlabel('Number of Topics')\n",
        "yl = plt.ylabel('Coherence Score')"
      ],
      "metadata": {
        "colab": {
          "base_uri": "https://localhost:8080/",
          "height": 388
        },
        "id": "0-FjY8yADG4h",
        "outputId": "91dcb82e-0d43-45b2-f59f-7de13c7045c1"
      },
      "execution_count": null,
      "outputs": [
        {
          "output_type": "display_data",
          "data": {
            "text/plain": [
              "<Figure size 864x432 with 1 Axes>"
            ],
            "image/png": "[encoded data removed]"
          },
          "metadata": {
            "needs_background": "light"
          }
        }
      ]
    },
    {
      "cell_type": "code",
      "source": [
        "best_model_idx = coherence_df[coherence_df['Number of Topics'] == 19].index[0]\n",
        "best_lda_model = lda_models[best_model_idx]\n",
        "best_lda_model.num_topics"
      ],
      "metadata": {
        "colab": {
          "base_uri": "https://localhost:8080/"
        },
        "id": "oPtztRK9DJ2p",
        "outputId": "b8c0cc13-e913-491c-a68d-ef8dfa0cb757"
      },
      "execution_count": null,
      "outputs": [
        {
          "output_type": "execute_result",
          "data": {
            "text/plain": [
              "19"
            ]
          },
          "metadata": {},
          "execution_count": 88
        }
      ]
    },
    {
      "cell_type": "code",
      "source": [
        "topics_lda = [[(term, round(wt, 3))\n",
        "                        for term, wt in best_lda_model.show_topic(n, topn=20)]\n",
        "                        for n in range(0, best_lda_model.num_topics)]\n",
        "\n",
        "topics_df = pd.DataFrame([[term for term, wt in topic] for topic in topics_lda],\n",
        "                          columns = ['Term'+str(i) for i in range(1, 21)], \n",
        "                          index=['Topic '+str(t) for t in range(1, best_lda_model.num_topics+1)]).T\n",
        "topics_df"
      ],
      "metadata": {
        "colab": {
          "base_uri": "https://localhost:8080/",
          "height": 758
        },
        "id": "IiWAUVfrDpwA",
        "outputId": "695b68df-9d91-4bee-ef25-a1f462d8240c"
      },
      "execution_count": null,
      "outputs": [
        {
          "output_type": "execute_result",
          "data": {
            "text/plain": [
              "         Topic 1  Topic 2   Topic 3    Topic 4 Topic 5  Topic 6      Topic 7  \\\n",
              "Term1        man     upon      king       king     man      get        horse   \n",
              "Term2     monkey      man     giant      queen    girl     good       prince   \n",
              "Term3       mill     king       son   princess  miller      man          get   \n",
              "Term4        get    great      loki     prince   dwarf    think         ride   \n",
              "Term5     turtle      two      odin      fairy    home  old_man          ask   \n",
              "Term6       sack    place     great       upon     get     back         back   \n",
              "Term7        fox    bring       put      think  mother      cry      brother   \n",
              "Term8        ram    order  daughter      great    poor     wife        three   \n",
              "Term9       crab     head    asgard       love    good     like         king   \n",
              "Term10      mule      god      bear       good   think      old         home   \n",
              "Term11      good     long     house        cry   house     poor          son   \n",
              "Term12  tortoise     city      back     palace   child     home  prince_ivan   \n",
              "Term13      poor     hand      head       much   seven    house          let   \n",
              "Term14       ask     thee     leave       long    call      ask          sit   \n",
              "Term15      wife      may      hand       hear     cry      run         like   \n",
              "Term16      rich     thus       get       must    away     must         mare   \n",
              "Term17     think  however     thing        may    dear    begin        youth   \n",
              "Term18      away     good      upon      never     bed    never       master   \n",
              "Term19      long   father       man  beautiful     lad     last       golden   \n",
              "Term20      wind   answer    father       soon   begin      put       stable   \n",
              "\n",
              "       Topic 8   Topic 9   Topic 10  Topic 11   Topic 12 Topic 13  Topic 14  \\\n",
              "Term1      man    sultan      giant      king        sea      man      king   \n",
              "Term2      boy  princess       head      upon       fish    house  princess   \n",
              "Term3    great    palace     castle     great       ship      get    prince   \n",
              "Term4     like     great       john      hear      water     wife  daughter   \n",
              "Term5     bear    prince      youth      hand        man     back       ask   \n",
              "Term6     tree       may        man      long       like     jack      back   \n",
              "Term7     long       son       king      like        old   mother    castle   \n",
              "Term8      cat      much       thor    prince     dragon    night     three   \n",
              "Term9   people    return        may       sea       wife    begin     youth   \n",
              "Term10    back   emperor       like       eye      great      may     great   \n",
              "Term11     dog     leave        two       old       sail   father      must   \n",
              "Term12     get    mother      stand     night        sit     girl    father   \n",
              "Term13     old     reply        put      love       boat    child       way   \n",
              "Term14    good      soon  young_man       cry       good     good      long   \n",
              "Term15    bird      good   shepherd      land        han    leave       man   \n",
              "Term16    wolf     place      great     heart      think      ask     think   \n",
              "Term17    call       ask     tailor       may  fisherman    great      tree   \n",
              "Term18   think     think     dragon     never       home    place    palace   \n",
              "Term19    hear   without    monster  mountain       want    think       get   \n",
              "Term20   child     slave      throw       pas      shore     must     young   \n",
              "\n",
              "       Topic 15   Topic 16   Topic 17 Topic 18     Topic 19  \n",
              "Term1      thee      story       girl      god          cat  \n",
              "Term2       thy       tale   daughter      man          get  \n",
              "Term3      thou       also     mother     love         good  \n",
              "Term4   brother      three     sister    heart        child  \n",
              "Term5       dog      devil     father   sigurd          eat  \n",
              "Term6       let         cf        sit    great      brother  \n",
              "Term7       cry         pp        eye      yet         wood  \n",
              "Term8      tsar    russian       home      may        devil  \n",
              "Term9      till       girl  beautiful     hand        think  \n",
              "Term10     upon        two        two    earth         home  \n",
              "Term11      get       hero      woman     like  grandmother  \n",
              "Term12    shall        man      dress      eye        house  \n",
              "Term13     wife      water        cry    sword      peasant  \n",
              "Term14  serpent       page       tree    river       forest  \n",
              "Term15     ivan  baba_yaga        get     upon          run  \n",
              "Term16    begin      witch       frog    death         must  \n",
              "Term17      man       note       bird      son      nothing  \n",
              "Term18     home  folk_lore      bride    water         back  \n",
              "Term19     good     father       sing    still          hen  \n",
              "Term20     back       wife      young     grow          fox  "
            ],
            "text/html": [
              "\n",
              "  <div id=\"df-59f5de2d-be09-446f-82c2-8990d9c22f60\">\n",
              "    <div class=\"colab-df-container\">\n",
              "      <div>\n",
              "<style scoped>\n",
              "    .dataframe tbody tr th:only-of-type {\n",
              "        vertical-align: middle;\n",
              "    }\n",
              "\n",
              "    .dataframe tbody tr th {\n",
              "        vertical-align: top;\n",
              "    }\n",
              "\n",
              "    .dataframe thead th {\n",
              "        text-align: right;\n",
              "    }\n",
              "</style>\n",
              "<table border=\"1\" class=\"dataframe\">\n",
              "  <thead>\n",
              "    <tr style=\"text-align: right;\">\n",
              "      <th></th>\n",
              "      <th>Topic 1</th>\n",
              "      <th>Topic 2</th>\n",
              "      <th>Topic 3</th>\n",
              "      <th>Topic 4</th>\n",
              "      <th>Topic 5</th>\n",
              "      <th>Topic 6</th>\n",
              "      <th>Topic 7</th>\n",
              "      <th>Topic 8</th>\n",
              "      <th>Topic 9</th>\n",
              "      <th>Topic 10</th>\n",
              "      <th>Topic 11</th>\n",
              "      <th>Topic 12</th>\n",
              "      <th>Topic 13</th>\n",
              "      <th>Topic 14</th>\n",
              "      <th>Topic 15</th>\n",
              "      <th>Topic 16</th>\n",
              "      <th>Topic 17</th>\n",
              "      <th>Topic 18</th>\n",
              "      <th>Topic 19</th>\n",
              "    </tr>\n",
              "  </thead>\n",
              "  <tbody>\n",
              "    <tr>\n",
              "      <th>Term1</th>\n",
              "      <td>man</td>\n",
              "      <td>upon</td>\n",
              "      <td>king</td>\n",
              "      <td>king</td>\n",
              "      <td>man</td>\n",
              "      <td>get</td>\n",
              "      <td>horse</td>\n",
              "      <td>man</td>\n",
              "      <td>sultan</td>\n",
              "      <td>giant</td>\n",
              "      <td>king</td>\n",
              "      <td>sea</td>\n",
              "      <td>man</td>\n",
              "      <td>king</td>\n",
              "      <td>thee</td>\n",
              "      <td>story</td>\n",
              "      <td>girl</td>\n",
              "      <td>god</td>\n",
              "      <td>cat</td>\n",
              "    </tr>\n",
              "    <tr>\n",
              "      <th>Term2</th>\n",
              "      <td>monkey</td>\n",
              "      <td>man</td>\n",
              "      <td>giant</td>\n",
              "      <td>queen</td>\n",
              "      <td>girl</td>\n",
              "      <td>good</td>\n",
              "      <td>prince</td>\n",
              "      <td>boy</td>\n",
              "      <td>princess</td>\n",
              "      <td>head</td>\n",
              "      <td>upon</td>\n",
              "      <td>fish</td>\n",
              "      <td>house</td>\n",
              "      <td>princess</td>\n",
              "      <td>thy</td>\n",
              "      <td>tale</td>\n",
              "      <td>daughter</td>\n",
              "      <td>man</td>\n",
              "      <td>get</td>\n",
              "    </tr>\n",
              "    <tr>\n",
              "      <th>Term3</th>\n",
              "      <td>mill</td>\n",
              "      <td>king</td>\n",
              "      <td>son</td>\n",
              "      <td>princess</td>\n",
              "      <td>miller</td>\n",
              "      <td>man</td>\n",
              "      <td>get</td>\n",
              "      <td>great</td>\n",
              "      <td>palace</td>\n",
              "      <td>castle</td>\n",
              "      <td>great</td>\n",
              "      <td>ship</td>\n",
              "      <td>get</td>\n",
              "      <td>prince</td>\n",
              "      <td>thou</td>\n",
              "      <td>also</td>\n",
              "      <td>mother</td>\n",
              "      <td>love</td>\n",
              "      <td>good</td>\n",
              "    </tr>\n",
              "    <tr>\n",
              "      <th>Term4</th>\n",
              "      <td>get</td>\n",
              "      <td>great</td>\n",
              "      <td>loki</td>\n",
              "      <td>prince</td>\n",
              "      <td>dwarf</td>\n",
              "      <td>think</td>\n",
              "      <td>ride</td>\n",
              "      <td>like</td>\n",
              "      <td>great</td>\n",
              "      <td>john</td>\n",
              "      <td>hear</td>\n",
              "      <td>water</td>\n",
              "      <td>wife</td>\n",
              "      <td>daughter</td>\n",
              "      <td>brother</td>\n",
              "      <td>three</td>\n",
              "      <td>sister</td>\n",
              "      <td>heart</td>\n",
              "      <td>child</td>\n",
              "    </tr>\n",
              "    <tr>\n",
              "      <th>Term5</th>\n",
              "      <td>turtle</td>\n",
              "      <td>two</td>\n",
              "      <td>odin</td>\n",
              "      <td>fairy</td>\n",
              "      <td>home</td>\n",
              "      <td>old_man</td>\n",
              "      <td>ask</td>\n",
              "      <td>bear</td>\n",
              "      <td>prince</td>\n",
              "      <td>youth</td>\n",
              "      <td>hand</td>\n",
              "      <td>man</td>\n",
              "      <td>back</td>\n",
              "      <td>ask</td>\n",
              "      <td>dog</td>\n",
              "      <td>devil</td>\n",
              "      <td>father</td>\n",
              "      <td>sigurd</td>\n",
              "      <td>eat</td>\n",
              "    </tr>\n",
              "    <tr>\n",
              "      <th>Term6</th>\n",
              "      <td>sack</td>\n",
              "      <td>place</td>\n",
              "      <td>great</td>\n",
              "      <td>upon</td>\n",
              "      <td>get</td>\n",
              "      <td>back</td>\n",
              "      <td>back</td>\n",
              "      <td>tree</td>\n",
              "      <td>may</td>\n",
              "      <td>man</td>\n",
              "      <td>long</td>\n",
              "      <td>like</td>\n",
              "      <td>jack</td>\n",
              "      <td>back</td>\n",
              "      <td>let</td>\n",
              "      <td>cf</td>\n",
              "      <td>sit</td>\n",
              "      <td>great</td>\n",
              "      <td>brother</td>\n",
              "    </tr>\n",
              "    <tr>\n",
              "      <th>Term7</th>\n",
              "      <td>fox</td>\n",
              "      <td>bring</td>\n",
              "      <td>put</td>\n",
              "      <td>think</td>\n",
              "      <td>mother</td>\n",
              "      <td>cry</td>\n",
              "      <td>brother</td>\n",
              "      <td>long</td>\n",
              "      <td>son</td>\n",
              "      <td>king</td>\n",
              "      <td>like</td>\n",
              "      <td>old</td>\n",
              "      <td>mother</td>\n",
              "      <td>castle</td>\n",
              "      <td>cry</td>\n",
              "      <td>pp</td>\n",
              "      <td>eye</td>\n",
              "      <td>yet</td>\n",
              "      <td>wood</td>\n",
              "    </tr>\n",
              "    <tr>\n",
              "      <th>Term8</th>\n",
              "      <td>ram</td>\n",
              "      <td>order</td>\n",
              "      <td>daughter</td>\n",
              "      <td>great</td>\n",
              "      <td>poor</td>\n",
              "      <td>wife</td>\n",
              "      <td>three</td>\n",
              "      <td>cat</td>\n",
              "      <td>much</td>\n",
              "      <td>thor</td>\n",
              "      <td>prince</td>\n",
              "      <td>dragon</td>\n",
              "      <td>night</td>\n",
              "      <td>three</td>\n",
              "      <td>tsar</td>\n",
              "      <td>russian</td>\n",
              "      <td>home</td>\n",
              "      <td>may</td>\n",
              "      <td>devil</td>\n",
              "    </tr>\n",
              "    <tr>\n",
              "      <th>Term9</th>\n",
              "      <td>crab</td>\n",
              "      <td>head</td>\n",
              "      <td>asgard</td>\n",
              "      <td>love</td>\n",
              "      <td>good</td>\n",
              "      <td>like</td>\n",
              "      <td>king</td>\n",
              "      <td>people</td>\n",
              "      <td>return</td>\n",
              "      <td>may</td>\n",
              "      <td>sea</td>\n",
              "      <td>wife</td>\n",
              "      <td>begin</td>\n",
              "      <td>youth</td>\n",
              "      <td>till</td>\n",
              "      <td>girl</td>\n",
              "      <td>beautiful</td>\n",
              "      <td>hand</td>\n",
              "      <td>think</td>\n",
              "    </tr>\n",
              "    <tr>\n",
              "      <th>Term10</th>\n",
              "      <td>mule</td>\n",
              "      <td>god</td>\n",
              "      <td>bear</td>\n",
              "      <td>good</td>\n",
              "      <td>think</td>\n",
              "      <td>old</td>\n",
              "      <td>home</td>\n",
              "      <td>back</td>\n",
              "      <td>emperor</td>\n",
              "      <td>like</td>\n",
              "      <td>eye</td>\n",
              "      <td>great</td>\n",
              "      <td>may</td>\n",
              "      <td>great</td>\n",
              "      <td>upon</td>\n",
              "      <td>two</td>\n",
              "      <td>two</td>\n",
              "      <td>earth</td>\n",
              "      <td>home</td>\n",
              "    </tr>\n",
              "    <tr>\n",
              "      <th>Term11</th>\n",
              "      <td>good</td>\n",
              "      <td>long</td>\n",
              "      <td>house</td>\n",
              "      <td>cry</td>\n",
              "      <td>house</td>\n",
              "      <td>poor</td>\n",
              "      <td>son</td>\n",
              "      <td>dog</td>\n",
              "      <td>leave</td>\n",
              "      <td>two</td>\n",
              "      <td>old</td>\n",
              "      <td>sail</td>\n",
              "      <td>father</td>\n",
              "      <td>must</td>\n",
              "      <td>get</td>\n",
              "      <td>hero</td>\n",
              "      <td>woman</td>\n",
              "      <td>like</td>\n",
              "      <td>grandmother</td>\n",
              "    </tr>\n",
              "    <tr>\n",
              "      <th>Term12</th>\n",
              "      <td>tortoise</td>\n",
              "      <td>city</td>\n",
              "      <td>back</td>\n",
              "      <td>palace</td>\n",
              "      <td>child</td>\n",
              "      <td>home</td>\n",
              "      <td>prince_ivan</td>\n",
              "      <td>get</td>\n",
              "      <td>mother</td>\n",
              "      <td>stand</td>\n",
              "      <td>night</td>\n",
              "      <td>sit</td>\n",
              "      <td>girl</td>\n",
              "      <td>father</td>\n",
              "      <td>shall</td>\n",
              "      <td>man</td>\n",
              "      <td>dress</td>\n",
              "      <td>eye</td>\n",
              "      <td>house</td>\n",
              "    </tr>\n",
              "    <tr>\n",
              "      <th>Term13</th>\n",
              "      <td>poor</td>\n",
              "      <td>hand</td>\n",
              "      <td>head</td>\n",
              "      <td>much</td>\n",
              "      <td>seven</td>\n",
              "      <td>house</td>\n",
              "      <td>let</td>\n",
              "      <td>old</td>\n",
              "      <td>reply</td>\n",
              "      <td>put</td>\n",
              "      <td>love</td>\n",
              "      <td>boat</td>\n",
              "      <td>child</td>\n",
              "      <td>way</td>\n",
              "      <td>wife</td>\n",
              "      <td>water</td>\n",
              "      <td>cry</td>\n",
              "      <td>sword</td>\n",
              "      <td>peasant</td>\n",
              "    </tr>\n",
              "    <tr>\n",
              "      <th>Term14</th>\n",
              "      <td>ask</td>\n",
              "      <td>thee</td>\n",
              "      <td>leave</td>\n",
              "      <td>long</td>\n",
              "      <td>call</td>\n",
              "      <td>ask</td>\n",
              "      <td>sit</td>\n",
              "      <td>good</td>\n",
              "      <td>soon</td>\n",
              "      <td>young_man</td>\n",
              "      <td>cry</td>\n",
              "      <td>good</td>\n",
              "      <td>good</td>\n",
              "      <td>long</td>\n",
              "      <td>serpent</td>\n",
              "      <td>page</td>\n",
              "      <td>tree</td>\n",
              "      <td>river</td>\n",
              "      <td>forest</td>\n",
              "    </tr>\n",
              "    <tr>\n",
              "      <th>Term15</th>\n",
              "      <td>wife</td>\n",
              "      <td>may</td>\n",
              "      <td>hand</td>\n",
              "      <td>hear</td>\n",
              "      <td>cry</td>\n",
              "      <td>run</td>\n",
              "      <td>like</td>\n",
              "      <td>bird</td>\n",
              "      <td>good</td>\n",
              "      <td>shepherd</td>\n",
              "      <td>land</td>\n",
              "      <td>han</td>\n",
              "      <td>leave</td>\n",
              "      <td>man</td>\n",
              "      <td>ivan</td>\n",
              "      <td>baba_yaga</td>\n",
              "      <td>get</td>\n",
              "      <td>upon</td>\n",
              "      <td>run</td>\n",
              "    </tr>\n",
              "    <tr>\n",
              "      <th>Term16</th>\n",
              "      <td>rich</td>\n",
              "      <td>thus</td>\n",
              "      <td>get</td>\n",
              "      <td>must</td>\n",
              "      <td>away</td>\n",
              "      <td>must</td>\n",
              "      <td>mare</td>\n",
              "      <td>wolf</td>\n",
              "      <td>place</td>\n",
              "      <td>great</td>\n",
              "      <td>heart</td>\n",
              "      <td>think</td>\n",
              "      <td>ask</td>\n",
              "      <td>think</td>\n",
              "      <td>begin</td>\n",
              "      <td>witch</td>\n",
              "      <td>frog</td>\n",
              "      <td>death</td>\n",
              "      <td>must</td>\n",
              "    </tr>\n",
              "    <tr>\n",
              "      <th>Term17</th>\n",
              "      <td>think</td>\n",
              "      <td>however</td>\n",
              "      <td>thing</td>\n",
              "      <td>may</td>\n",
              "      <td>dear</td>\n",
              "      <td>begin</td>\n",
              "      <td>youth</td>\n",
              "      <td>call</td>\n",
              "      <td>ask</td>\n",
              "      <td>tailor</td>\n",
              "      <td>may</td>\n",
              "      <td>fisherman</td>\n",
              "      <td>great</td>\n",
              "      <td>tree</td>\n",
              "      <td>man</td>\n",
              "      <td>note</td>\n",
              "      <td>bird</td>\n",
              "      <td>son</td>\n",
              "      <td>nothing</td>\n",
              "    </tr>\n",
              "    <tr>\n",
              "      <th>Term18</th>\n",
              "      <td>away</td>\n",
              "      <td>good</td>\n",
              "      <td>upon</td>\n",
              "      <td>never</td>\n",
              "      <td>bed</td>\n",
              "      <td>never</td>\n",
              "      <td>master</td>\n",
              "      <td>think</td>\n",
              "      <td>think</td>\n",
              "      <td>dragon</td>\n",
              "      <td>never</td>\n",
              "      <td>home</td>\n",
              "      <td>place</td>\n",
              "      <td>palace</td>\n",
              "      <td>home</td>\n",
              "      <td>folk_lore</td>\n",
              "      <td>bride</td>\n",
              "      <td>water</td>\n",
              "      <td>back</td>\n",
              "    </tr>\n",
              "    <tr>\n",
              "      <th>Term19</th>\n",
              "      <td>long</td>\n",
              "      <td>father</td>\n",
              "      <td>man</td>\n",
              "      <td>beautiful</td>\n",
              "      <td>lad</td>\n",
              "      <td>last</td>\n",
              "      <td>golden</td>\n",
              "      <td>hear</td>\n",
              "      <td>without</td>\n",
              "      <td>monster</td>\n",
              "      <td>mountain</td>\n",
              "      <td>want</td>\n",
              "      <td>think</td>\n",
              "      <td>get</td>\n",
              "      <td>good</td>\n",
              "      <td>father</td>\n",
              "      <td>sing</td>\n",
              "      <td>still</td>\n",
              "      <td>hen</td>\n",
              "    </tr>\n",
              "    <tr>\n",
              "      <th>Term20</th>\n",
              "      <td>wind</td>\n",
              "      <td>answer</td>\n",
              "      <td>father</td>\n",
              "      <td>soon</td>\n",
              "      <td>begin</td>\n",
              "      <td>put</td>\n",
              "      <td>stable</td>\n",
              "      <td>child</td>\n",
              "      <td>slave</td>\n",
              "      <td>throw</td>\n",
              "      <td>pas</td>\n",
              "      <td>shore</td>\n",
              "      <td>must</td>\n",
              "      <td>young</td>\n",
              "      <td>back</td>\n",
              "      <td>wife</td>\n",
              "      <td>young</td>\n",
              "      <td>grow</td>\n",
              "      <td>fox</td>\n",
              "    </tr>\n",
              "  </tbody>\n",
              "</table>\n",
              "</div>\n",
              "      <button class=\"colab-df-convert\" onclick=\"convertToInteractive('df-59f5de2d-be09-446f-82c2-8990d9c22f60')\"\n",
              "              title=\"Convert this dataframe to an interactive table.\"\n",
              "              style=\"display:none;\">\n",
              "        \n",
              "  <svg xmlns=\"http://www.w3.org/2000/svg\" height=\"24px\"viewBox=\"0 0 24 24\"\n",
              "       width=\"24px\">\n",
              "    <path d=\"M0 0h24v24H0V0z\" fill=\"none\"/>\n",
              "    <path d=\"M18.56 5.44l.94 2.06.94-2.06 2.06-.94-2.06-.94-.94-2.06-.94 2.06-2.06.94zm-11 1L8.5 8.5l.94-2.06 2.06-.94-2.06-.94L8.5 2.5l-.94 2.06-2.06.94zm10 10l.94 2.06.94-2.06 2.06-.94-2.06-.94-.94-2.06-.94 2.06-2.06.94z\"/><path d=\"M17.41 7.96l-1.37-1.37c-.4-.4-.92-.59-1.43-.59-.52 0-1.04.2-1.43.59L10.3 9.45l-7.72 7.72c-.78.78-.78 2.05 0 2.83L4 21.41c.39.39.9.59 1.41.59.51 0 1.02-.2 1.41-.59l7.78-7.78 2.81-2.81c.8-.78.8-2.07 0-2.86zM5.41 20L4 18.59l7.72-7.72 1.47 1.35L5.41 20z\"/>\n",
              "  </svg>\n",
              "      </button>\n",
              "      \n",
              "  <style>\n",
              "    .colab-df-container {\n",
              "      display:flex;\n",
              "      flex-wrap:wrap;\n",
              "      gap: 12px;\n",
              "    }\n",
              "\n",
              "    .colab-df-convert {\n",
              "      background-color: #E8F0FE;\n",
              "      border: none;\n",
              "      border-radius: 50%;\n",
              "      cursor: pointer;\n",
              "      display: none;\n",
              "      fill: #1967D2;\n",
              "      height: 32px;\n",
              "      padding: 0 0 0 0;\n",
              "      width: 32px;\n",
              "    }\n",
              "\n",
              "    .colab-df-convert:hover {\n",
              "      background-color: #E2EBFA;\n",
              "      box-shadow: 0px 1px 2px rgba(60, 64, 67, 0.3), 0px 1px 3px 1px rgba(60, 64, 67, 0.15);\n",
              "      fill: #174EA6;\n",
              "    }\n",
              "\n",
              "    [theme=dark] .colab-df-convert {\n",
              "      background-color: #3B4455;\n",
              "      fill: #D2E3FC;\n",
              "    }\n",
              "\n",
              "    [theme=dark] .colab-df-convert:hover {\n",
              "      background-color: #434B5C;\n",
              "      box-shadow: 0px 1px 3px 1px rgba(0, 0, 0, 0.15);\n",
              "      filter: drop-shadow(0px 1px 2px rgba(0, 0, 0, 0.3));\n",
              "      fill: #FFFFFF;\n",
              "    }\n",
              "  </style>\n",
              "\n",
              "      <script>\n",
              "        const buttonEl =\n",
              "          document.querySelector('#df-59f5de2d-be09-446f-82c2-8990d9c22f60 button.colab-df-convert');\n",
              "        buttonEl.style.display =\n",
              "          google.colab.kernel.accessAllowed ? 'block' : 'none';\n",
              "\n",
              "        async function convertToInteractive(key) {\n",
              "          const element = document.querySelector('#df-59f5de2d-be09-446f-82c2-8990d9c22f60');\n",
              "          const dataTable =\n",
              "            await google.colab.kernel.invokeFunction('convertToInteractive',\n",
              "                                                     [key], {});\n",
              "          if (!dataTable) return;\n",
              "\n",
              "          const docLinkHtml = 'Like what you see? Visit the ' +\n",
              "            '<a target=\"_blank\" href=https://colab.research.google.com/notebooks/data_table.ipynb>data table notebook</a>'\n",
              "            + ' to learn more about interactive tables.';\n",
              "          element.innerHTML = '';\n",
              "          dataTable['output_type'] = 'display_data';\n",
              "          await google.colab.output.renderOutput(dataTable, element);\n",
              "          const docLink = document.createElement('div');\n",
              "          docLink.innerHTML = docLinkHtml;\n",
              "          element.appendChild(docLink);\n",
              "        }\n",
              "      </script>\n",
              "    </div>\n",
              "  </div>\n",
              "  "
            ]
          },
          "metadata": {},
          "execution_count": 41
        }
      ]
    },
    {
      "cell_type": "markdown",
      "source": [
        "Из полученных результатов и метрик Coherence Score можно сделать вывод, что лучше всего выбрать модели LSI и LDA, но с разным количеством тем."
      ],
      "metadata": {
        "id": "2pyQA4d6qvT4"
      }
    },
    {
      "cell_type": "markdown",
      "source": [
        "### Лучшие модели"
      ],
      "metadata": {
        "id": "iLGHpptsU8-M"
      }
    },
    {
      "cell_type": "code",
      "source": [
        "best_lda_model = gensim.models.LdaModel(corpus=bow_corpus, id2word=dictionary, chunksize=1455,\n",
        "                                   alpha='auto', eta='auto', random_state=42, iterations=2000, \n",
        "                                   num_topics=19, passes=20, eval_every=None)"
      ],
      "metadata": {
        "id": "dCBdWTtEUOW1"
      },
      "execution_count": null,
      "outputs": []
    },
    {
      "cell_type": "code",
      "source": [
        "best_lsi_model = gensim.models.LsiModel(bow_corpus, id2word=dictionary, \n",
        "                                 num_topics=6, onepass=True, chunksize=1455, power_iters=2000)"
      ],
      "metadata": {
        "id": "3uOMdq7DUa9l"
      },
      "execution_count": null,
      "outputs": []
    },
    {
      "cell_type": "markdown",
      "source": [
        "###Интерпретация результатов моделирования"
      ],
      "metadata": {
        "id": "fI777lCNU_cM"
      }
    },
    {
      "cell_type": "markdown",
      "source": [
        "Для проверки того, насколько хорошо работают модели, интерпретируем результаты их работы в более удобном и понятном виде."
      ],
      "metadata": {
        "id": "ronz5om0vj1u"
      }
    },
    {
      "cell_type": "code",
      "source": [
        "def base_stats(model, topics, corpus=bow_corpus):\n",
        "\n",
        "  topics_df = pd.DataFrame([', '.join([term for term, wt in topic]) for topic in topics],\n",
        "                          columns = ['Terms per Topic'],\n",
        "                          index=['Topic'+str(t) for t in range(1, model.num_topics+1)])\n",
        "\n",
        "  tm_results = model[bow_corpus]\n",
        "\n",
        "  corpus_topics = [sorted(topics, key=lambda record: -record[1])[0]\n",
        "                                                for topics in tm_results]\n",
        "  corpus_topic_df = pd.DataFrame()\n",
        "  corpus_topic_df['Document'] = range(0, len(corpus))\n",
        "\n",
        "  corpus_topic_df['Dominant Topic'] = [item[0]+1 for item in corpus_topics]\n",
        "  corpus_topic_df['Contribution %'] = [round(item[1]*100, 2) for item in corpus_topics]\n",
        "\n",
        "  corpus_topic_df['Topic Desc'] = [topics_df.iloc[t[0]]['Terms per Topic'] for t in corpus_topics]\n",
        "  corpus_topic_df['Paper'] = fairy_tales\n",
        "  return corpus_topic_df, topics_df"
      ],
      "metadata": {
        "id": "G72oWMjTVGQo"
      },
      "execution_count": null,
      "outputs": []
    },
    {
      "cell_type": "code",
      "source": [
        "corpus_topic_lsi, topics_df_lsi = base_stats(best_lsi_model, topics_lsi)\n",
        "corpus_topic_lda, topics_df_lda =  base_stats(best_lda_model, topics_lda)"
      ],
      "metadata": {
        "id": "0woPmIOaWQuE"
      },
      "execution_count": null,
      "outputs": []
    },
    {
      "cell_type": "markdown",
      "source": [
        "####Модель LSI"
      ],
      "metadata": {
        "id": "2cDtg5sQWgHV"
      }
    },
    {
      "cell_type": "code",
      "source": [
        "# Распределение тем по текстам\n",
        "pd.set_option('display.max_colwidth', 200)\n",
        "topic_stats_df = corpus_topic_lsi.groupby('Dominant Topic').agg(\n",
        "                                      **{'Doc Count':('Dominant Topic',np.size), \n",
        "                                   '% Total Docs':('Dominant Topic',np.size)})\n",
        "\n",
        "#topic_stats_df = topic_stats_df['Dominant Topic'].reset_index()\n",
        "topic_stats_df['% Total Docs'] = topic_stats_df['% Total Docs'].apply(\n",
        "                                lambda row: round((row*100) / len(bow_corpus), 2))\n",
        "topic_stats_df['Topic Desc'] = [topics_df_lsi.iloc[t]['Terms per Topic'] for t in\n",
        "                                                      range(len(topic_stats_df))]\n",
        "topic_stats_df"
      ],
      "metadata": {
        "colab": {
          "base_uri": "https://localhost:8080/",
          "height": 282
        },
        "id": "4WjJXiIpWcbd",
        "outputId": "52ed6dad-5d73-4128-90a1-6d5ce154265c"
      },
      "execution_count": null,
      "outputs": [
        {
          "output_type": "execute_result",
          "data": {
            "text/plain": [
              "                Doc Count  % Total Docs  \\\n",
              "Dominant Topic                            \n",
              "1                    1450         99.66   \n",
              "3                       1          0.07   \n",
              "4                       1          0.07   \n",
              "5                       2          0.14   \n",
              "6                       1          0.07   \n",
              "\n",
              "                                                                                                                                                                 Topic Desc  \n",
              "Dominant Topic                                                                                                                                                               \n",
              "1                                               king, princess, prince, great, man, get, may, think, good, back, ask, upon, like, son, leave, must, long, hear, father, two  \n",
              "3               king, sultan, princess, palace, mother, lamp, slave, magician, man, much, son, soon, grand_vizier, return, may, reply, majesty, great, present, immediately  \n",
              "4                                       king, princess, prince, man, queen, get, wife, house, fairy, home, good, palace, old_man, child, thee, old, boy, brother, eat, back  \n",
              "5                         prince, king, sultan, son, mother, emperor, palace, man, fairy, lamp, tree, princess, slave, bird, sister, daughter, great, magician, answer, way  \n",
              "6                                       get, upon, sea, great, god, girl, home, daughter, man, land, heart, old_man, ask, old_woman, want, love, princess, eye, horse, wife  "
            ],
            "text/html": [
              "\n",
              "  <div id=\"df-242b633b-f1a4-4a75-9790-86b909c2ef4c\">\n",
              "    <div class=\"colab-df-container\">\n",
              "      <div>\n",
              "<style scoped>\n",
              "    .dataframe tbody tr th:only-of-type {\n",
              "        vertical-align: middle;\n",
              "    }\n",
              "\n",
              "    .dataframe tbody tr th {\n",
              "        vertical-align: top;\n",
              "    }\n",
              "\n",
              "    .dataframe thead th {\n",
              "        text-align: right;\n",
              "    }\n",
              "</style>\n",
              "<table border=\"1\" class=\"dataframe\">\n",
              "  <thead>\n",
              "    <tr style=\"text-align: right;\">\n",
              "      <th></th>\n",
              "      <th>Doc Count</th>\n",
              "      <th>% Total Docs</th>\n",
              "      <th>Topic Desc</th>\n",
              "    </tr>\n",
              "    <tr>\n",
              "      <th>Dominant Topic</th>\n",
              "      <th></th>\n",
              "      <th></th>\n",
              "      <th></th>\n",
              "    </tr>\n",
              "  </thead>\n",
              "  <tbody>\n",
              "    <tr>\n",
              "      <th>1</th>\n",
              "      <td>1450</td>\n",
              "      <td>99.66</td>\n",
              "      <td>king, princess, prince, great, man, get, may, think, good, back, ask, upon, like, son, leave, must, long, hear, father, two</td>\n",
              "    </tr>\n",
              "    <tr>\n",
              "      <th>3</th>\n",
              "      <td>1</td>\n",
              "      <td>0.07</td>\n",
              "      <td>king, sultan, princess, palace, mother, lamp, slave, magician, man, much, son, soon, grand_vizier, return, may, reply, majesty, great, present, immediately</td>\n",
              "    </tr>\n",
              "    <tr>\n",
              "      <th>4</th>\n",
              "      <td>1</td>\n",
              "      <td>0.07</td>\n",
              "      <td>king, princess, prince, man, queen, get, wife, house, fairy, home, good, palace, old_man, child, thee, old, boy, brother, eat, back</td>\n",
              "    </tr>\n",
              "    <tr>\n",
              "      <th>5</th>\n",
              "      <td>2</td>\n",
              "      <td>0.14</td>\n",
              "      <td>prince, king, sultan, son, mother, emperor, palace, man, fairy, lamp, tree, princess, slave, bird, sister, daughter, great, magician, answer, way</td>\n",
              "    </tr>\n",
              "    <tr>\n",
              "      <th>6</th>\n",
              "      <td>1</td>\n",
              "      <td>0.07</td>\n",
              "      <td>get, upon, sea, great, god, girl, home, daughter, man, land, heart, old_man, ask, old_woman, want, love, princess, eye, horse, wife</td>\n",
              "    </tr>\n",
              "  </tbody>\n",
              "</table>\n",
              "</div>\n",
              "      <button class=\"colab-df-convert\" onclick=\"convertToInteractive('df-242b633b-f1a4-4a75-9790-86b909c2ef4c')\"\n",
              "              title=\"Convert this dataframe to an interactive table.\"\n",
              "              style=\"display:none;\">\n",
              "        \n",
              "  <svg xmlns=\"http://www.w3.org/2000/svg\" height=\"24px\"viewBox=\"0 0 24 24\"\n",
              "       width=\"24px\">\n",
              "    <path d=\"M0 0h24v24H0V0z\" fill=\"none\"/>\n",
              "    <path d=\"M18.56 5.44l.94 2.06.94-2.06 2.06-.94-2.06-.94-.94-2.06-.94 2.06-2.06.94zm-11 1L8.5 8.5l.94-2.06 2.06-.94-2.06-.94L8.5 2.5l-.94 2.06-2.06.94zm10 10l.94 2.06.94-2.06 2.06-.94-2.06-.94-.94-2.06-.94 2.06-2.06.94z\"/><path d=\"M17.41 7.96l-1.37-1.37c-.4-.4-.92-.59-1.43-.59-.52 0-1.04.2-1.43.59L10.3 9.45l-7.72 7.72c-.78.78-.78 2.05 0 2.83L4 21.41c.39.39.9.59 1.41.59.51 0 1.02-.2 1.41-.59l7.78-7.78 2.81-2.81c.8-.78.8-2.07 0-2.86zM5.41 20L4 18.59l7.72-7.72 1.47 1.35L5.41 20z\"/>\n",
              "  </svg>\n",
              "      </button>\n",
              "      \n",
              "  <style>\n",
              "    .colab-df-container {\n",
              "      display:flex;\n",
              "      flex-wrap:wrap;\n",
              "      gap: 12px;\n",
              "    }\n",
              "\n",
              "    .colab-df-convert {\n",
              "      background-color: #E8F0FE;\n",
              "      border: none;\n",
              "      border-radius: 50%;\n",
              "      cursor: pointer;\n",
              "      display: none;\n",
              "      fill: #1967D2;\n",
              "      height: 32px;\n",
              "      padding: 0 0 0 0;\n",
              "      width: 32px;\n",
              "    }\n",
              "\n",
              "    .colab-df-convert:hover {\n",
              "      background-color: #E2EBFA;\n",
              "      box-shadow: 0px 1px 2px rgba(60, 64, 67, 0.3), 0px 1px 3px 1px rgba(60, 64, 67, 0.15);\n",
              "      fill: #174EA6;\n",
              "    }\n",
              "\n",
              "    [theme=dark] .colab-df-convert {\n",
              "      background-color: #3B4455;\n",
              "      fill: #D2E3FC;\n",
              "    }\n",
              "\n",
              "    [theme=dark] .colab-df-convert:hover {\n",
              "      background-color: #434B5C;\n",
              "      box-shadow: 0px 1px 3px 1px rgba(0, 0, 0, 0.15);\n",
              "      filter: drop-shadow(0px 1px 2px rgba(0, 0, 0, 0.3));\n",
              "      fill: #FFFFFF;\n",
              "    }\n",
              "  </style>\n",
              "\n",
              "      <script>\n",
              "        const buttonEl =\n",
              "          document.querySelector('#df-242b633b-f1a4-4a75-9790-86b909c2ef4c button.colab-df-convert');\n",
              "        buttonEl.style.display =\n",
              "          google.colab.kernel.accessAllowed ? 'block' : 'none';\n",
              "\n",
              "        async function convertToInteractive(key) {\n",
              "          const element = document.querySelector('#df-242b633b-f1a4-4a75-9790-86b909c2ef4c');\n",
              "          const dataTable =\n",
              "            await google.colab.kernel.invokeFunction('convertToInteractive',\n",
              "                                                     [key], {});\n",
              "          if (!dataTable) return;\n",
              "\n",
              "          const docLinkHtml = 'Like what you see? Visit the ' +\n",
              "            '<a target=\"_blank\" href=https://colab.research.google.com/notebooks/data_table.ipynb>data table notebook</a>'\n",
              "            + ' to learn more about interactive tables.';\n",
              "          element.innerHTML = '';\n",
              "          dataTable['output_type'] = 'display_data';\n",
              "          await google.colab.output.renderOutput(dataTable, element);\n",
              "          const docLink = document.createElement('div');\n",
              "          docLink.innerHTML = docLinkHtml;\n",
              "          element.appendChild(docLink);\n",
              "        }\n",
              "      </script>\n",
              "    </div>\n",
              "  </div>\n",
              "  "
            ]
          },
          "metadata": {},
          "execution_count": 47
        }
      ]
    },
    {
      "cell_type": "markdown",
      "source": [
        "Теперь видно, что несмотря на самые хорошие показатели метрик по сравнению с другими моделями, моделирование не прошло успешно: почти все тексты попали в одну категорию. Возможно, необходимо усовершенствование структуры набора данных и предобработки (например, стоп-слова для устаревшего английского)."
      ],
      "metadata": {
        "id": "dkrV68ZtwKuu"
      }
    },
    {
      "cell_type": "markdown",
      "source": [
        "####Модель LDA"
      ],
      "metadata": {
        "id": "ovf3qydHcBU1"
      }
    },
    {
      "cell_type": "code",
      "source": [
        "# Распределение тем по текстам\n",
        "pd.set_option('display.max_colwidth', 200)\n",
        "topic_stats_df = corpus_topic_lda.groupby('Dominant Topic').agg(\n",
        "                                      **{'Doc Count':('Dominant Topic',np.size), \n",
        "                                   '% Total Docs':('Dominant Topic',np.size)})\n",
        "\n",
        "#topic_stats_df = topic_stats_df['Dominant Topic'].reset_index()\n",
        "topic_stats_df['% Total Docs'] = topic_stats_df['% Total Docs'].apply(\n",
        "                                lambda row: round((row*100) / len(bow_corpus), 2))\n",
        "topic_stats_df['Topic Desc'] = [topics_df_lda.iloc[t]['Terms per Topic'] for t in\n",
        "                                                      range(len(topic_stats_df))]\n",
        "topic_stats_df"
      ],
      "metadata": {
        "colab": {
          "base_uri": "https://localhost:8080/",
          "height": 677
        },
        "id": "XBxfiYxWcERC",
        "outputId": "6c235347-28d5-4b90-b473-3b5583f55249"
      },
      "execution_count": null,
      "outputs": [
        {
          "output_type": "execute_result",
          "data": {
            "text/plain": [
              "                Doc Count  % Total Docs  \\\n",
              "Dominant Topic                            \n",
              "1                      13          0.89   \n",
              "2                      65          4.47   \n",
              "3                      43          2.96   \n",
              "4                     130          8.93   \n",
              "5                      25          1.72   \n",
              "6                     214         14.71   \n",
              "7                      36          2.47   \n",
              "8                      89          6.12   \n",
              "9                      22          1.51   \n",
              "10                     25          1.72   \n",
              "11                    185         12.71   \n",
              "12                     39          2.68   \n",
              "13                    171         11.75   \n",
              "14                    175         12.03   \n",
              "15                     29          1.99   \n",
              "16                     60          4.12   \n",
              "17                     50          3.44   \n",
              "18                     54          3.71   \n",
              "19                     30          2.06   \n",
              "\n",
              "                                                                                                                                                   Topic Desc  \n",
              "Dominant Topic                                                                                                                                                 \n",
              "1                                  man, monkey, mill, get, turtle, sack, fox, ram, crab, mule, good, tortoise, poor, ask, wife, rich, think, away, long, wind  \n",
              "2                               upon, man, king, great, two, place, bring, order, head, god, long, city, hand, thee, may, thus, however, good, father, answer  \n",
              "3                             king, giant, son, loki, odin, great, put, daughter, asgard, bear, house, back, head, leave, hand, get, thing, upon, man, father  \n",
              "4                      king, queen, princess, prince, fairy, upon, think, great, love, good, cry, palace, much, long, hear, must, may, never, beautiful, soon  \n",
              "5                                 man, girl, miller, dwarf, home, get, mother, poor, good, think, house, child, seven, call, cry, away, dear, bed, lad, begin  \n",
              "6                                      get, good, man, think, old_man, back, cry, wife, like, old, poor, home, house, ask, run, must, begin, never, last, put  \n",
              "7                      horse, prince, get, ride, ask, back, brother, three, king, home, son, prince_ivan, let, sit, like, mare, youth, master, golden, stable  \n",
              "8                                       man, boy, great, like, bear, tree, long, cat, people, back, dog, get, old, good, bird, wolf, call, think, hear, child  \n",
              "9               sultan, princess, palace, great, prince, may, son, much, return, emperor, leave, mother, reply, soon, good, place, ask, think, without, slave  \n",
              "10                  giant, head, castle, john, youth, man, king, thor, may, like, two, stand, put, young_man, shepherd, great, tailor, dragon, monster, throw  \n",
              "11                                 king, upon, great, hear, hand, long, like, prince, sea, eye, old, night, love, cry, land, heart, may, never, mountain, pas  \n",
              "12                               sea, fish, ship, water, man, like, old, dragon, wife, great, sail, sit, boat, good, han, think, fisherman, home, want, shore  \n",
              "13                             man, house, get, wife, back, jack, mother, night, begin, may, father, girl, child, good, leave, ask, great, place, think, must  \n",
              "14                    king, princess, prince, daughter, ask, back, castle, three, youth, great, must, father, way, long, man, think, tree, palace, get, young  \n",
              "15                                   thee, thy, thou, brother, dog, let, cry, tsar, till, upon, get, shall, wife, serpent, ivan, begin, man, home, good, back  \n",
              "16                       story, tale, also, three, devil, cf, pp, russian, girl, two, hero, man, water, page, baba_yaga, witch, note, folk_lore, father, wife  \n",
              "17                       girl, daughter, mother, sister, father, sit, eye, home, beautiful, two, woman, dress, cry, tree, get, frog, bird, bride, sing, young  \n",
              "18                                 god, man, love, heart, sigurd, great, yet, may, hand, earth, like, eye, sword, river, upon, death, son, water, still, grow  \n",
              "19                     cat, get, good, child, eat, brother, wood, devil, think, home, grandmother, house, peasant, forest, run, must, nothing, back, hen, fox  "
            ],
            "text/html": [
              "\n",
              "  <div id=\"df-350b64ad-1d3c-4466-a18c-429c1102844c\">\n",
              "    <div class=\"colab-df-container\">\n",
              "      <div>\n",
              "<style scoped>\n",
              "    .dataframe tbody tr th:only-of-type {\n",
              "        vertical-align: middle;\n",
              "    }\n",
              "\n",
              "    .dataframe tbody tr th {\n",
              "        vertical-align: top;\n",
              "    }\n",
              "\n",
              "    .dataframe thead th {\n",
              "        text-align: right;\n",
              "    }\n",
              "</style>\n",
              "<table border=\"1\" class=\"dataframe\">\n",
              "  <thead>\n",
              "    <tr style=\"text-align: right;\">\n",
              "      <th></th>\n",
              "      <th>Doc Count</th>\n",
              "      <th>% Total Docs</th>\n",
              "      <th>Topic Desc</th>\n",
              "    </tr>\n",
              "    <tr>\n",
              "      <th>Dominant Topic</th>\n",
              "      <th></th>\n",
              "      <th></th>\n",
              "      <th></th>\n",
              "    </tr>\n",
              "  </thead>\n",
              "  <tbody>\n",
              "    <tr>\n",
              "      <th>1</th>\n",
              "      <td>13</td>\n",
              "      <td>0.89</td>\n",
              "      <td>man, monkey, mill, get, turtle, sack, fox, ram, crab, mule, good, tortoise, poor, ask, wife, rich, think, away, long, wind</td>\n",
              "    </tr>\n",
              "    <tr>\n",
              "      <th>2</th>\n",
              "      <td>65</td>\n",
              "      <td>4.47</td>\n",
              "      <td>upon, man, king, great, two, place, bring, order, head, god, long, city, hand, thee, may, thus, however, good, father, answer</td>\n",
              "    </tr>\n",
              "    <tr>\n",
              "      <th>3</th>\n",
              "      <td>43</td>\n",
              "      <td>2.96</td>\n",
              "      <td>king, giant, son, loki, odin, great, put, daughter, asgard, bear, house, back, head, leave, hand, get, thing, upon, man, father</td>\n",
              "    </tr>\n",
              "    <tr>\n",
              "      <th>4</th>\n",
              "      <td>130</td>\n",
              "      <td>8.93</td>\n",
              "      <td>king, queen, princess, prince, fairy, upon, think, great, love, good, cry, palace, much, long, hear, must, may, never, beautiful, soon</td>\n",
              "    </tr>\n",
              "    <tr>\n",
              "      <th>5</th>\n",
              "      <td>25</td>\n",
              "      <td>1.72</td>\n",
              "      <td>man, girl, miller, dwarf, home, get, mother, poor, good, think, house, child, seven, call, cry, away, dear, bed, lad, begin</td>\n",
              "    </tr>\n",
              "    <tr>\n",
              "      <th>6</th>\n",
              "      <td>214</td>\n",
              "      <td>14.71</td>\n",
              "      <td>get, good, man, think, old_man, back, cry, wife, like, old, poor, home, house, ask, run, must, begin, never, last, put</td>\n",
              "    </tr>\n",
              "    <tr>\n",
              "      <th>7</th>\n",
              "      <td>36</td>\n",
              "      <td>2.47</td>\n",
              "      <td>horse, prince, get, ride, ask, back, brother, three, king, home, son, prince_ivan, let, sit, like, mare, youth, master, golden, stable</td>\n",
              "    </tr>\n",
              "    <tr>\n",
              "      <th>8</th>\n",
              "      <td>89</td>\n",
              "      <td>6.12</td>\n",
              "      <td>man, boy, great, like, bear, tree, long, cat, people, back, dog, get, old, good, bird, wolf, call, think, hear, child</td>\n",
              "    </tr>\n",
              "    <tr>\n",
              "      <th>9</th>\n",
              "      <td>22</td>\n",
              "      <td>1.51</td>\n",
              "      <td>sultan, princess, palace, great, prince, may, son, much, return, emperor, leave, mother, reply, soon, good, place, ask, think, without, slave</td>\n",
              "    </tr>\n",
              "    <tr>\n",
              "      <th>10</th>\n",
              "      <td>25</td>\n",
              "      <td>1.72</td>\n",
              "      <td>giant, head, castle, john, youth, man, king, thor, may, like, two, stand, put, young_man, shepherd, great, tailor, dragon, monster, throw</td>\n",
              "    </tr>\n",
              "    <tr>\n",
              "      <th>11</th>\n",
              "      <td>185</td>\n",
              "      <td>12.71</td>\n",
              "      <td>king, upon, great, hear, hand, long, like, prince, sea, eye, old, night, love, cry, land, heart, may, never, mountain, pas</td>\n",
              "    </tr>\n",
              "    <tr>\n",
              "      <th>12</th>\n",
              "      <td>39</td>\n",
              "      <td>2.68</td>\n",
              "      <td>sea, fish, ship, water, man, like, old, dragon, wife, great, sail, sit, boat, good, han, think, fisherman, home, want, shore</td>\n",
              "    </tr>\n",
              "    <tr>\n",
              "      <th>13</th>\n",
              "      <td>171</td>\n",
              "      <td>11.75</td>\n",
              "      <td>man, house, get, wife, back, jack, mother, night, begin, may, father, girl, child, good, leave, ask, great, place, think, must</td>\n",
              "    </tr>\n",
              "    <tr>\n",
              "      <th>14</th>\n",
              "      <td>175</td>\n",
              "      <td>12.03</td>\n",
              "      <td>king, princess, prince, daughter, ask, back, castle, three, youth, great, must, father, way, long, man, think, tree, palace, get, young</td>\n",
              "    </tr>\n",
              "    <tr>\n",
              "      <th>15</th>\n",
              "      <td>29</td>\n",
              "      <td>1.99</td>\n",
              "      <td>thee, thy, thou, brother, dog, let, cry, tsar, till, upon, get, shall, wife, serpent, ivan, begin, man, home, good, back</td>\n",
              "    </tr>\n",
              "    <tr>\n",
              "      <th>16</th>\n",
              "      <td>60</td>\n",
              "      <td>4.12</td>\n",
              "      <td>story, tale, also, three, devil, cf, pp, russian, girl, two, hero, man, water, page, baba_yaga, witch, note, folk_lore, father, wife</td>\n",
              "    </tr>\n",
              "    <tr>\n",
              "      <th>17</th>\n",
              "      <td>50</td>\n",
              "      <td>3.44</td>\n",
              "      <td>girl, daughter, mother, sister, father, sit, eye, home, beautiful, two, woman, dress, cry, tree, get, frog, bird, bride, sing, young</td>\n",
              "    </tr>\n",
              "    <tr>\n",
              "      <th>18</th>\n",
              "      <td>54</td>\n",
              "      <td>3.71</td>\n",
              "      <td>god, man, love, heart, sigurd, great, yet, may, hand, earth, like, eye, sword, river, upon, death, son, water, still, grow</td>\n",
              "    </tr>\n",
              "    <tr>\n",
              "      <th>19</th>\n",
              "      <td>30</td>\n",
              "      <td>2.06</td>\n",
              "      <td>cat, get, good, child, eat, brother, wood, devil, think, home, grandmother, house, peasant, forest, run, must, nothing, back, hen, fox</td>\n",
              "    </tr>\n",
              "  </tbody>\n",
              "</table>\n",
              "</div>\n",
              "      <button class=\"colab-df-convert\" onclick=\"convertToInteractive('df-350b64ad-1d3c-4466-a18c-429c1102844c')\"\n",
              "              title=\"Convert this dataframe to an interactive table.\"\n",
              "              style=\"display:none;\">\n",
              "        \n",
              "  <svg xmlns=\"http://www.w3.org/2000/svg\" height=\"24px\"viewBox=\"0 0 24 24\"\n",
              "       width=\"24px\">\n",
              "    <path d=\"M0 0h24v24H0V0z\" fill=\"none\"/>\n",
              "    <path d=\"M18.56 5.44l.94 2.06.94-2.06 2.06-.94-2.06-.94-.94-2.06-.94 2.06-2.06.94zm-11 1L8.5 8.5l.94-2.06 2.06-.94-2.06-.94L8.5 2.5l-.94 2.06-2.06.94zm10 10l.94 2.06.94-2.06 2.06-.94-2.06-.94-.94-2.06-.94 2.06-2.06.94z\"/><path d=\"M17.41 7.96l-1.37-1.37c-.4-.4-.92-.59-1.43-.59-.52 0-1.04.2-1.43.59L10.3 9.45l-7.72 7.72c-.78.78-.78 2.05 0 2.83L4 21.41c.39.39.9.59 1.41.59.51 0 1.02-.2 1.41-.59l7.78-7.78 2.81-2.81c.8-.78.8-2.07 0-2.86zM5.41 20L4 18.59l7.72-7.72 1.47 1.35L5.41 20z\"/>\n",
              "  </svg>\n",
              "      </button>\n",
              "      \n",
              "  <style>\n",
              "    .colab-df-container {\n",
              "      display:flex;\n",
              "      flex-wrap:wrap;\n",
              "      gap: 12px;\n",
              "    }\n",
              "\n",
              "    .colab-df-convert {\n",
              "      background-color: #E8F0FE;\n",
              "      border: none;\n",
              "      border-radius: 50%;\n",
              "      cursor: pointer;\n",
              "      display: none;\n",
              "      fill: #1967D2;\n",
              "      height: 32px;\n",
              "      padding: 0 0 0 0;\n",
              "      width: 32px;\n",
              "    }\n",
              "\n",
              "    .colab-df-convert:hover {\n",
              "      background-color: #E2EBFA;\n",
              "      box-shadow: 0px 1px 2px rgba(60, 64, 67, 0.3), 0px 1px 3px 1px rgba(60, 64, 67, 0.15);\n",
              "      fill: #174EA6;\n",
              "    }\n",
              "\n",
              "    [theme=dark] .colab-df-convert {\n",
              "      background-color: #3B4455;\n",
              "      fill: #D2E3FC;\n",
              "    }\n",
              "\n",
              "    [theme=dark] .colab-df-convert:hover {\n",
              "      background-color: #434B5C;\n",
              "      box-shadow: 0px 1px 3px 1px rgba(0, 0, 0, 0.15);\n",
              "      filter: drop-shadow(0px 1px 2px rgba(0, 0, 0, 0.3));\n",
              "      fill: #FFFFFF;\n",
              "    }\n",
              "  </style>\n",
              "\n",
              "      <script>\n",
              "        const buttonEl =\n",
              "          document.querySelector('#df-350b64ad-1d3c-4466-a18c-429c1102844c button.colab-df-convert');\n",
              "        buttonEl.style.display =\n",
              "          google.colab.kernel.accessAllowed ? 'block' : 'none';\n",
              "\n",
              "        async function convertToInteractive(key) {\n",
              "          const element = document.querySelector('#df-350b64ad-1d3c-4466-a18c-429c1102844c');\n",
              "          const dataTable =\n",
              "            await google.colab.kernel.invokeFunction('convertToInteractive',\n",
              "                                                     [key], {});\n",
              "          if (!dataTable) return;\n",
              "\n",
              "          const docLinkHtml = 'Like what you see? Visit the ' +\n",
              "            '<a target=\"_blank\" href=https://colab.research.google.com/notebooks/data_table.ipynb>data table notebook</a>'\n",
              "            + ' to learn more about interactive tables.';\n",
              "          element.innerHTML = '';\n",
              "          dataTable['output_type'] = 'display_data';\n",
              "          await google.colab.output.renderOutput(dataTable, element);\n",
              "          const docLink = document.createElement('div');\n",
              "          docLink.innerHTML = docLinkHtml;\n",
              "          element.appendChild(docLink);\n",
              "        }\n",
              "      </script>\n",
              "    </div>\n",
              "  </div>\n",
              "  "
            ]
          },
          "metadata": {},
          "execution_count": 53
        }
      ]
    },
    {
      "cell_type": "code",
      "source": [
        "# Примеры\n",
        "import random\n",
        "pd.set_option('display.max_colwidth', 200)\n",
        "(corpus_topic_lda[corpus_topic_lda['Document'].isin(\n",
        "    [random.randint(0,1455) for _ in range(10)])])"
      ],
      "metadata": {
        "colab": {
          "base_uri": "https://localhost:8080/",
          "height": 754
        },
        "id": "YlA7K_dlc11s",
        "outputId": "e322476c-863b-4793-fe29-373d40ce8d9f"
      },
      "execution_count": null,
      "outputs": [
        {
          "output_type": "execute_result",
          "data": {
            "text/plain": [
              "      Document  Dominant Topic  Contribution %  \\\n",
              "420        420               4           60.27   \n",
              "483        483              11           42.42   \n",
              "585        585              11           37.95   \n",
              "774        774               9           76.15   \n",
              "967        967              13           49.57   \n",
              "1112      1112               2           65.20   \n",
              "1225      1225               4           55.20   \n",
              "1250      1250               4           82.39   \n",
              "1268      1268               8           71.61   \n",
              "1325      1325              11           61.63   \n",
              "\n",
              "                                                                                                                                         Topic Desc  \\\n",
              "420          king, queen, princess, prince, fairy, upon, think, great, love, good, cry, palace, much, long, hear, must, may, never, beautiful, soon   \n",
              "483                      king, upon, great, hear, hand, long, like, prince, sea, eye, old, night, love, cry, land, heart, may, never, mountain, pas   \n",
              "585                      king, upon, great, hear, hand, long, like, prince, sea, eye, old, night, love, cry, land, heart, may, never, mountain, pas   \n",
              "774   sultan, princess, palace, great, prince, may, son, much, return, emperor, leave, mother, reply, soon, good, place, ask, think, without, slave   \n",
              "967                  man, house, get, wife, back, jack, mother, night, begin, may, father, girl, child, good, leave, ask, great, place, think, must   \n",
              "1112                  upon, man, king, great, two, place, bring, order, head, god, long, city, hand, thee, may, thus, however, good, father, answer   \n",
              "1225         king, queen, princess, prince, fairy, upon, think, great, love, good, cry, palace, much, long, hear, must, may, never, beautiful, soon   \n",
              "1250         king, queen, princess, prince, fairy, upon, think, great, love, good, cry, palace, much, long, hear, must, may, never, beautiful, soon   \n",
              "1268                          man, boy, great, like, bear, tree, long, cat, people, back, dog, get, old, good, bird, wolf, call, think, hear, child   \n",
              "1325                     king, upon, great, hear, hand, long, like, prince, sea, eye, old, night, love, cry, land, heart, may, never, mountain, pas   \n",
              "\n",
              "                                                                                                                                                                                                        Paper  \n",
              "420     The King of the Low Countries was not a very scrupulous person, and his daughter took after him. This was why she had been changed into a serpent. It had been prophesied that she should be deliv...  \n",
              "483   ]  'Twit! twit,' cried a voice just above her; and the swallow fluttered to the ground beside her. 'You look sad; are you _really_ going to let that ugly mole marry you?'  'I shall soon die, that ...  \n",
              "585     When Desire thought they could no longer catch him, he pulled his horse into a walk, like a prudent man who knows he has far to go. He travelled in this way for many weeks, passing by villages, ...  \n",
              "774      There formerly reigned in the city of Harran a most magnificent and potent sultan, who loved his subjects, and was equally beloved by them. He was endued with all virtues, and wanted nothing to...  \n",
              "967   . Kriza, xviii.   The Hungarians have had a Dr. Faust in the person of Professor Hatvani, but in his case he got the best of the bargain; see _A Magyar Fauszt_, by Maurus Jókai. The Hungarian prof...  \n",
              "1112  THE KING OF THE ANTS\\n\\n\\nOnce upon a time there was a scholar, who wandered away from his home\\nand went to Emmet village. There stood a house which was said to be\\nhaunted. Yet it was beautifull...  \n",
              "1225     Violette was about to reply, when a kind of roaring was heard in the air, and they saw descend a chariot made of crocodile's skin, drawn by fifty enormous toads. All the toads were hissing and ...  \n",
              "1250     While Rosette was thus sleeping peacefully, the king, the queen, and Orangine and Roussette, purple with rage, were quarrelling and disputing amongst themselves. Each was accusing the other of ...  \n",
              "1268   was drawing nigh, and the Fianna-Finn had decided to hunt no more that day. The hounds were whistled to heel, and a sober, homeward march began. For men will walk soberly in the evening, however ...  \n",
              "1325     By the river Kingin stands the great stone image, or Miryek, that was cut out of the solid rock ages ago. Its base lies far beneath the ground and around its granite cap many feet square the st...  "
            ],
            "text/html": [
              "\n",
              "  <div id=\"df-4edcad26-01af-40ba-bd68-a07d4d671908\">\n",
              "    <div class=\"colab-df-container\">\n",
              "      <div>\n",
              "<style scoped>\n",
              "    .dataframe tbody tr th:only-of-type {\n",
              "        vertical-align: middle;\n",
              "    }\n",
              "\n",
              "    .dataframe tbody tr th {\n",
              "        vertical-align: top;\n",
              "    }\n",
              "\n",
              "    .dataframe thead th {\n",
              "        text-align: right;\n",
              "    }\n",
              "</style>\n",
              "<table border=\"1\" class=\"dataframe\">\n",
              "  <thead>\n",
              "    <tr style=\"text-align: right;\">\n",
              "      <th></th>\n",
              "      <th>Document</th>\n",
              "      <th>Dominant Topic</th>\n",
              "      <th>Contribution %</th>\n",
              "      <th>Topic Desc</th>\n",
              "      <th>Paper</th>\n",
              "    </tr>\n",
              "  </thead>\n",
              "  <tbody>\n",
              "    <tr>\n",
              "      <th>420</th>\n",
              "      <td>420</td>\n",
              "      <td>4</td>\n",
              "      <td>60.27</td>\n",
              "      <td>king, queen, princess, prince, fairy, upon, think, great, love, good, cry, palace, much, long, hear, must, may, never, beautiful, soon</td>\n",
              "      <td>The King of the Low Countries was not a very scrupulous person, and his daughter took after him. This was why she had been changed into a serpent. It had been prophesied that she should be deliv...</td>\n",
              "    </tr>\n",
              "    <tr>\n",
              "      <th>483</th>\n",
              "      <td>483</td>\n",
              "      <td>11</td>\n",
              "      <td>42.42</td>\n",
              "      <td>king, upon, great, hear, hand, long, like, prince, sea, eye, old, night, love, cry, land, heart, may, never, mountain, pas</td>\n",
              "      <td>]  'Twit! twit,' cried a voice just above her; and the swallow fluttered to the ground beside her. 'You look sad; are you _really_ going to let that ugly mole marry you?'  'I shall soon die, that ...</td>\n",
              "    </tr>\n",
              "    <tr>\n",
              "      <th>585</th>\n",
              "      <td>585</td>\n",
              "      <td>11</td>\n",
              "      <td>37.95</td>\n",
              "      <td>king, upon, great, hear, hand, long, like, prince, sea, eye, old, night, love, cry, land, heart, may, never, mountain, pas</td>\n",
              "      <td>When Desire thought they could no longer catch him, he pulled his horse into a walk, like a prudent man who knows he has far to go. He travelled in this way for many weeks, passing by villages, ...</td>\n",
              "    </tr>\n",
              "    <tr>\n",
              "      <th>774</th>\n",
              "      <td>774</td>\n",
              "      <td>9</td>\n",
              "      <td>76.15</td>\n",
              "      <td>sultan, princess, palace, great, prince, may, son, much, return, emperor, leave, mother, reply, soon, good, place, ask, think, without, slave</td>\n",
              "      <td>There formerly reigned in the city of Harran a most magnificent and potent sultan, who loved his subjects, and was equally beloved by them. He was endued with all virtues, and wanted nothing to...</td>\n",
              "    </tr>\n",
              "    <tr>\n",
              "      <th>967</th>\n",
              "      <td>967</td>\n",
              "      <td>13</td>\n",
              "      <td>49.57</td>\n",
              "      <td>man, house, get, wife, back, jack, mother, night, begin, may, father, girl, child, good, leave, ask, great, place, think, must</td>\n",
              "      <td>. Kriza, xviii.   The Hungarians have had a Dr. Faust in the person of Professor Hatvani, but in his case he got the best of the bargain; see _A Magyar Fauszt_, by Maurus Jókai. The Hungarian prof...</td>\n",
              "    </tr>\n",
              "    <tr>\n",
              "      <th>1112</th>\n",
              "      <td>1112</td>\n",
              "      <td>2</td>\n",
              "      <td>65.20</td>\n",
              "      <td>upon, man, king, great, two, place, bring, order, head, god, long, city, hand, thee, may, thus, however, good, father, answer</td>\n",
              "      <td>THE KING OF THE ANTS\\n\\n\\nOnce upon a time there was a scholar, who wandered away from his home\\nand went to Emmet village. There stood a house which was said to be\\nhaunted. Yet it was beautifull...</td>\n",
              "    </tr>\n",
              "    <tr>\n",
              "      <th>1225</th>\n",
              "      <td>1225</td>\n",
              "      <td>4</td>\n",
              "      <td>55.20</td>\n",
              "      <td>king, queen, princess, prince, fairy, upon, think, great, love, good, cry, palace, much, long, hear, must, may, never, beautiful, soon</td>\n",
              "      <td>Violette was about to reply, when a kind of roaring was heard in the air, and they saw descend a chariot made of crocodile's skin, drawn by fifty enormous toads. All the toads were hissing and ...</td>\n",
              "    </tr>\n",
              "    <tr>\n",
              "      <th>1250</th>\n",
              "      <td>1250</td>\n",
              "      <td>4</td>\n",
              "      <td>82.39</td>\n",
              "      <td>king, queen, princess, prince, fairy, upon, think, great, love, good, cry, palace, much, long, hear, must, may, never, beautiful, soon</td>\n",
              "      <td>While Rosette was thus sleeping peacefully, the king, the queen, and Orangine and Roussette, purple with rage, were quarrelling and disputing amongst themselves. Each was accusing the other of ...</td>\n",
              "    </tr>\n",
              "    <tr>\n",
              "      <th>1268</th>\n",
              "      <td>1268</td>\n",
              "      <td>8</td>\n",
              "      <td>71.61</td>\n",
              "      <td>man, boy, great, like, bear, tree, long, cat, people, back, dog, get, old, good, bird, wolf, call, think, hear, child</td>\n",
              "      <td>was drawing nigh, and the Fianna-Finn had decided to hunt no more that day. The hounds were whistled to heel, and a sober, homeward march began. For men will walk soberly in the evening, however ...</td>\n",
              "    </tr>\n",
              "    <tr>\n",
              "      <th>1325</th>\n",
              "      <td>1325</td>\n",
              "      <td>11</td>\n",
              "      <td>61.63</td>\n",
              "      <td>king, upon, great, hear, hand, long, like, prince, sea, eye, old, night, love, cry, land, heart, may, never, mountain, pas</td>\n",
              "      <td>By the river Kingin stands the great stone image, or Miryek, that was cut out of the solid rock ages ago. Its base lies far beneath the ground and around its granite cap many feet square the st...</td>\n",
              "    </tr>\n",
              "  </tbody>\n",
              "</table>\n",
              "</div>\n",
              "      <button class=\"colab-df-convert\" onclick=\"convertToInteractive('df-4edcad26-01af-40ba-bd68-a07d4d671908')\"\n",
              "              title=\"Convert this dataframe to an interactive table.\"\n",
              "              style=\"display:none;\">\n",
              "        \n",
              "  <svg xmlns=\"http://www.w3.org/2000/svg\" height=\"24px\"viewBox=\"0 0 24 24\"\n",
              "       width=\"24px\">\n",
              "    <path d=\"M0 0h24v24H0V0z\" fill=\"none\"/>\n",
              "    <path d=\"M18.56 5.44l.94 2.06.94-2.06 2.06-.94-2.06-.94-.94-2.06-.94 2.06-2.06.94zm-11 1L8.5 8.5l.94-2.06 2.06-.94-2.06-.94L8.5 2.5l-.94 2.06-2.06.94zm10 10l.94 2.06.94-2.06 2.06-.94-2.06-.94-.94-2.06-.94 2.06-2.06.94z\"/><path d=\"M17.41 7.96l-1.37-1.37c-.4-.4-.92-.59-1.43-.59-.52 0-1.04.2-1.43.59L10.3 9.45l-7.72 7.72c-.78.78-.78 2.05 0 2.83L4 21.41c.39.39.9.59 1.41.59.51 0 1.02-.2 1.41-.59l7.78-7.78 2.81-2.81c.8-.78.8-2.07 0-2.86zM5.41 20L4 18.59l7.72-7.72 1.47 1.35L5.41 20z\"/>\n",
              "  </svg>\n",
              "      </button>\n",
              "      \n",
              "  <style>\n",
              "    .colab-df-container {\n",
              "      display:flex;\n",
              "      flex-wrap:wrap;\n",
              "      gap: 12px;\n",
              "    }\n",
              "\n",
              "    .colab-df-convert {\n",
              "      background-color: #E8F0FE;\n",
              "      border: none;\n",
              "      border-radius: 50%;\n",
              "      cursor: pointer;\n",
              "      display: none;\n",
              "      fill: #1967D2;\n",
              "      height: 32px;\n",
              "      padding: 0 0 0 0;\n",
              "      width: 32px;\n",
              "    }\n",
              "\n",
              "    .colab-df-convert:hover {\n",
              "      background-color: #E2EBFA;\n",
              "      box-shadow: 0px 1px 2px rgba(60, 64, 67, 0.3), 0px 1px 3px 1px rgba(60, 64, 67, 0.15);\n",
              "      fill: #174EA6;\n",
              "    }\n",
              "\n",
              "    [theme=dark] .colab-df-convert {\n",
              "      background-color: #3B4455;\n",
              "      fill: #D2E3FC;\n",
              "    }\n",
              "\n",
              "    [theme=dark] .colab-df-convert:hover {\n",
              "      background-color: #434B5C;\n",
              "      box-shadow: 0px 1px 3px 1px rgba(0, 0, 0, 0.15);\n",
              "      filter: drop-shadow(0px 1px 2px rgba(0, 0, 0, 0.3));\n",
              "      fill: #FFFFFF;\n",
              "    }\n",
              "  </style>\n",
              "\n",
              "      <script>\n",
              "        const buttonEl =\n",
              "          document.querySelector('#df-4edcad26-01af-40ba-bd68-a07d4d671908 button.colab-df-convert');\n",
              "        buttonEl.style.display =\n",
              "          google.colab.kernel.accessAllowed ? 'block' : 'none';\n",
              "\n",
              "        async function convertToInteractive(key) {\n",
              "          const element = document.querySelector('#df-4edcad26-01af-40ba-bd68-a07d4d671908');\n",
              "          const dataTable =\n",
              "            await google.colab.kernel.invokeFunction('convertToInteractive',\n",
              "                                                     [key], {});\n",
              "          if (!dataTable) return;\n",
              "\n",
              "          const docLinkHtml = 'Like what you see? Visit the ' +\n",
              "            '<a target=\"_blank\" href=https://colab.research.google.com/notebooks/data_table.ipynb>data table notebook</a>'\n",
              "            + ' to learn more about interactive tables.';\n",
              "          element.innerHTML = '';\n",
              "          dataTable['output_type'] = 'display_data';\n",
              "          await google.colab.output.renderOutput(dataTable, element);\n",
              "          const docLink = document.createElement('div');\n",
              "          docLink.innerHTML = docLinkHtml;\n",
              "          element.appendChild(docLink);\n",
              "        }\n",
              "      </script>\n",
              "    </div>\n",
              "  </div>\n",
              "  "
            ]
          },
          "metadata": {},
          "execution_count": 57
        }
      ]
    },
    {
      "cell_type": "markdown",
      "source": [
        "Напротив, модель LDA справилась гораздо лучше. Видны явные тематики как скандинавские мифы и русские сказки. Также это видно по примерам текстов."
      ],
      "metadata": {
        "id": "KnaOrP1oyis2"
      }
    },
    {
      "cell_type": "markdown",
      "source": [
        "####Визуализация"
      ],
      "metadata": {
        "id": "xfDSblVUhZME"
      }
    },
    {
      "cell_type": "code",
      "source": [
        "!pip install pyldavis"
      ],
      "metadata": {
        "id": "SVVHuDg2hark"
      },
      "execution_count": null,
      "outputs": []
    },
    {
      "cell_type": "code",
      "source": [
        "import pyLDAvis\n",
        "import pyLDAvis.gensim_models as pld_gns\n",
        "import dill\n",
        "import warnings"
      ],
      "metadata": {
        "colab": {
          "base_uri": "https://localhost:8080/"
        },
        "id": "0sm5lSmRh0R3",
        "outputId": "9ffa0830-bc5b-4593-9d2d-42d123c66214"
      },
      "execution_count": null,
      "outputs": [
        {
          "output_type": "stream",
          "name": "stderr",
          "text": [
            "/usr/local/lib/python3.7/dist-packages/past/types/oldstr.py:5: DeprecationWarning: Using or importing the ABCs from 'collections' instead of from 'collections.abc' is deprecated since Python 3.3,and in 3.9 it will stop working\n",
            "  from collections import Iterable\n"
          ]
        }
      ]
    },
    {
      "cell_type": "code",
      "source": [
        "warnings.filterwarnings('ignore')\n",
        "pyLDAvis.enable_notebook()\n",
        "pld_gns.prepare(best_lda_model, bow_corpus, dictionary)"
      ],
      "metadata": {
        "colab": {
          "base_uri": "https://localhost:8080/",
          "height": 861
        },
        "id": "vAob0F__h0yX",
        "outputId": "519b90ad-9de2-40c7-8ac5-cd7f33309a0d"
      },
      "execution_count": null,
      "outputs": [
        {
          "output_type": "execute_result",
          "data": {
            "text/plain": [
              "PreparedData(topic_coordinates=              x         y  topics  cluster       Freq\n",
              "topic                                                \n",
              "10     0.103381  0.031882       1        1  13.433398\n",
              "13     0.034642 -0.030576       2        1  11.518898\n",
              "5     -0.071516 -0.037984       3        1  10.568751\n",
              "3      0.066882 -0.078751       4        1  10.102769\n",
              "12     0.008041 -0.036731       5        1   8.608730\n",
              "7     -0.001705  0.068119       6        1   6.112893\n",
              "1      0.121324 -0.028438       7        1   5.111870\n",
              "8      0.105940 -0.144913       8        1   4.788958\n",
              "6     -0.030607 -0.010267       9        1   4.314200\n",
              "16    -0.084865 -0.025214      10        1   3.839679\n",
              "17     0.113212  0.163151      11        1   3.501277\n",
              "11    -0.065774  0.065347      12        1   3.471914\n",
              "2     -0.009334  0.073133      13        1   2.756558\n",
              "14    -0.046193  0.052029      14        1   2.687899\n",
              "18    -0.167465 -0.008890      15        1   2.319911\n",
              "9     -0.006074  0.045038      16        1   2.166760\n",
              "15     0.080024 -0.017431      17        1   2.098245\n",
              "4     -0.066694 -0.027204      18        1   1.573844\n",
              "0     -0.083220 -0.052299      19        1   1.023447, topic_info=         Term         Freq        Total Category  logprob  loglift\n",
              "254      king  8751.000000  8751.000000  Default  30.0000  30.0000\n",
              "295       man  6307.000000  6307.000000  Default  29.0000  29.0000\n",
              "891  princess  4621.000000  4621.000000  Default  28.0000  28.0000\n",
              "992     giant  1763.000000  1763.000000  Default  27.0000  27.0000\n",
              "890    prince  4638.000000  4638.000000  Default  26.0000  26.0000\n",
              "..        ...          ...          ...      ...      ...      ...\n",
              "38      begin    51.628275  3046.467379  Topic19  -5.3043   0.5043\n",
              "539       way    50.268216  3382.015889  Topic19  -5.3310   0.3731\n",
              "32       back    50.618560  4525.391874  Topic19  -5.3241   0.0889\n",
              "269     leave    48.546576  3534.512460  Topic19  -5.3659   0.2942\n",
              "320      must    48.199767  3616.584267  Topic19  -5.3730   0.2641\n",
              "\n",
              "[1382 rows x 6 columns], token_table=      Topic      Freq     Term\n",
              "term                          \n",
              "4130      1  0.201963   aboard\n",
              "4130      6  0.040393   aboard\n",
              "4130      8  0.161570   aboard\n",
              "4130     12  0.565497   aboard\n",
              "1334      1  0.113896  address\n",
              "...     ...       ...      ...\n",
              "2008     12  0.002162    youth\n",
              "2008     13  0.004323    youth\n",
              "2008     14  0.018735    youth\n",
              "2008     16  0.125379    youth\n",
              "2008     17  0.015852    youth\n",
              "\n",
              "[8542 rows x 3 columns], R=30, lambda_step=0.01, plot_opts={'xlab': 'PC1', 'ylab': 'PC2'}, topic_order=[11, 14, 6, 4, 13, 8, 2, 9, 7, 17, 18, 12, 3, 15, 19, 10, 16, 5, 1])"
            ],
            "text/html": [
              "\n",
              "<link rel=\"stylesheet\" type=\"text/css\" href=\"https://cdn.jsdelivr.net/gh/bmabey/pyLDAvis@3.3.1/pyLDAvis/js/ldavis.v1.0.0.css\">\n",
              "\n",
              "\n",
              "<div id=\"ldavis_el5373139668842213712516636091\"></div>\n",
              "<script type=\"text/javascript\">\n",
              "\n",
              "var ldavis_el5373139668842213712516636091_data = {\"mdsDat\": {\"x\": [0.10338127436122628, 0.03464183461409829, -0.07151596908432985, 0.06688205439006104, 0.00804051029751274, -0.0017045125913304475, 0.12132415198343277, 0.10594017377103414, -0.030606882996640845, -0.08486488988334755, 0.113211901499776, -0.06577399221467277, -0.00933447880599923, -0.0461928635011144, -0.16746475703757416, -0.0060740840194561255, 0.08002380595971392, -0.06669358830700171, -0.0832196884353886], \"y\": [0.03188231968319097, -0.0305764385389038, -0.03798417992628763, -0.07875086937387964, -0.03673094860921588, 0.06811907694379257, -0.028438262112194128, -0.144912683786798, -0.0102670480345078, -0.025214300876179388, 0.16315092036685305, 0.06534735044833666, 0.07313251657891766, 0.052029008836671914, -0.00889031848621877, 0.04503819658675377, -0.017431086857500073, -0.027204211607820477, -0.052299041235011334], \"topics\": [1, 2, 3, 4, 5, 6, 7, 8, 9, 10, 11, 12, 13, 14, 15, 16, 17, 18, 19], \"cluster\": [1, 1, 1, 1, 1, 1, 1, 1, 1, 1, 1, 1, 1, 1, 1, 1, 1, 1, 1], \"Freq\": [13.433397642268515, 11.51889755339248, 10.568751311761925, 10.10276938669274, 8.608730019774326, 6.1128929435994195, 5.111869892469193, 4.788958209140704, 4.314199790549507, 3.8396786827058547, 3.5012768902395233, 3.4719138801148457, 2.756557750141946, 2.687898513900085, 2.319910873301753, 2.1667602234130015, 2.0982451966477402, 1.5738442645131832, 1.0234469753732458]}, \"tinfo\": {\"Term\": [\"king\", \"man\", \"princess\", \"giant\", \"prince\", \"get\", \"girl\", \"horse\", \"queen\", \"daughter\", \"sea\", \"thee\", \"story\", \"home\", \"brother\", \"god\", \"cat\", \"mother\", \"good\", \"fairy\", \"sultan\", \"fish\", \"wife\", \"poor\", \"thy\", \"child\", \"son\", \"water\", \"think\", \"fox\", \"portal\", \"deserted\", \"violet\", \"gnome\", \"refuge\", \"tang\", \"peach\", \"horizon\", \"morn\", \"venerable\", \"vine\", \"suffice\", \"tumult\", \"compass\", \"thrill\", \"starry\", \"rapture\", \"michael\", \"check\", \"winged\", \"oer\", \"billow\", \"yon\", \"triumphant\", \"moat\", \"lightning_flash\", \"dynasty\", \"solemn\", \"boulder\", \"fern\", \"lantern\", \"moor\", \"icy\", \"ferocious\", \"cloud\", \"mysterious\", \"pine_tree\", \"music\", \"gem\", \"star\", \"mortal\", \"centre\", \"glow\", \"art\", \"yellow\", \"flower\", \"elf\", \"storm\", \"mountain\", \"land\", \"brave\", \"wave\", \"gaze\", \"dark\", \"rise\", \"air\", \"sea\", \"upon\", \"light\", \"arm\", \"strange\", \"blue\", \"wind\", \"dream\", \"seem\", \"heart\", \"face\", \"love\", \"great\", \"pas\", \"hear\", \"hand\", \"white\", \"return\", \"eye\", \"king\", \"black\", \"voice\", \"long\", \"night\", \"old\", \"foot\", \"like\", \"cry\", \"prince\", \"grow\", \"never\", \"stand\", \"may\", \"life\", \"child\", \"way\", \"man\", \"still\", \"father\", \"paul\", \"riddle\", \"half_kingdom\", \"lady_waiting\", \"everything_happen\", \"gardener\", \"beyond_measure\", \"dreamt\", \"following_morning\", \"waistcoat\", \"cypress\", \"goal\", \"try_luck\", \"giantess\", \"lovely_maiden\", \"quake\", \"sunrise\", \"faithful_servant\", \"failure\", \"continue_journey\", \"suite\", \"swine\", \"disposal\", \"royal_palace\", \"handsome_youth\", \"onwards\", \"cross_road\", \"groaning\", \"mate\", \"old_witch\", \"princess\", \"letter\", \"youth\", \"suitor\", \"king\", \"troll\", \"prince\", \"flask\", \"castle\", \"royal\", \"ring\", \"young_man\", \"beast\", \"seven\", \"daughter\", \"palace\", \"sword\", \"lion\", \"three\", \"beautiful\", \"young\", \"tree\", \"dog\", \"wish\", \"ask\", \"must\", \"father\", \"till\", \"back\", \"way\", \"order\", \"lie\", \"long\", \"two\", \"great\", \"let\", \"answer\", \"hear\", \"head\", \"think\", \"hand\", \"first\", \"last\", \"get\", \"man\", \"son\", \"may\", \"turnip\", \"farmhouse\", \"sausage\", \"potato\", \"rabbit\", \"date\", \"farmer\", \"donkey\", \"job\", \"dollar\", \"farthing\", \"breech\", \"customer\", \"rascal\", \"scolding\", \"penny\", \"cabbage\", \"housewife\", \"beetle\", \"landlord\", \"nap\", \"snare\", \"trouser\", \"chicken\", \"soup\", \"larder\", \"chatter\", \"gold_piece\", \"uncomfortable\", \"red_cap\", \"farm\", \"mr\", \"cheese\", \"thief\", \"old_man\", \"oh_dear\", \"sack\", \"money\", \"goose\", \"buy\", \"dinner\", \"big\", \"get\", \"kitchen\", \"poor\", \"wolf\", \"good\", \"think\", \"work\", \"oh\", \"old_woman\", \"wife\", \"want\", \"man\", \"run\", \"house\", \"quite\", \"home\", \"laugh\", \"cry\", \"old\", \"eat\", \"like\", \"back\", \"put\", \"begin\", \"much\", \"last\", \"thing\", \"ask\", \"never\", \"must\", \"away\", \"way\", \"let\", \"soon\", \"hear\", \"long\", \"ambassador\", \"natural_shape\", \"peacock\", \"charming\", \"portrait\", \"steward\", \"madam\", \"sweetmeat\", \"natural_form\", \"graciously\", \"chariot_draw\", \"sire\", \"displease\", \"queen\", \"parrot\", \"devoted\", \"amiable\", \"fairy\", \"partridge\", \"turkey\", \"superb\", \"spiteful\", \"looking_glass\", \"avenue\", \"displeased\", \"pink\", \"garret\", \"insensible\", \"carbuncle\", \"profound\", \"nurse\", \"snow_white\", \"chariot\", \"fifteen_year\", \"beauty\", \"tenderly\", \"marvellous\", \"princess\", \"king\", \"godmother\", \"kingdom\", \"lovely\", \"prince\", \"contain\", \"happy\", \"love\", \"pretty\", \"marry\", \"diamond\", \"enchanter\", \"palace\", \"lady\", \"really\", \"unhappy\", \"quite\", \"upon\", \"beautiful\", \"court\", \"dress\", \"much\", \"think\", \"cry\", \"nothing\", \"soon\", \"good\", \"great\", \"send\", \"wish\", \"never\", \"long\", \"hear\", \"must\", \"last\", \"may\", \"answer\", \"hand\", \"back\", \"like\", \"shall\", \"leave\", \"ogre\", \"jack\", \"shroud\", \"idiot\", \"doll\", \"hood\", \"coffin\", \"japanese\", \"corpse\", \"agreement\", \"ghost\", \"grandchild\", \"priest\", \"kitten\", \"adopt\", \"goody\", \"victor\", \"bean\", \"dig_hole\", \"thirteen\", \"hermit\", \"relative\", \"aspen\", \"lid\", \"butterfly\", \"impudent\", \"perspiration\", \"pavement\", \"pilgrim\", \"river_bank\", \"soldier\", \"robber\", \"jar\", \"oil\", \"village\", \"gradually\", \"house\", \"skull\", \"wife\", \"family\", \"husband\", \"box\", \"cottage\", \"man\", \"mother\", \"girl\", \"money\", \"child\", \"night\", \"back\", \"get\", \"begin\", \"reply\", \"place\", \"boy\", \"happen\", \"father\", \"till\", \"leave\", \"live\", \"may\", \"woman\", \"ask\", \"home\", \"good\", \"answer\", \"must\", \"great\", \"think\", \"never\", \"hand\", \"long\", \"way\", \"hear\", \"like\", \"belgian\", \"belgium\", \"story_teller\", \"ireland\", \"bill\", \"pulse\", \"tint\", \"tribe\", \"deer\", \"whisker\", \"snarl\", \"em\", \"jest\", \"tuft\", \"reindeer\", \"salmon\", \"spider\", \"prowl\", \"stew\", \"buzz\", \"buffalo\", \"pounce\", \"runner\", \"legged\", \"belly\", \"hound\", \"jolly\", \"chief\", \"curly\", \"champion\", \"flag\", \"dr\", \"boy\", \"hunter\", \"hare\", \"hag\", \"game\", \"clay\", \"animal\", \"cat\", \"paw\", \"fur\", \"lion\", \"wolf\", \"bear\", \"dog\", \"baby\", \"sky\", \"ye\", \"man\", \"people\", \"great\", \"tree\", \"like\", \"bird\", \"food\", \"land\", \"kill\", \"long\", \"many\", \"old\", \"call\", \"back\", \"earth\", \"child\", \"good\", \"get\", \"live\", \"eat\", \"think\", \"hear\", \"eye\", \"woman\", \"never\", \"away\", \"head\", \"way\", \"caliph\", \"bagdad\", \"thou_mayest\", \"scholar\", \"prophet\", \"discharge\", \"whereon\", \"establish\", \"pavilion\", \"duke\", \"caravan\", \"stork\", \"route\", \"brick\", \"hundred_thousand\", \"deliverance\", \"turban\", \"examination\", \"regiment\", \"monk\", \"elephant\", \"bale\", \"inscription\", \"official\", \"thou_knowest\", \"embark\", \"rapidity\", \"lofty\", \"horseman\", \"period\", \"hath\", \"tent\", \"leader\", \"empire\", \"latter\", \"proceed\", \"log\", \"city\", \"vizier\", \"moreover\", \"damsel\", \"nevertheless\", \"upon\", \"thus\", \"forth\", \"lord\", \"companion\", \"however\", \"command\", \"hundred\", \"thou\", \"man\", \"thee\", \"god\", \"thy\", \"order\", \"therefore\", \"enter\", \"king\", \"gate\", \"two\", \"great\", \"place\", \"bring\", \"head\", \"merchant\", \"also\", \"send\", \"long\", \"hand\", \"people\", \"may\", \"master\", \"answer\", \"good\", \"father\", \"three\", \"like\", \"soon\", \"eye\", \"sultan\", \"inclination\", \"discourse\", \"shew\", \"endeavour\", \"design\", \"principal\", \"affliction\", \"grand_vizier\", \"considerable\", \"communicate\", \"expose\", \"resolution\", \"notwithstanding\", \"contract\", \"lamp\", \"impostor\", \"comprehend\", \"executioner\", \"offer_service\", \"affect\", \"execute\", \"enrich\", \"favourable\", \"transport\", \"diamond_ruby\", \"vizier\", \"capable\", \"precaution\", \"recourse\", \"afterward\", \"slave\", \"satisfaction\", \"magician\", \"extraordinary\", \"majesty\", \"observe\", \"perceive\", \"emperor\", \"inform\", \"retire\", \"apartment\", \"captain\", \"address\", \"palace\", \"immediately\", \"present\", \"desire\", \"honour\", \"troll\", \"return\", \"princess\", \"sir\", \"reply\", \"son\", \"much\", \"may\", \"prince\", \"great\", \"without\", \"mother\", \"soon\", \"leave\", \"place\", \"therefore\", \"order\", \"ask\", \"good\", \"brother\", \"think\", \"answer\", \"upon\", \"bring\", \"shall\", \"two\", \"must\", \"first\", \"prince_ivan\", \"mare\", \"foal\", \"colt\", \"saddle_bridle\", \"shear\", \"neigh\", \"horse_gallop\", \"rode\", \"empress\", \"armor\", \"golden_apple\", \"stable\", \"groom\", \"horse_ride\", \"saddle\", \"steed\", \"horse\", \"gallop\", \"peter\", \"cauldron\", \"tar\", \"mace\", \"sharpen\", \"bridle\", \"loan\", \"coachman\", \"loop\", \"ride\", \"blue_sea\", \"hill_dale\", \"smith\", \"herd\", \"hare\", \"copper\", \"twelve\", \"prince\", \"brother\", \"oak\", \"troll\", \"three\", \"get\", \"youth\", \"ask\", \"golden\", \"master\", \"back\", \"home\", \"sister\", \"son\", \"let\", \"sit\", \"fly\", \"king\", \"third\", \"like\", \"young\", \"castle\", \"begin\", \"stand\", \"away\", \"head\", \"must\", \"way\", \"two\", \"stepmother\", \"frog\", \"weaving\", \"silver_bell\", \"spinning_wheel\", \"flax\", \"walnut\", \"cinder\", \"towel\", \"nightingale\", \"spinning\", \"bull\", \"spindle\", \"spin\", \"pond\", \"step_mother\", \"wove\", \"yarn\", \"tinkle\", \"wise_woman\", \"upstairs\", \"loom\", \"hazel\", \"coach\", \"jug\", \"finery\", \"thread\", \"pretty_girl\", \"wool\", \"croak\", \"girl\", \"peter\", \"shoe\", \"sing\", \"sister\", \"bride\", \"daughter\", \"dress\", \"mother\", \"weep\", \"wash\", \"church\", \"beautiful\", \"woman\", \"witch\", \"eye\", \"sit\", \"pretty\", \"father\", \"home\", \"maiden\", \"two\", \"tree\", \"bird\", \"cry\", \"lady\", \"young\", \"silver\", \"marry\", \"door\", \"water\", \"get\", \"want\", \"ask\", \"put\", \"house\", \"three\", \"away\", \"old\", \"wife\", \"sigurd\", \"apollo\", \"diana\", \"olympus\", \"translation\", \"goddess\", \"deathless\", \"nymph\", \"evermore\", \"fearless\", \"immortal\", \"friday\", \"create\", \"hoard\", \"shalt_thou\", \"pan\", \"smite\", \"assuredly\", \"dweller\", \"skazkas\", \"piteous\", \"exquisite\", \"tradition\", \"strife\", \"shaft\", \"connect\", \"passing\", \"god\", \"shadowy\", \"attribute\", \"scorn\", \"perfect\", \"slay\", \"reed\", \"helmet\", \"erin\", \"hero\", \"fierce\", \"grey\", \"love\", \"sword\", \"heart\", \"earth\", \"fair\", \"yet\", \"river\", \"soul\", \"death\", \"whose\", \"evil\", \"flame\", \"man\", \"mighty\", \"beauty\", \"race\", \"great\", \"hand\", \"may\", \"grow\", \"eye\", \"life\", \"still\", \"like\", \"thing\", \"water\", \"son\", \"upon\", \"ever\", \"white\", \"speak\", \"father\", \"name\", \"mother\", \"old_peter\", \"maroosia\", \"vanya\", \"han\", \"fisherman\", \"fisher\", \"fishing\", \"simpleton\", \"bottom_sea\", \"overboard\", \"liver\", \"anchor\", \"fish\", \"net\", \"mast\", \"sailor\", \"sail\", \"ship\", \"aboard\", \"timber\", \"crew\", \"shell\", \"nibble\", \"ashore\", \"oar\", \"saucer\", \"quench\", \"harbour\", \"tea\", \"birch_tree\", \"sea\", \"boat\", \"shore\", \"bell\", \"island\", \"dragon\", \"salt\", \"row\", \"wave\", \"water\", \"snow\", \"river\", \"swallow\", \"hut\", \"green\", \"wife\", \"old\", \"like\", \"man\", \"sit\", \"want\", \"great\", \"home\", \"good\", \"think\", \"old_man\", \"mother\", \"get\", \"back\", \"still\", \"stand\", \"ask\", \"head\", \"asgard\", \"frey\", \"loki\", \"odin\", \"midgard\", \"dweller_asgard\", \"jotunheim\", \"freya\", \"porridge\", \"wanderer\", \"frost\", \"shoemaker\", \"barber\", \"thatch\", \"hammer\", \"thor\", \"defence\", \"ransom\", \"raven_fly\", \"shirt\", \"rune\", \"bellow\", \"hoard\", \"fearfully\", \"crackle\", \"fir_tree\", \"spake\", \"recompense\", \"freeze\", \"cunne\", \"giant\", \"dwarf\", \"forge\", \"raven\", \"son\", \"thy\", \"king\", \"maiden\", \"bear\", \"falcon\", \"put\", \"hall\", \"daughter\", \"thee\", \"fire\", \"thing\", \"house\", \"great\", \"head\", \"speak\", \"hand\", \"leave\", \"back\", \"father\", \"upon\", \"get\", \"may\", \"man\", \"bring\", \"brother\", \"ask\", \"shall\", \"stand\", \"way\", \"tsar\", \"moujik\", \"dost_thou\", \"wherefore\", \"ivan\", \"hast_thou\", \"thou_didst\", \"didst_thou\", \"thereof\", \"perchance\", \"nobleman\", \"thou_dost\", \"thou_shalt\", \"wild_boar\", \"rouble\", \"canst\", \"fin\", \"thou_canst\", \"sheaf\", \"thee_thy\", \"huntsman\", \"thou_hast\", \"thee\", \"art_thou\", \"thou_wilt\", \"thou\", \"thyself\", \"nay\", \"aye\", \"thou_art\", \"thy\", \"serpent\", \"wheat\", \"thine\", \"dog\", \"ti\", \"brother\", \"hut\", \"let\", \"till\", \"cry\", \"slay\", \"wife\", \"shall\", \"upon\", \"begin\", \"get\", \"oh\", \"home\", \"lie\", \"man\", \"water\", \"father\", \"good\", \"back\", \"sit\", \"way\", \"horse\", \"away\", \"son\", \"pancake\", \"grandmother\", \"squeak\", \"butcher\", \"wedge\", \"ax\", \"hen\", \"wicked_witch\", \"calf\", \"fry\", \"crumb\", \"slit\", \"misery\", \"hay\", \"peasant\", \"tavern\", \"cock\", \"nut\", \"squirrel\", \"cart\", \"barrel\", \"christen\", \"broth\", \"shovel\", \"devil\", \"chip\", \"hungry_thirsty\", \"cat\", \"ball\", \"musician\", \"jar\", \"pear\", \"duck\", \"egg\", \"meat\", \"bite\", \"mouse\", \"wood\", \"fat\", \"eat\", \"child\", \"get\", \"fox\", \"brother\", \"forest\", \"good\", \"home\", \"house\", \"think\", \"run\", \"master\", \"nothing\", \"must\", \"back\", \"leave\", \"begin\", \"giant\", \"poor\", \"work\", \"never\", \"long\", \"wife\", \"john\", \"wallet\", \"thor\", \"pupil\", \"giant\", \"tailor\", \"roman\", \"shepherd\", \"rusty\", \"fireplace\", \"shudder\", \"bake_cake\", \"card\", \"apprentice\", \"earthly\", \"tomorrow\", \"cask\", \"loop\", \"scullion\", \"left_hand\", \"monster\", \"hunger_thirst\", \"deliverer\", \"prowess\", \"scotland\", \"contest\", \"jaw\", \"hawk\", \"slippery\", \"lance\", \"club\", \"horn\", \"seek_fortune\", \"goat\", \"cake\", \"young_man\", \"youth\", \"serpent\", \"murmur\", \"castle\", \"blow\", \"cook\", \"dragon\", \"head\", \"mountain\", \"iron\", \"cat\", \"strike\", \"throw\", \"rock\", \"stand\", \"stone\", \"two\", \"may\", \"man\", \"put\", \"like\", \"answer\", \"king\", \"three\", \"great\", \"back\", \"get\", \"think\", \"ask\", \"bring\", \"hand\", \"cf\", \"folk_lore\", \"friis\", \"vol\", \"magyar\", \"ja\", \"variant\", \"grimm_vol\", \"vol_ii\", \"pp\", \"folk_tale\", \"lapp_story\", \"vernaleken\", \"norse\", \"ib\", \"ii\", \"finnish_story\", \"pentamerone\", \"gubernatis_vol\", \"stoke\", \"dasent\", \"cf_also\", \"iii\", \"erdelyi\", \"serbian\", \"payne_arabian\", \"old_deccan\", \"denton\", \"kriza\", \"saga\", \"finnish\", \"und\", \"version\", \"der\", \"quote\", \"russian\", \"og\", \"modern\", \"slavonic\", \"tale\", \"story\", \"legend\", \"baba_yaga\", \"grimm\", \"devil\", \"similar\", \"collection\", \"page\", \"note\", \"demon\", \"afanasief\", \"hero\", \"also\", \"three\", \"witch\", \"lad\", \"girl\", \"two\", \"water\", \"appear\", \"man\", \"part\", \"old_man\", \"wife\", \"father\", \"brother\", \"become\", \"get\", \"son\", \"baker\", \"mamma\", \"young_fellow\", \"dough\", \"miller\", \"owl\", \"fret\", \"rosy\", \"oven\", \"clover\", \"bay\", \"plough\", \"counsellor\", \"poisonous\", \"stack\", \"flea\", \"lace\", \"flour\", \"wheat\", \"raven\", \"loaf\", \"shrub\", \"red_blood\", \"doctor\", \"ell\", \"dwarf\", \"fortress\", \"undress\", \"scour\", \"student\", \"white_snow\", \"dame\", \"seven\", \"bread\", \"lad\", \"pigeon\", \"straw\", \"poison\", \"fair\", \"girl\", \"poor\", \"bed\", \"dear\", \"home\", \"mother\", \"man\", \"child\", \"name\", \"house\", \"call\", \"good\", \"get\", \"think\", \"away\", \"cry\", \"begin\", \"let\", \"like\", \"never\", \"back\", \"wife\", \"put\", \"may\", \"monkey\", \"tortoise\", \"turtle\", \"ram\", \"crab\", \"mill\", \"build_nest\", \"grind\", \"mule\", \"student\", \"drum\", \"seed\", \"sack\", \"tavern\", \"lapp\", \"sow\", \"stump\", \"three_hundred\", \"stag\", \"naked\", \"murderer\", \"reindeer\", \"elephant\", \"orange\", \"warrant\", \"greyhound\", \"ripen\", \"chat\", \"convenient\", \"eagle_fly\", \"parrot\", \"shoemaker\", \"fox\", \"dove\", \"honey\", \"man\", \"rich\", \"wind\", \"get\", \"poor\", \"friend\", \"duck\", \"goat\", \"good\", \"wife\", \"ask\", \"reply\", \"brother\", \"away\", \"think\", \"home\", \"long\", \"begin\", \"way\", \"back\", \"leave\", \"must\"], \"Freq\": [8751.0, 6307.0, 4621.0, 1763.0, 4638.0, 5441.0, 2539.0, 2686.0, 2603.0, 3015.0, 1849.0, 1199.0, 1281.0, 3166.0, 2512.0, 1359.0, 1097.0, 3046.0, 4542.0, 1777.0, 685.0, 934.0, 3047.0, 2112.0, 919.0, 2596.0, 3046.0, 2820.0, 4426.0, 864.0, 25.093613416423896, 16.256880051148734, 100.05949282898047, 99.14631592138205, 16.954188034472704, 31.054802396913978, 69.60148788556425, 29.64245470498682, 34.24429672952195, 30.303260571736523, 83.25883292498838, 14.057250304289498, 19.956020119815506, 19.839054620357075, 19.336389870691345, 18.210499718471226, 17.48630645559081, 106.26073568006825, 21.834323108447002, 16.54125232250303, 18.042880649987595, 17.124354662009544, 17.050146092143482, 12.628187728216128, 27.529315976840127, 14.809602626252962, 23.978236905498903, 42.920104321068926, 17.39989182396826, 21.59970958592087, 53.60032502662189, 107.57287938256928, 30.556314136194512, 22.906200643762574, 252.05933390362716, 59.73938283421622, 42.50157449480757, 192.64020940041894, 62.802239276100664, 185.62756502272438, 134.23377533430494, 52.67574759385235, 62.13572719452462, 109.62855319415989, 163.71073195260556, 324.30839436011905, 67.65639083499646, 135.12805586151183, 411.84452338119377, 450.9927125617174, 175.5548815971139, 201.31419560628768, 160.88403661584965, 271.50459025815763, 356.79102622722513, 284.967892248202, 492.498052581103, 812.6130536311498, 359.72390953946984, 338.80316412283366, 242.0149355261962, 215.36308698044388, 287.78017522595286, 231.10952567934976, 397.28648526716404, 442.382248669437, 366.9098672959928, 462.51412377489333, 794.1797099542518, 405.033445685223, 625.7720568669953, 562.9335366992693, 357.41742417411444, 393.02487134144883, 491.70302368479776, 866.203855072526, 317.4792218521816, 308.85399640277046, 533.3972163996043, 477.73738431833044, 479.89695250862985, 361.48824894207553, 509.1589935532207, 459.84923415146073, 506.4724853912805, 376.79023779020986, 429.85736902421297, 400.8031326096818, 439.14848355399863, 357.8009706972402, 369.97912834895493, 378.3900731303393, 389.7973917922726, 362.58622308504437, 362.29023005561015, 146.25260313919568, 50.8876740406988, 46.73804175216603, 31.171029022423223, 31.276826887473224, 66.99257736655551, 15.689801610105816, 33.65645711680406, 14.19306703524328, 21.969723062359822, 17.098381788858322, 9.987214850743946, 26.232656007324415, 49.32943444029425, 33.50025274312348, 12.440890485497851, 63.90678985656914, 16.370284372678974, 11.105052506227711, 32.496984923747476, 10.393373613456607, 22.191815895141435, 10.136687978596365, 23.49965791441527, 17.937483088597514, 12.504032174375304, 14.837389235588521, 10.379659327440976, 27.445425240203818, 102.04019491586297, 2221.5808154693555, 122.56253764975281, 616.156639834815, 60.76679170155089, 3235.4783582965365, 237.60962614718068, 1736.4033004222867, 46.60872493290687, 640.8787083242323, 199.95520881705704, 325.64431105249685, 276.0316487895083, 218.9517049546036, 220.1530498690864, 759.9479871381226, 516.8020699447349, 261.5002016096614, 135.28238566171626, 619.0562764554965, 501.3259447708197, 509.0098375442631, 519.7998110920018, 337.1443174724484, 351.8079771066864, 675.1392915641519, 600.394421826712, 589.0717875197546, 413.6492161708861, 662.7079998879458, 548.9157319827135, 338.75332425989006, 418.6901392440626, 534.7743074601686, 500.0991482102888, 600.7266270549164, 454.83174884250286, 439.4919737167749, 495.41435763470315, 468.5054619400224, 521.1738733264582, 468.14538239571823, 417.771430095267, 438.2346624019981, 510.9410050065491, 529.6372125522456, 429.7575221232198, 435.66320229977225, 98.90559262786535, 25.96640080438466, 38.80801573355885, 32.7802331080838, 292.4484807707381, 65.31669750059694, 394.5132262897686, 124.12483710535629, 24.14476959811025, 40.329586201639536, 13.930588180972476, 15.987989646716356, 34.975078769711466, 46.0733299767863, 17.308996174395862, 47.20063462749568, 68.38704317776755, 12.662848498725547, 37.78200612838371, 38.140160258900096, 21.30248606639124, 34.9919498301216, 17.14149064603814, 46.326683103063665, 76.44057061603336, 14.349617368287, 44.459371409017045, 67.2573939366866, 17.4206686079396, 33.434804651942194, 92.32900102579949, 132.11964675972243, 51.14839720235057, 118.55864844099882, 701.8254734289461, 68.10927009691432, 181.88952472623743, 353.95439784259696, 109.71118213693373, 211.37810280660412, 183.09214036700484, 375.1569875005864, 1289.3972785348992, 141.34181044913612, 595.9664251748942, 350.5109032711887, 1004.9867154130022, 958.9784470385378, 397.5188225604059, 382.64566534264867, 374.8565552494044, 626.0398708454226, 480.90928977063703, 1000.5464421280954, 511.24013462486164, 592.4066439161882, 386.7522887444779, 594.5442609678273, 294.65905173423215, 631.9226385271428, 602.6266352969499, 442.66425670246656, 618.5227956744391, 634.8343013289385, 485.81071369864185, 498.1100788847414, 462.30856478960646, 488.89580750486084, 431.54289364116966, 541.6642386050247, 497.5409834258144, 508.6835258494026, 469.5898697011205, 470.67661075303107, 432.44651313138206, 418.5082699096758, 432.59906448147103, 433.89310353694054, 75.09621074841006, 15.954268562891997, 53.22899033483793, 214.322764641555, 76.49879423756857, 33.67205489279927, 162.89800998687463, 18.949570349415062, 20.303634941485704, 24.955772906043318, 19.88667175273116, 55.314646361617804, 12.24090470689207, 1763.1047863869912, 58.945983498134574, 18.304861105068674, 25.54880436213641, 1151.145708045643, 14.359465725632264, 27.52583452256733, 18.573577247920376, 11.789833103539081, 22.653760439290732, 16.304222075474133, 10.421381157374414, 64.63404676917081, 16.207978107514744, 13.807082051417959, 17.54061536036218, 11.847173618279289, 161.1751922271471, 57.01579803739539, 125.24162791048347, 23.926815961275867, 299.9468419179979, 45.5393479768457, 44.84172394813069, 1521.1520945220184, 2419.875867942302, 45.634813040134155, 275.5699309685168, 239.18141470061371, 1173.4542063062318, 95.37769465571968, 266.88511404458814, 516.0965289573671, 254.8389146152643, 369.3485253818958, 110.80250202247167, 68.70815987586428, 458.0751620054957, 301.35994808098667, 196.3230357109357, 101.93623910623506, 352.89431043970467, 638.0081812312555, 402.7088751594882, 196.09670571000424, 271.0696644932446, 443.9482545338533, 584.1775959654079, 496.00114656453655, 370.58032879941265, 393.7780556691462, 513.8705686233116, 528.0734446669966, 318.75445912936834, 297.6881258074362, 407.67347625376004, 433.19471455288743, 422.83777731195045, 412.9413308999128, 377.95985667893973, 408.1883053824611, 349.3321436191371, 363.9806605697196, 376.3389232313404, 370.1913181416935, 350.4529068642561, 351.63896679213315, 190.97296218499127, 515.4848129294636, 29.054337295336907, 23.788421691333884, 51.33328846757521, 31.59498248562097, 107.65172752346517, 21.80179457807212, 86.92144940530045, 16.142747429250534, 47.660298805144926, 15.943192387259867, 175.45380360027264, 29.193066868065856, 17.290049692700627, 13.960850190412078, 34.889986574841984, 30.549183153128755, 10.394312092376829, 12.908467090207223, 51.78820164104519, 25.04733013376129, 15.375856739163376, 47.811356730856055, 47.985113270164334, 8.373132277764938, 8.447436797146716, 11.979975291351156, 12.418406158745647, 18.342671832752906, 299.31475197438976, 185.89254150259146, 58.900491542297964, 55.62082923392297, 203.53884957215652, 47.5574811550262, 646.5512360576964, 37.98843379207357, 601.8478957669003, 114.8814622791175, 265.59398049667107, 124.00977356593422, 96.05746082677683, 781.4582462971308, 469.1054269475949, 408.5737020566855, 194.42715918366724, 398.6720409179469, 444.31400422836657, 571.0692063874938, 620.807559961587, 423.5936640647098, 294.4685293110178, 377.69264259112987, 290.8096531714941, 244.35857557921412, 414.0433813297802, 295.63687470997274, 391.00982713280325, 329.4254114414599, 417.46309555897625, 284.6141675463445, 390.5399256523042, 339.8062711849762, 393.765926057909, 308.44045925265584, 341.57423024036154, 382.94252726749266, 361.92406881241527, 323.91549209873034, 326.3744085479883, 329.74613171334784, 316.6035378074716, 309.8219875078819, 303.66002849282245, 81.17775582276107, 50.179043933200596, 55.99781428638956, 126.70029122728558, 75.32120260665137, 19.395658609053452, 16.459541569398436, 48.626652922119646, 142.0829218889019, 30.03756201103291, 19.61708489301708, 47.63970112578122, 42.877554428180034, 12.94567031188871, 44.50257506611998, 41.833184381260764, 43.1082169644778, 12.76171089003282, 17.78517581423025, 12.009898007223118, 26.61327066399129, 14.055922014020311, 28.15816252435011, 18.571857129605398, 11.227837526593436, 92.51860968583333, 19.585594960572294, 214.09848874521325, 13.131905842457636, 43.826521121077405, 35.66008502503778, 22.93542387603954, 757.4262851373857, 105.27614394797781, 175.70646293153234, 36.32160293268254, 96.59595192445035, 33.61784941655867, 179.06485456617233, 362.7270117486978, 64.8107122056239, 67.25371268517705, 133.21102029786493, 287.26096159224477, 428.97976387006656, 327.85329203822215, 142.7371988636317, 163.63160599147085, 112.8710627793518, 814.0152629104145, 349.8074828297791, 615.4916922243851, 397.57660705424985, 516.7621461478401, 291.5232672324436, 162.9446527269583, 240.93087979009275, 224.34332899992802, 379.98433980489955, 253.16471222487522, 319.40339418433047, 282.0687540396264, 338.1993681191073, 191.52370847131084, 258.229681598711, 315.83173992101575, 320.45042224951675, 245.8187009138819, 224.2269540262368, 277.56783347695597, 259.9928433463414, 236.92644525905015, 220.71864438303578, 238.06443822112496, 228.0418747439905, 225.97783688513357, 224.10051036378403, 141.89635305904312, 47.710439388434445, 21.958757925914863, 99.11889745739013, 52.3982862724857, 18.56687346970684, 17.052341458750483, 12.05460266169288, 21.15670694550984, 95.05365360963492, 25.75777892964552, 61.352406176772575, 15.00280578319442, 34.85406434531741, 15.491536346603631, 25.47666425283346, 31.030840715758494, 12.730926980605537, 17.84581702662252, 41.92941540411387, 32.745041369754844, 17.341948496908824, 12.411933412546786, 16.960225612518805, 13.008411565547677, 19.368504664113598, 10.44461312675603, 32.22454901250538, 48.122711519338786, 20.080762211471612, 63.309080055438166, 70.37452537269273, 32.029387783871265, 33.59996726568285, 92.23301786592751, 79.65347507843157, 67.1305158194505, 193.11385681947684, 45.84721168500944, 38.44193299191874, 38.920806134476514, 46.41905685603277, 572.4570559264731, 183.56648567829808, 127.2468485341257, 155.83396093175932, 95.20811673673902, 182.6327366560764, 119.71937889506404, 112.7015354979873, 136.90776121768522, 547.4153896292704, 191.6096458059959, 206.22229372427395, 154.73770942756022, 213.2469382585313, 99.75141529535752, 153.28831823739282, 448.4797906710093, 118.78310511676644, 264.143894638704, 295.5934884979732, 224.19408732095974, 213.38015840209707, 209.78942373454353, 116.71346954400548, 154.13386991937386, 160.39370664538916, 203.9505931042311, 193.09270443723312, 164.26733479517188, 190.86235424804136, 148.2260977439644, 164.95399596678652, 175.57356698849378, 166.5779698115434, 155.30435408427405, 159.72061150761786, 153.60019205371833, 150.52914641193556, 678.6822695882723, 22.916606529437118, 34.08466063699535, 43.40989798211739, 41.15342496093961, 65.62924222175909, 30.9689269807899, 27.607208097550192, 78.7017374229824, 27.21614356025678, 16.72177402042905, 40.128677490692766, 29.940866435300002, 37.67574278565278, 13.77848437452618, 145.63296445913173, 21.27512345391056, 17.7122788351108, 20.617503481594294, 13.882291707750248, 14.975168001099409, 35.435518262443296, 11.836034866842969, 12.40137961070946, 43.648843985236425, 13.987846115237842, 65.60788123278806, 18.53853603486071, 19.221260120440547, 11.348253854419346, 70.49625443680222, 218.83245063558329, 36.72199301835152, 215.78709224290967, 49.333286077434806, 173.25360027239802, 85.70153263061582, 118.90935437768589, 273.9530142841741, 91.01127468356164, 73.48881299157152, 78.51625047769221, 121.36938206277227, 69.62187418256114, 391.4894936567865, 165.399761603732, 207.9738932094198, 155.7672627005645, 90.55235576236196, 140.7076692808034, 287.23120873601334, 481.2008036247825, 108.38702740573666, 261.12286303941477, 341.8070134097116, 303.85174440043494, 362.8396259802245, 364.52661786470463, 382.92794137471464, 225.75963545633556, 270.32724811382184, 247.7078903556794, 271.3953088794538, 235.51260467875954, 116.29239274077892, 178.26916048279682, 232.41597991255549, 240.27254599756165, 196.4575191766707, 229.0347532122356, 200.9860941068509, 218.26243193757372, 204.41750074099733, 204.9788958238567, 207.6358067540446, 196.02966564075606, 184.74838131603096, 281.1240109263258, 242.1941585256357, 179.61137560230028, 61.99324330168711, 15.693076414081858, 24.051165808913613, 30.026823340411976, 19.902609069099707, 15.729790422088849, 38.347803665190774, 53.447893222674885, 61.536699406221935, 206.9150056744361, 40.975238991100156, 37.44441401029199, 121.53532796237381, 110.19085878742598, 1310.9313999423682, 85.68317711970852, 62.47735488159836, 35.029264637584326, 28.211258360469653, 26.543054072459167, 19.836599298793967, 53.8552047408508, 16.630650405499768, 28.39653736245182, 14.516691239060009, 507.11473277099833, 21.319867396726686, 26.50817391698167, 48.873992293877365, 77.71547911794217, 139.08259750373736, 63.64767649141152, 147.0968414608804, 633.496090594579, 379.06850702210505, 53.091567647514815, 125.06456249984855, 371.85870114689016, 557.9484010328234, 231.44657457760368, 400.10676909489405, 208.86923233493687, 216.37604330751984, 386.3480069398027, 310.9891519384429, 199.73743686217182, 284.60043458901106, 275.9492792477276, 272.07852758984797, 198.08021529903914, 355.1250351269211, 129.4609658745757, 259.07000610155336, 194.2553825948374, 171.6635224591783, 199.88797844077052, 194.37071012681008, 197.72746312380448, 197.10062454744244, 200.2607334994679, 194.17753243269604, 185.35785126896667, 154.27180359858937, 264.00466917628114, 34.44337359898409, 36.44358398549468, 46.27929350434499, 69.25225719186406, 41.50070992109802, 36.39706044852525, 28.765217764673604, 77.49863521660221, 31.02910538394621, 142.21849407916366, 39.15651708303099, 185.3392094066514, 74.81903011190587, 68.07179474794668, 13.105836206455756, 20.72757069972103, 22.279273229415182, 31.60607981376246, 36.71580418184472, 35.7537408099838, 11.239059153108528, 80.06195983443654, 23.7286870405455, 8.667638455336432, 83.71029073373889, 28.671739686198965, 31.104928155568587, 32.26577308777347, 1071.4407630450596, 56.97365479625444, 198.6195570811972, 237.68782258286106, 545.019953157106, 246.48986072889895, 868.6838164862621, 328.80038483713884, 652.690475641788, 165.85582630568445, 109.00661839802248, 136.9094165026163, 363.18423897817746, 345.565245392274, 162.24631303594086, 387.2588638698048, 390.6138394713897, 180.65200332187842, 427.8806511939928, 371.8796057700562, 206.35459132469288, 356.6697369897566, 300.868713965538, 246.79655448277614, 319.85534392302094, 183.96652801355845, 237.49836206271442, 156.0471248921127, 191.03454871126974, 197.62871848546106, 231.69685953560014, 271.2042596796498, 205.94712417346184, 233.43276433010448, 216.5747160574451, 217.06729526226692, 214.9622328144271, 216.9168882899513, 203.1391160122236, 201.49215240634368, 262.31648908478064, 117.10294609930985, 45.07635321629262, 33.046645128503364, 30.411112223051727, 116.20871644409162, 22.3788757129252, 83.31949813130136, 22.021557425627254, 28.351565036410186, 45.494446702293246, 33.351967017796156, 24.76856082843736, 38.608536637538194, 14.487970861059491, 94.4042357577672, 18.491145349542922, 10.847424551813345, 11.340676693314567, 29.632217061351962, 20.43729417778686, 26.437982993788765, 32.52747959733713, 11.530145924721623, 17.316469831702157, 21.23154603514602, 9.246556256235099, 694.0894150925973, 15.574146800897609, 15.053176485657712, 27.19068448130548, 60.64676013225593, 144.26465474645627, 36.849946762085814, 43.99963041481164, 30.422735239338117, 111.92381774736099, 54.12637831237858, 87.23459501994951, 321.07478108093466, 177.99550437701498, 291.83632756830616, 202.4674579927238, 139.57854582746046, 230.9927518543422, 171.58967721845463, 90.48544862867503, 170.9700477871287, 140.53544337757322, 109.41346962970718, 83.55575626053543, 384.61416845415016, 90.36640941506955, 112.3400288797719, 63.19916127021625, 256.7765611256531, 207.26386042095442, 217.32453150196102, 161.29700088621445, 180.76273790961346, 153.37607352885297, 161.87343961099833, 200.17247594797865, 158.87620315494084, 165.83363024498252, 167.27722582961957, 171.24329106162003, 144.89851559832863, 134.23592162086197, 137.21639478736884, 145.9999117114779, 131.21287830394152, 134.78845652357688, 90.58629985699268, 55.42787698403749, 51.09785478487116, 208.62643510547548, 204.40272520531786, 40.362367860384126, 71.01717365688754, 92.81624494171415, 22.967675848838535, 20.28360925627734, 41.19324473108941, 28.99505194881335, 657.0852449011848, 144.20934557492245, 38.70480261433487, 89.82766940333707, 249.90512760334292, 488.0643194159501, 14.401617225090657, 21.515681216699207, 35.18447687299394, 94.66093050011858, 20.57710750517872, 39.32599626917164, 22.50713416936275, 22.802800508174457, 18.651000632686866, 9.64027846001745, 29.896009197831027, 24.66019923712213, 793.4670515798789, 221.12797381844996, 183.86311519460526, 126.44379942536655, 159.07678932684362, 271.3717365560737, 62.82409110966673, 69.88718242547911, 148.64348942028366, 471.5908728060267, 116.0697373963943, 178.5252409142673, 84.36311467563701, 137.83065686255293, 147.40482704086284, 269.84500743397905, 277.4784233130709, 284.2611767062493, 327.5827719210588, 230.42960053170324, 194.26146311245006, 250.99832079029414, 198.16048052401257, 215.18354305413624, 205.64435768331026, 157.78372983822524, 167.86754267640202, 183.13586768856365, 171.3114950405234, 154.81834075996767, 155.07954534042233, 155.61030687797768, 154.64092249612324, 199.32143031846692, 65.12580676519082, 333.12899703941883, 298.4146161875131, 34.403608373691696, 72.05446897226548, 54.726481661575214, 80.53751470563708, 77.17270740200657, 40.483364096242425, 85.17888183205454, 36.523237966464244, 44.91878509528366, 13.186572078219866, 73.22149268460386, 115.82397175258254, 10.001159876442268, 14.719216937101969, 10.919920466727794, 58.920349968880316, 10.09888168844823, 14.793843501556248, 24.941079210572177, 7.131480708817271, 13.350949528533953, 15.74092697713565, 12.954819171565866, 12.49286943547365, 28.982261410663256, 13.52524727645133, 450.8554511071202, 117.05914040999392, 24.880862035134385, 56.900436344629405, 349.2981554892096, 142.32939142937556, 699.5278401960311, 144.33154085658853, 189.98078491357208, 28.046211344960287, 211.15397500818662, 86.49472873673952, 208.1104671143482, 120.30736324923562, 130.4967685693719, 167.36287768691582, 183.80260954637598, 228.64914901377205, 175.89547686615018, 135.7108307389107, 171.95900376147094, 172.1295452643876, 176.0412253606596, 162.94344251095166, 166.3920418448349, 168.10367141157894, 153.5119762644348, 163.84779452649448, 142.68325527664211, 137.684382870562, 146.43859480492333, 138.6488478344973, 136.7070458665288, 138.08186573629797, 222.48804405850396, 94.98132797710339, 94.21662457467556, 42.2432553811643, 179.34174642832718, 63.681273078100276, 41.011532126755775, 27.70596034107978, 16.769947076188007, 21.7121371472813, 76.94018035500939, 51.097109888923434, 105.9957781420847, 37.05783215576855, 30.183717765060766, 16.049929553999064, 52.44519111023404, 48.469056096033775, 22.28258877337287, 31.73662038669023, 78.64763831963425, 119.01167934645662, 675.6628065630065, 45.545230685881336, 100.3623083019895, 345.2397187910498, 43.700539111795024, 62.40579132632632, 12.902074484559407, 100.52324099022441, 409.8637210235972, 181.40806980529842, 60.102896389494795, 51.83182261849442, 258.21647286514985, 54.177561373692875, 280.96151603543285, 130.54560366320723, 247.5209026660183, 204.22262857946689, 226.80855571563694, 82.68565390885759, 185.42370116680863, 187.54017944219723, 201.14045254366903, 176.6518787557581, 198.57479065677035, 125.09775014043126, 151.11007750883215, 134.11915287932064, 166.06415175132386, 130.56389724317708, 134.47996833647628, 138.31674184215612, 135.3552272109095, 127.79988975623013, 125.81078053138171, 122.11180595759988, 120.03262625914985, 119.53547281571879, 57.05098132076018, 167.8733139560734, 17.602971456645147, 78.50334009311382, 21.247888669232545, 32.89655256844214, 135.74832439109414, 18.03433025374268, 63.81963867442758, 30.457582028336535, 23.62182377773846, 9.843813145010921, 66.90583038272207, 68.87762473654983, 167.27556527400748, 28.618350253681434, 119.50276386651464, 62.57047484679202, 33.0841028510516, 81.48447403860081, 65.9103117282876, 11.121442566182846, 20.014975818657057, 15.364212624980238, 199.59113136409837, 9.81920916300081, 7.263684427973341, 397.87913639159524, 96.6130002111709, 47.02776462567291, 42.37675335686344, 25.410207003103803, 73.80086625479676, 97.90878023445184, 87.3989031758171, 70.1456970975008, 129.9410637111842, 217.1248076238826, 67.41807126713057, 234.6359844285417, 261.56822694055325, 389.3456588384221, 133.1955463000768, 219.3802573890583, 162.88900483776837, 262.64192900861804, 183.59847041674115, 167.40037584792992, 184.14830359252215, 147.91664812881749, 131.2148925116774, 143.90005680311967, 144.54545783994854, 141.69534045844287, 133.1570494253477, 124.30067399011863, 104.80236329083253, 106.58722138226867, 101.77022180867795, 108.67292745115225, 107.96284596316212, 105.44228200428783, 177.91176503561002, 24.28497129881267, 138.83954149054287, 21.84930534773219, 796.5836612948598, 107.20556454653965, 15.760049582865326, 111.30332121902052, 12.05509443936935, 8.525386392583059, 42.696665460795224, 9.133294800874877, 23.374727373994386, 17.19494927222841, 9.77368256988186, 8.817685917858885, 36.51793576168668, 10.795436726312252, 12.19154423724939, 20.124138933361905, 106.34770235156527, 5.678696675852786, 15.996242284606003, 4.901278903221586, 11.487665382522398, 9.195731083432833, 26.955330953450858, 23.25054734347881, 5.443036496096836, 24.54590707132932, 37.04744950924119, 83.02903059706904, 19.05437651189728, 73.11792599265473, 62.76072157714947, 111.84458885326679, 173.89165416482544, 68.0589927397586, 39.87210228855057, 190.4831344187693, 94.67498429924902, 69.6355547979676, 106.5267833505448, 214.06888130981767, 99.70960075497716, 65.47484788240747, 90.74108054514596, 73.1551103643191, 104.63529598321365, 65.71144637614132, 118.16785730799936, 86.66056939232436, 128.57375676268504, 133.9181166789916, 159.04147983771205, 115.0738943359231, 131.15798354649533, 102.38520626320529, 139.27721311714478, 96.55870913457203, 107.25057289505655, 101.69754628719585, 103.2406721092484, 98.40843448933164, 91.90165076601593, 89.86502043542424, 89.91289621001276, 153.46081413740401, 97.51249675787471, 65.53939389137007, 76.00940271542109, 56.60637863985421, 45.98605314155067, 55.354924767253266, 36.211152948158635, 39.0154179816459, 144.61221720616356, 76.00716147719704, 31.327767574989537, 31.32009182992132, 34.07070598379743, 28.376193192433124, 91.58273576809708, 24.492610803086244, 24.473919768826146, 23.502833889372507, 22.534844587951877, 48.81493212756934, 22.52972990381889, 55.12884729913948, 19.599292331527028, 19.577157624818692, 19.584599081156625, 20.514836906429423, 18.62482724001655, 18.594502344731712, 17.627534492590186, 53.729714669841755, 32.30112692286293, 34.53073500475907, 58.30730986319382, 48.719793548354986, 126.72328838871002, 53.428937525078965, 38.31942178098226, 38.70062070175368, 295.15403673037207, 496.71745600244526, 66.03519347106692, 104.74498242387429, 65.09751790832492, 165.85727134335244, 58.25405070442271, 45.099474835222075, 108.58478876972329, 98.41758015502667, 87.71622298624202, 55.64991535226502, 117.20157621650701, 216.22784097204638, 169.9359976506787, 99.56092899275862, 92.28602838921802, 124.18873554982251, 118.6664534865408, 109.75775963654924, 91.16705549641846, 111.6922556503883, 83.00894836086863, 88.59290414324494, 94.69063899602696, 95.49215933665779, 86.89790327591409, 81.07998106521501, 78.41239189546175, 77.37256644631776, 48.01866414443197, 34.987015256153434, 59.03674207772316, 11.606440605168991, 135.33034720962283, 64.65409297611347, 9.70100026860061, 65.9809345958488, 58.45345617896641, 13.44713255839337, 28.90719450154451, 35.93729420322346, 17.646723897020813, 12.734801781545114, 12.46910058492821, 10.143128629293672, 22.17041141071242, 21.486274391112666, 47.910649752503865, 79.2851671486274, 36.66130899674557, 8.351628376063756, 10.862188455057153, 46.44542236405906, 8.060518208919516, 128.53288645206285, 11.90330723795288, 10.31668360432753, 4.994982679814706, 28.321202850080386, 14.82602040073883, 14.13491630037056, 99.48356833786258, 79.68482263031002, 84.57955345306864, 36.470035525632056, 39.71288107523765, 23.221500566900662, 69.38739357136545, 140.40807245809754, 111.80042244768649, 85.03266196280687, 87.43214205994906, 116.55651459289147, 111.99744587575616, 152.21058436392303, 100.86764917981996, 76.05886109357812, 101.47103017394161, 96.02785908420005, 110.16684703099865, 115.34049167785591, 106.90706030808433, 93.89060826593959, 95.41589406636894, 84.13835397449058, 80.16903892787577, 75.77654043857919, 73.71783269341073, 74.24624109223981, 71.28571247838545, 70.60453969920876, 70.69456037072683, 303.223845072874, 88.10384890944061, 107.77370294344084, 94.43780367507718, 92.05920761611843, 157.22804567056906, 13.421785114274572, 52.572639129222374, 89.90338121994476, 49.27932047697509, 33.4120392337989, 37.12038936727741, 104.41813996886067, 16.08246143271444, 8.639832884067571, 21.79439380623473, 12.295813717286766, 16.39561548195826, 21.54113806624239, 9.68873775133141, 10.999376656378148, 14.75122114681475, 11.22335318568655, 17.941224527098452, 2.767054407224024, 4.974517579211613, 6.143751150419554, 6.774189562144062, 3.4947970370335772, 5.080984248128872, 13.463424427899223, 10.621195719801293, 104.02839222036445, 26.568436102645116, 17.421433887501994, 367.9281048172423, 61.17304569138641, 54.58360284547491, 151.19414839661368, 84.66652858825877, 52.521370278398145, 24.340296876450054, 29.130923308632763, 88.86007776123404, 64.60466302406728, 66.8037286180443, 46.942701122182086, 52.217655908594224, 56.31936229728799, 60.95689807377336, 53.27124312774011, 56.17757603864473, 51.62827453972184, 50.268215780758844, 50.61856018376831, 48.546575941697526, 48.19976748830147], \"Total\": [8751.0, 6307.0, 4621.0, 1763.0, 4638.0, 5441.0, 2539.0, 2686.0, 2603.0, 3015.0, 1849.0, 1199.0, 1281.0, 3166.0, 2512.0, 1359.0, 1097.0, 3046.0, 4542.0, 1777.0, 685.0, 934.0, 3047.0, 2112.0, 919.0, 2596.0, 3046.0, 2820.0, 4426.0, 864.0, 26.08454924459412, 17.405394235346588, 107.59615170434408, 106.63721966354422, 18.30982782227041, 34.915256267764875, 78.51676524154354, 33.90911646770219, 39.61943861753197, 35.97764245288224, 100.09352260718482, 17.052732487472184, 24.228202778801823, 24.176899255282123, 24.217503288505473, 23.257855550891446, 22.368354964296884, 136.27130734541498, 28.07617044086854, 21.33977239915903, 23.28809343652502, 22.294568663912603, 22.276522213458744, 16.508195939215934, 36.070503096082625, 19.435731773600917, 32.14691836172764, 57.56710454866126, 23.352936894057578, 29.227628860857376, 72.88019242751707, 148.64826459621372, 41.829024759962735, 31.19091283320885, 452.47388275221806, 91.82966445528379, 62.712972256075595, 369.7575412551389, 100.97567644887178, 372.55753236273534, 256.7018996701372, 83.28988184893245, 103.825017954364, 210.3736159333661, 350.89295165597, 839.2283575121153, 115.92587548657416, 285.27880567481196, 1261.8691839724265, 1432.2108729369702, 417.9755839013694, 507.60103319322764, 375.57784246663977, 772.2466183442134, 1123.4682630304633, 834.617640544123, 1849.3515965634886, 3957.0208778470874, 1218.2295331565188, 1117.393263783407, 697.5920833230292, 589.6573135157, 910.2452576816416, 661.541839846552, 1552.998312377506, 1857.4403631039054, 1391.4033599071722, 2027.138596337308, 5166.51207625944, 1689.660278223316, 3706.525159017667, 3461.0255486621227, 1490.5422894933174, 1811.2446249614868, 2803.8307064978926, 8751.241972457168, 1230.7330526151368, 1190.4221199472354, 3908.4499005143216, 3089.996904940803, 3397.205329937538, 1764.6791168922257, 4300.948192445627, 3514.5410946011375, 4638.7900595312985, 2059.0354168169542, 3347.2304696565893, 2797.918705067724, 4067.6502184236388, 1840.0039354308472, 2596.557877612979, 3382.0158886529493, 6307.331321106539, 2246.6230013032405, 3618.891638078264, 158.5968067999383, 66.08268687455887, 62.953100401692964, 45.93728410240746, 47.783753220085245, 103.33043576957535, 24.84711367695283, 53.807407690249185, 23.003762764805625, 35.769378803937755, 28.697504262514368, 16.82764487779613, 44.38259691884937, 83.47350154495463, 57.62833395524988, 21.658483038090594, 111.82399050279436, 28.980729307276476, 19.8415840900106, 58.22579969665624, 18.90306377496869, 40.912758682602295, 18.871265842263888, 43.91159748726144, 33.53748294035094, 23.549704824290988, 27.946549351605334, 19.982517382589958, 53.88064097979721, 200.52433478011187, 4621.301623363079, 252.3137394763014, 1387.7970959528545, 124.72785239518385, 8751.241972457168, 534.5019699233115, 4638.7900595312985, 95.47611435640235, 1806.1320586446188, 498.2026543862722, 878.2170863696027, 731.1417453082341, 599.3901643419628, 625.0266346067974, 3015.460911290717, 2028.1707903322656, 880.8557877333437, 382.05841326555753, 2838.4828960762447, 2177.449677819425, 2294.6415402843236, 2593.6237302648183, 1398.3120954237895, 1558.7321567977096, 4036.6104918383235, 3616.584267467859, 3618.891638078264, 2107.9940604338753, 4525.391874357818, 3382.0158886529493, 1660.2099602436426, 2403.5696031628854, 3908.4499005143216, 3475.725366425272, 5166.51207625944, 2918.3290648454836, 2738.976532947688, 3706.525159017667, 3287.214749218751, 4426.152424328817, 3461.0255486621227, 2605.791860618162, 3091.3581292017802, 5441.399280131071, 6307.331321106539, 3046.3294059488453, 4067.6502184236388, 112.06916682548776, 30.922967226164577, 47.18243497303204, 39.9561908631207, 361.99542194528516, 83.72199804908986, 512.0189205919919, 162.9510863124521, 31.862311378994743, 53.93060184743079, 18.90086254124575, 21.920439110494208, 48.09868492656974, 64.05360345631861, 24.88806108322152, 70.723509758247, 106.01892308518046, 19.88569859120821, 59.83655731780343, 60.42062196185472, 33.96127207863818, 56.73207704368904, 28.0350910520426, 75.89508228108367, 127.166009093452, 24.073520415301147, 74.63318550619114, 114.2650863695213, 29.825463961373845, 57.58376095950851, 162.01176857801724, 234.9982077192775, 90.1733056295639, 224.1539410036144, 1567.8509007029813, 124.5659557721313, 386.2752868016198, 883.517426797865, 221.62078438731626, 490.0840577525247, 413.2678380802361, 1083.9391350492392, 5441.399280131071, 325.68718958428053, 2112.7472897430516, 1066.6110306950595, 4542.569774762135, 4426.152424328817, 1384.8641421681589, 1434.2693994338824, 1403.1067750762347, 3047.8297989642074, 2068.389559779543, 6307.331321106539, 2326.2113681483656, 2915.253754021066, 1597.4902787211977, 3166.6614130117437, 1041.8583952641884, 3514.5410946011375, 3397.205329937538, 2111.3730412969517, 4300.948192445627, 4525.391874357818, 2869.434725705399, 3046.4673792956373, 2681.516276033906, 3091.3581292017802, 2360.0871897242387, 4036.6104918383235, 3347.2304696565893, 3616.584267467859, 3299.2842406268564, 3382.0158886529493, 2918.3290648454836, 2657.5563364423233, 3706.525159017667, 3908.4499005143216, 83.81233705193938, 17.85634789202554, 60.61329882618641, 247.19374497408208, 90.49647493323316, 41.82345394700106, 219.29812319263425, 25.825535385342626, 27.894659374007897, 34.7886584534998, 27.794486007175728, 80.65201813021739, 17.86439381953438, 2603.6574718056854, 87.39926052069919, 27.60599582629441, 38.61447754987089, 1777.494892062653, 22.729269064104262, 44.721855122687415, 30.743353734292317, 19.642265252280946, 38.22931844939802, 27.6330603011953, 17.8419431038271, 110.71576227590516, 27.809428831124166, 23.750945253122296, 30.549825652337415, 20.64202975311214, 282.91083722954266, 101.04895366780548, 237.0094906159151, 42.64199186438116, 667.9590434950841, 86.33324504081278, 85.86687770453769, 4621.301623363079, 8751.241972457168, 89.0991041412167, 775.3984416241661, 664.7697628790133, 4638.7900595312985, 218.6990486001886, 834.68416928238, 2027.138596337308, 814.6544755294225, 1429.5848863486785, 282.18114493179587, 148.19563301248172, 2028.1707903322656, 1143.1392202127606, 675.5161449595693, 261.94275766195267, 1597.4902787211977, 3957.0208778470874, 2177.449677819425, 703.6374964390844, 1193.2357889041796, 2681.516276033906, 4426.152424328817, 3514.5410946011375, 2259.143754990679, 2657.5563364423233, 4542.569774762135, 5166.51207625944, 1796.4291411430083, 1558.7321567977096, 3347.2304696565893, 3908.4499005143216, 3706.525159017667, 3616.584267467859, 3091.3581292017802, 4067.6502184236388, 2738.976532947688, 3461.0255486621227, 4525.391874357818, 4300.948192445627, 3144.44622304034, 3534.512460168447, 218.6149006972353, 653.6259775734557, 41.82683210502626, 35.31911877390756, 77.31165592292112, 47.93358053565743, 165.779547017433, 35.008353045688814, 141.20554888336684, 27.417415700285858, 82.41513039304185, 27.603844515640297, 304.17437937767653, 51.85591473868734, 31.14881793618136, 25.292020187277604, 63.97571270528396, 56.82971046715088, 19.711682922151635, 24.50326376464596, 99.18784516658936, 48.015081604521505, 29.48739334717095, 93.11503243057153, 94.0149440904743, 16.430568856981772, 16.60847194303789, 23.641480239444345, 24.517820861747317, 36.226899030280386, 600.7933308205781, 398.25166947222726, 125.12744176112984, 124.54840557555985, 613.841400998261, 113.49131235680659, 2915.253754021066, 90.62778088780513, 3047.8297989642074, 394.21648673638157, 1289.9836326511972, 460.3469037108142, 325.20163700720764, 6307.331321106539, 3046.3100922567005, 2539.593232322594, 883.517426797865, 2596.557877612979, 3089.996904940803, 4525.391874357818, 5441.399280131071, 3046.4673792956373, 1800.0193527513745, 2810.6178492614567, 1847.8569956107767, 1473.5650571734893, 3618.891638078264, 2107.9940604338753, 3534.512460168447, 2607.2168911041304, 4067.6502184236388, 2069.4307088774503, 4036.6104918383235, 3166.6614130117437, 4542.569774762135, 2738.976532947688, 3616.584267467859, 5166.51207625944, 4426.152424328817, 3347.2304696565893, 3461.0255486621227, 3908.4499005143216, 3382.0158886529493, 3706.525159017667, 4300.948192445627, 82.70844314859632, 52.16110978907089, 65.87383305501156, 155.8311000120977, 108.92069985497797, 28.58211833128984, 24.49992704209735, 73.50982889982862, 218.39125825895673, 46.414469661137474, 30.473700184723985, 77.7827450965292, 72.05144718649721, 22.64158811902167, 78.06211168695657, 75.40230751339294, 78.18049244727294, 23.740898326541053, 33.507482341886245, 22.63673089880097, 50.47721117318103, 26.703264713787064, 54.654270280122624, 36.205664759644385, 22.62699868061694, 186.53370507564452, 39.492692820766955, 433.37114011082247, 26.644738710335645, 89.81689783051571, 73.56271408603196, 47.09728348709102, 1847.8569956107767, 231.87500123833334, 422.35657580247266, 77.44397905731284, 235.15709571049263, 71.03770556144077, 477.4936974375248, 1097.4549430923698, 150.86001443289754, 158.52421237055185, 382.05841326555753, 1066.6110306950595, 1832.7116371558627, 1398.3120954237895, 458.60686483128285, 570.547025627201, 339.12871292296876, 6307.331321106539, 2096.706194681632, 5166.51207625944, 2593.6237302648183, 4300.948192445627, 1899.92083039974, 705.390911148859, 1432.2108729369702, 1304.291328349596, 3908.4499005143216, 1882.1889649845052, 3397.205329937538, 2643.8919510479095, 4525.391874357818, 1116.9026997512956, 2596.557877612979, 4542.569774762135, 5441.399280131071, 2607.2168911041304, 2111.3730412969517, 4426.152424328817, 3706.525159017667, 2803.8307064978926, 2069.4307088774503, 3347.2304696565893, 3299.2842406268564, 3287.214749218751, 3382.0158886529493, 144.12387165872593, 49.33111812541451, 24.05810117663498, 115.36524233864219, 64.15421759233571, 26.92901003910496, 24.882107185111426, 17.990716017549403, 32.738240470730624, 147.83038857080808, 41.08392409749889, 98.48190915014781, 24.729107942163484, 60.26034125195877, 26.800854745605935, 44.13284994569631, 54.99870755813894, 22.799035577537282, 32.13900658873095, 75.95365334194958, 59.651905295249364, 31.84854437024626, 23.02445561561521, 31.696708773444303, 24.69316835574255, 37.94704262120755, 20.699579620996886, 65.69755000189718, 99.20791384819002, 41.697870458996505, 132.7597118479189, 148.108025387218, 67.10397798973506, 71.73617348106072, 232.06836608263893, 204.0882736567139, 169.01073520348245, 722.4099020412172, 112.47927118398533, 89.32085007823932, 91.27091082485217, 116.48097137094359, 3957.0208778470874, 840.9210620961197, 528.3291588753224, 729.064220579375, 350.13296590733063, 1001.5660746192084, 513.7058498614903, 468.7041608212708, 648.5390398656798, 6307.331321106539, 1199.219182228499, 1359.3689243547462, 919.3447952267711, 1660.2099602436426, 446.3587458504236, 1027.1783798197237, 8751.241972457168, 641.7559898543611, 3475.725366425272, 5166.51207625944, 2810.6178492614567, 2984.739047111636, 3287.214749218751, 631.420732553005, 1450.5465488963505, 1796.4291411430083, 3908.4499005143216, 3461.0255486621227, 2096.706194681632, 4067.6502184236388, 1604.3079622915402, 2738.976532947688, 4542.569774762135, 3618.891638078264, 2838.4828960762447, 4300.948192445627, 2657.5563364423233, 2803.8307064978926, 685.1959114966617, 25.944548559694223, 38.902364925907115, 49.95135605773128, 47.82132722067785, 85.66280673985577, 40.786430196093555, 36.9550469145551, 108.36869830694008, 38.95213968388212, 24.864595178199625, 59.833174626199366, 44.96636589415299, 56.71548124842455, 20.768228854318185, 223.87320463594185, 32.933903372497205, 27.839915453610967, 32.67511660278812, 22.93529779014338, 24.776573124714933, 58.91626695537514, 19.76072613777338, 20.946307923510545, 73.91508085981161, 23.857938095639767, 112.47927118398533, 31.84306300185684, 33.61655951623452, 19.92615017971046, 125.22274099705159, 420.41864776768955, 65.76246204705271, 436.7782379103495, 91.82038648300005, 382.3365250227927, 175.26513053722954, 259.4930023218406, 693.5172267886734, 197.82751461709077, 154.2701074902442, 169.91941014496723, 313.41370433082557, 158.0395259600436, 2028.1707903322656, 574.1629443972765, 829.3509706031979, 597.495018642739, 249.85631574505373, 534.5019699233115, 1811.2446249614868, 4621.301623363079, 367.6428553023375, 1800.0193527513745, 3046.3294059488453, 2681.516276033906, 4067.6502184236388, 4638.7900595312985, 5166.51207625944, 1854.0525049587043, 3046.3100922567005, 2657.5563364423233, 3534.512460168447, 2810.6178492614567, 446.3587458504236, 1660.2099602436426, 4036.6104918383235, 4542.569774762135, 2512.9305702374786, 4426.152424328817, 2738.976532947688, 3957.0208778470874, 2984.739047111636, 3144.44622304034, 3475.725366425272, 3616.584267467859, 2605.791860618162, 285.15439805931754, 277.76404709787977, 212.46329914340242, 76.27379188103698, 22.007580688536454, 36.879283165784855, 46.137661310076425, 30.839595444854144, 25.762447734400244, 68.45663088105027, 95.5184069270603, 114.28052329314276, 401.2427555479859, 81.29446374851346, 74.29231752778139, 242.1052832781887, 221.66557686649097, 2686.083004198015, 178.99150584651494, 132.1148471073979, 74.21141036167224, 59.92619001800877, 56.63835956227792, 42.83054967567684, 116.44478477297885, 36.248796149784276, 62.22965137327544, 33.2911201248406, 1188.5535601504907, 50.18025622039043, 62.88109510396883, 124.75281901039524, 208.90325975465282, 422.35657580247266, 174.07373145056835, 526.6172012257242, 4638.7900595312985, 2512.9305702374786, 148.68161246950785, 534.5019699233115, 2838.4828960762447, 5441.399280131071, 1387.7970959528545, 4036.6104918383235, 1469.1198812729315, 1604.3079622915402, 4525.391874357818, 3166.6614130117437, 1533.9896785037024, 3046.3294059488453, 2918.3290648454836, 2852.0497059909617, 1661.9888099189668, 8751.241972457168, 729.1324809119894, 4300.948192445627, 2294.6415402843236, 1806.1320586446188, 3046.4673792956373, 2797.918705067724, 3299.2842406268564, 3287.214749218751, 3616.584267467859, 3382.0158886529493, 3475.725366425272, 185.87181684701122, 326.32726803954426, 43.27612470496731, 46.24195616150656, 59.067526410836244, 90.42303846288144, 54.739869196741346, 52.302278576926206, 41.97109699246813, 114.68492956350633, 47.99440364609065, 231.06995552278173, 64.52894946621208, 306.8014389591115, 133.39736902950344, 133.1638648625379, 25.75127016853387, 41.750984927131086, 44.908646682611035, 64.18675067598835, 77.34860437263124, 75.64265376810218, 24.50905305136313, 175.98391556996074, 52.29913137079724, 19.21544317584795, 186.53674705100204, 65.79911987777004, 71.95539669646494, 74.80775191916787, 2539.593232322594, 132.1148471073979, 486.89082411181386, 624.6268243492732, 1533.9896785037024, 682.6555988068119, 3015.460911290717, 1193.2357889041796, 3046.3100922567005, 643.4987852127606, 361.42053390237425, 519.0348202107507, 2177.449677819425, 2069.4307088774503, 680.2100678497362, 2803.8307064978926, 2852.0497059909617, 814.6544755294225, 3618.891638078264, 3166.6614130117437, 1110.6921748467437, 3475.725366425272, 2593.6237302648183, 1899.92083039974, 3514.5410946011375, 1143.1392202127606, 2294.6415402843236, 800.5357423934788, 1429.5848863486785, 1649.0159252229923, 2820.164226742295, 5441.399280131071, 2068.389559779543, 4036.6104918383235, 2869.434725705399, 2915.253754021066, 2838.4828960762447, 3299.2842406268564, 3397.205329937538, 3047.8297989642074, 263.43335041505907, 118.18780526393779, 46.06791865199225, 34.04613814611326, 31.722906236083144, 126.76207576072387, 24.98817770085106, 95.82005595746948, 27.778509053621313, 36.77219767685372, 69.81017736820223, 55.881514032463535, 41.74552335536864, 67.69439900045894, 25.859120533446617, 170.6257162595623, 33.633179166441586, 19.851225416369143, 20.79235928017639, 54.4235990334363, 37.54666462420958, 48.66087877313248, 60.6577626229606, 21.765661390686873, 32.99243088799614, 40.82100683275398, 17.803295868293564, 1359.3689243547462, 30.507855400111907, 29.6497621948178, 54.40650145707069, 137.65414074807717, 376.01154509104515, 81.45233498844459, 103.2559313726725, 70.13674585353039, 385.21329245153254, 152.48972308434026, 293.0815075807737, 2027.138596337308, 880.8557877333437, 1857.4403631039054, 1116.9026997512956, 692.4380761255072, 1563.8035163458562, 996.9106443266204, 353.52527145770165, 1105.1133032593202, 795.523038944122, 530.8759107795279, 332.5375560203416, 6307.331321106539, 406.7187584196974, 667.9590434950841, 202.92809999936694, 5166.51207625944, 3461.0255486621227, 4067.6502184236388, 2059.0354168169542, 2803.8307064978926, 1840.0039354308472, 2246.6230013032405, 4300.948192445627, 2360.0871897242387, 2820.164226742295, 3046.3294059488453, 3957.0208778470874, 1867.4079763985726, 1490.5422894933174, 1767.335506215633, 3618.891638078264, 1408.5654613784166, 3046.3100922567005, 93.41379996576696, 58.26472078070273, 55.260878730486844, 227.44499585258274, 224.60568265695255, 49.929701960262946, 89.13948703243592, 117.996164016847, 29.940577178224743, 26.928811576679323, 54.976902292142725, 41.0325750590311, 934.3397920510356, 213.27786675184723, 58.95990772459666, 140.72314768616772, 393.0514027336231, 801.4184602096201, 24.756995733885958, 38.945656729182495, 63.7159445917192, 171.77779000186996, 37.700527163409774, 72.28338379973479, 41.67842506953154, 42.94946624682047, 36.71935777673726, 19.90306285492117, 62.38961166140035, 51.53667311339162, 1849.3515965634886, 506.1356469754108, 433.34157111577736, 339.73718481801876, 470.55012257511487, 1007.33597150385, 157.60879589895373, 183.50762261980134, 507.60103319322764, 2820.164226742295, 391.37619721356475, 996.9106443266204, 276.6893633656975, 680.8698108055315, 812.3397711677659, 3047.8297989642074, 3397.205329937538, 4300.948192445627, 6307.331321106539, 2852.0497059909617, 2068.389559779543, 5166.51207625944, 3166.6614130117437, 4542.569774762135, 4426.152424328817, 1567.8509007029813, 3046.3100922567005, 5441.399280131071, 4525.391874357818, 2246.6230013032405, 2797.918705067724, 4036.6104918383235, 3287.214749218751, 206.5767654434106, 68.95768972191198, 359.5814928961115, 323.8078189194186, 37.37505570994986, 81.71389637433943, 66.57536368323888, 106.86290805476963, 103.73085084209127, 57.871944174539756, 154.8735844606414, 68.60690049681986, 95.28947634817779, 29.078253660379712, 165.23444252436508, 263.74630885750724, 23.245824799232217, 36.06435545243195, 27.13210388681935, 147.79021037113475, 25.47746193017473, 38.1532842551733, 67.69439900045894, 20.333009276526337, 39.038935563647655, 46.6858116060874, 39.949238395620426, 39.105367495187075, 93.44487930699346, 45.29073526156225, 1763.625862455904, 457.71455821318733, 88.6269849748597, 251.85445748991378, 3046.3294059488453, 919.3447952267711, 8751.241972457168, 1110.6921748467437, 1832.7116371558627, 107.27488660131857, 2869.434725705399, 676.4301317322738, 3015.460911290717, 1199.219182228499, 1415.3360668880869, 2360.0871897242387, 2915.253754021066, 5166.51207625944, 3287.214749218751, 1767.335506215633, 3461.0255486621227, 3534.512460168447, 4525.391874357818, 3618.891638078264, 3957.0208778470874, 5441.399280131071, 4067.6502184236388, 6307.331321106539, 2984.739047111636, 2512.9305702374786, 4036.6104918383235, 3144.44622304034, 2797.918705067724, 3382.0158886529493, 224.61609442252765, 117.77371348082961, 126.39731681502809, 57.13117440347919, 246.88917745586082, 88.19469494183568, 57.54350747947367, 38.97710280292954, 23.681469243841885, 31.3691156585394, 112.71055797774731, 76.50789433106019, 159.44229568626608, 55.9536303219109, 46.16540334494257, 24.550643136388363, 82.77771611605196, 79.63130308917141, 37.29281818864492, 54.41513567517619, 136.0855424986151, 209.8699023311974, 1199.219182228499, 84.04459670860031, 185.36257710877248, 648.5390398656798, 85.19125490918648, 122.00506484989928, 25.30480453935589, 206.63629480275375, 919.3447952267711, 404.8121293370546, 146.35897491266684, 122.88975266777439, 1398.3120954237895, 132.39295103336113, 2512.9305702374786, 680.8698108055315, 2918.3290648454836, 2107.9940604338753, 3514.5410946011375, 376.01154509104515, 3047.8297989642074, 3144.44622304034, 3957.0208778470874, 3046.4673792956373, 5441.399280131071, 1434.2693994338824, 3166.6614130117437, 2403.5696031628854, 6307.331321106539, 2820.164226742295, 3618.891638078264, 4542.569774762135, 4525.391874357818, 2852.0497059909617, 3382.0158886529493, 2686.083004198015, 3299.2842406268564, 3046.3294059488453, 69.93309983330198, 218.45804694912053, 23.548566550785658, 108.8067845428652, 31.60584125051047, 49.18814832585092, 215.91364416526815, 30.5023284509719, 117.09105564238023, 55.98039900354856, 44.60744167851216, 19.226538736383166, 134.28397625539597, 139.07340661366968, 340.6253466820697, 61.35063194101178, 258.16576752912573, 135.47925329305468, 73.0537562228664, 180.5182086543516, 151.23290315781585, 26.165059095084747, 49.23708664916039, 38.30593500885943, 499.70125581120044, 24.923808778965217, 18.975267948555203, 1097.4549430923698, 271.11863017691826, 132.03797428041642, 125.12744176112984, 72.28755737395275, 251.98136735579388, 352.1956281324467, 323.88639822079955, 252.32307286870622, 572.0915478253413, 1559.837887262236, 261.070156286177, 2111.3730412969517, 2596.557877612979, 5441.399280131071, 864.8584792683146, 2512.9305702374786, 1584.125535781347, 4542.569774762135, 3166.6614130117437, 2915.253754021066, 4426.152424328817, 2326.2113681483656, 1604.3079622915402, 2259.143754990679, 3616.584267467859, 4525.391874357818, 3534.512460168447, 3046.4673792956373, 1763.625862455904, 2112.7472897430516, 1384.8641421681589, 3347.2304696565893, 3908.4499005143216, 3047.8297989642074, 211.57503569708535, 41.21592746324142, 263.74630885750724, 45.00533766149578, 1763.625862455904, 238.373033867947, 35.9701097660668, 257.50786483062717, 28.13611210156008, 19.98995684781351, 102.11012516023538, 21.99608196726609, 59.64076611369725, 44.368279145778295, 28.87300411490635, 26.588773680291236, 111.81575924961334, 33.2911201248406, 37.96946517999177, 65.01553682318938, 347.03624371090285, 18.787223401100707, 53.25577633152121, 16.369840260245297, 38.511677526746254, 31.72591098947029, 93.62694820106914, 80.82889121185347, 18.977306396249435, 86.17820920520228, 137.14425627181419, 343.3539362372258, 74.29764831264433, 371.0646967846517, 324.67909096075505, 731.1417453082341, 1387.7970959528545, 404.8121293370546, 197.46747833030074, 1806.1320586446188, 760.1228949723378, 493.7592139000982, 1007.33597150385, 3287.214749218751, 1261.8691839724265, 583.3983100626986, 1097.4549430923698, 730.0652216455446, 1608.4412562203556, 708.50265503054, 2797.918705067724, 1348.7440278567549, 3475.725366425272, 4067.6502184236388, 6307.331321106539, 2869.434725705399, 4300.948192445627, 2738.976532947688, 8751.241972457168, 2838.4828960762447, 5166.51207625944, 4525.391874357818, 5441.399280131071, 4426.152424328817, 4036.6104918383235, 2984.739047111636, 3461.0255486621227, 154.63169609312305, 98.83669523151885, 66.55980412472012, 77.32922537284234, 57.74189494284708, 46.98811517002655, 56.76432452476523, 37.202085871803796, 40.14063199648721, 148.83159882853798, 78.27360842824795, 32.309722641068205, 32.309256341318545, 35.24617561257919, 29.3736404504098, 94.98757316952724, 25.459211626149152, 25.45979053927935, 24.480869862079157, 23.50222637815561, 50.917198247246105, 23.502294957241798, 57.78697182721793, 20.56679655277403, 20.55311790469679, 20.565564099811752, 21.546513053846724, 19.588235636470994, 19.586053505877548, 18.608711504378068, 58.8018999804475, 35.25124020464757, 38.21721576132505, 67.69122964697155, 55.835761539221515, 170.97913298953236, 64.6391241608068, 45.09681266418222, 46.1012361118559, 599.5194635120744, 1281.6096054142026, 97.0818902642555, 191.79804976964272, 99.06279492932154, 499.70125581120044, 91.45111534061904, 59.62326922235075, 264.9990983880517, 232.79008146289394, 195.51886353783982, 87.80949800987572, 385.21329245153254, 1450.5465488963505, 2838.4828960762447, 680.2100678497362, 604.8070208970431, 2539.593232322594, 3475.725366425272, 2820.164226742295, 1022.0450452780941, 6307.331321106539, 907.4680680532482, 1567.8509007029813, 3047.8297989642074, 3618.891638078264, 2512.9305702374786, 1793.2847615113544, 5441.399280131071, 3046.3294059488453, 65.44567564438562, 48.56430524909012, 82.04276952407211, 16.76974551525927, 218.64736220180453, 130.12893046590406, 20.773519397614184, 148.962937956785, 134.90802655485777, 32.58185865654742, 71.62217332738028, 90.07325044344879, 44.519659676027786, 32.27882428041429, 32.25446036840211, 28.74428830884687, 64.95189762681592, 63.77724788268273, 146.35897491266684, 251.85445748991378, 119.09943112542796, 27.45931911845668, 37.0029166916273, 163.55490060656672, 28.60864526218933, 457.71455821318733, 42.766882339920755, 37.591915960856106, 18.796238144555627, 107.68520173115692, 57.25931348537221, 55.70178181667892, 625.0266346067974, 506.3171035318452, 604.8070208970431, 197.48626149581492, 226.03722978846446, 109.5326486603763, 692.4380761255072, 2539.593232322594, 2112.7472897430516, 1258.3112847703287, 1471.347611184994, 3166.6614130117437, 3046.3100922567005, 6307.331321106539, 2596.557877612979, 1408.5654613784166, 2915.253754021066, 2643.8919510479095, 4542.569774762135, 5441.399280131071, 4426.152424328817, 3299.2842406268564, 3514.5410946011375, 3046.4673792956373, 2918.3290648454836, 4300.948192445627, 3347.2304696565893, 4525.391874357818, 3047.8297989642074, 2869.434725705399, 4067.6502184236388, 338.1491336332121, 100.99919860114198, 123.73920079627722, 108.97465312103685, 133.25145831318048, 231.26014253726134, 23.281836508927753, 102.68217741436399, 178.8491779580969, 107.68520173115692, 100.41203183319897, 129.12436761234946, 386.2752868016198, 61.35063194101178, 33.18236441380453, 87.8061559664385, 54.1948260801517, 73.77531879728129, 104.35504580794691, 47.33683966810739, 56.22668381551344, 78.06211168695657, 59.651905295249364, 98.05466343094865, 15.57741048432694, 28.052278639717624, 34.77217167413329, 39.482527197952635, 20.73023752371787, 30.773494449677077, 87.39926052069919, 68.60690049681986, 864.8584792683146, 190.68226192399362, 124.42666086373299, 6307.331321106539, 962.6495929538879, 910.2452576816416, 5441.399280131071, 2112.7472897430516, 1082.7964742733661, 251.98136735579388, 371.0646967846517, 4542.569774762135, 3047.8297989642074, 4036.6104918383235, 1800.0193527513745, 2512.9305702374786, 3299.2842406268564, 4426.152424328817, 3166.6614130117437, 3908.4499005143216, 3046.4673792956373, 3382.0158886529493, 4525.391874357818, 3534.512460168447, 3616.584267467859], \"Category\": [\"Default\", \"Default\", \"Default\", \"Default\", \"Default\", \"Default\", \"Default\", \"Default\", \"Default\", \"Default\", \"Default\", \"Default\", \"Default\", \"Default\", \"Default\", \"Default\", \"Default\", \"Default\", \"Default\", \"Default\", \"Default\", \"Default\", \"Default\", \"Default\", \"Default\", \"Default\", \"Default\", \"Default\", \"Default\", \"Default\", \"Topic1\", \"Topic1\", \"Topic1\", \"Topic1\", \"Topic1\", \"Topic1\", \"Topic1\", \"Topic1\", \"Topic1\", \"Topic1\", \"Topic1\", \"Topic1\", \"Topic1\", \"Topic1\", \"Topic1\", \"Topic1\", \"Topic1\", \"Topic1\", \"Topic1\", \"Topic1\", \"Topic1\", \"Topic1\", \"Topic1\", \"Topic1\", \"Topic1\", \"Topic1\", \"Topic1\", \"Topic1\", \"Topic1\", \"Topic1\", \"Topic1\", \"Topic1\", \"Topic1\", \"Topic1\", \"Topic1\", \"Topic1\", \"Topic1\", \"Topic1\", \"Topic1\", \"Topic1\", \"Topic1\", \"Topic1\", \"Topic1\", \"Topic1\", \"Topic1\", \"Topic1\", \"Topic1\", \"Topic1\", \"Topic1\", \"Topic1\", \"Topic1\", \"Topic1\", \"Topic1\", \"Topic1\", \"Topic1\", \"Topic1\", \"Topic1\", \"Topic1\", \"Topic1\", \"Topic1\", \"Topic1\", \"Topic1\", \"Topic1\", \"Topic1\", \"Topic1\", \"Topic1\", \"Topic1\", \"Topic1\", \"Topic1\", \"Topic1\", \"Topic1\", \"Topic1\", \"Topic1\", \"Topic1\", \"Topic1\", \"Topic1\", \"Topic1\", \"Topic1\", \"Topic1\", \"Topic1\", \"Topic1\", \"Topic1\", \"Topic1\", \"Topic1\", \"Topic1\", \"Topic1\", \"Topic1\", \"Topic1\", \"Topic1\", \"Topic1\", \"Topic1\", \"Topic1\", \"Topic1\", \"Topic1\", \"Topic1\", \"Topic2\", \"Topic2\", \"Topic2\", \"Topic2\", \"Topic2\", \"Topic2\", \"Topic2\", \"Topic2\", \"Topic2\", \"Topic2\", \"Topic2\", \"Topic2\", \"Topic2\", \"Topic2\", \"Topic2\", \"Topic2\", \"Topic2\", \"Topic2\", \"Topic2\", \"Topic2\", \"Topic2\", \"Topic2\", \"Topic2\", \"Topic2\", \"Topic2\", \"Topic2\", \"Topic2\", \"Topic2\", \"Topic2\", \"Topic2\", \"Topic2\", \"Topic2\", \"Topic2\", \"Topic2\", \"Topic2\", \"Topic2\", \"Topic2\", \"Topic2\", \"Topic2\", \"Topic2\", \"Topic2\", \"Topic2\", \"Topic2\", \"Topic2\", \"Topic2\", \"Topic2\", \"Topic2\", \"Topic2\", \"Topic2\", \"Topic2\", \"Topic2\", \"Topic2\", \"Topic2\", \"Topic2\", \"Topic2\", \"Topic2\", \"Topic2\", \"Topic2\", \"Topic2\", \"Topic2\", \"Topic2\", \"Topic2\", \"Topic2\", \"Topic2\", \"Topic2\", \"Topic2\", \"Topic2\", \"Topic2\", \"Topic2\", \"Topic2\", \"Topic2\", \"Topic2\", \"Topic2\", \"Topic2\", \"Topic2\", \"Topic2\", \"Topic2\", \"Topic3\", \"Topic3\", \"Topic3\", \"Topic3\", \"Topic3\", \"Topic3\", \"Topic3\", \"Topic3\", \"Topic3\", \"Topic3\", \"Topic3\", \"Topic3\", \"Topic3\", \"Topic3\", \"Topic3\", \"Topic3\", \"Topic3\", \"Topic3\", \"Topic3\", \"Topic3\", \"Topic3\", \"Topic3\", \"Topic3\", \"Topic3\", \"Topic3\", \"Topic3\", \"Topic3\", \"Topic3\", \"Topic3\", \"Topic3\", \"Topic3\", \"Topic3\", \"Topic3\", \"Topic3\", \"Topic3\", \"Topic3\", \"Topic3\", \"Topic3\", \"Topic3\", \"Topic3\", \"Topic3\", \"Topic3\", \"Topic3\", \"Topic3\", \"Topic3\", \"Topic3\", \"Topic3\", \"Topic3\", \"Topic3\", \"Topic3\", \"Topic3\", \"Topic3\", \"Topic3\", \"Topic3\", \"Topic3\", \"Topic3\", \"Topic3\", \"Topic3\", \"Topic3\", \"Topic3\", \"Topic3\", \"Topic3\", \"Topic3\", \"Topic3\", \"Topic3\", \"Topic3\", \"Topic3\", \"Topic3\", \"Topic3\", \"Topic3\", \"Topic3\", \"Topic3\", \"Topic3\", \"Topic3\", \"Topic3\", \"Topic3\", \"Topic3\", \"Topic3\", \"Topic4\", \"Topic4\", \"Topic4\", \"Topic4\", \"Topic4\", \"Topic4\", \"Topic4\", \"Topic4\", \"Topic4\", \"Topic4\", \"Topic4\", \"Topic4\", \"Topic4\", \"Topic4\", \"Topic4\", \"Topic4\", \"Topic4\", \"Topic4\", \"Topic4\", \"Topic4\", \"Topic4\", \"Topic4\", \"Topic4\", \"Topic4\", \"Topic4\", \"Topic4\", \"Topic4\", \"Topic4\", \"Topic4\", \"Topic4\", \"Topic4\", \"Topic4\", \"Topic4\", \"Topic4\", \"Topic4\", \"Topic4\", \"Topic4\", \"Topic4\", \"Topic4\", \"Topic4\", \"Topic4\", \"Topic4\", \"Topic4\", \"Topic4\", \"Topic4\", \"Topic4\", \"Topic4\", \"Topic4\", \"Topic4\", \"Topic4\", \"Topic4\", \"Topic4\", \"Topic4\", \"Topic4\", \"Topic4\", \"Topic4\", \"Topic4\", \"Topic4\", \"Topic4\", \"Topic4\", \"Topic4\", \"Topic4\", \"Topic4\", \"Topic4\", \"Topic4\", \"Topic4\", \"Topic4\", \"Topic4\", \"Topic4\", \"Topic4\", \"Topic4\", \"Topic4\", \"Topic4\", \"Topic4\", \"Topic4\", \"Topic4\", \"Topic4\", \"Topic4\", \"Topic4\", \"Topic4\", \"Topic5\", \"Topic5\", \"Topic5\", \"Topic5\", \"Topic5\", \"Topic5\", \"Topic5\", \"Topic5\", \"Topic5\", \"Topic5\", \"Topic5\", \"Topic5\", \"Topic5\", \"Topic5\", \"Topic5\", \"Topic5\", \"Topic5\", \"Topic5\", \"Topic5\", \"Topic5\", \"Topic5\", \"Topic5\", \"Topic5\", \"Topic5\", \"Topic5\", \"Topic5\", \"Topic5\", \"Topic5\", \"Topic5\", \"Topic5\", \"Topic5\", \"Topic5\", \"Topic5\", \"Topic5\", \"Topic5\", \"Topic5\", \"Topic5\", \"Topic5\", \"Topic5\", \"Topic5\", \"Topic5\", \"Topic5\", \"Topic5\", \"Topic5\", \"Topic5\", \"Topic5\", \"Topic5\", \"Topic5\", \"Topic5\", \"Topic5\", \"Topic5\", \"Topic5\", \"Topic5\", \"Topic5\", \"Topic5\", \"Topic5\", \"Topic5\", \"Topic5\", \"Topic5\", \"Topic5\", \"Topic5\", \"Topic5\", \"Topic5\", \"Topic5\", \"Topic5\", \"Topic5\", \"Topic5\", \"Topic5\", \"Topic5\", \"Topic5\", \"Topic5\", \"Topic5\", \"Topic5\", \"Topic5\", \"Topic5\", \"Topic6\", \"Topic6\", \"Topic6\", \"Topic6\", \"Topic6\", \"Topic6\", \"Topic6\", \"Topic6\", \"Topic6\", \"Topic6\", \"Topic6\", \"Topic6\", \"Topic6\", \"Topic6\", \"Topic6\", \"Topic6\", \"Topic6\", \"Topic6\", \"Topic6\", \"Topic6\", \"Topic6\", \"Topic6\", \"Topic6\", \"Topic6\", \"Topic6\", \"Topic6\", \"Topic6\", \"Topic6\", \"Topic6\", \"Topic6\", \"Topic6\", \"Topic6\", \"Topic6\", \"Topic6\", \"Topic6\", \"Topic6\", \"Topic6\", \"Topic6\", \"Topic6\", \"Topic6\", \"Topic6\", \"Topic6\", \"Topic6\", \"Topic6\", \"Topic6\", \"Topic6\", \"Topic6\", \"Topic6\", \"Topic6\", \"Topic6\", \"Topic6\", \"Topic6\", \"Topic6\", \"Topic6\", \"Topic6\", \"Topic6\", \"Topic6\", \"Topic6\", \"Topic6\", \"Topic6\", \"Topic6\", \"Topic6\", \"Topic6\", \"Topic6\", \"Topic6\", \"Topic6\", \"Topic6\", \"Topic6\", \"Topic6\", \"Topic6\", \"Topic6\", \"Topic6\", \"Topic6\", \"Topic6\", \"Topic6\", \"Topic6\", \"Topic6\", \"Topic7\", \"Topic7\", \"Topic7\", \"Topic7\", \"Topic7\", \"Topic7\", \"Topic7\", \"Topic7\", \"Topic7\", \"Topic7\", \"Topic7\", \"Topic7\", \"Topic7\", \"Topic7\", \"Topic7\", \"Topic7\", \"Topic7\", \"Topic7\", \"Topic7\", \"Topic7\", \"Topic7\", \"Topic7\", \"Topic7\", \"Topic7\", \"Topic7\", \"Topic7\", \"Topic7\", \"Topic7\", \"Topic7\", \"Topic7\", \"Topic7\", \"Topic7\", \"Topic7\", \"Topic7\", \"Topic7\", \"Topic7\", \"Topic7\", \"Topic7\", \"Topic7\", \"Topic7\", \"Topic7\", \"Topic7\", \"Topic7\", \"Topic7\", \"Topic7\", \"Topic7\", \"Topic7\", \"Topic7\", \"Topic7\", \"Topic7\", \"Topic7\", \"Topic7\", \"Topic7\", \"Topic7\", \"Topic7\", \"Topic7\", \"Topic7\", \"Topic7\", \"Topic7\", \"Topic7\", \"Topic7\", \"Topic7\", \"Topic7\", \"Topic7\", \"Topic7\", \"Topic7\", \"Topic7\", \"Topic7\", \"Topic7\", \"Topic7\", \"Topic7\", \"Topic7\", \"Topic7\", \"Topic7\", \"Topic7\", \"Topic7\", \"Topic7\", \"Topic7\", \"Topic7\", \"Topic7\", \"Topic8\", \"Topic8\", \"Topic8\", \"Topic8\", \"Topic8\", \"Topic8\", \"Topic8\", \"Topic8\", \"Topic8\", \"Topic8\", \"Topic8\", \"Topic8\", \"Topic8\", \"Topic8\", \"Topic8\", \"Topic8\", \"Topic8\", \"Topic8\", \"Topic8\", \"Topic8\", \"Topic8\", \"Topic8\", \"Topic8\", \"Topic8\", \"Topic8\", \"Topic8\", \"Topic8\", \"Topic8\", \"Topic8\", \"Topic8\", \"Topic8\", \"Topic8\", \"Topic8\", \"Topic8\", \"Topic8\", \"Topic8\", \"Topic8\", \"Topic8\", \"Topic8\", \"Topic8\", \"Topic8\", \"Topic8\", \"Topic8\", \"Topic8\", \"Topic8\", \"Topic8\", \"Topic8\", \"Topic8\", \"Topic8\", \"Topic8\", \"Topic8\", \"Topic8\", \"Topic8\", \"Topic8\", \"Topic8\", \"Topic8\", \"Topic8\", \"Topic8\", \"Topic8\", \"Topic8\", \"Topic8\", \"Topic8\", \"Topic8\", \"Topic8\", \"Topic8\", \"Topic8\", \"Topic8\", \"Topic8\", \"Topic8\", \"Topic8\", \"Topic8\", \"Topic8\", \"Topic8\", \"Topic8\", \"Topic8\", \"Topic8\", \"Topic8\", \"Topic9\", \"Topic9\", \"Topic9\", \"Topic9\", \"Topic9\", \"Topic9\", \"Topic9\", \"Topic9\", \"Topic9\", \"Topic9\", \"Topic9\", \"Topic9\", \"Topic9\", \"Topic9\", \"Topic9\", \"Topic9\", \"Topic9\", \"Topic9\", \"Topic9\", \"Topic9\", \"Topic9\", \"Topic9\", \"Topic9\", \"Topic9\", \"Topic9\", \"Topic9\", \"Topic9\", \"Topic9\", \"Topic9\", \"Topic9\", \"Topic9\", \"Topic9\", \"Topic9\", \"Topic9\", \"Topic9\", \"Topic9\", \"Topic9\", \"Topic9\", \"Topic9\", \"Topic9\", \"Topic9\", \"Topic9\", \"Topic9\", \"Topic9\", \"Topic9\", \"Topic9\", \"Topic9\", \"Topic9\", \"Topic9\", \"Topic9\", \"Topic9\", \"Topic9\", \"Topic9\", \"Topic9\", \"Topic9\", \"Topic9\", \"Topic9\", \"Topic9\", \"Topic9\", \"Topic9\", \"Topic9\", \"Topic9\", \"Topic9\", \"Topic9\", \"Topic9\", \"Topic10\", \"Topic10\", \"Topic10\", \"Topic10\", \"Topic10\", \"Topic10\", \"Topic10\", \"Topic10\", \"Topic10\", \"Topic10\", \"Topic10\", \"Topic10\", \"Topic10\", \"Topic10\", \"Topic10\", \"Topic10\", \"Topic10\", \"Topic10\", \"Topic10\", \"Topic10\", \"Topic10\", \"Topic10\", \"Topic10\", \"Topic10\", \"Topic10\", \"Topic10\", \"Topic10\", \"Topic10\", \"Topic10\", \"Topic10\", \"Topic10\", \"Topic10\", \"Topic10\", \"Topic10\", \"Topic10\", \"Topic10\", \"Topic10\", \"Topic10\", \"Topic10\", \"Topic10\", \"Topic10\", \"Topic10\", \"Topic10\", \"Topic10\", \"Topic10\", \"Topic10\", \"Topic10\", \"Topic10\", \"Topic10\", \"Topic10\", \"Topic10\", \"Topic10\", \"Topic10\", \"Topic10\", \"Topic10\", \"Topic10\", \"Topic10\", \"Topic10\", \"Topic10\", \"Topic10\", \"Topic10\", \"Topic10\", \"Topic10\", \"Topic10\", \"Topic10\", \"Topic10\", \"Topic10\", \"Topic10\", \"Topic10\", \"Topic10\", \"Topic11\", \"Topic11\", \"Topic11\", \"Topic11\", \"Topic11\", \"Topic11\", \"Topic11\", \"Topic11\", \"Topic11\", \"Topic11\", \"Topic11\", \"Topic11\", \"Topic11\", \"Topic11\", \"Topic11\", \"Topic11\", \"Topic11\", \"Topic11\", \"Topic11\", \"Topic11\", \"Topic11\", \"Topic11\", \"Topic11\", \"Topic11\", \"Topic11\", \"Topic11\", \"Topic11\", \"Topic11\", \"Topic11\", \"Topic11\", \"Topic11\", \"Topic11\", \"Topic11\", \"Topic11\", \"Topic11\", \"Topic11\", \"Topic11\", \"Topic11\", \"Topic11\", \"Topic11\", \"Topic11\", \"Topic11\", \"Topic11\", \"Topic11\", \"Topic11\", \"Topic11\", \"Topic11\", \"Topic11\", \"Topic11\", \"Topic11\", \"Topic11\", \"Topic11\", \"Topic11\", \"Topic11\", \"Topic11\", \"Topic11\", \"Topic11\", \"Topic11\", \"Topic11\", \"Topic11\", \"Topic11\", \"Topic11\", \"Topic11\", \"Topic11\", \"Topic11\", \"Topic11\", \"Topic11\", \"Topic11\", \"Topic11\", \"Topic11\", \"Topic11\", \"Topic11\", \"Topic11\", \"Topic12\", \"Topic12\", \"Topic12\", \"Topic12\", \"Topic12\", \"Topic12\", \"Topic12\", \"Topic12\", \"Topic12\", \"Topic12\", \"Topic12\", \"Topic12\", \"Topic12\", \"Topic12\", \"Topic12\", \"Topic12\", \"Topic12\", \"Topic12\", \"Topic12\", \"Topic12\", \"Topic12\", \"Topic12\", \"Topic12\", \"Topic12\", \"Topic12\", \"Topic12\", \"Topic12\", \"Topic12\", \"Topic12\", \"Topic12\", \"Topic12\", \"Topic12\", \"Topic12\", \"Topic12\", \"Topic12\", \"Topic12\", \"Topic12\", \"Topic12\", \"Topic12\", \"Topic12\", \"Topic12\", \"Topic12\", \"Topic12\", \"Topic12\", \"Topic12\", \"Topic12\", \"Topic12\", \"Topic12\", \"Topic12\", \"Topic12\", \"Topic12\", \"Topic12\", \"Topic12\", \"Topic12\", \"Topic12\", \"Topic12\", \"Topic12\", \"Topic12\", \"Topic12\", \"Topic12\", \"Topic12\", \"Topic12\", \"Topic12\", \"Topic13\", \"Topic13\", \"Topic13\", \"Topic13\", \"Topic13\", \"Topic13\", \"Topic13\", \"Topic13\", \"Topic13\", \"Topic13\", \"Topic13\", \"Topic13\", \"Topic13\", \"Topic13\", \"Topic13\", \"Topic13\", \"Topic13\", \"Topic13\", \"Topic13\", \"Topic13\", \"Topic13\", \"Topic13\", \"Topic13\", \"Topic13\", \"Topic13\", \"Topic13\", \"Topic13\", \"Topic13\", \"Topic13\", \"Topic13\", \"Topic13\", \"Topic13\", \"Topic13\", \"Topic13\", \"Topic13\", \"Topic13\", \"Topic13\", \"Topic13\", \"Topic13\", \"Topic13\", \"Topic13\", \"Topic13\", \"Topic13\", \"Topic13\", \"Topic13\", \"Topic13\", \"Topic13\", \"Topic13\", \"Topic13\", \"Topic13\", \"Topic13\", \"Topic13\", \"Topic13\", \"Topic13\", \"Topic13\", \"Topic13\", \"Topic13\", \"Topic13\", \"Topic13\", \"Topic13\", \"Topic13\", \"Topic13\", \"Topic13\", \"Topic13\", \"Topic14\", \"Topic14\", \"Topic14\", \"Topic14\", \"Topic14\", \"Topic14\", \"Topic14\", \"Topic14\", \"Topic14\", \"Topic14\", \"Topic14\", \"Topic14\", \"Topic14\", \"Topic14\", \"Topic14\", \"Topic14\", \"Topic14\", \"Topic14\", \"Topic14\", \"Topic14\", \"Topic14\", \"Topic14\", \"Topic14\", \"Topic14\", \"Topic14\", \"Topic14\", \"Topic14\", \"Topic14\", \"Topic14\", \"Topic14\", \"Topic14\", \"Topic14\", \"Topic14\", \"Topic14\", \"Topic14\", \"Topic14\", \"Topic14\", \"Topic14\", \"Topic14\", \"Topic14\", \"Topic14\", \"Topic14\", \"Topic14\", \"Topic14\", \"Topic14\", \"Topic14\", \"Topic14\", \"Topic14\", \"Topic14\", \"Topic14\", \"Topic14\", \"Topic14\", \"Topic14\", \"Topic14\", \"Topic14\", \"Topic14\", \"Topic14\", \"Topic14\", \"Topic14\", \"Topic14\", \"Topic15\", \"Topic15\", \"Topic15\", \"Topic15\", \"Topic15\", \"Topic15\", \"Topic15\", \"Topic15\", \"Topic15\", \"Topic15\", \"Topic15\", \"Topic15\", \"Topic15\", \"Topic15\", \"Topic15\", \"Topic15\", \"Topic15\", \"Topic15\", \"Topic15\", \"Topic15\", \"Topic15\", \"Topic15\", \"Topic15\", \"Topic15\", \"Topic15\", \"Topic15\", \"Topic15\", \"Topic15\", \"Topic15\", \"Topic15\", \"Topic15\", \"Topic15\", \"Topic15\", \"Topic15\", \"Topic15\", \"Topic15\", \"Topic15\", \"Topic15\", \"Topic15\", \"Topic15\", \"Topic15\", \"Topic15\", \"Topic15\", \"Topic15\", \"Topic15\", \"Topic15\", \"Topic15\", \"Topic15\", \"Topic15\", \"Topic15\", \"Topic15\", \"Topic15\", \"Topic15\", \"Topic15\", \"Topic15\", \"Topic15\", \"Topic15\", \"Topic15\", \"Topic15\", \"Topic15\", \"Topic15\", \"Topic15\", \"Topic16\", \"Topic16\", \"Topic16\", \"Topic16\", \"Topic16\", \"Topic16\", \"Topic16\", \"Topic16\", \"Topic16\", \"Topic16\", \"Topic16\", \"Topic16\", \"Topic16\", \"Topic16\", \"Topic16\", \"Topic16\", \"Topic16\", \"Topic16\", \"Topic16\", \"Topic16\", \"Topic16\", \"Topic16\", \"Topic16\", \"Topic16\", \"Topic16\", \"Topic16\", \"Topic16\", \"Topic16\", \"Topic16\", \"Topic16\", \"Topic16\", \"Topic16\", \"Topic16\", \"Topic16\", \"Topic16\", \"Topic16\", \"Topic16\", \"Topic16\", \"Topic16\", \"Topic16\", \"Topic16\", \"Topic16\", \"Topic16\", \"Topic16\", \"Topic16\", \"Topic16\", \"Topic16\", \"Topic16\", \"Topic16\", \"Topic16\", \"Topic16\", \"Topic16\", \"Topic16\", \"Topic16\", \"Topic16\", \"Topic16\", \"Topic16\", \"Topic16\", \"Topic16\", \"Topic16\", \"Topic16\", \"Topic16\", \"Topic16\", \"Topic16\", \"Topic16\", \"Topic16\", \"Topic16\", \"Topic17\", \"Topic17\", \"Topic17\", \"Topic17\", \"Topic17\", \"Topic17\", \"Topic17\", \"Topic17\", \"Topic17\", \"Topic17\", \"Topic17\", \"Topic17\", \"Topic17\", \"Topic17\", \"Topic17\", \"Topic17\", \"Topic17\", \"Topic17\", \"Topic17\", \"Topic17\", \"Topic17\", \"Topic17\", \"Topic17\", \"Topic17\", \"Topic17\", \"Topic17\", \"Topic17\", \"Topic17\", \"Topic17\", \"Topic17\", \"Topic17\", \"Topic17\", \"Topic17\", \"Topic17\", \"Topic17\", \"Topic17\", \"Topic17\", \"Topic17\", \"Topic17\", \"Topic17\", \"Topic17\", \"Topic17\", \"Topic17\", \"Topic17\", \"Topic17\", \"Topic17\", \"Topic17\", \"Topic17\", \"Topic17\", \"Topic17\", \"Topic17\", \"Topic17\", \"Topic17\", \"Topic17\", \"Topic17\", \"Topic17\", \"Topic17\", \"Topic17\", \"Topic17\", \"Topic17\", \"Topic17\", \"Topic17\", \"Topic17\", \"Topic17\", \"Topic17\", \"Topic17\", \"Topic17\", \"Topic17\", \"Topic17\", \"Topic18\", \"Topic18\", \"Topic18\", \"Topic18\", \"Topic18\", \"Topic18\", \"Topic18\", \"Topic18\", \"Topic18\", \"Topic18\", \"Topic18\", \"Topic18\", \"Topic18\", \"Topic18\", \"Topic18\", \"Topic18\", \"Topic18\", \"Topic18\", \"Topic18\", \"Topic18\", \"Topic18\", \"Topic18\", \"Topic18\", \"Topic18\", \"Topic18\", \"Topic18\", \"Topic18\", \"Topic18\", \"Topic18\", \"Topic18\", \"Topic18\", \"Topic18\", \"Topic18\", \"Topic18\", \"Topic18\", \"Topic18\", \"Topic18\", \"Topic18\", \"Topic18\", \"Topic18\", \"Topic18\", \"Topic18\", \"Topic18\", \"Topic18\", \"Topic18\", \"Topic18\", \"Topic18\", \"Topic18\", \"Topic18\", \"Topic18\", \"Topic18\", \"Topic18\", \"Topic18\", \"Topic18\", \"Topic18\", \"Topic18\", \"Topic18\", \"Topic18\", \"Topic18\", \"Topic18\", \"Topic18\", \"Topic18\", \"Topic18\", \"Topic19\", \"Topic19\", \"Topic19\", \"Topic19\", \"Topic19\", \"Topic19\", \"Topic19\", \"Topic19\", \"Topic19\", \"Topic19\", \"Topic19\", \"Topic19\", \"Topic19\", \"Topic19\", \"Topic19\", \"Topic19\", \"Topic19\", \"Topic19\", \"Topic19\", \"Topic19\", \"Topic19\", \"Topic19\", \"Topic19\", \"Topic19\", \"Topic19\", \"Topic19\", \"Topic19\", \"Topic19\", \"Topic19\", \"Topic19\", \"Topic19\", \"Topic19\", \"Topic19\", \"Topic19\", \"Topic19\", \"Topic19\", \"Topic19\", \"Topic19\", \"Topic19\", \"Topic19\", \"Topic19\", \"Topic19\", \"Topic19\", \"Topic19\", \"Topic19\", \"Topic19\", \"Topic19\", \"Topic19\", \"Topic19\", \"Topic19\", \"Topic19\", \"Topic19\", \"Topic19\", \"Topic19\", \"Topic19\", \"Topic19\", \"Topic19\"], \"logprob\": [30.0, 29.0, 28.0, 27.0, 26.0, 25.0, 24.0, 23.0, 22.0, 21.0, 20.0, 19.0, 18.0, 17.0, 16.0, 15.0, 14.0, 13.0, 12.0, 11.0, 10.0, 9.0, 8.0, 7.0, 6.0, 5.0, 4.0, 3.0, 2.0, 1.0, -8.6003, -9.0344, -7.2172, -7.2263, -8.9924, -8.3872, -7.5802, -8.4337, -8.2894, -8.4117, -7.401, -9.1798, -8.8294, -8.8353, -8.861, -8.9209, -8.9615, -7.157, -8.7395, -9.0171, -8.9302, -8.9824, -8.9868, -9.287, -8.5077, -9.1277, -8.6458, -8.0636, -8.9665, -8.7503, -7.8414, -7.1448, -8.4034, -8.6915, -6.2933, -7.733, -8.0734, -6.5621, -7.683, -6.5992, -6.9234, -7.8588, -7.6936, -7.1258, -6.7248, -6.0412, -7.6085, -6.9167, -5.8023, -5.7115, -6.655, -6.5181, -6.7423, -6.219, -5.9458, -6.1706, -5.6235, -5.1227, -5.9376, -5.9975, -6.3339, -6.4506, -6.1607, -6.3801, -5.8383, -5.7308, -5.9178, -5.6863, -5.1456, -5.819, -5.384, -5.4898, -5.944, -5.8491, -5.6251, -5.0588, -6.0625, -6.0901, -5.5437, -5.6539, -5.6494, -5.9327, -5.5902, -5.692, -5.5955, -5.8913, -5.7595, -5.8295, -5.7381, -5.943, -5.9095, -5.887, -5.8573, -5.9297, -5.9305, -6.6839, -7.7396, -7.8246, -8.2297, -8.2263, -7.4646, -8.9162, -8.153, -9.0164, -8.5795, -8.8302, -9.3679, -8.4022, -7.7707, -8.1576, -9.1482, -7.5118, -8.8737, -9.2618, -8.188, -9.328, -8.5695, -9.353, -8.5122, -8.7823, -9.1431, -8.972, -9.3293, -8.357, -7.0438, -3.9632, -6.8606, -5.2457, -7.5621, -3.5873, -6.1986, -4.2096, -7.8274, -5.2063, -6.3711, -5.8834, -6.0487, -6.2803, -6.2749, -5.0359, -5.4215, -6.1028, -6.7618, -5.241, -5.4519, -5.4367, -5.4157, -5.8487, -5.8061, -5.1543, -5.2716, -5.2906, -5.6442, -5.1729, -5.3612, -5.8439, -5.6321, -5.3873, -5.4544, -5.271, -5.5493, -5.5836, -5.4638, -5.5196, -5.4131, -5.5204, -5.6343, -5.5864, -5.4329, -5.397, -5.606, -5.5923, -6.9889, -8.3263, -7.9245, -8.0933, -5.9048, -7.4039, -5.6054, -6.7618, -8.399, -7.886, -8.949, -8.8113, -8.0285, -7.7529, -8.7319, -7.7287, -7.3579, -9.0444, -7.9513, -7.9418, -8.5243, -8.028, -8.7416, -7.7474, -7.2466, -8.9194, -7.7885, -7.3746, -8.7254, -8.0735, -7.0577, -6.6994, -7.6484, -6.8077, -5.0294, -7.362, -6.3797, -5.7139, -6.8852, -6.2295, -6.3731, -5.6558, -4.4212, -6.6319, -5.1929, -5.7237, -4.6704, -4.7172, -5.5979, -5.636, -5.6566, -5.1437, -5.4074, -4.6748, -5.3463, -5.1989, -5.6253, -5.1953, -5.8973, -5.1343, -5.1818, -5.4903, -5.1558, -5.1297, -5.3973, -5.3723, -5.4469, -5.391, -5.5157, -5.2885, -5.3734, -5.3513, -5.4312, -5.4289, -5.5136, -5.5464, -5.5133, -5.5103, -7.2192, -8.7683, -7.5634, -6.1705, -7.2007, -8.0213, -6.4449, -8.5962, -8.5272, -8.3209, -8.548, -7.525, -9.0332, -4.0632, -7.4614, -8.6308, -8.2974, -4.4895, -8.8736, -8.2229, -8.6163, -9.0708, -8.4177, -8.7466, -9.1941, -7.3693, -8.7525, -8.9128, -8.6735, -9.0659, -6.4555, -7.4947, -6.7078, -8.363, -5.8344, -7.7194, -7.7349, -4.2108, -3.7465, -7.7173, -5.9192, -6.0608, -4.4703, -6.9802, -5.9512, -5.2917, -5.9974, -5.6263, -6.8303, -7.3081, -5.411, -5.8297, -6.2582, -6.9137, -5.6718, -5.0797, -5.5398, -6.2594, -5.9356, -5.4423, -5.1678, -5.3314, -5.6229, -5.5622, -5.296, -5.2688, -5.7736, -5.842, -5.5275, -5.4668, -5.491, -5.5147, -5.6032, -5.5263, -5.682, -5.6409, -5.6075, -5.624, -5.6788, -5.6754, -6.1258, -5.1329, -8.0088, -8.2088, -7.4396, -7.925, -6.6991, -8.296, -6.913, -8.5965, -7.5139, -8.6089, -6.2106, -8.004, -8.5278, -8.7417, -7.8258, -7.9586, -9.0367, -8.8201, -7.4308, -8.1572, -8.6452, -7.5107, -7.5071, -9.2529, -9.2441, -8.8947, -8.8588, -8.4687, -5.6765, -6.1528, -7.3021, -7.3594, -6.0621, -7.516, -4.9063, -7.7407, -4.978, -6.6341, -5.796, -6.5576, -6.813, -4.7168, -5.2271, -5.3653, -6.1079, -5.3898, -5.2814, -5.0305, -4.947, -5.3292, -5.6928, -5.4439, -5.7053, -5.8793, -5.352, -5.6888, -5.4092, -5.5806, -5.3438, -5.7268, -5.4104, -5.5496, -5.4022, -5.6464, -5.5444, -5.4301, -5.4865, -5.5975, -5.5899, -5.5797, -5.6203, -5.642, -5.6621, -6.639, -7.12, -7.0103, -6.1938, -6.7138, -8.0706, -8.2347, -7.1514, -6.0792, -7.6332, -8.0592, -7.1719, -7.2773, -8.4748, -7.2401, -7.3019, -7.2719, -8.4892, -8.1572, -8.5499, -7.7542, -8.3926, -7.6978, -8.114, -8.6172, -6.5082, -8.0608, -5.6692, -8.4606, -7.2554, -7.4616, -7.9029, -4.4057, -6.379, -5.8668, -7.4432, -6.4651, -7.5205, -5.8479, -5.1419, -6.8641, -6.8271, -6.1437, -5.3752, -4.9742, -5.243, -6.0746, -5.938, -6.3094, -4.3336, -5.1782, -4.6132, -5.0502, -4.788, -5.3605, -5.9422, -5.5511, -5.6224, -5.0955, -5.5016, -5.2691, -5.3934, -5.212, -5.7806, -5.4818, -5.2804, -5.2659, -5.531, -5.6229, -5.4095, -5.4749, -5.5678, -5.6387, -5.5631, -5.6061, -5.6152, -5.6235, -5.9017, -6.9916, -7.7676, -6.2604, -6.8979, -7.9354, -8.0205, -8.3673, -7.8048, -6.3023, -7.608, -6.7401, -8.1485, -7.3056, -8.1165, -7.619, -7.4218, -8.3127, -7.975, -7.1208, -7.368, -8.0036, -8.3381, -8.0259, -8.2912, -7.8931, -8.5107, -7.384, -6.983, -7.857, -6.7087, -6.6029, -7.3901, -7.3422, -6.3324, -6.4791, -6.6501, -5.5935, -7.0315, -7.2076, -7.1952, -7.0191, -4.5068, -5.6442, -6.0106, -5.808, -6.3007, -5.6493, -6.0716, -6.132, -5.9375, -4.5516, -5.6013, -5.5278, -5.815, -5.4943, -6.2541, -5.8244, -4.7509, -6.0795, -5.2803, -5.1678, -5.4443, -5.4937, -5.5107, -6.097, -5.8189, -5.7791, -5.5389, -5.5936, -5.7553, -5.6052, -5.858, -5.7511, -5.6887, -5.7413, -5.8114, -5.7833, -5.8224, -5.8426, -4.2714, -7.6597, -7.2627, -7.0208, -7.0742, -6.6075, -7.3585, -7.4734, -6.4258, -7.4877, -7.9748, -7.0994, -7.3923, -7.1625, -8.1684, -5.8104, -7.734, -7.9173, -7.7654, -8.1609, -8.0851, -7.2238, -8.3204, -8.2737, -7.0153, -8.1533, -6.6078, -7.8717, -7.8355, -8.3624, -6.536, -5.4032, -7.1881, -5.4172, -6.8929, -5.6368, -6.3406, -6.0132, -5.1786, -6.2805, -6.4944, -6.4282, -5.9927, -6.5484, -4.8216, -5.6831, -5.4541, -5.7431, -6.2856, -5.8448, -5.1312, -4.6152, -6.1058, -5.2265, -4.9573, -5.075, -4.8976, -4.8929, -4.8437, -5.372, -5.1919, -5.2793, -5.1879, -5.3297, -6.0354, -5.6082, -5.343, -5.3097, -5.5111, -5.3576, -5.4883, -5.4058, -5.4713, -5.4686, -5.4557, -5.5132, -5.5725, -5.0483, -5.1974, -5.4963, -6.5601, -7.9339, -7.5069, -7.285, -7.6963, -7.9316, -7.0404, -6.7084, -6.5675, -5.3548, -6.9741, -7.0643, -5.8869, -5.9849, -3.5086, -6.2365, -6.5523, -7.1309, -7.3474, -7.4083, -7.6996, -6.7008, -7.8759, -7.3408, -8.0118, -4.4584, -7.6275, -7.4097, -6.7979, -6.3341, -5.752, -6.5337, -5.696, -4.2359, -4.7494, -6.7151, -5.8583, -4.7686, -4.3628, -5.2428, -4.6954, -5.3454, -5.3101, -4.7304, -4.9474, -5.3901, -5.036, -5.0669, -5.081, -5.3984, -4.8146, -5.8237, -5.13, -5.4179, -5.5416, -5.3894, -5.4173, -5.4002, -5.4034, -5.3875, -5.4183, -5.4648, -5.5319, -4.9946, -7.0313, -6.9748, -6.7359, -6.3328, -6.8449, -6.9761, -7.2114, -6.2203, -7.1357, -5.6132, -6.903, -5.3484, -6.2555, -6.35, -7.9975, -7.5391, -7.4669, -7.1172, -6.9674, -6.9939, -8.1512, -6.1878, -7.4039, -8.411, -6.1432, -7.2147, -7.1332, -7.0966, -3.5938, -6.528, -5.2792, -5.0996, -4.2698, -5.0633, -3.8036, -4.7751, -4.0895, -5.4595, -5.8792, -5.6513, -4.6757, -4.7254, -5.4815, -4.6115, -4.6029, -5.374, -4.5117, -4.652, -5.241, -4.6938, -4.8639, -5.062, -4.8027, -5.3558, -5.1004, -5.5204, -5.3181, -5.2842, -5.1252, -4.9677, -5.243, -5.1177, -5.1927, -5.1904, -5.2001, -5.1911, -5.2567, -5.2648, -4.9088, -5.7153, -6.67, -6.9804, -7.0635, -5.7229, -7.3702, -6.0556, -7.3863, -7.1336, -6.6607, -6.9712, -7.2688, -6.8249, -7.805, -5.9307, -7.561, -8.0944, -8.0499, -7.0895, -7.461, -7.2035, -6.9962, -8.0334, -7.6267, -7.4228, -8.2541, -3.9357, -7.7327, -7.7667, -7.1755, -6.3733, -5.5067, -6.8715, -6.6941, -7.0631, -5.7605, -6.487, -6.0097, -4.7067, -5.2966, -4.8021, -5.1677, -5.5397, -5.0359, -5.3332, -5.9731, -5.3368, -5.5329, -5.7832, -6.0528, -4.5261, -5.9745, -5.7568, -6.332, -4.9301, -5.1443, -5.0969, -5.3951, -5.2811, -5.4454, -5.3915, -5.1791, -5.4102, -5.3673, -5.3587, -5.3352, -5.5023, -5.5787, -5.5568, -5.4947, -5.6015, -5.5746, -5.9636, -6.4548, -6.5362, -5.1294, -5.1498, -6.772, -6.207, -5.9393, -7.3358, -7.4601, -6.7516, -7.1028, -3.9821, -5.4986, -6.8139, -5.972, -4.9488, -4.2795, -7.8026, -7.4011, -6.9093, -5.9196, -7.4457, -6.798, -7.3561, -7.343, -7.544, -8.204, -7.0722, -7.2647, -3.7935, -5.0712, -5.2557, -5.6301, -5.4005, -4.8664, -6.3296, -6.223, -5.4684, -4.3138, -5.7157, -5.2852, -6.0348, -5.5439, -5.4767, -4.8721, -4.8442, -4.82, -4.6782, -5.03, -5.2007, -4.9445, -5.1808, -5.0984, -5.1438, -5.4087, -5.3467, -5.2597, -5.3264, -5.4277, -5.426, -5.4226, -5.4288, -4.9443, -6.0629, -4.4307, -4.5407, -6.701, -5.9618, -6.2368, -5.8505, -5.8931, -6.5383, -5.7944, -6.6412, -6.4343, -7.66, -5.9457, -5.4871, -7.9365, -7.55, -7.8486, -6.163, -7.9268, -7.545, -7.0227, -8.2747, -7.6476, -7.4829, -7.6777, -7.714, -6.8725, -7.6346, -4.128, -5.4765, -7.0251, -6.1979, -4.3833, -5.281, -3.6888, -5.2671, -4.9923, -6.9053, -4.8866, -5.7791, -4.9011, -5.4491, -5.3678, -5.119, -5.0253, -4.807, -5.0693, -5.3287, -5.0919, -5.0909, -5.0685, -5.1458, -5.1248, -5.1146, -5.2054, -5.1402, -5.2786, -5.3142, -5.2526, -5.3072, -5.3213, -5.3113, -4.8091, -5.6603, -5.6684, -6.4705, -5.0247, -6.0601, -6.5001, -6.8923, -7.3944, -7.1361, -5.8709, -6.2802, -5.5506, -6.6015, -6.8067, -7.4383, -6.2542, -6.333, -7.1102, -6.7565, -5.849, -5.4347, -3.6983, -6.3953, -5.6052, -4.3697, -6.4366, -6.0803, -7.6566, -5.6036, -4.1981, -5.0132, -6.1179, -6.266, -4.6602, -6.2217, -4.5757, -5.3422, -4.7025, -4.8947, -4.7899, -5.7989, -4.9913, -4.98, -4.91, -5.0398, -4.9228, -5.3849, -5.196, -5.3152, -5.1016, -5.3421, -5.3125, -5.2844, -5.3061, -5.3635, -5.3792, -5.409, -5.4262, -5.4303, -6.0228, -4.9435, -7.1987, -5.7036, -7.0105, -6.5734, -5.1559, -7.1745, -5.9107, -6.6504, -6.9046, -7.7799, -5.8634, -5.8344, -4.9471, -6.7127, -5.2834, -5.9304, -6.5677, -5.6663, -5.8784, -7.6579, -7.0702, -7.3347, -4.7705, -7.7824, -8.0838, -4.0806, -5.496, -6.216, -6.3201, -6.8316, -5.7654, -5.4827, -5.5962, -5.8162, -5.1996, -4.6863, -5.8558, -4.6087, -4.5, -4.1023, -5.1749, -4.6759, -4.9737, -4.4959, -4.854, -4.9463, -4.851, -5.0701, -5.1899, -5.0976, -5.0931, -5.113, -5.1752, -5.244, -5.4147, -5.3978, -5.444, -5.3784, -5.3849, -5.4086, -4.8171, -6.8086, -5.0651, -6.9143, -3.3181, -5.3237, -7.241, -5.2862, -7.5089, -7.8554, -6.2443, -7.7865, -6.8468, -7.1538, -7.7187, -7.8217, -6.4006, -7.6193, -7.4977, -6.9965, -5.3317, -8.2617, -7.2261, -8.4089, -7.5572, -7.7797, -6.7043, -6.8521, -8.3041, -6.7979, -6.3862, -5.5792, -7.0511, -5.7064, -5.8591, -5.2813, -4.84, -5.7781, -6.3128, -4.7489, -5.448, -5.7552, -5.33, -4.6321, -5.3962, -5.8168, -5.4904, -5.7059, -5.348, -5.8132, -5.2263, -5.5364, -5.1419, -5.1012, -4.9293, -5.2529, -5.122, -5.3697, -5.062, -5.4283, -5.3233, -5.3764, -5.3614, -5.4093, -5.4777, -5.5001, -5.4996, -4.9329, -5.3863, -5.7836, -5.6354, -5.9302, -6.138, -5.9525, -6.3769, -6.3023, -4.9922, -5.6355, -6.5218, -6.522, -6.4379, -6.6208, -5.4491, -6.7679, -6.7687, -6.8092, -6.8512, -6.0783, -6.8515, -5.9566, -6.9908, -6.9919, -6.9916, -6.9452, -7.0418, -7.0434, -7.0968, -5.9823, -6.4912, -6.4245, -5.9006, -6.0802, -5.1243, -5.9879, -6.3203, -6.3104, -4.2788, -3.7583, -5.7761, -5.3148, -5.7904, -4.8552, -5.9015, -6.1574, -5.2788, -5.3771, -5.4922, -5.9472, -5.2024, -4.59, -4.8309, -5.3655, -5.4414, -5.1445, -5.19, -5.268, -5.4536, -5.2506, -5.5474, -5.4822, -5.4157, -5.4073, -5.5016, -5.5709, -5.6043, -5.6177, -5.8071, -6.1237, -5.6006, -7.2272, -4.771, -5.5097, -7.4065, -5.4894, -5.6105, -7.08, -6.3146, -6.0969, -6.8082, -7.1344, -7.1555, -7.3619, -6.58, -6.6113, -5.8094, -5.3057, -6.077, -7.5563, -7.2934, -5.8404, -7.5917, -4.8225, -7.2019, -7.345, -8.0703, -6.3351, -6.9823, -7.0301, -5.0787, -5.3006, -5.241, -6.0822, -5.997, -6.5336, -5.439, -4.7342, -4.962, -5.2357, -5.2079, -4.9203, -4.9602, -4.6535, -5.0649, -5.3472, -5.0589, -5.1141, -4.9767, -4.9308, -5.0068, -5.1366, -5.1205, -5.2463, -5.2946, -5.3509, -5.3785, -5.3713, -5.412, -5.4216, -5.4204, -3.5339, -4.7699, -4.5683, -4.7004, -4.7259, -4.1907, -6.6515, -5.2862, -4.7496, -5.3509, -5.7395, -5.6342, -4.6, -6.4706, -7.092, -6.1667, -6.7391, -6.4514, -6.1784, -6.9774, -6.8505, -6.557, -6.8304, -6.3613, -8.2306, -7.644, -7.4329, -7.3353, -7.9971, -7.6229, -6.6484, -6.8855, -4.6037, -5.9687, -6.3907, -3.3405, -5.1347, -5.2486, -4.2298, -4.8097, -5.2872, -6.0562, -5.8766, -4.7613, -5.0801, -5.0466, -5.3994, -5.293, -5.2173, -5.1382, -5.273, -5.2199, -5.3043, -5.331, -5.3241, -5.3659, -5.373], \"loglift\": [30.0, 29.0, 28.0, 27.0, 26.0, 25.0, 24.0, 23.0, 22.0, 21.0, 20.0, 19.0, 18.0, 17.0, 16.0, 15.0, 14.0, 13.0, 12.0, 11.0, 10.0, 9.0, 8.0, 7.0, 6.0, 5.0, 4.0, 3.0, 2.0, 1.0, 1.9687, 1.9392, 1.9348, 1.9346, 1.9305, 1.8903, 1.8869, 1.8729, 1.8616, 1.8358, 1.8233, 1.8143, 1.8134, 1.8097, 1.7823, 1.7628, 1.7612, 1.7587, 1.756, 1.7527, 1.7522, 1.7436, 1.7401, 1.7395, 1.7372, 1.7356, 1.7143, 1.7138, 1.7132, 1.705, 1.7002, 1.684, 1.6934, 1.6987, 1.4224, 1.5775, 1.6184, 1.3554, 1.5325, 1.3108, 1.3591, 1.5493, 1.494, 1.3556, 1.245, 1.0566, 1.4689, 1.2602, 0.8877, 0.8519, 1.14, 1.0826, 1.1596, 0.9621, 0.8604, 0.9328, 0.6843, 0.4244, 0.7876, 0.8141, 0.9488, 1.0002, 0.8559, 0.9557, 0.6441, 0.5726, 0.6745, 0.5297, 0.1348, 0.5791, 0.2286, 0.1913, 0.5794, 0.4795, 0.2666, -0.3054, 0.6525, 0.6582, 0.0158, 0.1406, 0.0503, 0.4219, -0.1264, -0.0263, -0.2073, 0.3091, -0.045, 0.0643, -0.2186, 0.3699, 0.0589, -0.1829, -0.7764, 0.1835, -0.2941, 2.0802, 1.8999, 1.8633, 1.7734, 1.7374, 1.7278, 1.7015, 1.692, 1.6783, 1.6738, 1.6434, 1.6395, 1.6353, 1.6352, 1.6187, 1.6068, 1.6017, 1.59, 1.5808, 1.578, 1.563, 1.5495, 1.5397, 1.536, 1.5354, 1.5281, 1.528, 1.5062, 1.4866, 1.4856, 1.4287, 1.4391, 1.3492, 1.4421, 1.1662, 1.3505, 1.1785, 1.4441, 1.1251, 1.2483, 1.1691, 1.1871, 1.1541, 1.1177, 0.7829, 0.794, 0.9467, 1.123, 0.6384, 0.6925, 0.6553, 0.5538, 0.7387, 0.6726, 0.3729, 0.3655, 0.3458, 0.5327, 0.2401, 0.3429, 0.5718, 0.4136, 0.1721, 0.2224, 0.0094, 0.3023, 0.3315, 0.1487, 0.2129, 0.022, 0.1606, 0.3306, 0.2076, -0.2044, -0.3161, 0.2027, -0.0728, 2.1223, 2.0726, 2.0519, 2.0493, 2.0339, 1.999, 1.9866, 1.9751, 1.9699, 1.9567, 1.9421, 1.9317, 1.9286, 1.9178, 1.8841, 1.8429, 1.8088, 1.7959, 1.7875, 1.7872, 1.7809, 1.764, 1.7553, 1.7536, 1.7383, 1.7299, 1.7293, 1.7173, 1.7096, 1.7036, 1.685, 1.6714, 1.6803, 1.6103, 1.4435, 1.6435, 1.4941, 1.3325, 1.5442, 1.4063, 1.4332, 1.1863, 0.8074, 1.4125, 0.9817, 1.1344, 0.7387, 0.7179, 0.9992, 0.926, 0.9274, 0.6645, 0.7884, 0.4061, 0.7321, 0.6537, 0.8289, 0.5746, 0.9843, 0.5314, 0.5179, 0.685, 0.308, 0.2832, 0.4712, 0.4364, 0.4894, 0.4031, 0.5482, 0.2388, 0.3411, 0.2858, 0.2977, 0.2752, 0.338, 0.3988, 0.0992, 0.0492, 2.1826, 2.1797, 2.1624, 2.1497, 2.1243, 2.0756, 1.9951, 1.9828, 1.9747, 1.9602, 1.9576, 1.9153, 1.9143, 1.9025, 1.8985, 1.8815, 1.8793, 1.8579, 1.8331, 1.807, 1.7884, 1.7819, 1.7691, 1.7648, 1.7547, 1.7541, 1.7525, 1.7499, 1.7375, 1.7371, 1.7297, 1.7201, 1.6545, 1.7145, 1.4917, 1.6527, 1.6427, 1.1812, 1.0069, 1.6233, 1.2578, 1.2701, 0.9179, 1.4625, 1.1521, 0.9243, 1.1302, 0.939, 1.3576, 1.5237, 0.8045, 0.9591, 1.0566, 1.3486, 0.7823, 0.4675, 0.6047, 1.0147, 0.8103, 0.4939, 0.2673, 0.3343, 0.4847, 0.383, 0.1131, 0.0116, 0.5632, 0.6368, 0.1869, 0.0927, 0.1215, 0.1224, 0.1908, -0.0067, 0.233, 0.0401, -0.1946, -0.1602, 0.0982, -0.0154, 2.3172, 2.215, 2.088, 2.0572, 2.0429, 2.0356, 2.0206, 1.9788, 1.9672, 1.9227, 1.9047, 1.9035, 1.9022, 1.8779, 1.8637, 1.8582, 1.8461, 1.8317, 1.8124, 1.8115, 1.8025, 1.8016, 1.8012, 1.7858, 1.7798, 1.7783, 1.7763, 1.7726, 1.7722, 1.7718, 1.7556, 1.6905, 1.6989, 1.6463, 1.3485, 1.5826, 0.9463, 1.5829, 0.8302, 1.2194, 0.872, 1.1408, 1.2329, 0.3641, 0.5815, 0.6253, 0.9385, 0.5786, 0.513, 0.3824, 0.2816, 0.4794, 0.642, 0.4453, 0.6033, 0.6556, 0.2844, 0.488, 0.2508, 0.3837, 0.1758, 0.4685, 0.1168, 0.2203, 0.0069, 0.2686, 0.0927, -0.1497, -0.0515, 0.117, 0.0911, -0.0202, 0.0838, -0.0295, -0.1983, 2.7761, 2.756, 2.6323, 2.5878, 2.4259, 2.407, 2.397, 2.3815, 2.3649, 2.3596, 2.3543, 2.3045, 2.2757, 2.2357, 2.2328, 2.2056, 2.1995, 2.174, 2.1614, 2.1609, 2.1547, 2.153, 2.1316, 2.1272, 2.094, 2.0936, 2.0934, 2.0896, 2.0872, 2.0772, 2.0707, 2.0752, 1.9029, 2.0052, 1.9177, 2.0376, 1.9051, 2.0466, 1.814, 1.6877, 1.9499, 1.9373, 1.7411, 1.4829, 1.3426, 1.3443, 1.6276, 1.5458, 1.6946, 0.7473, 1.004, 0.6672, 0.9193, 0.6758, 0.9203, 1.3294, 1.0123, 1.0345, 0.464, 0.7886, 0.4305, 0.5569, 0.2009, 1.0315, 0.4867, 0.1287, -0.0373, 0.4333, 0.5523, 0.0255, 0.1376, 0.3238, 0.5566, 0.1514, 0.1228, 0.1174, 0.0806, 2.958, 2.9402, 2.8823, 2.8218, 2.7712, 2.6018, 2.5957, 2.5732, 2.537, 2.532, 2.5067, 2.5004, 2.4739, 2.4261, 2.4255, 2.4242, 2.4013, 2.3909, 2.3853, 2.3795, 2.3738, 2.3657, 2.3557, 2.3483, 2.3327, 2.3011, 2.2896, 2.2613, 2.2501, 2.2429, 2.2331, 2.2295, 2.234, 2.2151, 2.0509, 2.0327, 2.0503, 1.6543, 2.0762, 2.1305, 2.1213, 2.0536, 1.0403, 1.4517, 1.55, 1.4306, 1.6714, 1.2718, 1.5171, 1.5484, 1.4182, 0.5293, 1.1396, 1.0878, 1.1917, 0.9214, 1.4752, 1.0714, 0.0025, 1.2867, 0.3965, 0.1126, 0.445, 0.3354, 0.2219, 1.2854, 0.7317, 0.5577, 0.0206, 0.0875, 0.427, -0.0857, 0.5919, 0.1639, -0.2796, -0.1049, 0.068, -0.3196, 0.1228, 0.049, 3.0293, 2.9148, 2.9066, 2.8985, 2.8887, 2.7725, 2.7635, 2.7472, 2.719, 2.6803, 2.6421, 2.6394, 2.6322, 2.6298, 2.6285, 2.6089, 2.6019, 2.5866, 2.5784, 2.5368, 2.5354, 2.5305, 2.5263, 2.5147, 2.5121, 2.5049, 2.4998, 2.4979, 2.4799, 2.4759, 2.4643, 2.3859, 2.4562, 2.3337, 2.4176, 2.2473, 2.3234, 2.2585, 2.11, 2.2624, 2.2973, 2.2668, 2.0902, 2.2191, 1.3939, 1.7943, 1.6556, 1.6945, 2.0239, 1.7042, 1.1974, 0.7767, 1.8175, 1.1083, 0.8514, 0.8613, 0.622, 0.4952, 0.4368, 0.9332, 0.6168, 0.6659, 0.4721, 0.5595, 1.6938, 0.8075, 0.1842, 0.0994, 0.4901, 0.0774, 0.4268, 0.1413, 0.3578, 0.3084, 0.2211, 0.1238, 0.3924, 3.129, 3.0062, 2.9753, 2.936, 2.8051, 2.7158, 2.7137, 2.7053, 2.6499, 2.5638, 2.5626, 2.5242, 2.481, 2.4581, 2.4581, 2.4541, 2.4443, 2.4259, 2.4066, 2.3944, 2.3925, 2.3899, 2.3853, 2.3735, 2.3721, 2.3641, 2.3587, 2.3133, 2.2915, 2.2873, 2.2795, 2.2062, 2.1544, 2.0325, 2.1371, 1.8679, 1.1523, 1.2518, 2.1135, 1.6908, 1.1107, 0.8657, 1.3521, 0.8318, 1.1925, 1.1398, 0.6825, 0.8226, 1.1046, 0.7727, 0.7847, 0.7936, 1.0162, -0.0612, 1.4148, 0.3338, 0.6741, 0.7899, 0.4193, 0.4764, 0.3287, 0.3292, 0.2496, 0.2858, 0.212, 3.0734, 3.0478, 3.0315, 3.0217, 3.0158, 2.993, 2.9829, 2.8972, 2.882, 2.8679, 2.8236, 2.7744, 2.7602, 2.7558, 2.6815, 2.5888, 2.5844, 2.5595, 2.5588, 2.5513, 2.5147, 2.5104, 2.4801, 2.4722, 2.4695, 2.4637, 2.4585, 2.4291, 2.4211, 2.4189, 2.3968, 2.4187, 2.3631, 2.2936, 2.225, 2.2411, 2.0153, 1.9708, 1.7192, 1.904, 2.0611, 1.9271, 1.4688, 1.4699, 1.8265, 1.2801, 1.2717, 1.7536, 1.1247, 1.1179, 1.5766, 0.983, 1.1056, 1.2188, 0.863, 1.433, 0.9916, 1.6247, 1.2471, 1.1382, 0.7607, 0.2609, 0.9529, 0.4095, 0.6758, 0.6623, 0.6792, 0.5378, 0.443, 0.5433, 3.3478, 3.3428, 3.3303, 3.3222, 3.3098, 3.2651, 3.2418, 3.2123, 3.1198, 3.092, 2.9239, 2.8359, 2.83, 2.7905, 2.7727, 2.7602, 2.7538, 2.7477, 2.7459, 2.7441, 2.7438, 2.742, 2.7289, 2.7167, 2.7074, 2.6983, 2.6969, 2.6799, 2.6797, 2.6742, 2.6584, 2.5324, 2.3941, 2.5589, 2.499, 2.5168, 2.1161, 2.3163, 2.1402, 1.5093, 1.7529, 1.5013, 1.6443, 1.7505, 1.4396, 1.5925, 1.9893, 1.4858, 1.6185, 1.7726, 1.9708, 0.5548, 1.8478, 1.5693, 2.1855, 0.3503, 0.5367, 0.4226, 0.8053, 0.6105, 0.8674, 0.7217, 0.2846, 0.6537, 0.5185, 0.45, 0.2119, 0.7958, 0.9447, 0.7964, 0.1417, 0.9785, 0.2341, 3.3297, 3.3106, 3.2821, 3.2741, 3.2662, 3.1477, 3.1332, 3.1204, 3.0953, 3.0771, 3.0718, 3.0132, 3.0084, 2.9691, 2.9396, 2.9116, 2.9076, 2.8645, 2.8187, 2.7671, 2.7666, 2.7646, 2.755, 2.7518, 2.7443, 2.7273, 2.6831, 2.6355, 2.6248, 2.6234, 2.5143, 2.5324, 2.5031, 2.3721, 2.2759, 2.0489, 2.4407, 2.3951, 2.1323, 1.572, 2.145, 1.6405, 2.1727, 1.7631, 1.6537, 0.9361, 0.8555, 0.6438, 0.4027, 0.8446, 0.9951, 0.336, 0.5891, 0.3107, 0.2913, 1.0642, 0.462, -0.0311, 0.0865, 0.6855, 0.4678, 0.1047, 0.3038, 3.5554, 3.534, 3.5148, 3.5095, 3.5083, 3.4654, 3.3952, 3.3084, 3.2954, 3.2338, 2.9933, 2.9607, 2.8391, 2.8004, 2.7773, 2.7683, 2.7478, 2.695, 2.6811, 2.6716, 2.6658, 2.6438, 2.5927, 2.5435, 2.5182, 2.504, 2.465, 2.4501, 2.4205, 2.3826, 2.2272, 2.2276, 2.3209, 2.1036, 1.4254, 1.7257, 1.0646, 1.5506, 1.3246, 2.2496, 0.9819, 1.5344, 0.9177, 1.2918, 1.2074, 0.9449, 0.8273, 0.4734, 0.6633, 1.0245, 0.5891, 0.5691, 0.3444, 0.4907, 0.4223, 0.114, 0.3141, -0.0593, 0.5505, 0.6869, 0.2746, 0.4697, 0.5724, 0.3928, 3.6069, 3.4013, 3.3226, 3.3145, 3.2968, 3.2908, 3.2777, 3.2751, 3.2713, 3.2485, 3.2346, 3.2127, 3.2081, 3.2044, 3.1915, 3.1914, 3.16, 3.1199, 3.1014, 3.0772, 3.0681, 3.0491, 3.0427, 3.0038, 3.0029, 2.9859, 2.9489, 2.946, 2.9428, 2.8958, 2.8086, 2.8137, 2.7264, 2.7531, 1.9272, 2.7229, 1.4254, 1.9648, 1.1491, 1.2821, 0.8759, 2.1018, 0.8169, 0.797, 0.6372, 0.7689, 0.3058, 1.1771, 0.574, 0.7304, -0.0207, 0.5437, 0.3239, 0.1247, 0.1069, 0.5111, 0.325, 0.5255, 0.3027, 0.3783, 3.56, 3.5003, 3.4726, 3.4372, 3.3666, 3.3614, 3.2996, 3.2381, 3.1568, 3.155, 3.1279, 3.0942, 3.067, 3.061, 3.0525, 3.0011, 2.9934, 2.9911, 2.9715, 2.9682, 2.9331, 2.9081, 2.8635, 2.8501, 2.8459, 2.8322, 2.8034, 2.749, 2.7318, 2.7313, 2.6809, 2.7181, 2.5357, 2.4835, 2.4537, 2.4835, 2.2814, 1.7918, 2.4098, 1.5666, 1.4684, 1.1263, 1.8929, 1.3252, 1.4889, 0.9132, 0.916, 0.9063, 0.5841, 1.0083, 1.26, 1.01, 0.544, 0.2999, 0.4848, 0.5646, 0.9406, 0.7769, 1.153, 0.3361, 0.1745, 0.3996, 3.6586, 3.303, 3.1903, 3.1093, 3.0371, 3.0328, 3.0067, 2.9931, 2.9844, 2.9798, 2.96, 2.953, 2.8953, 2.884, 2.7487, 2.7282, 2.7129, 2.7058, 2.6959, 2.6592, 2.6492, 2.6355, 2.6292, 2.626, 2.6222, 2.5935, 2.5868, 2.5859, 2.583, 2.5761, 2.5231, 2.4124, 2.4712, 2.2076, 2.1884, 1.9544, 1.7549, 2.0489, 2.232, 1.5826, 1.7489, 1.8732, 1.5853, 1.1004, 1.2938, 1.6447, 1.3392, 1.5314, 1.0994, 1.4541, 0.6674, 1.087, 0.5349, 0.4183, 0.1516, 0.6156, 0.3417, 0.5453, -0.3085, 0.4511, -0.0428, 0.0365, -0.1328, 0.0258, 0.0495, 0.329, 0.1815, 3.8565, 3.8506, 3.8486, 3.8469, 3.8442, 3.8425, 3.8389, 3.8371, 3.8356, 3.8353, 3.8347, 3.8332, 3.833, 3.8301, 3.8295, 3.8276, 3.8254, 3.8246, 3.8233, 3.822, 3.8219, 3.8218, 3.817, 3.8159, 3.8154, 3.8152, 3.815, 3.8136, 3.8121, 3.8099, 3.7739, 3.7767, 3.7626, 3.7148, 3.7277, 3.5645, 3.6736, 3.7012, 3.6891, 3.1554, 2.9162, 3.4787, 3.2592, 3.4442, 2.7612, 3.4131, 3.5849, 2.9719, 3.0032, 3.0625, 3.408, 2.6742, 1.9607, 1.0485, 1.9424, 1.9841, 0.8461, 0.4868, 0.6178, 1.4472, -0.1697, 1.4724, 0.9907, 0.3925, 0.2292, 0.4996, 0.7677, -0.3757, 0.191, 3.842, 3.8237, 3.8226, 3.7836, 3.6719, 3.4522, 3.3902, 3.3373, 3.3153, 3.2667, 3.2443, 3.2328, 3.2263, 3.2216, 3.2012, 3.11, 3.0768, 3.0637, 3.0349, 2.9958, 2.9734, 2.9614, 2.9259, 2.8928, 2.8849, 2.8816, 2.8727, 2.8586, 2.8264, 2.816, 2.8004, 2.7803, 2.3138, 2.3026, 2.1844, 2.4625, 2.4126, 2.6005, 1.8511, 1.2564, 1.2126, 1.4572, 1.3286, 0.8496, 0.8484, 0.4274, 0.9035, 1.2328, 0.7937, 0.8363, 0.4324, 0.2977, 0.4283, 0.5923, 0.5452, 0.5624, 0.557, 0.1128, 0.336, 0.0416, 0.3962, 0.4469, 0.0992, 4.473, 4.4454, 4.4439, 4.4388, 4.2122, 4.1961, 4.0312, 3.9126, 3.8942, 3.8003, 3.4816, 3.3354, 3.2738, 3.2431, 3.2364, 3.1885, 3.0987, 3.078, 3.0042, 2.9957, 2.9504, 2.9158, 2.9115, 2.8836, 2.854, 2.8523, 2.8486, 2.8193, 2.8017, 2.7808, 2.7115, 2.7165, 2.4641, 2.6111, 2.616, 1.7404, 1.826, 1.768, 0.9988, 1.365, 1.5559, 2.2448, 2.0374, 0.6478, 0.7281, 0.4806, 0.9354, 0.7082, 0.5116, 0.2969, 0.497, 0.3396, 0.5043, 0.3731, 0.0889, 0.2942, 0.2641]}, \"token.table\": {\"Topic\": [1, 6, 8, 12, 1, 2, 3, 4, 5, 6, 7, 8, 9, 17, 18, 1, 5, 8, 18, 11, 17, 1, 4, 5, 8, 1, 4, 7, 8, 9, 1, 4, 5, 7, 8, 9, 14, 18, 2, 3, 4, 5, 19, 1, 2, 3, 4, 5, 6, 7, 8, 9, 10, 11, 12, 13, 14, 15, 16, 17, 18, 19, 1, 2, 3, 4, 5, 6, 7, 8, 9, 10, 11, 12, 13, 14, 15, 16, 17, 18, 19, 4, 7, 1, 2, 4, 16, 18, 1, 7, 12, 1, 2, 3, 4, 5, 6, 7, 9, 11, 12, 15, 16, 17, 18, 19, 1, 2, 3, 4, 5, 6, 7, 8, 9, 10, 11, 12, 13, 14, 15, 16, 17, 18, 19, 1, 2, 4, 5, 7, 8, 16, 11, 1, 2, 3, 4, 5, 6, 7, 8, 9, 10, 11, 12, 13, 14, 15, 16, 17, 18, 19, 3, 5, 7, 8, 9, 16, 19, 1, 2, 3, 4, 5, 6, 7, 8, 9, 10, 11, 12, 13, 14, 15, 16, 17, 18, 19, 1, 2, 4, 7, 9, 13, 1, 2, 4, 5, 6, 7, 8, 9, 11, 13, 14, 16, 17, 18, 1, 7, 11, 13, 14, 6, 13, 16, 1, 2, 5, 7, 8, 9, 10, 11, 12, 14, 16, 1, 2, 3, 4, 5, 6, 7, 8, 9, 10, 11, 12, 13, 14, 15, 16, 17, 18, 19, 5, 6, 9, 1, 2, 3, 4, 11, 19, 1, 2, 5, 7, 11, 14, 19, 1, 2, 4, 5, 1, 2, 3, 4, 5, 6, 7, 8, 9, 10, 11, 12, 13, 14, 15, 16, 17, 18, 19, 1, 3, 5, 10, 15, 1, 5, 6, 14, 5, 6, 9, 14, 17, 1, 2, 3, 4, 5, 6, 7, 9, 10, 11, 12, 14, 15, 17, 18, 1, 2, 3, 4, 5, 6, 7, 8, 9, 10, 11, 12, 13, 14, 15, 16, 17, 18, 19, 1, 7, 3, 4, 5, 16, 18, 5, 6, 8, 17, 18, 19, 4, 5, 7, 8, 13, 1, 2, 3, 4, 5, 6, 8, 9, 10, 11, 15, 17, 2, 3, 5, 11, 13, 19, 2, 3, 4, 5, 6, 7, 9, 13, 14, 15, 17, 19, 1, 2, 3, 7, 8, 11, 12, 13, 17, 18, 1, 3, 4, 5, 6, 7, 17, 1, 2, 3, 4, 5, 6, 7, 8, 9, 10, 11, 12, 13, 14, 15, 16, 17, 18, 19, 1, 2, 3, 4, 5, 6, 7, 8, 9, 11, 12, 13, 14, 16, 17, 18, 1, 2, 3, 4, 5, 6, 7, 8, 9, 10, 11, 12, 13, 14, 15, 16, 17, 18, 19, 1, 2, 3, 4, 5, 6, 7, 8, 9, 10, 11, 13, 16, 17, 18, 1, 2, 3, 4, 5, 6, 7, 8, 9, 10, 11, 12, 13, 14, 15, 16, 17, 18, 19, 1, 2, 3, 4, 5, 6, 7, 8, 9, 10, 11, 12, 13, 14, 15, 16, 17, 18, 19, 3, 4, 11, 16, 17, 1, 2, 3, 4, 5, 6, 7, 8, 9, 10, 11, 12, 13, 14, 15, 16, 17, 18, 19, 6, 1, 6, 1, 2, 3, 4, 5, 6, 7, 8, 9, 10, 11, 12, 13, 16, 17, 18, 1, 2, 3, 5, 6, 13, 14, 16, 2, 3, 5, 6, 7, 1, 2, 8, 18, 1, 2, 3, 4, 5, 6, 7, 8, 9, 10, 11, 12, 13, 14, 15, 16, 17, 18, 19, 2, 3, 4, 6, 7, 1, 6, 7, 2, 6, 12, 13, 15, 17, 1, 2, 3, 4, 5, 6, 7, 8, 9, 10, 11, 12, 13, 14, 15, 16, 17, 18, 19, 1, 2, 3, 4, 5, 6, 7, 9, 11, 12, 13, 14, 15, 16, 18, 19, 1, 2, 3, 4, 5, 6, 7, 8, 9, 10, 11, 12, 13, 15, 16, 17, 18, 19, 1, 2, 3, 4, 5, 6, 7, 8, 9, 10, 11, 12, 13, 14, 15, 16, 17, 18, 19, 1, 2, 3, 4, 5, 6, 7, 8, 9, 10, 11, 12, 13, 14, 16, 17, 18, 1, 9, 11, 12, 1, 2, 3, 4, 5, 6, 7, 9, 10, 12, 13, 16, 17, 1, 2, 7, 12, 1, 6, 16, 1, 2, 3, 4, 5, 6, 7, 8, 9, 10, 12, 13, 15, 16, 18, 1, 2, 3, 4, 5, 6, 7, 8, 9, 10, 11, 12, 13, 15, 16, 17, 18, 19, 1, 2, 3, 4, 5, 6, 7, 8, 9, 11, 13, 14, 16, 17, 1, 2, 3, 4, 5, 6, 7, 8, 9, 10, 12, 13, 14, 15, 16, 17, 18, 3, 5, 14, 18, 3, 7, 8, 9, 12, 18, 1, 2, 3, 4, 5, 6, 7, 8, 9, 10, 11, 12, 13, 16, 17, 18, 1, 2, 3, 4, 5, 7, 8, 9, 1, 2, 3, 4, 5, 6, 7, 8, 9, 10, 11, 12, 13, 14, 15, 16, 17, 18, 19, 3, 5, 15, 18, 1, 2, 3, 4, 5, 6, 7, 8, 9, 10, 11, 12, 13, 14, 15, 16, 17, 18, 19, 2, 3, 5, 6, 7, 11, 15, 18, 1, 5, 6, 11, 13, 17, 19, 3, 4, 5, 6, 7, 8, 10, 11, 14, 16, 17, 1, 3, 8, 12, 15, 1, 4, 5, 11, 12, 1, 2, 3, 4, 5, 7, 8, 9, 10, 12, 13, 14, 15, 16, 18, 19, 1, 2, 3, 6, 16, 19, 3, 4, 5, 15, 17, 1, 2, 3, 4, 5, 6, 7, 8, 9, 10, 13, 14, 15, 16, 17, 18, 19, 4, 5, 6, 9, 10, 11, 12, 13, 15, 16, 3, 7, 1, 2, 3, 4, 5, 6, 7, 8, 9, 10, 11, 12, 13, 14, 15, 16, 17, 18, 19, 1, 11, 14, 3, 4, 5, 8, 11, 1, 2, 3, 4, 5, 6, 7, 8, 11, 12, 2, 3, 5, 7, 8, 12, 1, 4, 12, 1, 3, 4, 5, 8, 10, 11, 16, 2, 3, 4, 5, 6, 7, 10, 12, 14, 15, 16, 18, 19, 2, 3, 4, 5, 9, 12, 14, 16, 1, 2, 3, 4, 5, 7, 8, 9, 10, 12, 13, 14, 15, 16, 17, 18, 1, 2, 3, 4, 5, 6, 7, 8, 9, 11, 12, 13, 14, 15, 16, 17, 18, 2, 4, 5, 9, 11, 14, 15, 16, 1, 2, 4, 5, 6, 10, 16, 17, 17, 17, 1, 2, 6, 13, 16, 17, 1, 4, 7, 11, 16, 17, 1, 4, 13, 16, 1, 2, 4, 8, 10, 2, 3, 4, 5, 6, 7, 12, 15, 19, 1, 2, 3, 4, 5, 6, 13, 14, 15, 18, 19, 1, 5, 7, 1, 2, 3, 4, 5, 6, 16, 17, 2, 3, 4, 5, 6, 9, 12, 15, 19, 1, 2, 3, 4, 5, 6, 7, 8, 11, 12, 13, 16, 17, 19, 1, 2, 3, 4, 5, 6, 7, 8, 9, 10, 11, 12, 13, 14, 15, 16, 17, 18, 19, 1, 5, 11, 14, 15, 19, 2, 4, 5, 13, 14, 15, 18, 1, 2, 3, 4, 5, 6, 7, 9, 10, 12, 14, 15, 17, 18, 19, 2, 9, 10, 12, 14, 17, 1, 2, 3, 4, 5, 6, 7, 8, 9, 11, 12, 13, 14, 16, 1, 3, 6, 7, 10, 12, 16, 1, 2, 3, 4, 5, 6, 7, 8, 9, 11, 12, 14, 15, 16, 17, 1, 2, 3, 12, 18, 2, 3, 4, 6, 7, 9, 13, 15, 16, 17, 19, 1, 2, 3, 4, 5, 8, 9, 10, 15, 2, 4, 5, 9, 10, 15, 2, 3, 4, 5, 6, 9, 12, 13, 14, 15, 16, 17, 18, 2, 3, 5, 6, 7, 13, 14, 17, 18, 19, 1, 7, 12, 17, 19, 2, 3, 5, 9, 1, 2, 3, 4, 5, 6, 7, 8, 9, 11, 12, 13, 14, 16, 17, 19, 1, 7, 8, 17, 1, 2, 3, 4, 5, 6, 7, 8, 9, 11, 13, 16, 17, 18, 1, 2, 3, 1, 4, 6, 8, 1, 4, 7, 8, 11, 14, 15, 1, 5, 7, 8, 16, 1, 2, 3, 4, 5, 7, 8, 14, 16, 17, 1, 4, 6, 11, 13, 16, 2, 3, 4, 5, 7, 9, 10, 16, 1, 5, 8, 1, 3, 8, 19, 1, 2, 3, 4, 5, 6, 7, 8, 9, 10, 12, 13, 14, 15, 16, 17, 18, 1, 2, 5, 6, 7, 8, 9, 10, 12, 13, 14, 15, 17, 19, 1, 2, 5, 7, 8, 9, 10, 11, 14, 15, 16, 1, 2, 3, 4, 5, 6, 8, 9, 10, 12, 13, 14, 17, 19, 1, 2, 4, 5, 14, 18, 1, 2, 3, 4, 5, 6, 7, 8, 9, 10, 13, 14, 16, 1, 2, 5, 12, 13, 16, 19, 1, 2, 3, 4, 6, 11, 13, 1, 2, 7, 8, 11, 1, 3, 5, 7, 8, 12, 1, 3, 4, 7, 10, 12, 13, 14, 16, 17, 18, 2, 3, 5, 7, 9, 12, 1, 2, 3, 5, 7, 12, 15, 17, 1, 2, 3, 4, 5, 6, 7, 8, 9, 10, 11, 12, 13, 14, 15, 16, 17, 18, 19, 1, 2, 3, 4, 6, 7, 11, 13, 15, 16, 2, 3, 4, 5, 6, 13, 3, 4, 5, 7, 1, 2, 4, 1, 2, 5, 12, 14, 17, 18, 1, 4, 5, 7, 14, 1, 2, 3, 4, 5, 6, 7, 8, 9, 10, 11, 12, 13, 14, 16, 17, 18, 11, 17, 1, 3, 5, 6, 17, 1, 2, 3, 4, 5, 6, 7, 8, 9, 10, 11, 12, 13, 14, 15, 16, 17, 18, 19, 1, 2, 3, 4, 5, 6, 7, 8, 9, 10, 11, 12, 13, 14, 15, 16, 17, 18, 19, 1, 2, 3, 4, 5, 6, 7, 8, 9, 10, 11, 12, 13, 14, 15, 16, 17, 18, 19, 11, 17, 1, 2, 4, 5, 6, 9, 12, 17, 1, 4, 6, 7, 13, 1, 2, 4, 7, 16, 17, 1, 2, 7, 8, 9, 16, 1, 2, 3, 5, 9, 11, 14, 15, 17, 18, 17, 2, 9, 11, 16, 17, 1, 1, 2, 4, 5, 7, 8, 1, 2, 3, 4, 5, 6, 7, 8, 11, 13, 14, 15, 16, 17, 18, 19, 1, 2, 3, 5, 7, 8, 9, 11, 14, 15, 16, 17, 18, 1, 2, 4, 5, 1, 2, 3, 4, 5, 7, 8, 9, 11, 12, 13, 16, 1, 2, 4, 5, 8, 10, 11, 1, 7, 13, 14, 3, 5, 7, 9, 15, 17, 1, 2, 3, 4, 5, 6, 7, 8, 9, 10, 12, 14, 15, 19, 5, 6, 7, 11, 16, 6, 7, 8, 1, 4, 8, 11, 4, 8, 13, 1, 2, 8, 2, 3, 4, 5, 6, 12, 18, 19, 1, 2, 3, 4, 5, 6, 7, 8, 9, 11, 12, 13, 14, 15, 16, 17, 18, 1, 4, 5, 6, 11, 3, 4, 6, 16, 19, 3, 4, 5, 6, 17, 18, 1, 2, 3, 4, 5, 6, 7, 8, 9, 10, 11, 12, 13, 14, 15, 16, 17, 18, 19, 7, 11, 13, 14, 19, 2, 7, 11, 18, 1, 2, 4, 6, 10, 11, 14, 17, 18, 19, 1, 3, 6, 17, 1, 2, 4, 5, 6, 7, 9, 11, 12, 14, 16, 17, 1, 2, 3, 4, 5, 6, 7, 8, 9, 11, 12, 13, 14, 16, 17, 18, 2, 3, 4, 5, 11, 13, 17, 1, 2, 3, 4, 5, 6, 7, 8, 9, 10, 11, 12, 13, 14, 15, 16, 17, 18, 19, 1, 2, 3, 5, 6, 7, 8, 11, 12, 19, 1, 2, 3, 6, 7, 9, 12, 13, 14, 15, 16, 17, 19, 1, 2, 3, 5, 7, 12, 1, 2, 3, 4, 5, 6, 7, 11, 12, 13, 16, 18, 1, 4, 5, 11, 16, 6, 13, 16, 1, 4, 5, 7, 2, 4, 7, 9, 13, 19, 1, 2, 3, 4, 5, 6, 7, 8, 9, 10, 11, 12, 13, 14, 15, 16, 17, 18, 19, 1, 2, 7, 11, 16, 17, 1, 2, 3, 4, 5, 6, 7, 8, 9, 10, 11, 12, 13, 14, 15, 16, 17, 18, 19, 1, 2, 3, 4, 5, 6, 7, 8, 9, 11, 13, 14, 15, 17, 3, 4, 5, 7, 8, 19, 1, 3, 5, 6, 13, 17, 2, 4, 5, 7, 13, 18, 3, 6, 13, 19, 1, 2, 7, 8, 1, 2, 5, 7, 8, 9, 10, 12, 1, 4, 5, 7, 8, 9, 10, 14, 2, 7, 9, 1, 2, 4, 6, 1, 5, 8, 1, 7, 8, 1, 2, 3, 4, 5, 6, 7, 8, 9, 10, 11, 12, 13, 14, 15, 16, 17, 18, 19, 17, 1, 5, 6, 9, 11, 13, 16, 19, 2, 4, 5, 6, 7, 1, 2, 3, 4, 5, 6, 7, 8, 9, 10, 11, 12, 13, 14, 15, 16, 17, 18, 19, 1, 11, 13, 2, 4, 5, 6, 13, 16, 17, 19, 1, 2, 3, 4, 5, 6, 7, 8, 9, 10, 11, 13, 14, 15, 16, 17, 18, 19, 1, 5, 7, 1, 2, 4, 5, 7, 8, 16, 1, 4, 8, 17, 1, 2, 5, 7, 8, 14, 19, 1, 2, 4, 8, 11, 1, 2, 3, 4, 5, 7, 8, 13, 18, 1, 2, 3, 4, 5, 6, 7, 8, 9, 10, 11, 12, 13, 14, 15, 16, 17, 18, 19, 1, 2, 3, 4, 5, 6, 7, 8, 9, 10, 11, 12, 13, 14, 15, 16, 17, 18, 19, 2, 5, 7, 13, 1, 2, 3, 4, 5, 6, 7, 8, 9, 10, 11, 12, 13, 14, 15, 16, 17, 18, 19, 1, 2, 3, 4, 5, 6, 7, 8, 9, 16, 17, 18, 19, 2, 3, 4, 5, 7, 1, 5, 6, 7, 9, 11, 13, 14, 18, 1, 2, 3, 4, 5, 6, 7, 8, 10, 12, 13, 14, 17, 19, 1, 2, 3, 4, 5, 9, 11, 15, 18, 19, 1, 2, 3, 4, 5, 6, 10, 13, 15, 16, 18, 19, 3, 5, 19, 3, 5, 7, 1, 2, 3, 4, 5, 6, 7, 9, 11, 12, 15, 17, 18, 19, 1, 2, 3, 4, 5, 6, 7, 8, 9, 10, 11, 12, 13, 14, 15, 16, 17, 18, 19, 4, 8, 9, 12, 1, 3, 4, 13, 1, 4, 9, 11, 1, 2, 3, 1, 2, 1, 2, 3, 4, 5, 6, 7, 11, 16, 1, 2, 3, 4, 5, 7, 9, 1, 6, 12, 14, 1, 10, 12, 17, 17, 1, 2, 4, 5, 6, 13, 17, 19, 1, 2, 3, 4, 5, 6, 7, 8, 9, 10, 11, 12, 13, 14, 15, 16, 17, 18, 19, 2, 3, 6, 16, 19, 1, 2, 3, 4, 5, 6, 7, 8, 9, 10, 11, 12, 13, 14, 15, 16, 17, 18, 19, 1, 2, 3, 4, 5, 6, 7, 8, 9, 11, 12, 13, 14, 15, 16, 17, 18, 19, 4, 12, 13, 17, 1, 5, 7, 8, 11, 12, 13, 1, 3, 4, 5, 12, 13, 16, 1, 2, 4, 6, 7, 13, 1, 2, 3, 4, 5, 6, 7, 9, 11, 13, 15, 16, 17, 1, 2, 3, 4, 5, 9, 14, 15, 16, 3, 4, 6, 10, 13, 6, 7, 12, 14, 17, 18, 2, 3, 4, 5, 6, 7, 8, 9, 11, 17, 18, 1, 2, 3, 4, 5, 6, 7, 8, 9, 10, 11, 12, 13, 16, 17, 18, 19, 1, 2, 3, 4, 5, 6, 7, 8, 9, 10, 11, 12, 13, 14, 15, 16, 17, 18, 19, 2, 5, 7, 9, 17, 17, 5, 17, 2, 5, 7, 12, 1, 2, 3, 4, 5, 6, 7, 8, 9, 10, 11, 12, 13, 14, 15, 16, 17, 18, 19, 1, 2, 3, 4, 5, 6, 7, 8, 9, 10, 11, 12, 13, 14, 15, 16, 17, 18, 19, 1, 2, 3, 4, 5, 6, 7, 8, 9, 10, 11, 12, 13, 14, 15, 16, 17, 18, 19, 1, 2, 3, 4, 6, 9, 13, 14, 17, 1, 2, 3, 4, 5, 6, 7, 8, 9, 10, 11, 12, 13, 14, 16, 17, 18, 1, 2, 6, 7, 9, 17, 18, 2, 3, 4, 6, 9, 13, 14, 15, 17, 18, 19, 1, 3, 4, 5, 6, 7, 9, 11, 12, 13, 17, 18, 19, 2, 4, 5, 6, 12, 18, 13, 16, 6, 11, 13, 1, 3, 6, 8, 9, 11, 17, 1, 2, 3, 4, 5, 6, 7, 8, 9, 11, 12, 13, 14, 15, 16, 17, 18, 19, 17, 1, 3, 4, 7, 10, 16, 17, 18, 19, 1, 4, 5, 6, 11, 12, 13, 15, 3, 5, 8, 9, 15, 1, 2, 3, 4, 5, 6, 7, 9, 11, 12, 13, 15, 16, 17, 1, 2, 3, 4, 5, 6, 7, 9, 11, 12, 13, 14, 18, 1, 2, 3, 4, 5, 6, 7, 8, 9, 11, 13, 15, 2, 5, 8, 3, 4, 6, 10, 18, 1, 2, 3, 4, 5, 6, 7, 8, 9, 12, 13, 14, 15, 16, 17, 18, 19, 1, 2, 3, 4, 5, 6, 7, 10, 11, 12, 13, 14, 16, 18, 1, 4, 5, 6, 7, 12, 13, 1, 2, 3, 4, 5, 6, 7, 8, 9, 10, 11, 12, 13, 14, 15, 16, 17, 18, 19, 1, 2, 5, 7, 11, 16, 19, 1, 2, 3, 4, 5, 6, 7, 9, 11, 12, 13, 14, 15, 16, 17, 18, 2, 5, 13, 15, 17, 18, 1, 2, 3, 4, 5, 6, 7, 9, 10, 11, 12, 13, 15, 17, 18, 19, 1, 2, 4, 5, 6, 11, 12, 15, 1, 2, 5, 11, 1, 2, 5, 7, 3, 4, 5, 6, 8, 9, 10, 11, 12, 13, 15, 16, 17, 19, 1, 2, 3, 4, 5, 6, 7, 8, 9, 10, 11, 12, 13, 14, 15, 16, 17, 19, 1, 11, 13, 4, 5, 10, 17, 1, 2, 3, 4, 5, 7, 14, 15, 1, 2, 3, 4, 5, 6, 7, 8, 9, 10, 11, 12, 13, 14, 15, 16, 17, 18, 2, 9, 10, 13, 16, 17, 1, 2, 3, 4, 5, 6, 7, 8, 9, 10, 11, 12, 13, 14, 15, 16, 17, 18, 19, 1, 5, 6, 16, 19, 3, 4, 5, 6, 9, 12, 15, 16, 17, 18, 19, 1, 2, 4, 5, 7, 16, 1, 2, 3, 4, 5, 6, 7, 8, 9, 10, 11, 16, 17, 18, 7, 8, 3, 5, 12, 13, 15, 1, 3, 4, 5, 6, 7, 12, 15, 16, 17, 1, 2, 3, 4, 5, 6, 7, 8, 9, 10, 11, 12, 13, 14, 15, 16, 17, 18, 19, 1, 2, 3, 4, 5, 6, 7, 8, 9, 10, 11, 12, 13, 14, 18, 19, 1, 2, 3, 4, 5, 6, 7, 9, 10, 11, 12, 13, 15, 17, 18, 19, 1, 4, 7, 13, 17, 19, 2, 5, 6, 9, 10, 11, 12, 13, 16, 17, 18, 17, 1, 3, 4, 5, 6, 7, 9, 11, 14, 17, 18, 19, 2, 4, 13, 15, 17, 18, 2, 3, 4, 5, 8, 9, 12, 1, 2, 3, 4, 5, 6, 7, 8, 9, 10, 11, 12, 13, 14, 15, 16, 17, 18, 19, 17, 1, 2, 4, 5, 6, 8, 9, 13, 14, 16, 2, 4, 8, 14, 1, 2, 3, 4, 5, 6, 7, 8, 9, 10, 11, 12, 13, 16, 19, 2, 3, 4, 5, 6, 9, 11, 12, 13, 14, 15, 16, 17, 5, 12, 17, 1, 2, 3, 4, 5, 6, 7, 8, 9, 10, 11, 12, 13, 14, 15, 16, 17, 18, 19, 1, 2, 5, 13, 1, 2, 3, 4, 5, 6, 7, 8, 9, 10, 11, 12, 13, 14, 15, 16, 17, 18, 19, 1, 2, 3, 4, 5, 6, 7, 8, 9, 10, 11, 12, 13, 15, 16, 17, 18, 19, 4, 6, 8, 12, 15, 2, 3, 4, 5, 6, 9, 11, 12, 14, 17, 19, 1, 7, 9, 11, 13, 14, 1, 4, 6, 7, 8, 14, 19, 1, 2, 4, 6, 11, 12, 13, 16, 18, 19, 2, 3, 4, 5, 6, 7, 11, 12, 13, 14, 15, 19, 3, 6, 10, 11, 1, 2, 3, 4, 5, 6, 7, 8, 9, 10, 11, 12, 13, 14, 15, 16, 17, 18, 19, 1, 2, 3, 4, 5, 6, 7, 8, 9, 10, 11, 12, 13, 14, 15, 16, 17, 18, 19, 1, 2, 3, 4, 5, 6, 7, 8, 9, 10, 11, 12, 13, 14, 15, 16, 17, 18, 19, 1, 2, 4, 5, 6, 7, 11, 2, 3, 4, 5, 6, 9, 11, 12, 15, 17, 18, 19, 1, 2, 3, 4, 5, 6, 9, 10, 11, 12, 13, 14, 15, 16, 1, 2, 4, 5, 7, 8, 17, 1, 2, 3, 4, 5, 6, 7, 9, 11, 13, 14, 17, 1, 2, 5, 6, 9, 16, 1, 3, 8, 11, 13, 1, 2, 3, 4, 5, 6, 7, 8, 9, 10, 11, 12, 13, 14, 15, 16, 17, 18, 19, 1, 3, 4, 5, 6, 7, 9, 11, 12, 13, 14, 17, 19, 1, 2, 3, 4, 5, 6, 7, 8, 9, 11, 12, 13, 19, 1, 2, 4, 5, 12, 17, 1, 2, 5, 6, 1, 2, 3, 4, 5, 6, 7, 9, 10, 11, 13, 14, 16, 17, 19, 1, 2, 3, 4, 5, 6, 7, 8, 9, 10, 11, 12, 13, 14, 15, 16, 17, 18, 19, 1, 5, 7, 9, 1, 2, 3, 4, 5, 7, 9, 10, 13, 16, 1, 2, 5, 7, 8, 14, 19, 1, 2, 4, 5, 6, 11, 14, 16, 19, 1, 2, 3, 4, 5, 6, 7, 8, 9, 10, 11, 12, 13, 14, 15, 16, 17, 18, 19, 3, 11, 17, 1, 2, 3, 4, 5, 6, 7, 8, 9, 10, 12, 13, 14, 15, 16, 17, 19, 1, 2, 3, 4, 5, 6, 7, 8, 9, 12, 13, 14, 15, 16, 17, 18, 1, 4, 5, 7, 1, 4, 5, 16, 18, 1, 5, 9, 15, 18, 1, 2, 3, 4, 5, 6, 7, 10, 11, 14, 15, 16, 17, 1, 2, 4, 7, 13, 14, 16, 18, 1, 2, 3, 4, 5, 6, 7, 8, 9, 10, 11, 12, 13, 14, 16, 17, 18, 19, 1, 2, 3, 4, 5, 6, 7, 9, 10, 12, 13, 14, 15, 16, 17, 18, 19, 17, 1, 4, 6, 11, 3, 5, 6, 17, 11, 17, 11, 17, 1, 2, 3, 4, 5, 7, 8, 9, 10, 12, 13, 14, 16, 17, 18, 19, 1, 6, 7, 11, 1, 2, 4, 8, 9, 1, 5, 9, 13, 5, 8, 1, 2, 4, 5, 7, 8, 17, 19, 3, 4, 5, 7, 16, 1, 4, 7, 8, 1, 6, 16, 1, 2, 3, 4, 5, 6, 7, 8, 9, 10, 11, 12, 13, 14, 16, 17, 18, 1, 2, 4, 5, 6, 7, 8, 11, 12, 13, 17, 3, 9, 12, 14, 15, 17, 17, 3, 5, 6, 7, 9, 17, 18, 19, 1, 5, 6, 1, 5, 6, 10, 11, 12, 15, 19, 1, 2, 3, 5, 6, 9, 13, 14, 15, 16, 1, 3, 4, 5, 6, 7, 3, 5, 9, 13, 17, 1, 3, 4, 5, 12, 16, 17, 1, 3, 4, 5, 6, 16, 18, 6, 11, 13, 16, 2, 3, 5, 9, 10, 12, 13, 14, 17, 19, 1, 2, 3, 4, 5, 6, 7, 8, 9, 10, 11, 12, 13, 14, 15, 16, 17, 19, 1, 2, 3, 4, 5, 6, 7, 8, 9, 10, 11, 12, 13, 14, 15, 16, 17, 18, 1, 2, 3, 4, 5, 6, 7, 8, 9, 10, 11, 12, 13, 14, 16, 18, 1, 2, 3, 4, 5, 6, 7, 8, 9, 10, 12, 13, 16, 19, 1, 3, 5, 6, 17, 1, 4, 5, 10, 12, 18, 19, 1, 2, 3, 4, 5, 6, 7, 8, 9, 11, 13, 14, 16, 17, 18, 19, 1, 2, 3, 4, 5, 6, 7, 8, 9, 10, 11, 12, 13, 14, 15, 16, 17, 18, 1, 2, 4, 5, 12, 1, 2, 4, 5, 6, 7, 8, 10, 16, 18, 1, 4, 5, 7, 11, 14, 16, 1, 2, 3, 4, 5, 6, 7, 8, 9, 10, 11, 12, 13, 14, 15, 16, 17, 18, 19, 3, 7, 9, 15, 16, 18, 1, 2, 4, 5, 6, 7, 12, 6, 17, 19, 17, 3, 6, 12, 15, 1, 2, 3, 4, 5, 6, 7, 8, 9, 10, 11, 12, 13, 14, 15, 16, 17, 18, 19, 1, 2, 3, 4, 5, 6, 7, 8, 9, 11, 16, 17, 18, 19, 1, 2, 3, 4, 5, 6, 7, 8, 9, 10, 11, 12, 13, 14, 15, 16, 17, 18, 19, 1, 5, 7, 19, 1, 2, 3, 4, 5, 6, 7, 8, 9, 10, 11, 12, 13, 14, 15, 16, 17, 18, 19, 1, 2, 3, 5, 6, 7, 8, 9, 14, 16, 18, 1, 6, 11, 13, 14, 17, 4, 6, 9, 11, 13, 14, 18, 19, 1, 2, 3, 4, 5, 6, 7, 8, 9, 10, 11, 12, 13, 14, 15, 16, 17, 18, 19, 1, 2, 3, 4, 5, 6, 7, 17, 1, 3, 4, 5, 6, 10, 18, 1, 2, 3, 4, 5, 6, 7, 8, 9, 10, 11, 12, 13, 14, 15, 16, 17, 18, 19, 1, 2, 3, 4, 5, 6, 7, 8, 9, 10, 11, 12, 13, 14, 15, 16, 17, 18, 19, 1, 2, 3, 4, 5, 6, 7, 8, 9, 10, 11, 12, 13, 14, 15, 16, 17, 18, 19, 1, 2, 1, 2, 3, 4, 5, 6, 7, 8, 9, 10, 11, 12, 13, 14, 15, 16, 17, 18, 19, 1, 2, 3, 4, 5, 6, 7, 8, 9, 11, 17, 1, 2, 3, 4, 5, 6, 7, 8, 9, 10, 11, 12, 13, 14, 15, 16, 17, 18, 19, 1, 2, 6, 12, 18, 2, 3, 4, 5, 6, 7, 8, 9, 12, 15, 18, 1, 3, 9, 14, 15, 1, 2, 4, 5, 7, 9, 11, 1, 2, 3, 6, 7, 8, 9, 12, 13, 14, 17, 6, 13, 16, 17, 1, 2, 3, 4, 5, 6, 7, 8, 9, 10, 11, 12, 13, 14, 15, 16, 17, 18, 19, 1, 2, 4, 7, 10, 1, 3, 4, 6, 7, 9, 10, 11, 2, 3, 6, 9, 15, 16, 1, 2, 3, 4, 5, 6, 7, 8, 9, 10, 11, 14, 16, 17, 18, 1, 2, 3, 4, 5, 6, 7, 8, 9, 10, 11, 12, 13, 14, 15, 16, 17, 18, 1, 2, 3, 4, 5, 6, 7, 8, 9, 10, 11, 12, 13, 14, 16, 17, 18, 19, 1, 2, 3, 4, 5, 1, 8, 9, 14, 16, 18, 1, 3, 4, 5, 8, 19, 1, 2, 3, 5, 6, 7, 8, 12, 16, 19, 17, 1, 2, 3, 4, 5, 6, 7, 8, 9, 10, 11, 12, 13, 14, 15, 16, 17, 18, 1, 2, 3, 4, 5, 7, 8, 9, 12, 13, 4, 5, 14, 17, 18, 1, 2, 3, 4, 5, 6, 7, 8, 9, 10, 11, 12, 13, 14, 15, 16, 17, 18, 19, 1, 2, 3, 4, 5, 6, 7, 8, 9, 10, 11, 12, 13, 14, 15, 16, 17, 18, 19, 2, 5, 6, 9, 13, 14, 3, 12, 15, 1, 2, 3, 4, 5, 6, 7, 8, 9, 10, 11, 12, 13, 14, 15, 16, 17, 19, 1, 4, 6, 8, 10, 12, 13, 17, 1, 3, 4, 7, 12, 1, 2, 3, 4, 5, 6, 7, 8, 9, 11, 13, 14, 15, 16, 17, 18, 19, 1, 2, 4, 6, 11, 13, 17, 1, 2, 3, 4, 5, 6, 7, 8, 9, 10, 11, 12, 13, 14, 15, 16, 17, 18, 19, 1, 2, 3, 4, 5, 6, 7, 8, 9, 11, 12, 13, 14, 15, 16, 19, 1, 2, 3, 4, 5, 7, 8, 10, 12, 14, 15, 1, 6, 7, 8, 11, 13, 16, 1, 2, 3, 4, 5, 6, 7, 9, 11, 12, 13, 14, 16, 17, 1, 3, 5, 10, 11, 12, 14, 17, 18, 19, 3, 5, 6, 10, 11, 13, 16, 18, 1, 2, 3, 4, 5, 6, 7, 10, 13, 15, 16, 17, 18, 1, 7, 11, 14, 17, 1, 2, 3, 4, 5, 6, 7, 8, 9, 11, 12, 13, 14, 15, 16, 18, 19, 2, 3, 5, 7, 17, 2, 3, 4, 5, 6, 12, 19, 1, 2, 4, 5, 7, 8, 9, 11, 14, 16, 17, 1, 2, 3, 4, 5, 6, 13, 19, 1, 2, 3, 4, 5, 6, 7, 14, 15, 1, 5, 1, 2, 3, 4, 5, 6, 7, 8, 10, 11, 16, 17, 1, 2, 3, 4, 5, 6, 7, 8, 9, 10, 11, 12, 13, 14, 15, 16, 17, 18, 19, 5, 12, 14, 17, 1, 2, 3, 4, 5, 6, 7, 8, 9, 10, 11, 12, 13, 14, 15, 16, 17, 18, 1, 2, 3, 4, 5, 6, 7, 9, 10, 11, 12, 13, 14, 15, 19, 1, 3, 4, 5, 6, 7, 11, 12, 16, 17, 18, 1, 2, 3, 4, 5, 6, 7, 8, 9, 10, 11, 12, 13, 14, 15, 16, 17, 18, 19, 1, 2, 3, 4, 5, 7, 18, 19, 1, 2, 5, 7, 8, 9, 11, 18, 19, 1, 2, 3, 4, 5, 6, 7, 8, 11, 13, 16, 1, 2, 3, 4, 5, 6, 7, 8, 11, 12, 13, 1, 2, 4, 5, 6, 8, 15, 19, 1, 2, 3, 4, 5, 6, 7, 8, 9, 10, 11, 12, 13, 14, 15, 16, 17, 18, 19, 1, 2, 4, 5, 7, 17, 1, 2, 3, 5, 6, 7, 9, 13, 17, 18, 19, 1, 2, 3, 4, 5, 6, 7, 8, 9, 10, 11, 12, 13, 14, 15, 16, 17, 18, 19, 2, 3, 6, 7, 9, 2, 3, 4, 8, 18, 1, 4, 1, 2, 4, 5, 7, 10, 12, 13, 14, 17, 18, 1, 2, 5, 7, 9, 11, 1, 2, 3, 4, 5, 7, 9, 11, 12, 13, 16, 17, 1, 2, 3, 4, 5, 6, 7, 8, 9, 10, 11, 12, 13, 14, 15, 16, 17, 18, 19, 1, 2, 3, 4, 5, 6, 7, 8, 12, 13, 2, 4, 5, 6, 12, 14, 19, 1, 2, 3, 4, 5, 6, 7, 8, 9, 10, 11, 12, 13, 14, 15, 16, 17, 18, 19, 1, 2, 3, 4, 5, 10, 11, 17, 1, 3, 4, 5, 6, 14, 17, 1, 4, 5, 6, 7, 8, 9, 11, 13, 17, 1, 2, 3, 4, 5, 6, 7, 8, 9, 10, 11, 12, 13, 14, 15, 16, 17, 18, 19, 1, 2, 3, 4, 5, 7, 8, 15, 18, 1, 2, 4, 5, 8, 12, 16, 17, 1, 2, 3, 4, 5, 6, 7, 15, 16, 18, 1, 4, 11, 1, 3, 4, 5, 6, 7, 9, 11, 13, 14, 16, 17, 1, 4, 7, 10, 12, 13, 16, 17, 1, 2, 3, 4, 5, 6, 7, 8, 11, 16, 6, 11, 13, 1, 4, 6, 2, 4, 8, 9, 1, 5, 7, 17, 2, 6, 17, 1, 2, 3, 5, 14, 17, 1, 2, 3, 4, 5, 6, 7, 8, 9, 10, 11, 12, 13, 14, 15, 16, 17, 18, 19, 2, 3, 4, 5, 6, 7, 12, 13, 14, 18, 19, 1, 2, 3, 4, 5, 6, 7, 8, 10, 17, 1, 2, 3, 4, 5, 6, 7, 8, 9, 10, 11, 12, 13, 14, 15, 16, 17, 18, 19, 17, 1, 2, 3, 4, 5, 6, 7, 8, 9, 11, 12, 13, 14, 15, 16, 17, 18, 19, 12, 15, 2, 3, 5, 9, 10, 15, 17, 1, 2, 3, 4, 5, 6, 7, 8, 9, 10, 11, 12, 13, 14, 15, 16, 17, 18, 19, 11, 1, 2, 5, 1, 2, 4, 6, 10, 12, 17, 19, 1, 2, 3, 4, 5, 6, 7, 8, 9, 10, 11, 12, 13, 14, 15, 16, 17, 18, 19, 3, 5, 9, 13, 15, 17, 18, 1, 3, 9, 12, 13, 1, 2, 3, 4, 6, 7, 18, 19, 1, 2, 4, 5, 8, 12, 15, 16, 17, 1, 2, 3, 4, 5, 6, 7, 8, 9, 10, 11, 12, 13, 14, 15, 16, 17, 1, 2, 3, 5, 6, 8, 11, 12, 15, 18, 19, 3, 14, 15, 17, 1, 4, 16, 17, 19, 1, 2, 3, 4, 5, 6, 7, 8, 9, 10, 11, 12, 13, 14, 15, 16, 17, 18, 19, 1, 2, 4, 6, 1, 2, 3, 4, 5, 6, 7, 8, 9, 10, 11, 12, 13, 14, 15, 16, 17, 18, 19, 1, 2, 7, 8, 11, 2, 3, 4, 17, 3, 4, 5, 8, 12, 1, 7, 1, 2, 3, 4, 5, 6, 13, 17, 1, 3, 5, 1, 4, 5, 1, 2, 3, 4, 5, 6, 10, 12, 15, 17, 18, 1, 2, 3, 4, 5, 6, 8, 11, 12, 14, 15, 16, 17, 18, 19, 1, 3, 4, 5, 7, 15, 18, 17, 1, 2, 3, 4, 5, 6, 7, 8, 9, 10, 11, 12, 13, 14, 15, 16, 17, 18, 19, 1, 2, 3, 4, 5, 7, 8, 13, 14, 16, 18, 19, 1, 5, 9, 12, 14, 1, 2, 3, 4, 5, 6, 7, 8, 11, 17, 1, 4, 7, 11, 3, 5, 7, 9, 10, 14, 17, 1, 2, 4, 5, 6, 10, 12, 13, 16, 17, 18, 1, 4, 5, 7, 14, 1, 2, 3, 12, 15, 1, 2, 4, 5, 6, 12, 17, 18, 1, 4, 6, 11, 1, 2, 3, 4, 5, 6, 7, 8, 9, 10, 11, 12, 13, 14, 15, 16, 17, 18, 19, 1, 3, 4, 5, 10, 14, 15, 17, 18, 19, 1, 2, 4, 5, 8, 11, 13, 14, 16, 18, 1, 3, 4, 5, 18, 1, 2, 3, 4, 5, 6, 7, 10, 17, 19, 1, 2, 3, 4, 5, 6, 7, 8, 9, 10, 11, 12, 13, 14, 15, 16, 17, 18, 19, 4, 7, 13, 15, 18, 1, 1, 2, 4, 5, 17, 2, 3, 5, 17, 3, 4, 5, 6, 14, 16, 11, 17, 1, 4, 5, 8, 11, 17, 1, 2, 3, 4, 5, 6, 7, 8, 9, 11, 12, 13, 16, 17, 19, 1, 2, 3, 4, 5, 6, 7, 8, 9, 10, 12, 13, 15, 17, 18, 19, 2, 3, 4, 5, 6, 10, 17, 1, 2, 3, 5, 6, 7, 9, 10, 11, 12, 13, 14, 17, 18, 19, 1, 2, 4, 5, 7, 8, 9, 10, 12, 13, 15, 17, 5, 9, 17, 1, 2, 3, 4, 5, 7, 8, 9, 10, 12, 13, 14, 17, 19, 1, 2, 5, 8, 9, 1, 2, 3, 4, 5, 6, 7, 8, 9, 12, 14, 17, 18, 1, 4, 1, 7, 8, 14, 1, 7, 13, 16, 1, 3, 6, 1, 2, 6, 7, 1, 3, 4, 6, 7, 16, 1, 2, 3, 4, 5, 6, 7, 8, 9, 10, 11, 12, 13, 14, 15, 16, 17, 18, 19, 1, 2, 7, 16, 1, 2, 3, 4, 5, 8, 9, 10, 11, 12, 13, 17, 18, 1, 2, 5, 6, 11, 12, 13, 1, 2, 3, 4, 5, 6, 7, 8, 9, 10, 12, 13, 14, 15, 16, 17, 18, 19, 5, 6, 11, 17, 3, 4, 6, 17, 1, 3, 4, 5, 6, 7, 9, 11, 13, 16, 17, 3, 6, 7, 9, 19, 1, 2, 5, 6, 7, 13, 14, 1, 7, 1, 8, 2, 3, 6, 7, 9, 16, 19, 1, 2, 4, 6, 7, 9, 11, 13, 14, 16, 17, 18, 1, 4, 6, 9, 13, 14, 1, 2, 3, 4, 5, 6, 7, 8, 9, 10, 12, 14, 15, 16, 17, 18, 19, 1, 7, 8, 13, 16, 17, 18, 1, 4, 7, 8, 1, 2, 3, 4, 9, 10, 11, 18, 3, 5, 6, 1, 3, 4, 5, 6, 8, 11, 12, 13, 14, 1, 1, 7, 9, 10, 12, 19, 1, 6, 13, 17, 19, 1, 2, 3, 5, 7, 19, 1, 2, 3, 4, 5, 6, 7, 8, 9, 10, 11, 12, 13, 14, 16, 17, 18, 19, 1, 4, 5, 7, 8, 16, 1, 2, 4, 5, 7, 8, 16, 19, 1, 2, 3, 4, 5, 6, 7, 8, 9, 10, 11, 12, 13, 14, 15, 16, 17, 18, 19, 1, 2, 3, 4, 5, 6, 7, 8, 9, 10, 11, 12, 13, 14, 15, 16, 17, 18, 19, 2, 5, 6, 16, 1, 2, 3, 4, 5, 6, 7, 8, 9, 10, 11, 12, 13, 14, 15, 16, 17, 18, 1, 2, 3, 4, 5, 6, 7, 8, 9, 10, 11, 12, 13, 14, 15, 16, 17, 18, 19, 1, 2, 3, 6, 7, 9, 11, 15, 19, 1, 2, 3, 4, 5, 6, 7, 8, 9, 10, 11, 12, 13, 14, 16, 17, 18, 19, 1, 2, 3, 4, 5, 6, 7, 8, 9, 10, 11, 12, 13, 14, 15, 16, 17, 18, 19, 1, 3, 4, 5, 6, 11, 12, 1, 2, 3, 4, 5, 6, 7, 9, 11, 13, 16, 17, 1, 2, 3, 4, 5, 6, 7, 8, 9, 10, 11, 12, 13, 15, 16, 17, 1, 4, 9, 1, 4, 6, 11, 16, 1, 2, 4, 5, 10, 11, 12, 18, 5, 12, 14, 1, 4, 7, 1, 2, 3, 4, 5, 7, 12, 13, 16, 17, 1, 2, 3, 4, 5, 6, 7, 8, 9, 10, 11, 12, 13, 17, 18, 1, 2, 4, 7, 8, 10, 1, 2, 3, 4, 5, 6, 7, 8, 9, 10, 11, 12, 13, 14, 15, 16, 17, 18, 19, 11, 13, 17, 5, 6, 7, 12, 16, 19, 2, 5, 11, 12, 13, 14, 17, 2, 3, 4, 6, 16, 19, 2, 3, 4, 5, 6, 7, 9, 12, 13, 14, 15, 16, 17, 18, 19, 1, 2, 3, 4, 5, 7, 8, 9, 13, 15, 16, 17, 18, 19, 1, 4, 7, 8, 9, 17, 1, 2, 4, 5, 6, 7, 8, 9, 11, 12, 13, 14, 1, 2, 12, 13, 17, 6, 7, 12, 13, 15, 16, 1, 2, 3, 5, 6, 8, 9, 12, 14, 15, 16, 18, 19, 1, 3, 4, 5, 8, 10, 18, 19, 3, 5, 6, 7, 12, 3, 4, 6, 14, 15, 1, 5, 6, 7, 10, 11, 1, 3, 4, 1, 2, 6, 8, 11, 14, 1, 6, 14, 16, 17, 1, 4, 6, 8, 9, 18, 3, 4, 13, 14, 16, 1, 2, 3, 4, 5, 6, 7, 8, 9, 11, 12, 13, 14, 15, 16, 17, 1, 2, 3, 4, 5, 6, 7, 11, 12, 13, 14, 15, 18, 19, 1, 2, 3, 4, 5, 6, 7, 8, 9, 13, 16, 1, 2, 3, 4, 5, 6, 7, 8, 9, 10, 11, 12, 13, 14, 15, 16, 17, 18, 19, 1, 2, 3, 4, 5, 6, 7, 8, 9, 10, 11, 12, 13, 14, 15, 16, 17, 18, 19, 17, 1, 2, 3, 4, 5, 6, 7, 11, 13, 14, 16, 17, 18, 19, 1, 2, 3, 4, 5, 6, 7, 8, 9, 11, 12, 13, 14, 15, 16, 17, 18, 1, 11, 1, 4, 6, 7, 11, 12, 16, 1, 2, 3, 4, 5, 6, 7, 8, 9, 10, 11, 12, 13, 14, 15, 16, 17, 18, 19, 7, 8, 11, 1, 3, 4, 5, 6, 9, 11, 14, 1, 3, 14, 18, 4, 9, 11, 13, 14, 18, 1, 2, 3, 4, 5, 6, 12, 16, 18, 1, 2, 3, 4, 5, 6, 8, 9, 10, 11, 16, 17, 6, 8, 17, 18, 1, 2, 4, 5, 6, 7, 8, 9, 11, 12, 13, 14, 16, 17, 2, 3, 4, 5, 6, 10, 13, 14, 17, 18, 1, 2, 3, 4, 5, 6, 7, 8, 9, 10, 12, 13, 15, 17, 18, 3, 5, 6, 9, 13, 19, 1, 2, 4, 5, 6, 7, 8, 9, 10, 11, 12, 13, 14, 16, 17, 3, 5, 7, 14, 15, 17, 1, 5, 10, 13, 1, 3, 5, 7, 11, 18, 1, 2, 3, 4, 5, 9, 11, 12, 16, 11, 1, 2, 3, 4, 5, 6, 7, 8, 9, 10, 11, 12, 13, 14, 15, 16, 17, 19, 1, 4, 7, 10, 1, 4, 5, 7, 8, 11, 14, 17, 18, 3, 4, 5, 7, 12, 14, 17, 1, 2, 3, 4, 5, 6, 7, 9, 10, 11, 12, 13, 15, 16, 17, 1, 2, 3, 4, 5, 6, 7, 8, 9, 11, 13, 14, 16, 17, 18, 19, 1, 2, 4, 7, 1, 2, 3, 4, 5, 6, 7, 8, 9, 10, 11, 12, 13, 14, 15, 17, 18, 1, 2, 3, 4, 5, 6, 7, 8, 9, 10, 11, 12, 13, 14, 15, 16, 17, 18, 19, 5, 11, 14, 2, 3, 5, 6, 7, 9, 13, 16, 18, 19, 1, 2, 3, 4, 5, 6, 7, 8, 9, 10, 11, 12, 14, 15, 16, 17, 1, 2, 3, 4, 5, 7, 8, 11, 15, 17, 5, 11, 14, 17, 1, 2, 4, 5, 6, 7, 9, 11, 12, 13, 14, 16, 17, 18, 1, 2, 3, 8, 12, 16, 2, 3, 5, 15, 1, 2, 5, 6, 11, 14, 1, 7, 9, 11, 13, 14, 15, 17, 1, 2, 3, 5, 7, 9, 11, 17, 1, 2, 3, 6, 14, 15, 1, 2, 3, 4, 5, 6, 10, 11, 12, 13, 15, 18, 1, 2, 3, 4, 5, 6, 11, 12, 16, 1, 2, 3, 4, 5, 6, 7, 9, 12, 17, 1, 2, 3, 7, 9, 1, 2, 3, 4, 5, 6, 7, 8, 9, 10, 11, 12, 13, 14, 15, 16, 17, 18, 19, 1, 2, 3, 4, 5, 6, 7, 8, 9, 10, 11, 12, 13, 14, 15, 16, 17, 18, 19, 1, 2, 3, 4, 5, 6, 7, 9, 11, 12, 13, 14, 16, 17, 18, 1, 3, 4, 6, 14, 15, 16, 17, 1, 3, 5, 7, 9, 11, 12, 13, 14, 15, 17, 18, 19, 1, 2, 4, 6, 7, 13, 14, 1, 2, 3, 4, 5, 6, 7, 8, 9, 10, 11, 12, 13, 14, 15, 16, 17, 18, 19, 1, 3, 4, 5, 6, 11, 1, 2, 3, 4, 5, 6, 8, 9, 10, 11, 13, 15, 17, 18, 4, 9, 10, 11, 18, 2, 3, 4, 5, 9, 10, 11, 3, 4, 5, 10, 15, 18, 1, 4, 5, 6, 6, 12, 15, 2, 3, 4, 6, 10, 15, 1, 2, 3, 4, 5, 6, 7, 8, 9, 12, 13, 15, 16, 19, 5, 12, 14, 15, 18, 1, 2, 4, 5, 6, 7, 11, 19, 1, 2, 3, 4, 5, 6, 7, 8, 9, 10, 11, 12, 13, 14, 15, 16, 17, 18, 19, 1, 2, 3, 4, 5, 6, 7, 9, 11, 12, 13, 16, 17, 1, 5, 6, 11, 1, 2, 4, 7, 9, 11, 13, 14, 16, 17, 1, 2, 4, 5, 10, 13, 15, 18, 2, 4, 5, 6, 10, 11, 13, 17, 18, 3, 5, 6, 11, 18, 2, 3, 4, 12, 1, 2, 3, 4, 5, 6, 7, 8, 9, 10, 11, 12, 13, 14, 15, 16, 17, 18, 19, 17, 1, 2, 3, 4, 5, 6, 7, 8, 9, 11, 12, 13, 14, 15, 16, 17, 18, 19, 1, 5, 7, 16, 1, 2, 3, 4, 5, 6, 7, 9, 11, 12, 16, 17, 1, 2, 3, 4, 5, 6, 7, 8, 9, 10, 11, 12, 13, 14, 16, 17, 18, 19, 5, 6, 17, 1, 2, 3, 4, 5, 6, 7, 8, 9, 10, 11, 12, 13, 14, 15, 16, 17, 18, 19, 1, 2, 3, 4, 5, 6, 7, 9, 12, 13, 14, 15, 18, 1, 5, 7, 11, 1, 2, 3, 4, 5, 6, 7, 8, 9, 10, 11, 12, 13, 14, 15, 16, 17, 18, 19, 1, 2, 12, 18, 19, 1, 2, 3, 4, 5, 6, 12, 15, 19, 1, 4, 5, 1, 2, 4, 1, 2, 3, 4, 5, 6, 9, 10, 11, 13, 5, 7, 8, 1, 2, 3, 5, 6, 7, 10, 12, 18, 1, 4, 8, 16, 1, 2, 3, 4, 5, 6, 7, 8, 9, 12, 13, 14, 15, 16, 17, 18, 1, 4, 5, 12, 15, 18, 1, 2, 3, 5, 16, 18, 1, 2, 3, 4, 5, 6, 7, 8, 9, 11, 13, 14, 16, 17, 1, 2, 3, 4, 5, 7, 8, 10, 14, 16, 17, 1, 2, 3, 4, 5, 6, 7, 9, 10, 11, 12, 13, 14, 15, 16, 17, 18, 19, 1, 2, 2, 3, 4, 9, 10, 14, 17, 2, 3, 5, 8, 15, 19, 1, 2, 3, 5, 6, 12, 18, 19, 1, 2, 4, 5, 8, 11, 12, 1, 2, 3, 4, 5, 6, 7, 9, 14, 1, 3, 5, 13, 1, 2, 3, 4, 5, 6, 7, 8, 10, 11, 12, 13, 14, 17, 19, 7, 8, 11, 14, 1, 2, 3, 4, 5, 6, 7, 8, 9, 11, 12, 14, 16, 17, 18, 19, 7, 14, 1, 2, 3, 4, 5, 6, 7, 8, 9, 11, 14, 17, 1, 4, 7, 10, 11, 13, 14, 19, 1, 2, 3, 4, 5, 6, 7, 8, 9, 10, 11, 12, 13, 14, 15, 16, 17, 18, 19, 1, 2, 3, 4, 5, 6, 7, 8, 9, 10, 11, 12, 13, 14, 15, 16, 17, 18, 19, 1, 2, 3, 4, 5, 6, 7, 8, 9, 10, 11, 12, 13, 14, 15, 16, 17, 18, 19, 2, 5, 17, 19, 6, 11, 13, 16, 1, 4, 5, 7, 8, 9, 10, 11, 12, 13, 14, 19, 1, 4, 7, 8, 11, 13, 14, 19, 1, 7, 8, 11, 13, 14, 1, 8, 13, 14, 19, 7, 11, 13, 14, 19, 1, 4, 7, 8, 11, 13, 14, 18, 1, 4, 7, 8, 19, 1, 7, 1, 2, 4, 5, 7, 11, 13, 14, 18, 1, 7, 11, 13, 14, 19, 1, 2, 3, 4, 5, 6, 8, 9, 10, 11, 13, 1, 2, 3, 4, 5, 6, 7, 8, 9, 10, 11, 12, 13, 14, 15, 16, 17, 18, 19, 1, 2, 3, 4, 5, 6, 7, 12, 17, 19, 1, 5, 6, 1, 2, 3, 4, 5, 6, 7, 8, 9, 10, 11, 12, 13, 14, 15, 16, 17, 18, 19, 1, 2, 3, 4, 5, 6, 7, 8, 9, 10, 11, 12, 13, 14, 15, 16, 17, 18, 19, 1, 2, 4, 5, 7, 8, 11, 12, 13, 14, 18, 19, 1, 7, 11, 14, 19, 1, 3, 4, 5, 8, 10, 12, 13, 14, 16, 18, 1, 2, 3, 4, 5, 6, 7, 8, 9, 10, 11, 12, 13, 14, 15, 16, 17, 18, 19, 1, 2, 3, 5, 6, 7, 12, 1, 2, 10, 17, 18, 1, 6, 11, 1, 9, 13, 16, 1, 4, 5, 7, 19, 5, 6, 10, 15, 3, 5, 7, 10, 11, 12, 14, 16, 11, 2, 3, 4, 7, 8, 17, 1, 2, 3, 4, 5, 6, 7, 8, 9, 10, 11, 12, 13, 14, 15, 16, 17, 18, 19, 1, 5, 6, 7, 11, 13, 17, 19, 1, 4, 1, 2, 8, 9, 10, 16, 17, 18, 3, 5, 10, 12, 19, 1, 2, 3, 15, 16, 7, 14, 1, 6, 9, 12, 1, 4, 8, 2, 3, 5, 7, 8, 12, 1, 2, 3, 4, 6, 3, 6, 17, 1, 4, 5, 6, 10, 19, 1, 2, 3, 4, 5, 7, 8, 9, 10, 12, 13, 14, 16, 17, 18, 19, 1, 2, 3, 4, 5, 6, 7, 8, 9, 10, 11, 12, 13, 14, 15, 16, 17, 18, 19, 2, 3, 4, 5, 7, 12, 9, 11, 17, 1, 2, 4, 5, 8, 18, 1, 2, 3, 4, 5, 6, 7, 8, 9, 12, 13, 15, 18, 1, 2, 3, 4, 5, 6, 7, 8, 9, 10, 11, 12, 13, 14, 15, 16, 17, 18, 19, 2, 3, 5, 8, 10, 13, 16, 11, 12, 15, 17, 1, 7, 17, 11, 17, 1, 2, 4, 5, 6, 7, 11, 1, 2, 3, 4, 5, 6, 7, 10, 12, 14, 15, 16, 17, 18, 19, 1, 3, 6, 9, 16, 19, 1, 2, 4, 6, 12, 7, 8, 1, 2, 3, 4, 5, 6, 7, 8, 9, 10, 11, 12, 13, 14, 15, 16, 17, 18, 19, 17, 17, 1, 2, 7, 13, 18, 2, 5, 6, 16, 1, 2, 3, 4, 10, 18, 1, 2, 6, 11, 13, 1, 2, 3, 4, 5, 6, 7, 8, 9, 10, 11, 12, 13, 14, 15, 16, 17, 18, 19, 1, 2, 9, 19, 1, 2, 3, 4, 5, 6, 7, 8, 9, 10, 12, 13, 14, 16, 17, 18, 1, 2, 3, 4, 5, 6, 7, 8, 9, 10, 11, 12, 13, 14, 15, 16, 17, 18, 19, 1, 2, 3, 4, 5, 6, 7, 9, 10, 11, 12, 13, 14, 17, 1, 2, 3, 4, 5, 6, 7, 8, 9, 10, 11, 12, 13, 14, 15, 16, 17, 18, 19, 9, 10, 11, 19, 1, 3, 15, 18, 1, 2, 3, 4, 5, 6, 7, 8, 9, 10, 11, 12, 13, 14, 17, 18, 19, 1, 3, 4, 5, 6, 7, 11, 14, 16, 17, 18, 19, 1, 2, 7, 9, 14, 1, 5, 7, 14, 3, 4, 6, 8, 14, 19, 1, 2, 3, 4, 5, 6, 7, 8, 9, 10, 11, 12, 13, 14, 15, 16, 17, 18, 1, 2, 4, 6, 7, 9, 18, 1, 2, 3, 4, 5, 6, 7, 8, 9, 10, 11, 13, 14, 15, 16, 17, 18, 1, 2, 4, 15, 1, 2, 3, 4, 5, 6, 7, 8, 9, 10, 11, 12, 13, 14, 15, 16, 17, 18, 19, 1, 3, 6, 11, 14, 17, 1, 2, 3, 4, 5, 6, 7, 8, 9, 11, 12, 13, 14, 15, 16, 17, 19, 1, 4, 17, 1, 2, 4, 5, 7, 10, 11, 13, 1, 2, 3, 4, 5, 6, 7, 8, 9, 10, 11, 12, 13, 15, 16, 17, 18, 19, 1, 2, 3, 4, 5, 6, 9, 10, 11, 12, 13, 15, 16, 17, 18, 1, 2, 3, 4, 5, 6, 7, 8, 9, 10, 11, 12, 13, 14, 15, 16, 17, 18, 19, 1, 2, 3, 4, 5, 6, 9, 11, 12, 13, 14, 15, 17, 19, 1, 2, 3, 4, 5, 6, 7, 8, 9, 10, 11, 12, 13, 14, 15, 16, 17, 18, 19, 1, 2, 3, 4, 5, 6, 7, 8, 9, 10, 11, 12, 13, 14, 15, 16, 17, 18, 19, 1, 3, 4, 5, 9, 10, 11, 16, 17, 1, 2, 3, 4, 5, 6, 7, 8, 9, 10, 11, 12, 13, 14, 15, 16, 17, 18, 19, 1, 3, 5, 9, 10, 11, 13, 1, 4, 6, 10, 13, 15, 17, 1, 3, 5, 6, 7, 9, 11, 13, 14, 15, 16, 1, 2, 3, 4, 5, 6, 7, 8, 10, 11, 12, 13, 15, 16, 17, 19, 1, 2, 3, 4, 5, 6, 7, 8, 9, 10, 11, 12, 13, 14, 15, 16, 17, 18, 19, 1, 17, 1, 2, 3, 4, 5, 6, 7, 8, 9, 10, 11, 12, 13, 14, 15, 16, 17, 18, 19, 3, 4, 5, 8, 15, 18, 1, 2, 3, 4, 5, 6, 7, 8, 9, 10, 12, 13, 15, 16, 17, 19, 1, 2, 3, 4, 5, 6, 7, 8, 9, 10, 11, 12, 13, 14, 16, 17], \"Freq\": [0.20196311595095065, 0.04039262319019013, 0.16157049276076052, 0.5654967246626618, 0.1138955580298998, 0.0885854340232554, 0.0126550620033222, 0.0126550620033222, 0.0569477790149499, 0.0063275310016611, 0.1012404960265776, 0.44292717011627697, 0.0063275310016611, 0.1012404960265776, 0.0442927170116277, 0.28893552296075803, 0.5457670989258763, 0.09631184098691933, 0.03210394699563978, 0.35303698008287787, 0.6377442220851988, 0.12108211998888029, 0.16144282665184037, 0.04036070666296009, 0.6054105999444014, 0.027059903409462065, 0.027059903409462065, 0.13529951704731033, 0.7576772954649378, 0.027059903409462065, 0.07187192939828643, 0.06388615946514349, 0.07187192939828643, 0.04791461959885762, 0.5590038953200056, 0.02395730979942881, 0.11978654899714405, 0.02395730979942881, 0.10941950301934261, 0.07294633534622841, 0.10941950301934261, 0.5835706827698273, 0.07294633534622841, 0.34147373138937764, 0.08506889448647653, 0.06589843939093253, 0.10543750302549204, 0.039539063634559515, 0.10663565646896354, 0.06709659283440403, 0.04912429118233152, 0.039539063634559515, 0.005990767217357503, 0.002396306886943001, 0.04313352396497402, 0.010783380991243504, 0.013179687878186505, 0.0011981534434715006, 0.017972301652072507, 0.0011981534434715006, 0.0011981534434715006, 0.0035944603304145016, 0.09651534458271546, 0.11099264627012279, 0.05584102079428538, 0.09651534458271546, 0.0723865084370366, 0.055151625475837414, 0.10616687904098701, 0.055151625475837414, 0.045500091017565865, 0.033780370603950415, 0.024128836145678866, 0.013098511050511385, 0.013098511050511385, 0.033780370603950415, 0.004825767229135774, 0.015856092324303257, 0.148909388784761, 0.011030325095167482, 0.007583348502927644, 0.8948563259072673, 0.08351992375134494, 0.1553821359424313, 0.02589702265707188, 0.6733225890838689, 0.02589702265707188, 0.10358809062828753, 0.04874176181053029, 0.19496704724212116, 0.7067555462526892, 0.13612745120788655, 0.0670165913638826, 0.12984464576752255, 0.037696832642183965, 0.0335082956819413, 0.37487405794171835, 0.0670165913638826, 0.027225490241577308, 0.0020942684801213314, 0.0020942684801213314, 0.0020942684801213314, 0.023036953281334645, 0.031414027201819975, 0.01465987936084932, 0.048168175042790626, 0.0653528782911331, 0.16027884675870074, 0.1511513497906654, 0.1274198576737735, 0.11245076264619552, 0.0208106930871206, 0.060241479989033314, 0.07338507562300421, 0.01095299636164242, 0.030303289933877365, 0.012048295997806662, 0.01460399514885656, 0.04709788435506241, 0.01788989405734929, 0.02628719126794181, 0.03724018762958423, 0.001460399514885656, 0.015334194906299389, 0.015699294785020804, 0.05296628556044083, 0.10593257112088166, 0.22952057076191024, 0.01765542852014694, 0.11181771396093063, 0.46492628436386946, 0.01765542852014694, 0.9899498492142639, 0.13306654205538954, 0.11251950247330732, 0.031309774601268124, 0.1526351511811821, 0.12230380703620361, 0.01859017866950295, 0.094907754260094, 0.07631757559059105, 0.03424506597013701, 0.04892152281448144, 0.006849013194027402, 0.00978430456289629, 0.010762735019185917, 0.005870582737737773, 0.0029352913688688864, 0.029352913688688864, 0.08903717152235623, 0.016633317756923692, 0.004892152281448145, 0.15777037412247844, 0.045077249749279555, 0.13523174924783868, 0.022538624874639777, 0.202847623871758, 0.3831566228688762, 0.045077249749279555, 0.3033846819983255, 0.10381304752745062, 0.07070026512645344, 0.0796496657753716, 0.1414005302529069, 0.07070026512645344, 0.03311278240099718, 0.02684820194675447, 0.021478561557403575, 0.008949400648918157, 0.06264580454242709, 0.019688681427619946, 0.01431904103826905, 0.009844340713809973, 0.010739280778701787, 0.01252916090848542, 0.004474700324459078, 0.0035797602595672626, 0.002684820194675447, 0.24079128557455157, 0.03140755898798499, 0.020938372658656657, 0.10469186329328328, 0.5548668754544014, 0.041876745317313314, 0.5228792570397301, 0.06179482128651356, 0.06654826907778384, 0.019013791165081097, 0.02376723895635137, 0.11883619478175685, 0.09031550803413521, 0.014260343373810823, 0.028520686747621645, 0.009506895582540548, 0.004753447791270274, 0.02376723895635137, 0.009506895582540548, 0.004753447791270274, 0.035695334590058296, 0.05949222431676382, 0.10708600377017488, 0.23796889726705528, 0.5473284637142272, 0.009681630921594993, 0.9633222766987017, 0.019363261843189986, 0.0830066286966219, 0.055337752464414594, 0.013834438116103649, 0.04150331434831095, 0.0830066286966219, 0.04150331434831095, 0.06917219058051824, 0.027668876232207297, 0.5395430865280423, 0.04150331434831095, 0.013834438116103649, 0.04310547186849287, 0.16721950293811888, 0.1342710675443858, 0.08299041997669604, 0.09686344540563627, 0.03319616799067841, 0.028241516051771186, 0.05747396249132382, 0.09909303877814452, 0.05772169508826918, 0.00941383868392373, 0.038646285123476364, 0.036168959154022746, 0.02898471384260727, 0.025764190082317576, 0.02279139891897324, 0.006688780117524755, 0.014863955816721678, 0.016598083995339206, 0.5086919628126138, 0.23738958264588642, 0.20347678512504552, 0.05037472392890209, 0.15112417178670626, 0.05037472392890209, 0.10074944785780418, 0.554121963217923, 0.05037472392890209, 0.033727083321254445, 0.033727083321254445, 0.10118124996376333, 0.06745416664250889, 0.5059062498188167, 0.1686354166062722, 0.033727083321254445, 0.18094268045236087, 0.07237707218094434, 0.5790165774475547, 0.1447541443618887, 0.10214336668851871, 0.10699290338589645, 0.1424551404854712, 0.09305048538093544, 0.0882009486835577, 0.06910589793763283, 0.020307434920269297, 0.011820745699858248, 0.06001301663004957, 0.06577184145818564, 0.026066259748405367, 0.04516131049433023, 0.02849102809709424, 0.036371525230333074, 0.02879412414068035, 0.020307434920269297, 0.010002169438341596, 0.02849102809709424, 0.016973378440822102, 0.020330100522902756, 0.16264080418322205, 0.08132040209161102, 0.04066020104580551, 0.6708933172557909, 0.27662730961280835, 0.0790363741750881, 0.11855456126263215, 0.5137364321380726, 0.1199177990997507, 0.1772697899735445, 0.15120070321272913, 0.005213817352163074, 0.5474508219771227, 0.12210894405298943, 0.023985685438980064, 0.0719570563169402, 0.1482751463500586, 0.17444134864712774, 0.31181391070674086, 0.004361033716178193, 0.008722067432356387, 0.01962465172280187, 0.00654155057426729, 0.08940119118165298, 0.0021805168580890967, 0.0021805168580890967, 0.00654155057426729, 0.00654155057426729, 0.05347603184847751, 0.14650664923777104, 0.14031933976769925, 0.0830867271695353, 0.1261769181218209, 0.07468966431729504, 0.02519118855672081, 0.014363396984095198, 0.0852964805517038, 0.03380922674717793, 0.02276045983633547, 0.03778678283508122, 0.03889165952616546, 0.029831670659274643, 0.03137849802679259, 0.02253948449811862, 0.006408284808288627, 0.016352175028046843, 0.01126974224905931, 0.02027118050431575, 0.973016664207156, 0.18185056802173588, 0.1363879260163019, 0.09092528401086794, 0.40916377804890575, 0.1363879260163019, 0.015279848365134678, 0.12223878692107742, 0.06111939346053871, 0.015279848365134678, 0.7334327215264645, 0.045839545095404034, 0.031398609254312614, 0.15699304627156305, 0.5337763573233144, 0.18839165552587567, 0.031398609254312614, 0.07376844589008515, 0.029507378356034057, 0.018442111472521287, 0.06270317900657238, 0.03688422294504257, 0.033195800650538315, 0.0258189560615298, 0.11434109112963198, 0.23605902684827246, 0.003688422294504257, 0.35777696256691294, 0.003688422294504257, 0.031483014861350626, 0.23087544231657123, 0.22038110402945438, 0.02098867657423375, 0.47224522292025933, 0.02098867657423375, 0.013224635368620431, 0.07273549452741238, 0.046286223790171506, 0.06612317684310215, 0.046286223790171506, 0.006612317684310216, 0.07934781221172259, 0.019836953052930647, 0.033061588421551075, 0.4364129671644742, 0.1322463536862043, 0.052898541474481725, 0.06981078299795968, 0.11169725279673548, 0.013962156599591935, 0.08377293959755161, 0.013962156599591935, 0.08377293959755161, 0.13962156599591935, 0.013962156599591935, 0.05584862639836774, 0.4049025413881661, 0.03519285922028504, 0.12317500727099763, 0.03519285922028504, 0.5454893179144181, 0.10557857766085511, 0.01759642961014252, 0.14077143688114016, 0.10858227555581133, 0.06929622610848261, 0.16805698930246177, 0.04037732859864341, 0.030010176661153885, 0.23407937795700032, 0.01800610599669233, 0.023462501753265766, 0.036557851569042, 0.012004070664461554, 0.06274855120059449, 0.01145843108880421, 0.10367151937489524, 0.014732268542748271, 0.0065476749078881204, 0.007093314483545464, 0.03110145581246857, 0.0065476749078881204, 0.014732268542748271, 0.023357073293603047, 0.3653713608070762, 0.060061045612122124, 0.050050871343435104, 0.025025435671717552, 0.13013226549293128, 0.03837233469663358, 0.00500508713434351, 0.011678536646801524, 0.07507630701515265, 0.0033367247562290066, 0.05839268323400762, 0.09342829317441219, 0.05171923372154961, 0.0033367247562290066, 0.0033367247562290066, 0.14374614632355098, 0.2300856846904123, 0.03168844759209271, 0.18507890405236757, 0.022962643182675876, 0.030769941864785676, 0.008266551545763315, 0.01882936740979422, 0.020207126000754774, 0.16670878950622686, 0.05051781500188693, 0.023881148909982913, 0.019747873137101253, 0.0022962643182675877, 0.002755517181921105, 0.012399827318644974, 0.005970287227495728, 0.02250339031902236, 0.0018370114546140703, 0.10030555114490802, 0.11976782226257675, 0.0029941955565644185, 0.4491293334846628, 0.01946227111766872, 0.02095936889595093, 0.025450662230797557, 0.035930346678773026, 0.0029941955565644185, 0.02694776000907977, 0.16767495116760744, 0.010479684447975465, 0.0014970977782822093, 0.013473880004539885, 0.0029941955565644185, 0.11877645122043344, 0.1561380579423538, 0.06357049501938691, 0.13160207740855537, 0.09591337845030305, 0.0574364998859373, 0.05966704357082807, 0.03290051935213884, 0.04572614554026076, 0.02732416013991192, 0.032342883430916146, 0.023420708691353074, 0.013940898030567306, 0.04405323777659268, 0.006133995133449614, 0.007806902897117691, 0.045168509619038066, 0.03011233974602538, 0.007806902897117691, 0.04450409106060057, 0.17165863694803077, 0.16132733009467706, 0.0945711935037762, 0.12794926179922664, 0.010331306853353704, 0.03178863647185755, 0.01748375005952165, 0.015894318235928774, 0.05006710244317564, 0.0015894318235928774, 0.029404488736468233, 0.06675613659090085, 0.04768295470778632, 0.02384147735389316, 0.023046761442096723, 0.008741875029760825, 0.0675508525026973, 0.0063577272943715095, 0.6350632740813398, 0.08356095711596577, 0.016712191423193152, 0.06684876569277261, 0.20054629707831784, 0.0620390690162906, 0.08961198857908642, 0.16346802312228953, 0.09650521846978538, 0.13917759398363605, 0.03118365902935242, 0.029870662859695474, 0.01969494254485416, 0.0656498084828472, 0.06335206518594755, 0.00656498084828472, 0.03446614945349478, 0.02035144062968263, 0.05810008050731977, 0.04070288125936526, 0.014442957866226383, 0.020679689672096865, 0.02757291956279582, 0.01706895020554027, 0.9793437878460983, 0.01917137123891344, 0.958568561945672, 0.2619672028178873, 0.008830355151164742, 0.008830355151164742, 0.005886903434109828, 0.07947319636048268, 0.12068152039925148, 0.011773806868219655, 0.011773806868219655, 0.05003867918993354, 0.017660710302329484, 0.005886903434109828, 0.37087491634891917, 0.002943451717054914, 0.008830355151164742, 0.005886903434109828, 0.026491065453494226, 0.07863019025926249, 0.05242012683950832, 0.2621006341975416, 0.02621006341975416, 0.02621006341975416, 0.3931509512963124, 0.02621006341975416, 0.10484025367901664, 0.04419499086534328, 0.04419499086534328, 0.26516994519205966, 0.48614489951877604, 0.08838998173068656, 0.16098449308863738, 0.6439379723545495, 0.08049224654431869, 0.08049224654431869, 0.010148171280392337, 0.061811588707844235, 0.34596038455882966, 0.016606098458823822, 0.06550183280980508, 0.15775793535882632, 0.007380488203921699, 0.0009225610254902124, 0.04059268512156935, 0.008303049229411911, 0.0009225610254902124, 0.12731342151764932, 0.01937378153529446, 0.010148171280392337, 0.061811588707844235, 0.028599391790196587, 0.010148171280392337, 0.021218903586274887, 0.006457927178431487, 0.04590495660289761, 0.05508594792347714, 0.018361982641159045, 0.6885743490434642, 0.18361982641159044, 0.7625175555657766, 0.08970794771362077, 0.08970794771362077, 0.05821097519041175, 0.038807316793607834, 0.48509145992009794, 0.17463292557123525, 0.07761463358721567, 0.15522926717443133, 0.14632188644487323, 0.10368853104187059, 0.04789673261324987, 0.10053050471572225, 0.03263293870353288, 0.15369061453921937, 0.023158859725087848, 0.047370394892225144, 0.04263335540300263, 0.13000541709310678, 0.03894899135582956, 0.020000833398939506, 0.010000416699469753, 0.010000416699469753, 0.020000833398939506, 0.031053925540458705, 0.02579054833021147, 0.005789714931271962, 0.010526754420494477, 0.011889519122815296, 0.015852692163753727, 0.1109688451462761, 0.07133711473689178, 0.015852692163753727, 0.17437961380129102, 0.031705384327507455, 0.051521249532199616, 0.015852692163753727, 0.043594903450322756, 0.011889519122815296, 0.06737394169595334, 0.27742211286569024, 0.03566855736844589, 0.027742211286569025, 0.043594903450322756, 0.2575700712079025, 0.0869400555812163, 0.06662695848280129, 0.055251624107688864, 0.04468881361651305, 0.0796273406257869, 0.06093929129524507, 0.06987705401854769, 0.07312714955429409, 0.04468881361651305, 0.020313097098415025, 0.06093929129524507, 0.01787552544660522, 0.005687667187556207, 0.010562810491175812, 0.01950057321447842, 0.026000764285971232, 0.000812523883936601, 0.09603710200395503, 0.10393056244263627, 0.134188827457581, 0.05393864633098844, 0.05130749285142803, 0.057885376550329055, 0.07235672068791132, 0.021049227836483293, 0.089459218305054, 0.003946730219340618, 0.03552057197406556, 0.02499595805582391, 0.02631153479560412, 0.02499595805582391, 0.057885376550329055, 0.12497979027911955, 0.005262306959120823, 0.005262306959120823, 0.010524613918241646, 0.3646185590713876, 0.07461961208902816, 0.02035080329700768, 0.16789412720031338, 0.01017540164850384, 0.07461961208902816, 0.01187130192325448, 0.006783601099002561, 0.0016959002747506402, 0.044093407143516644, 0.0593565096162724, 0.12719252060629802, 0.01865490302225704, 0.0016959002747506402, 0.006783601099002561, 0.006783601099002561, 0.0016959002747506402, 0.01992815651653959, 0.41849128684733145, 0.07971262606615837, 0.4583475998804106, 0.27462993533579927, 0.021733304235207137, 0.005927264791420128, 0.06124840284467466, 0.005927264791420128, 0.007903019721893504, 0.05532113805325453, 0.003951509860946752, 0.013830284513313633, 0.4366418396346161, 0.07903019721893505, 0.02568481409615389, 0.007903019721893504, 0.06679897946171075, 0.06679897946171075, 0.06679897946171075, 0.7681882638096735, 0.7279598312247332, 0.1284634996278941, 0.08564233308526273, 0.03692867240545023, 0.021722748473794254, 0.291084829548843, 0.102096917826833, 0.2693620810750488, 0.03258412271069138, 0.07820189450565931, 0.03910094725282966, 0.03692867240545023, 0.034756397558070806, 0.013033649084276552, 0.0021722748473794254, 0.008689099389517702, 0.021722748473794254, 0.010861374236897127, 0.06223425312302848, 0.05736374635687842, 0.13691535687066264, 0.014070352879989046, 0.1574797187721851, 0.4096637357750657, 0.0010823348369222343, 0.015693855135372397, 0.015693855135372397, 0.0005411674184611172, 0.010823348369222344, 0.008658678695377875, 0.01731735739075575, 0.047622732824578316, 0.00974101353230011, 0.03355237994458927, 0.0010823348369222343, 0.0010823348369222343, 0.42107722742372217, 0.07416701164849653, 0.002392484246725694, 0.04545720068778819, 0.05981210616814235, 0.05263465342796527, 0.06459707466159374, 0.011962421233628472, 0.09091440137557638, 0.0837369486353993, 0.009569936986902776, 0.007177452740177083, 0.05502713767469097, 0.019139873973805552, 0.02962570273721074, 0.03555084328465289, 0.15207860738434847, 0.05530131177612672, 0.05925140547442148, 0.015800374793179063, 0.011850281094884296, 0.02172551534062121, 0.003950093698294766, 0.04740112437953718, 0.0809769208150427, 0.005925140547442148, 0.12047785779799035, 0.14022832628946416, 0.05530131177612672, 0.005925140547442148, 0.15800374793179062, 0.7299123853928705, 0.09123904817410881, 0.04561952408705441, 0.09123904817410881, 0.2323252691428283, 0.5808131728570708, 0.03318932416326119, 0.03318932416326119, 0.049783986244891776, 0.049783986244891776, 0.0893569174655853, 0.07470824247122705, 0.0014648674994358246, 0.09814612246220024, 0.038086554985331436, 0.007324337497179123, 0.0014648674994358246, 0.0014648674994358246, 0.10840019495825101, 0.3603574048612128, 0.011718939995486597, 0.017578409993229894, 0.052735229979689685, 0.008789204996614947, 0.10840019495825101, 0.017578409993229894, 0.1288164174054171, 0.03435104464144456, 0.051526566962166835, 0.03435104464144456, 0.16316746204686164, 0.060114328122527975, 0.051526566962166835, 0.4637391026595015, 0.06466226928172102, 0.13535521652754037, 0.07739370053926195, 0.10821716568909787, 0.08777986814409797, 0.04590016006008176, 0.07136302257516361, 0.06834768359311444, 0.038864369101967035, 0.055951290000245645, 0.04456000940139324, 0.03986948209598343, 0.04791038604811454, 0.03484391712590148, 0.019767222215655647, 0.030153389820491667, 0.0090460169461475, 0.015411732574917963, 0.0046905273054098145, 0.1624791502593182, 0.3858879818658807, 0.40619787564829546, 0.04061978756482955, 0.04934477755518795, 0.15360551722824636, 0.053324195099961176, 0.0250703305320713, 0.062476855452939586, 0.020692971232820753, 0.03661064141191364, 0.07799658387755515, 0.1508199249469051, 0.004775301053727867, 0.038202408429822934, 0.0023876505268639334, 0.05491596211787046, 0.11182163300812754, 0.08714924423053357, 0.010346485616410377, 0.03462093263952703, 0.004775301053727867, 0.020692971232820753, 0.039621840302116705, 0.05943276045317506, 0.13867644105740848, 0.5348948440785756, 0.019810920151058353, 0.019810920151058353, 0.09905460075529177, 0.05943276045317506, 0.0859038761496788, 0.0429519380748394, 0.0859038761496788, 0.0859038761496788, 0.0429519380748394, 0.0429519380748394, 0.5583751949729122, 0.12117542471781631, 0.004327693739922011, 0.004327693739922011, 0.0389492436592981, 0.008655387479844023, 0.012983081219766034, 0.6145325110689256, 0.030293856179454078, 0.004327693739922011, 0.1168477309778943, 0.04327693739922011, 0.027571810090740514, 0.22057448072592412, 0.009190603363580171, 0.009190603363580171, 0.7260576657228336, 0.23400535109427423, 0.12763928241505867, 0.5105571296602347, 0.053183034339607776, 0.06381964120752934, 0.01632373033452094, 0.104063780882571, 0.4305383875729898, 0.03264746066904188, 0.09794238200712564, 0.020404662918151177, 0.061213988754453524, 0.014283264042705824, 0.00816186516726047, 0.038768859544487236, 0.004080932583630235, 0.06325445504626864, 0.05305212358719306, 0.0020404662918151175, 0.044890258419932584, 0.006121398875445353, 0.08835198019277318, 0.17670396038554637, 0.04417599009638659, 0.5301118811566391, 0.08835198019277318, 0.04417599009638659, 0.6413949323496305, 0.21694240358884562, 0.009432278416906331, 0.028296835250718994, 0.08489050575215698, 0.0030799642719243447, 0.015399821359621724, 0.23715724893817455, 0.07391914252618427, 0.03387960699116779, 0.040039535535016484, 0.0030799642719243447, 0.021559749903470413, 0.0061599285438486895, 0.18787782058738503, 0.0030799642719243447, 0.018479785631546067, 0.07699910679810862, 0.19403774913123373, 0.024639714175394758, 0.036959571263092135, 0.027719678447319103, 0.008540361981654707, 0.04270180990827354, 0.14518615368813004, 0.1110247057615112, 0.008540361981654707, 0.03416144792661883, 0.08540361981654708, 0.008540361981654707, 0.5465831668259012, 0.017080723963309414, 0.006938475829791208, 0.9852635678303515, 0.07602428681714221, 0.09190995868938089, 0.1433492771328204, 0.08774942557998505, 0.07715897766515926, 0.1066609397136025, 0.04879170646473306, 0.03404072544051144, 0.027232580352409153, 0.06316445720628233, 0.03820125854990728, 0.04198356137663078, 0.031014883179132646, 0.025341428939047405, 0.021559126112323912, 0.013616290176204577, 0.02345027752568566, 0.03631010713654553, 0.012859829610859878, 0.08146426099264377, 0.24439278297793132, 0.6517140879411502, 0.125616056463122, 0.125616056463122, 0.0942120423473415, 0.5966762681998294, 0.062808028231561, 0.05424140605560616, 0.003190670944447421, 0.009572012833342263, 0.044669393222263896, 0.07019476077784326, 0.051050735111158735, 0.12762683777789685, 0.38607118427813797, 0.006381341888894842, 0.242490991778004, 0.04868084156843616, 0.02434042078421808, 0.07302126235265424, 0.6328509403896702, 0.19472336627374465, 0.02434042078421808, 0.36006752133979436, 0.5892013985560272, 0.0327334110308904, 0.01676705490492245, 0.31857404319352656, 0.0670682196196898, 0.08383527452461224, 0.01676705490492245, 0.0670682196196898, 0.01676705490492245, 0.38564226281321634, 0.011079214750183527, 0.22712390237876232, 0.022158429500367054, 0.04431685900073411, 0.016618822125275292, 0.005539607375091763, 0.005539607375091763, 0.06647528850110117, 0.04431685900073411, 0.44870819738243284, 0.011079214750183527, 0.04985646637582587, 0.04985646637582587, 0.05365969913602092, 0.34878804438413596, 0.03577313275734728, 0.0447164159466841, 0.08048954870403138, 0.06260298232535774, 0.0447164159466841, 0.3309014780054623, 0.16554714178783775, 0.3549020665083746, 0.004429354964223083, 0.09633847047185207, 0.013288064892669251, 0.07142334879809722, 0.010519718040029824, 0.0952311317307963, 0.028790807267450043, 0.009412379298974052, 0.03488117034325678, 0.0022146774821115416, 0.0022146774821115416, 0.10519718040029824, 0.004983024334750969, 0.0005536693705278854, 0.015490385374818214, 0.005467194838171134, 0.031891969889331614, 0.06378393977866323, 0.017312783654208592, 0.3307652877093536, 0.003644796558780756, 0.04920475354354021, 0.001822398279390378, 0.000911199139695189, 0.001822398279390378, 0.0082007922572567, 0.011845588816037457, 0.3626572575986852, 0.0829191217122622, 0.011845588816037457, 0.002733597419085567, 0.24255030206643816, 0.026950033562937573, 0.026950033562937573, 0.4716255873514075, 0.026950033562937573, 0.13475016781468788, 0.04042505034440636, 0.013475016781468787, 0.6363317947326314, 0.012006260277974176, 0.012006260277974176, 0.10805634250176759, 0.06003130138987088, 0.06003130138987088, 0.08404382194581923, 0.03601878083392253, 0.9894478549071828, 0.9786278336581328, 0.24494277281223797, 0.01113376240055627, 0.48988554562447595, 0.17814019840890033, 0.04453504960222508, 0.01113376240055627, 0.2362774581493473, 0.5274050405119359, 0.008438480648190975, 0.18986581458429694, 0.025315441944572924, 0.004219240324095487, 0.0719567183031792, 0.719567183031792, 0.0719567183031792, 0.10793507745476881, 0.05259032748325825, 0.05663573728966273, 0.8657176985705589, 0.012136229419213442, 0.008090819612808962, 0.17729361560125728, 0.02532765937160818, 0.10131063748643272, 0.27860425308769, 0.07598297811482455, 0.02532765937160818, 0.05065531874321636, 0.07598297811482455, 0.17729361560125728, 0.06699432653300359, 0.05359546122640287, 0.5895500734904315, 0.013398865306600718, 0.06699432653300359, 0.05359546122640287, 0.013398865306600718, 0.026797730613201436, 0.026797730613201436, 0.04019659591980215, 0.026797730613201436, 0.7835826487210706, 0.1424695724947401, 0.07123478624737005, 0.022179512950496597, 0.033269269425744895, 0.5655775802376631, 0.033269269425744895, 0.022179512950496597, 0.07762829532673808, 0.17743610360397277, 0.055448782376241484, 0.013176084272448877, 0.6060998765326483, 0.05270433708979551, 0.07905650563469326, 0.10540867417959102, 0.05270433708979551, 0.013176084272448877, 0.03952825281734663, 0.013176084272448877, 0.13383447726853276, 0.04845731073515842, 0.050764801722546916, 0.025382400861273458, 0.02768989184866195, 0.49380307130113815, 0.029997382836050447, 0.07614720258382036, 0.023074909873884962, 0.011537454936942481, 0.004614981974776992, 0.025382400861273458, 0.016152436911719473, 0.029997382836050447, 0.142496342249895, 0.03851252493240405, 0.10976069605735154, 0.08203167810602062, 0.15366497448029215, 0.09936231432560244, 0.0034661272439163644, 0.03312077144186748, 0.0011553757479721215, 0.058153912647930114, 0.04505965417091274, 0.010398381731749094, 0.027343892702006874, 0.019641387715526065, 0.1009028153228986, 0.00038512524932404047, 0.026958767452682834, 0.03889765018172809, 0.008857880734452931, 0.08024455723187568, 0.24073367169562707, 0.04012227861593784, 0.08024455723187568, 0.40122278615937845, 0.08024455723187568, 0.03821890852093874, 0.22931345112563242, 0.07643781704187748, 0.03821890852093874, 0.07643781704187748, 0.4204079937303261, 0.07643781704187748, 0.02697314217630985, 0.036606407239277654, 0.04623967230224546, 0.0019266530125935607, 0.19459195427194964, 0.028899795188903413, 0.021193183138529168, 0.13293905786895568, 0.26395146272531783, 0.04045971326446478, 0.06165289640299394, 0.02504648916371629, 0.042386366277058336, 0.06165289640299394, 0.013486571088154925, 0.019119625897927175, 0.09559812948963588, 0.6883065323253783, 0.019119625897927175, 0.0764785035917087, 0.0764785035917087, 0.2934622011699728, 0.06506001629711661, 0.04152766997688294, 0.04152766997688294, 0.06506001629711661, 0.04014341431098684, 0.2671613435179469, 0.11350896460348003, 0.00692127832948049, 0.008305533995376589, 0.004152766997688294, 0.02906936898381806, 0.009689789661272687, 0.011074045327168784, 0.08446218740568102, 0.1407703123428017, 0.47861906196552584, 0.014077031234280172, 0.1407703123428017, 0.07038515617140086, 0.05630812493712069, 0.5569382225271977, 0.05746188010201247, 0.006630216934847592, 0.01105036155807932, 0.019890650804542775, 0.10166332633432974, 0.07072231397170765, 0.004420144623231728, 0.06188202472524419, 0.048621590855549006, 0.028730940051006234, 0.01105036155807932, 0.008840289246463457, 0.01105036155807932, 0.002210072311615864, 0.2762273354283128, 0.06138385231740284, 0.1534596307935071, 0.09207577847610426, 0.3989950400631185, 0.04374955366784192, 0.2624973220070515, 0.05833273822378922, 0.03645796138986827, 0.05833273822378922, 0.02187477683392096, 0.014583184555947305, 0.13124866100352575, 0.26978891428502516, 0.02187477683392096, 0.07291592277973653, 0.02272934993544815, 0.03977636238703426, 0.011364674967724074, 0.05114103735475834, 0.02272934993544815, 0.02841168741931019, 0.32389323658013613, 0.454586998708963, 0.0454586998708963, 0.160695099190199, 0.0642780396760796, 0.0160695099190199, 0.4499462777325572, 0.2089036289472587, 0.0803475495950995, 0.007746960486441581, 0.15881268997205242, 0.0038734802432207906, 0.11620440729662372, 0.03486132218898712, 0.042608282675428696, 0.011620440729662371, 0.007746960486441581, 0.08521656535085739, 0.4648176291864949, 0.019367401216103954, 0.027114361702545532, 0.019367401216103954, 0.03619264322980116, 0.01206421440993372, 0.6514675781364209, 0.01206421440993372, 0.06635317925463546, 0.02412842881986744, 0.02412842881986744, 0.04825685763973488, 0.10857792968940348, 0.00603210720496686, 0.1341758025740908, 0.0335439506435227, 0.01677197532176135, 0.7547388894792609, 0.0335439506435227, 0.039331989743987716, 0.039331989743987716, 0.09177464273597133, 0.8128611213757461, 0.09149204746777273, 0.17130425908859576, 0.011679835846949711, 0.10706516193037234, 0.0525592613112737, 0.007786557231299807, 0.2335967169389942, 0.1654643411651209, 0.02141303238607447, 0.05450590061909865, 0.0038932786156499035, 0.007786557231299807, 0.03893278615649903, 0.015573114462599614, 0.007786557231299807, 0.005839917923474856, 0.08043565502138267, 0.08043565502138267, 0.6837030676817527, 0.120653482532074, 0.2341967423361754, 0.06854538800083183, 0.03141663616704792, 0.04569692533388788, 0.10281808200124774, 0.14851500733513562, 0.2713254941699593, 0.01142423133347197, 0.0028560578333679926, 0.014280289166839964, 0.00856817350010398, 0.01713634700020796, 0.03141663616704792, 0.014280289166839964, 0.8272359407557377, 0.041361797037786883, 0.08272359407557377, 0.10775894793929361, 0.1436785972523915, 0.10775894793929361, 0.6465536876357617, 0.048994381941487024, 0.14698314582446106, 0.12248595485371756, 0.048994381941487024, 0.5144410103856137, 0.07349157291223053, 0.048994381941487024, 0.025672530652116825, 0.07701759195635048, 0.12836265326058413, 0.6931583276071542, 0.05134506130423365, 0.08687737839561692, 0.06401491039677036, 0.02743496159861587, 0.4343868919780846, 0.07315989759630899, 0.11888483359400209, 0.0823048847958476, 0.013717480799307935, 0.018289974399077247, 0.06858740399653968, 0.2836797973425276, 0.03151997748250306, 0.03151997748250306, 0.2836797973425276, 0.03151997748250306, 0.2836797973425276, 0.5495845512936369, 0.051523551683778465, 0.10304710336755693, 0.06869806891170462, 0.017174517227926154, 0.12022162059548308, 0.03434903445585231, 0.051523551683778465, 0.14445141283081692, 0.14445141283081692, 0.6741065932104789, 0.14471614213622208, 0.09647742809081472, 0.530625854499481, 0.14471614213622208, 0.01620222929474007, 0.03240445858948014, 0.3604996018079666, 0.02025278661842509, 0.11949144104870803, 0.022278065280267597, 0.014176950632897563, 0.03645501591316516, 0.006075835985527527, 0.08303642513554287, 0.05468252386974774, 0.044556130560535194, 0.004050557323685018, 0.026328622603952617, 0.14176950632897561, 0.004050557323685018, 0.012151671971055053, 0.005744692158127084, 0.09191507453003335, 0.08617038237190626, 0.011489384316254169, 0.10340445884628752, 0.017234076474381254, 0.3676602981201334, 0.15510668826943128, 0.09765976668816044, 0.005744692158127084, 0.005744692158127084, 0.017234076474381254, 0.022978768632508337, 0.005744692158127084, 0.007081874670704204, 0.014163749341408408, 0.6161230963512658, 0.06373687203633784, 0.04957312269492943, 0.04249124802422523, 0.014163749341408408, 0.12039186940197147, 0.014163749341408408, 0.014163749341408408, 0.03540937335352102, 0.15990079409977723, 0.003075015271149562, 0.14452571774402942, 0.0891754428633373, 0.29520146603035796, 0.006150030542299124, 0.003075015271149562, 0.006150030542299124, 0.11992559557483291, 0.10762553449023467, 0.006150030542299124, 0.009225045813448686, 0.04305021379609387, 0.003075015271149562, 0.1796958929654107, 0.15723390634473436, 0.1796958929654107, 0.022461986620676336, 0.06738595986202901, 0.4043157591721741, 0.21317795137284282, 0.1279067708237057, 0.004263559027456856, 0.27855252312718126, 0.015633049767341808, 0.005684745369942475, 0.10232541665896455, 0.17338473378324548, 0.03837203124711171, 0.02131779513728428, 0.0028423726849712374, 0.005684745369942475, 0.008527118054913713, 0.16510138259270282, 0.015009216599336619, 0.022513824899004928, 0.05253225809767817, 0.0075046082996683095, 0.03752304149834155, 0.6904239635694845, 0.07684635753218501, 0.07684635753218501, 0.12807726255364169, 0.025615452510728335, 0.230539072596555, 0.05123090502145667, 0.33300088263946837, 0.16768265043441533, 0.04790932869554723, 0.09581865739109446, 0.07186399304332085, 0.5988666086943404, 0.17264124498955646, 0.015694658635414225, 0.015694658635414225, 0.10986261044789958, 0.10986261044789958, 0.5493130522394979, 0.09357319021648612, 0.01336759860235516, 0.02673519720471032, 0.02673519720471032, 0.4277631552753651, 0.14704358462590678, 0.05347039440942064, 0.04010279580706548, 0.09357319021648612, 0.01336759860235516, 0.04010279580706548, 0.5367388943543527, 0.2146955577417411, 0.0715651859139137, 0.03578259295695685, 0.10734777887087055, 0.03578259295695685, 0.06725335251506094, 0.1120889208584349, 0.08967113668674792, 0.08967113668674792, 0.04483556834337396, 0.04483556834337396, 0.5380268201204875, 0.02241778417168698, 0.13088479765014813, 0.07340929955160481, 0.17982433068455134, 0.14112795572711626, 0.07227117087638614, 0.03784277845102109, 0.022478041335568917, 0.025607895192420287, 0.01877912314110821, 0.09105029401749436, 0.025323363023615618, 0.012519415427405473, 0.01991725181632689, 0.06458880231866006, 0.020770848322740898, 0.01621833362186618, 0.009105029401749435, 0.027030556036443637, 0.011665818920991463, 0.06623871267875103, 0.08831828357166806, 0.08831828357166806, 0.11039785446458507, 0.08831828357166806, 0.04415914178583403, 0.04415914178583403, 0.3091139925008382, 0.04415914178583403, 0.11039785446458507, 0.18765430783002843, 0.11259258469801706, 0.11259258469801706, 0.037530861566005685, 0.48790120035807394, 0.07506172313201137, 0.7276706224594923, 0.02079058921312835, 0.0415811784262567, 0.2079058921312835, 0.34846235785954155, 0.5923860083612206, 0.03484623578595415, 0.3949604354202631, 0.035905494129114826, 0.2333857118392464, 0.017952747064557413, 0.017952747064557413, 0.035905494129114826, 0.2513384589038038, 0.13147672014611383, 0.16434590018264228, 0.010956393345509486, 0.42729934047486995, 0.2410406536012087, 0.3522190884865247, 0.0906446183605027, 0.0712207715689664, 0.0492070785385586, 0.06474615597178764, 0.03755277046363683, 0.03366800110532957, 0.005179692477743011, 0.016834000552664784, 0.04273246294137984, 0.10359384955486022, 0.053091847896865864, 0.03755277046363683, 0.012949231194357527, 0.015539077433229033, 0.0012949231194357526, 0.011654308074921774, 0.019639729490694938, 0.962346745044052, 0.07166575260759947, 0.7763789865823276, 0.07166575260759947, 0.059721460506332896, 0.011944292101266579, 0.025203443929727308, 0.2520344392972731, 0.018239334422828973, 0.08854367801627884, 0.06532997965995105, 0.005305988195732065, 0.014923091800496432, 0.03415729901002517, 0.011938473440397147, 0.2881814838806978, 0.023876946880794295, 0.011606849178163892, 0.06897784654451684, 0.03581542032119144, 0.0003316242622332541, 0.01790771016059572, 0.024871819667494056, 0.012601721964863654, 0.0003316242622332541, 0.14136700152894593, 0.08903402500140345, 0.11214209255901961, 0.16583436717818656, 0.0441771879777956, 0.03194350515317528, 0.004757543320685681, 0.0237877166034284, 0.06660560648959953, 0.11418103969645632, 0.02990455801573856, 0.006796490458122401, 0.01495227900786928, 0.048934731298481284, 0.03194350515317528, 0.00135929809162448, 0.006796490458122401, 0.05912946698566488, 0.006796490458122401, 0.11582522771419772, 0.15383038055791884, 0.04252957580130697, 0.05881749844861603, 0.1131105739396462, 0.0208123456048949, 0.06967611354682206, 0.08505915160261394, 0.05157842171647867, 0.009953730506688865, 0.154735265149436, 0.0009048845915171697, 0.03438561447765245, 0.016287922647309053, 0.0045244229575858485, 0.0018097691830343393, 0.02805142233703226, 0.016287922647309053, 0.01990746101337773, 0.8804163418147419, 0.08003784925588563, 0.07326300570615354, 0.05952619213624976, 0.041210440709711374, 0.1556838871255763, 0.6502091756421128, 0.0045789378566345965, 0.009157875713269193, 0.0045789378566345965, 0.12905543364927566, 0.043018477883091884, 0.3011293451816432, 0.08603695576618377, 0.4301847788309189, 0.06797657535580365, 0.06797657535580365, 0.0906354338077382, 0.5664714612983638, 0.1359531507116073, 0.02265885845193455, 0.11266383504860672, 0.2816595876215168, 0.05633191752430336, 0.22532767009721344, 0.018777305841434454, 0.30043689346295127, 0.12275030432219729, 0.020458384053699548, 0.25572980067124435, 0.015343788040274661, 0.040916768107399096, 0.04603136412082398, 0.010229192026849774, 0.020458384053699548, 0.45008444918139, 0.010229192026849774, 0.9699699530173218, 0.014772962542049775, 0.07386481271024888, 0.014772962542049775, 0.014772962542049775, 0.856831827438887, 0.9192552483245374, 0.08171574416488453, 0.023347355475681293, 0.058368388689203236, 0.058368388689203236, 0.011673677737840647, 0.7704627306974827, 0.16903906618239284, 0.12385040492571357, 0.013389232964942007, 0.14560790849374433, 0.03514673653297277, 0.013389232964942007, 0.0853563601515053, 0.26109004281636916, 0.05188327773915028, 0.001673654120617751, 0.041841353015443776, 0.001673654120617751, 0.02008384944741301, 0.003347308241235502, 0.021757503568030762, 0.008368270603088755, 0.0020011956911667734, 0.10206098024950545, 0.024014348294001283, 0.04402630520566902, 0.048028696588002566, 0.012007174147000641, 0.0020011956911667734, 0.004002391382333547, 0.008004782764667094, 0.4002391382333547, 0.010005978455833868, 0.3321984847336844, 0.006003587073500321, 0.18112007374997696, 0.03622401474999539, 0.6520322654999171, 0.07244802949999078, 0.08150792642633574, 0.15947202996456994, 0.03898205176911709, 0.3933643405792725, 0.04961352043342176, 0.01771911444050777, 0.10985850953114817, 0.10277086375494507, 0.003543822888101554, 0.02835058310481243, 0.003543822888101554, 0.007087645776203108, 0.08382954100989626, 0.04191477050494813, 0.20957385252474064, 0.04191477050494813, 0.5868067870692738, 0.04191477050494813, 0.9768186042859988, 0.025656088526026608, 0.025656088526026608, 0.23090479673423947, 0.718370478728745, 0.10146267104126538, 0.5073133552063269, 0.05073133552063269, 0.15219400656189808, 0.05073133552063269, 0.05073133552063269, 0.009678953045514756, 0.0217776443524082, 0.4428121018323, 0.07985136262549673, 0.10162900697790493, 0.031456597397922954, 0.007259214784136066, 0.029036859136544264, 0.11372769828479837, 0.01693816782965082, 0.07017240957998197, 0.026617120875165576, 0.031456597397922954, 0.01693816782965082, 0.1114040210035033, 0.037134673667834434, 0.7055587996888543, 0.037134673667834434, 0.07426934733566887, 0.025705378115304444, 0.05141075623060889, 0.8739828559203512, 0.055977270211459325, 0.6717272425375119, 0.16793181063437798, 0.055977270211459325, 0.5604770703396649, 0.28023853516983244, 0.11209541406793298, 0.15897184773271708, 0.529906159109057, 0.2649530795545285, 0.12228309837141622, 0.09171232377856216, 0.37907760495139026, 0.006114154918570811, 0.030570774592854056, 0.0550273942671373, 0.2812511262542573, 0.018342464755712433, 0.025745325466193153, 0.24100485228075258, 0.07866627225781242, 0.055066390580468694, 0.07366023675049709, 0.2345685209142043, 0.005721183436931812, 0.001430295859232953, 0.009296923085014194, 0.001430295859232953, 0.011442366873863625, 0.022169585818110772, 0.18450816584105093, 0.004290887577698859, 0.002860591718465906, 0.025030177536576676, 0.02002414202926134, 0.06467330107357869, 0.09054262150301015, 0.6596676709505025, 0.1422812623618731, 0.02586932042943147, 0.7416939294161718, 0.018542348235404297, 0.037084696470808594, 0.05562704470621289, 0.11125408941242577, 0.7609645495841312, 0.01841043265122898, 0.06750491972117292, 0.012273621767485986, 0.012273621767485986, 0.12273621767485987, 0.12189087862982237, 0.06913214011840672, 0.15281841499858326, 0.042449559721828685, 0.14068996936377506, 0.02425689126961639, 0.04123671515834787, 0.03759818146790541, 0.046694515694011555, 0.12007161178460114, 0.002425689126961639, 0.019405513015693113, 0.03335322549572254, 0.021224779860914342, 0.054578005356636886, 0.035172492340943766, 0.0018192668452212293, 0.025469735833097213, 0.009096334226106147, 0.01582312069904801, 0.09493872419428806, 0.11076184489333607, 0.7436866728552565, 0.023734681048572015, 0.11926239418362926, 0.05963119709181463, 0.05963119709181463, 0.7155743651017755, 0.00524432629396122, 0.20977305175844876, 0.17830709399468145, 0.08390922070337951, 0.11537517846714683, 0.031465957763767316, 0.08915354699734072, 0.07866489440941829, 0.057687589233573415, 0.14159680993695292, 0.04246529421486026, 0.08493058842972052, 0.488350883470893, 0.3609550008263122, 0.08636641841561347, 0.1608202273945906, 0.011912609436636341, 0.004963587265265142, 0.0009927174530530284, 0.03673054576296205, 0.1360022910682649, 0.10522805002362101, 0.2690264297773707, 0.04169413302822719, 0.10622076747667404, 0.03871598066906811, 0.3491842633167112, 0.14965039856430482, 0.025697543187809917, 0.12697609575153135, 0.06651128825080213, 0.06348804787576567, 0.021162682625255225, 0.004534860562554691, 0.006046480750072921, 0.09220883143861205, 0.04383698543802868, 0.007558100937591152, 0.015116201875182304, 0.0015116201875182303, 0.022674302812773457, 0.004534860562554691, 0.631883256590363, 0.037169603328844884, 0.05575440499326733, 0.09292400832211221, 0.09292400832211221, 0.037169603328844884, 0.018584801664422442, 0.06453041445455952, 0.08212961839671211, 0.05531178381819387, 0.22711353658682637, 0.05950207047108735, 0.022627547925624766, 0.01005668796694434, 0.06117818513224474, 0.020951433264467377, 0.2757208617603907, 0.0016761146611573902, 0.015923089280995208, 0.036036465214883885, 0.0016761146611573902, 0.01173280262810173, 0.0008380573305786951, 0.014246974619837816, 0.03855063720661997, 0.0016761146611573902, 0.10954862479302106, 0.10954862479302106, 0.019917931780549285, 0.03983586356109857, 0.10954862479302106, 0.10954862479302106, 0.029876897670823924, 0.009958965890274642, 0.1195075906832957, 0.3286458743790632, 0.035716926590417836, 0.1031822323723182, 0.15874189595741262, 0.08333949537764163, 0.007937094797870631, 0.1031822323723182, 0.007937094797870631, 0.039685473989353154, 0.0039685473989353156, 0.2936725075212133, 0.0039685473989353156, 0.05952821098402973, 0.09524513757444757, 0.006764509040852708, 0.06764509040852708, 0.23675781642984475, 0.006764509040852708, 0.6426283588810072, 0.02705803616341083, 0.04806489023613965, 0.05898872892617139, 0.11797745785234277, 0.10923838690031738, 0.015293374166044434, 0.0021847677380063477, 0.013108606428038086, 0.03932581928411426, 0.00873907095202539, 0.25561782534674266, 0.050249657974145996, 0.28183503820281885, 0.19237836101714698, 0.048094590254286744, 0.048094590254286744, 0.5290404927971541, 0.09618918050857349, 0.024475641093380282, 0.8811230793616901, 0.08566474382683098, 0.7465723379747989, 0.031107180748949956, 0.031107180748949956, 0.1555359037447498, 0.19497298266895266, 0.09748649133447633, 0.03249549711149211, 0.3899459653379053, 0.09748649133447633, 0.16247748555746055, 0.20861262136073525, 0.10564931038869854, 0.031336659861054654, 0.015220663361083688, 0.03491799241660375, 0.17190396266635694, 0.061777986583222026, 0.01701132963885824, 0.04834798949991289, 0.002685999416661827, 0.1808572940552297, 0.037603991833265585, 0.030441326722167376, 0.018801995916632792, 0.0017906662777745516, 0.017906662777745514, 0.008953331388872757, 0.0035813325555491033, 0.002685999416661827, 0.27707542894263004, 0.06926885723565751, 0.10390328585348628, 0.10390328585348628, 0.34634428617828755, 0.034634428617828755, 0.011840636169458367, 0.049730671911725144, 0.20981607292280227, 0.06536031165541019, 0.09804046748311528, 0.10609210007834696, 0.017997766977576716, 0.028891152253478415, 0.038363661189045106, 0.05067792280528181, 0.005683505361340016, 0.038363661189045106, 0.03031202859381342, 0.031732904934148425, 0.11130197999290865, 0.04167903931649345, 0.016576890637241715, 0.029838403147035085, 0.018945017871133386, 0.03975063539044034, 0.011357324397268668, 0.08801926407883218, 0.09937658847610084, 0.03975063539044034, 0.07950127078088068, 0.022714648794537336, 0.022714648794537336, 0.16752053485971286, 0.002839331099317167, 0.068143946383612, 0.04826862868839184, 0.27825444773308233, 0.034071973191806, 0.016763923885590278, 0.05029177165677083, 0.10058354331354166, 0.5532094882244791, 0.05029177165677083, 0.18440316274149307, 0.5865817248701767, 0.06038341285428289, 0.008626201836326128, 0.2760384587624361, 0.04313100918163064, 0.017252403672652256, 0.1398178754478321, 0.1398178754478321, 0.03495446886195803, 0.1398178754478321, 0.20972681317174816, 0.2796357508956642, 0.2314137920648315, 0.6171034455062173, 0.11570689603241575, 0.025712643562759055, 0.10541005895844202, 0.05270502947922101, 0.5006977800525996, 0.28987766213571553, 0.0937251411922124, 0.02595465448399728, 0.07353818770465896, 0.09084129069399048, 0.39508751825640304, 0.1514021511566508, 0.0793058887011028, 0.08795744019576857, 0.1254597166710616, 0.013939968519006843, 0.06969984259503421, 0.4739589296462327, 0.06969984259503421, 0.08363981111404106, 0.027879937038013686, 0.13939968519006843, 0.04382336614275946, 0.37980250657058195, 0.5550959711416198, 0.5195834616362461, 0.006747837164107092, 0.46560076432338937, 0.006747837164107092, 0.10455586012757107, 0.02091117202551421, 0.8573580530460827, 0.30363256684837975, 0.05060542780806329, 0.6072651336967595, 0.1265602961997855, 0.15284589617974095, 0.0408887110799307, 0.116824888799802, 0.1324015406397756, 0.0048677036999917505, 0.14895173321974756, 0.0720420147598779, 0.0369945481199373, 0.02628559997995545, 0.00681478517998845, 0.0038941629599934, 0.0233649777599604, 0.0175237333199703, 0.02433851849995875, 0.03407392589994225, 0.01849727405996865, 0.00681478517998845, 0.0038941629599934, 0.9724411844440801, 0.0855471682779532, 0.05703144551863547, 0.014257861379658867, 0.11406289103727094, 0.427735841389766, 0.19961005931522413, 0.05703144551863547, 0.014257861379658867, 0.11116844921842244, 0.05558422460921122, 0.05558422460921122, 0.05558422460921122, 0.6670106953105347, 0.1847480595350978, 0.11138433734289954, 0.12744938599812544, 0.15904398168673636, 0.054085663805927185, 0.054085663805927185, 0.011245534058658127, 0.031059094066770064, 0.01981356000811194, 0.03213009731045179, 0.07764773516692516, 0.03427210379781524, 0.03427210379781524, 0.019278058386271075, 0.011781035680498991, 0.01713605189890762, 0.004819514596567769, 0.01338754054602158, 0.0021420064873634527, 0.14399620916582434, 0.7919791504120339, 0.035999052291456085, 0.6487560710691427, 0.04185523039155759, 0.10463807597889399, 0.04185523039155759, 0.020927615195778796, 0.020927615195778796, 0.06278284558733639, 0.04185523039155759, 0.12620651764292432, 0.08288189218341298, 0.03390622862048713, 0.0885329302868275, 0.10171868586146139, 0.02637151114926777, 0.05462670166634037, 0.0018836793678048405, 0.04709198419512101, 0.04520830482731617, 0.20532105109072762, 0.05462670166634037, 0.048975663562925854, 0.009418396839024203, 0.03578990798829197, 0.003767358735609681, 0.015069434942438724, 0.018836793678048407, 0.08772300886141417, 0.3070305310149496, 0.5701995575991922, 0.05091972310927787, 0.10183944621855574, 0.15275916932783362, 0.01697324103642596, 0.05091972310927787, 0.5940634362749085, 0.01697324103642596, 0.15302164214995814, 0.03060432842999163, 0.6426908970298242, 0.15302164214995814, 0.050139408760142556, 0.016713136253380854, 0.03342627250676171, 0.15041822628042767, 0.6685254501352341, 0.050139408760142556, 0.016713136253380854, 0.20550389249282075, 0.08220155699712829, 0.12330233549569244, 0.06165116774784622, 0.5343101204813339, 0.06534496564236159, 0.06534496564236159, 0.010890827607060264, 0.1197991036776629, 0.010890827607060264, 0.14158075889178343, 0.533650552745953, 0.010890827607060264, 0.03267248282118079, 0.17547421777633984, 0.08916372854488813, 0.06847774352247409, 0.06883439843665363, 0.0706176730075514, 0.08452721466055395, 0.05385489204111243, 0.033882216847057486, 0.019616020279875388, 0.13802545178748682, 0.064554539466499, 0.037805420903032565, 0.024965843992568678, 0.011769612167925233, 0.012126267082104786, 0.02389587925003002, 0.011056302339566127, 0.009273027768668365, 0.0024965843992568676, 0.26376247936075453, 0.06971378882286972, 0.10349263495353855, 0.11427311776119882, 0.09055605558434623, 0.09271215214587829, 0.050308919769081244, 0.01581137478456839, 0.004312193123064106, 0.03306014727682482, 0.07402598194593382, 0.01940486905378848, 0.02299836332300857, 0.002156096561532053, 0.002874795415376071, 0.017248772492256426, 0.002874795415376071, 0.018686170199944462, 0.0007186988538440178, 0.5543912194761725, 0.20159680708224456, 0.15119760531168344, 0.05039920177056114, 0.22962342118687967, 0.04043682888825554, 0.05776689841179363, 0.06932027809415235, 0.014441724602948408, 0.010109207222063885, 0.008665034761769044, 0.008665034761769044, 0.08376200269710077, 0.05054603611031943, 0.20218414444127772, 0.028883449205896815, 0.008665034761769044, 0.06354358825297299, 0.0028883449205896815, 0.012997552142653567, 0.0014441724602948407, 0.09964789976034401, 0.0028883449205896815, 0.16427614014752825, 0.004500716168425432, 0.011814379942116758, 0.647540538732209, 0.002812947605265895, 0.1175812099001144, 0.0016877685631595369, 0.0033755371263190738, 0.000562589521053179, 0.0067510742526381475, 0.02250358084212716, 0.01631509611054219, 0.000562589521053179, 0.5520910060735678, 0.034505687879597985, 0.17252843939798992, 0.034505687879597985, 0.17252843939798992, 0.05593107753447162, 0.01864369251149054, 0.08389661630170743, 0.02796553876723581, 0.344908311462575, 0.046609231278726355, 0.2610116951608676, 0.10254030881319798, 0.05593107753447162, 0.1268338633270702, 0.02536677266541404, 0.1344438951266944, 0.02536677266541404, 0.2917178856522614, 0.11922383152744598, 0.17503073139135686, 0.04058683626466246, 0.007610031799624212, 0.0025366772665414037, 0.0025366772665414037, 0.007610031799624212, 0.03297680446503825, 0.007610031799624212, 0.19751651550294821, 0.006172391109467132, 0.5678599820709761, 0.1357926044082769, 0.006172391109467132, 0.006172391109467132, 0.012344782218934263, 0.006172391109467132, 0.018517173328401394, 0.03086195554733566, 0.013671369784356133, 0.0019530528263365903, 0.7714558664029532, 0.011718316958019542, 0.015624422610692723, 0.0019530528263365903, 0.031248845221385445, 0.009765264131682952, 0.11132401110118564, 0.017577475437029314, 0.007812211305346361, 0.005859158479009771, 0.8407990025614634, 0.0323384231754409, 0.09701526952632271, 0.7407069370220003, 0.15872291507614292, 0.0529076383587143, 0.015321552095044232, 0.019151940118805288, 0.24131444549694664, 0.038303880237610576, 0.07660776047522115, 0.2451448335207077, 0.042134268261371635, 0.003830388023761058, 0.011491164071283174, 0.019151940118805288, 0.25663599759199085, 0.003830388023761058, 0.015321552095044232, 0.007660776047522116, 0.10003062710997129, 0.16275701482810245, 0.06604232010851696, 0.08206932666204828, 0.11439966746830971, 0.024316837529495785, 0.046146725766202226, 0.04946265815658801, 0.040343844083027096, 0.11826825525709313, 0.040343844083027096, 0.012158418764747892, 0.04504141496940696, 0.03702791169264131, 0.004697570886379867, 0.006355537081572761, 0.026251131423887495, 0.014369040358338418, 0.00967146947195855, 0.2387055522270778, 0.5728933253449867, 0.04774111044541556, 0.04774111044541556, 0.29508667007429956, 0.09836222335809987, 0.19672444671619974, 0.3442677817533495, 0.13597229200003058, 0.027194458400006113, 0.027194458400006113, 0.7614448352001711, 0.7527124456360926, 0.13685680829747138, 0.06842840414873569, 0.7373942571989104, 0.22442433914749446, 0.3016596729902772, 0.06557818978049504, 0.01967345693414851, 0.013115637956099007, 0.01967345693414851, 0.11804074160489106, 0.013115637956099007, 0.3541222248146732, 0.09180946569269305, 0.02345106211690124, 0.09380424846760496, 0.09380424846760496, 0.5628254908056298, 0.11725531058450621, 0.07035318635070373, 0.02345106211690124, 0.04832218364652772, 0.060402729558159646, 0.24161091823263858, 0.6281883874048603, 0.46837327235377924, 0.46837327235377924, 0.05101875961486864, 0.9183376730676355, 0.942684335729768, 0.10709891994997568, 0.08567913595998054, 0.10709891994997568, 0.04283956797999027, 0.2356176238899465, 0.34271654383992217, 0.021419783989995136, 0.04283956797999027, 0.08902479273140931, 0.07913314909458606, 0.11092771792723224, 0.020489833247705317, 0.09750334442011496, 0.09820989039417377, 0.04945821818411628, 0.0077720057146468445, 0.04875167221005748, 0.008478551688705649, 0.07418732727617443, 0.06641532156152759, 0.09185097662764453, 0.018370195325528905, 0.05793676987282193, 0.04521894233976346, 0.002826183896235216, 0.02967493091046977, 0.002826183896235216, 0.0500251204949139, 0.15007536148474168, 0.15007536148474168, 0.4502260844542251, 0.15007536148474168, 0.08481107157483139, 0.160411891032939, 0.11858199600281855, 0.0924862816721012, 0.0725307354191997, 0.04182989503012046, 0.05526151270034262, 0.07099569339974574, 0.04873758411766329, 0.05718031522466008, 0.028398277359898295, 0.020723067262628486, 0.02686323534044433, 0.022641869786945937, 0.03300340341826018, 0.022641869786945937, 0.010745294136177733, 0.02379315130153641, 0.00844273110699679, 0.025686586618895783, 0.038529879928343676, 0.03424878215852771, 0.007491921097177937, 0.019264939964171838, 0.0588650943349695, 0.009632469982085919, 0.003210823327361973, 0.019264939964171838, 0.008562195539631928, 0.703170308692272, 0.016054116636809865, 0.003210823327361973, 0.012843293309447891, 0.012843293309447891, 0.009632469982085919, 0.001070274442453991, 0.018194665521717848, 0.020028158806072185, 0.8011263522428874, 0.020028158806072185, 0.12016895283643311, 0.022261235516630538, 0.008904494206652215, 0.026713482619956645, 0.0044522471033261075, 0.013356741309978323, 0.908258409078526, 0.0044522471033261075, 0.033655118510030974, 0.02243674567335398, 0.05609186418338495, 0.01121837283667699, 0.7965044714040663, 0.01121837283667699, 0.05609186418338495, 0.24468917744047494, 0.12234458872023747, 0.04078152957341249, 0.4893783548809499, 0.027187686382274995, 0.08156305914682498, 0.2165168977052195, 0.048114866156715445, 0.006014358269589431, 0.033078970482741867, 0.06615794096548373, 0.15035895673973576, 0.030071791347947154, 0.11427280712219919, 0.25260304732275607, 0.0390933287523313, 0.021050253943563007, 0.021050253943563007, 0.0030071791347947153, 0.01047382381175573, 0.4922697191525193, 0.03142147143526719, 0.04189529524702292, 0.02094764762351146, 0.19900265242335888, 0.09426441430580157, 0.1047382381175573, 0.01047382381175573, 0.05529564240481141, 0.09953215632866054, 0.011059128480962282, 0.7630798651863975, 0.05529564240481141, 0.20873712145982512, 0.10436856072991256, 0.17394760121652092, 0.06957904048660837, 0.06957904048660837, 0.34789520243304184, 0.015679572781809033, 0.2822323100725626, 0.06271829112723613, 0.047038718345427104, 0.03135914556361807, 0.015679572781809033, 0.015679572781809033, 0.09407743669085421, 0.06271829112723613, 0.015679572781809033, 0.3292710284179897, 0.3860689371370803, 0.06911110603071191, 0.022639845079026315, 0.10485822983970082, 0.038130265396254845, 0.1155823669823975, 0.004766283174531856, 0.004766283174531856, 0.0035747123808988917, 0.05242911491985041, 0.0857930971415734, 0.09294252190337118, 0.009532566349063711, 0.0035747123808988917, 0.001191570793632964, 0.0035747123808988917, 0.001191570793632964, 0.10950735583404664, 0.13537997287176096, 0.0511435453071097, 0.08784656017456488, 0.05535536668534226, 0.07460940727154826, 0.030686127184265815, 0.0066185764515083135, 0.11913437612714964, 0.02527092826939538, 0.03549963733081732, 0.08724487140624596, 0.028279372110990065, 0.05896549929525588, 0.018652351817887065, 0.021660795659481754, 0.01985572935452494, 0.025872617037714315, 0.009025331524784064, 0.10825399065499833, 0.009413390491738985, 0.023533476229347462, 0.8472051442565086, 0.009413390491738985, 0.9915345689214017, 0.012775698221664106, 0.9709530648464721, 0.6085960867853827, 0.08694229811219753, 0.17388459622439506, 0.08694229811219753, 0.04678257045622182, 0.14176536501885398, 0.18004201357394456, 0.004252960950565619, 0.10774167741432904, 0.23107754498073202, 0.0496178777565989, 0.0141765365018854, 0.0141765365018854, 0.036858994904902034, 0.018429497452451017, 0.0141765365018854, 0.008505921901131239, 0.00567061460075416, 0.08080625806074677, 0.0212648047528281, 0.00141765365018854, 0.00992357555131978, 0.01275888285169686, 0.2045697693956716, 0.09690146971373917, 0.07933453660773968, 0.09350141814483605, 0.07876786134625582, 0.0651676550706433, 0.0640343045476756, 0.04533402091870838, 0.02946711359716045, 0.0765011603003204, 0.028900438335676595, 0.03060046412012816, 0.027767087812708886, 0.005666752614838548, 0.011900180491160952, 0.030033788858644307, 0.006233427876322403, 0.0175669331059995, 0.006800103137806258, 0.11299609529475253, 0.17359735310646338, 0.08963936051315564, 0.08206420328669178, 0.06375757332273746, 0.11615241080577914, 0.013256525146311749, 0.00441884171543725, 0.03030062890585543, 0.05807620540288957, 0.035350733723498, 0.029038102701444784, 0.011993998941901106, 0.03661325992790864, 0.10289588565946739, 0.015781577555133035, 0.005681367919847893, 0.0006312631022053214, 0.01830662996395432, 0.31593086471284787, 0.011283245168315996, 0.06769947100989597, 0.02256649033663199, 0.05641622584157998, 0.13539894201979194, 0.2820811292078999, 0.04513298067326398, 0.07898271617821197, 0.3066270283942998, 0.05299726416691601, 0.011356556607196288, 0.007571037738130859, 0.049211745297850586, 0.024605872648925293, 0.24038044818565477, 0.0037855188690654293, 0.09274521229210303, 0.011356556607196288, 0.05867554247051416, 0.0018927594345327146, 0.007571037738130859, 0.062461061339579585, 0.04731898586331787, 0.015142075476261717, 0.007571037738130859, 0.023382578885497805, 0.16367805219848464, 0.16367805219848464, 0.14029547331298683, 0.11691289442748902, 0.07014773665649342, 0.28059094662597367, 0.15378238542856207, 0.2832833415789301, 0.0011562585370568576, 0.1826888488549835, 0.00925006829645486, 0.017343878055852864, 0.05665666831578602, 0.15378238542856207, 0.017343878055852864, 0.0011562585370568576, 0.12025088785391319, 0.19262692759080777, 0.042805983909068396, 0.010701495977267099, 0.021402991954534198, 0.14982094368173937, 0.021402991954534198, 0.021402991954534198, 0.0321044879318013, 0.08561196781813679, 0.31034338334074585, 0.0321044879318013, 0.010701495977267099, 0.0642089758636026, 0.19255283245165455, 0.04813820811291364, 0.14441462433874092, 0.04813820811291364, 0.04813820811291364, 0.48138208112913644, 0.9426069849806122, 0.04350493776833595, 0.17779789401072704, 0.05614670337180854, 0.7579804955194153, 0.035790010965667994, 0.125265038379838, 0.017895005482833997, 0.125265038379838, 0.053685016448501995, 0.590535180933522, 0.017895005482833997, 0.1699303649132005, 0.07388276735356543, 0.19855993726270707, 0.11821242776570468, 0.10251233970307203, 0.07111216357780673, 0.08773578623235895, 0.009235345919195679, 0.018470691838391357, 0.027706037757587034, 0.0009235345919195678, 0.01292948428687395, 0.006464742143436975, 0.009235345919195679, 0.019394226430310923, 0.01662362265455222, 0.009235345919195679, 0.048947333371737095, 0.9915894565484125, 0.003064408334637914, 0.003064408334637914, 0.052094941688844536, 0.033708491681017055, 0.8090038003444093, 0.06128816669275828, 0.021450858342465396, 0.003064408334637914, 0.006128816669275828, 0.12268070159394122, 0.012913758062520127, 0.0064568790312600636, 0.1937063709378019, 0.05165503225008051, 0.045198153218820446, 0.5488347176571055, 0.012913758062520127, 0.1607705582703956, 0.08931697681688644, 0.12504376754364102, 0.053590186090131865, 0.5359018609013186, 0.05677366167234072, 0.02523273852104032, 0.01261636926052016, 0.06939003093286088, 0.05677366167234072, 0.42264837022742535, 0.00630818463026008, 0.0315409231513004, 0.00630818463026008, 0.08831458482364112, 0.04415729241182056, 0.02523273852104032, 0.11354732334468144, 0.04415729241182056, 0.18995314799549745, 0.03910800105789653, 0.01117371458797044, 0.00558685729398522, 0.06704228752782262, 0.02234742917594088, 0.055868572939852194, 0.48046972728272885, 0.016760571881955656, 0.04469485835188176, 0.016760571881955656, 0.03910800105789653, 0.016760571881955656, 0.08930200441773438, 0.11056438642195686, 0.09355448081857888, 0.042524764008444946, 0.06803962241351191, 0.41249021088191595, 0.004252476400844495, 0.04677724040928944, 0.021262382004222473, 0.012757429202533484, 0.06378714601266741, 0.03401981120675596, 0.6484052786674447, 0.019355381452759543, 0.3193637939705325, 0.2876722153691428, 0.5753444307382856, 0.03595902692114285, 0.03595902692114285, 0.03595902692114285, 0.19166163143707218, 0.1527060152913258, 0.026489818979107536, 0.05453786260404493, 0.12933264560387797, 0.02025692039578812, 0.18542873285375278, 0.07167833370817334, 0.04986318866655536, 0.03739739149991653, 0.017140471104128408, 0.007791123229149276, 0.001558224645829855, 0.018698695749958263, 0.02025692039578812, 0.004674673937489566, 0.007791123229149276, 0.4286727857602532, 0.05857640550761224, 0.023963074980386825, 0.11981537490193413, 0.05857640550761224, 0.023963074980386825, 0.026625638867096475, 0.034613330527225414, 0.135790758222192, 0.023963074980386825, 0.026625638867096475, 0.0053251277734192946, 0.013312819433548237, 0.021300511093677178, 0.623912631393953, 0.029710125304473953, 0.029710125304473953, 0.10893712611640449, 0.019806750202982636, 0.03961350040596527, 0.13864725142087844, 0.004778182717621435, 0.09390966802709821, 0.23688759703900114, 0.05053847105176518, 0.11412505644780428, 0.058808402678417665, 0.007902379109912374, 0.025177347396697563, 0.1025471521704908, 0.04980336601828496, 0.0005513287751101656, 0.0336310552817201, 0.030874411406169273, 0.036571475415640986, 0.07148896450595148, 0.018928954612115686, 0.014334548152864305, 0.021134269712556348, 0.027750215013878334, 0.1334706375824494, 0.04853477730270887, 0.5824173276325065, 0.060668471628386095, 0.09706955460541775, 0.024267388651354437, 0.024267388651354437, 0.02324756110284424, 0.03912394429503055, 0.002268054741740901, 0.001701041056305676, 0.004536109483481802, 0.02664964321545559, 0.01474235582131586, 0.07087671067940317, 0.004536109483481802, 0.005103123168917028, 0.25572317213128665, 0.006237150539787479, 0.05953643697069866, 0.4519099072918746, 0.01474235582131586, 0.01814443793392721, 0.5870126338669411, 0.1557380457198007, 0.09583879736603121, 0.023959699341507802, 0.047919398683015604, 0.08385894769527731, 0.018900664637581128, 0.08623428240896389, 0.023232066950360133, 0.04882671698041791, 0.16104941326605585, 0.04528284236087145, 0.002362583079697641, 0.02362583079697641, 0.4217210797260289, 0.000787527693232547, 0.023232066950360133, 0.022050775410511314, 0.017325609251116033, 0.04882671698041791, 0.055126938526278285, 0.000787527693232547, 0.5971585772058515, 0.01926317990986618, 0.03852635981973236, 0.04815794977466545, 0.07705271963946472, 0.08668430959439781, 0.07705271963946472, 0.04815794977466545, 0.9283812941893952, 0.028132766490587734, 0.009377588830195911, 0.018755177660391822, 0.17827806694200346, 0.5942602231400116, 0.1188520446280023, 0.05942602231400115, 0.3368684789556902, 0.008084843494936565, 0.010779791326582086, 0.013474739158227608, 0.005389895663291043, 0.10240801760252982, 0.06467874795949252, 0.026949478316455215, 0.10510296543417534, 0.008084843494936565, 0.01616968698987313, 0.19673119171012307, 0.01886463482151865, 0.07815348711772012, 0.014712709435735726, 0.011034532076801795, 0.005149448302507504, 0.0007356354717867863, 0.02427597056896395, 0.0485519411379279, 0.15154090718807797, 0.02206906415360359, 0.027218512456111094, 0.005149448302507504, 0.5105310174200297, 0.03531050264576574, 0.07209227623510506, 0.05002321208150147, 0.007356354717867863, 0.0014712709435735726, 0.00809199018965465, 0.00588508377429429, 0.015777589535337054, 0.9151001930495493, 0.05522156337367969, 0.5162790405512134, 0.011223457403287247, 0.39282100911505363, 0.06734074441972349, 0.008751579609944065, 0.026254738829832192, 0.5863558338662523, 0.1225221145392169, 0.026254738829832192, 0.07001263687955252, 0.07001263687955252, 0.07876421648949658, 0.19603573790755588, 0.17221195031462375, 0.0020420389365370406, 0.06670660526020998, 0.04288281766727785, 0.006126116809611121, 0.009529515037172856, 0.02110106901088275, 0.14226204591208047, 0.1163962193826113, 0.05989980880508652, 0.05989980880508652, 0.023823787592932136, 0.008168155746148162, 0.010210194682685202, 0.019739709719858056, 0.03607602121215438, 0.006806796455123468, 0.2362607312423822, 0.5425246421121369, 0.13125596180132343, 0.043751987267107814, 0.008750397453421562, 0.03500158981368625, 0.056135626450196395, 0.06802317087494386, 0.22124041012724463, 0.11315181174667038, 0.08673504635834267, 0.06956414885592965, 0.03874458923621398, 0.05283353077665543, 0.03566263327424241, 0.03390151558168723, 0.008145169328067713, 0.04733003798742049, 0.018051456348690605, 0.030379280196576874, 0.057896744142751574, 0.007925029616498314, 0.010566706155331087, 0.02421536827263374, 0.01959243432967639, 0.15815264934874917, 0.5535342727206221, 0.15815264934874917, 0.07907632467437459, 0.039538162337187294, 0.4963433384829022, 0.2617083057455302, 0.004512212168026383, 0.009024424336052767, 0.004512212168026383, 0.04512212168026383, 0.09024424336052767, 0.013536636504079151, 0.058658758184342984, 0.009024424336052767, 0.009024424336052767, 0.05749000073323599, 0.028745000366617996, 0.7186250091654499, 0.028745000366617996, 0.11498000146647198, 0.028745000366617996, 0.14979120116748243, 0.044056235637494834, 0.01762249425499793, 0.08811247127498967, 0.4229398621199504, 0.008811247127498966, 0.14097995403998345, 0.008811247127498966, 0.044056235637494834, 0.0264337413824969, 0.008811247127498966, 0.008811247127498966, 0.008811247127498966, 0.0264337413824969, 0.2676049491511037, 0.7289927925150756, 0.10868051362556416, 0.5796294060030089, 0.14490735150075224, 0.03622683787518806, 0.10868051362556416, 0.027465227689220422, 0.04119784153383063, 0.009155075896406807, 0.08239568306766126, 0.022887689741017018, 0.009155075896406807, 0.013732613844610211, 0.7690263752981717, 0.004577537948203403, 0.018310151792813614, 0.15368201763206887, 0.11632606120513023, 0.05980824111877744, 0.10219660618354202, 0.07413125031874356, 0.11903581970242111, 0.05729203679986447, 0.07413125031874356, 0.022258730513460858, 0.02419427229724006, 0.04974342384312557, 0.048582098772858046, 0.044323906848543794, 0.005032408637825933, 0.009484154740518105, 0.020710297086437495, 0.0029033126756688077, 0.010645479810785627, 0.005806625351337615, 0.3114460340114875, 0.044316431717049604, 0.08493982745767842, 0.1452594150725515, 0.013541131913542935, 0.05539553964631201, 0.009848095937122135, 0.0036930359764208004, 0.03446833577992747, 0.022158215858524802, 0.0664746475755744, 0.18095876284461923, 0.009848095937122135, 0.0024620239842805336, 0.007386071952841601, 0.0061550599607013345, 0.15695292541554276, 0.15354090529781356, 0.05118030176593785, 0.01364808047091676, 0.040944241412750285, 0.07847646270777138, 0.00341202011772919, 0.01706010058864595, 0.020472120706375142, 0.29684575024243953, 0.0682404023545838, 0.0341202011772919, 0.00341202011772919, 0.01364808047091676, 0.040944241412750285, 0.00341202011772919, 0.35647728045313115, 0.07129545609062624, 0.03564772804531312, 0.2495340963171918, 0.07129545609062624, 0.17823864022656558, 0.11104067887291272, 0.010094607170264794, 0.020189214340529588, 0.010094607170264794, 0.08075685736211835, 0.010094607170264794, 0.010094607170264794, 0.010094607170264794, 0.020189214340529588, 0.6561494660672116, 0.060567643021588756, 0.9676876754721196, 0.058432730499934575, 0.06817151891659033, 0.009738788416655762, 0.058432730499934575, 0.08764909574990186, 0.03895515366662305, 0.029216365249967288, 0.019477576833311524, 0.009738788416655762, 0.029216365249967288, 0.0779103073332461, 0.5161557860827554, 0.5004374478218964, 0.05004374478218964, 0.05004374478218964, 0.20017497912875856, 0.05004374478218964, 0.10008748956437928, 0.1599124885086374, 0.11070864589059513, 0.04920384261804228, 0.02460192130902114, 0.08610672458157399, 0.5043393868349334, 0.06150480327255285, 0.18309544212833462, 0.143270969304665, 0.11364544683827667, 0.07770628843642849, 0.09179055321553115, 0.0796489456473392, 0.009227621751825883, 0.005342307330004459, 0.015541257687285698, 0.044681115850946376, 0.07819195273915616, 0.03642482270457585, 0.025254543741839258, 0.02039790071456248, 0.021369229320017835, 0.01505559338455802, 0.0199122364118348, 0.008256293146370526, 0.01214160756819195, 0.9803573212558094, 0.01291255966148052, 0.0645627983074026, 0.03873767898444156, 0.07747535796888312, 0.4648521478132987, 0.01291255966148052, 0.02582511932296104, 0.20660095458368832, 0.01291255966148052, 0.05165023864592208, 0.7465875342135818, 0.015884841153480465, 0.015884841153480465, 0.20650293499524605, 0.21731734454753937, 0.08278755982763406, 0.005913397130545289, 0.09757105265399728, 0.05174222489227128, 0.0029566985652726445, 0.023653588522181156, 0.15079162682890487, 0.014783492826363223, 0.005913397130545289, 0.08870095695817934, 0.034002033500635416, 0.1271380383067237, 0.09017930624081566, 0.0029566985652726445, 0.018156020949189375, 0.006052006983063125, 0.01210401396612625, 0.0242080279322525, 0.06052006983063125, 0.09078010474594687, 0.006052006983063125, 0.04236404888144187, 0.4417965097636081, 0.030260034915315624, 0.054468062847568124, 0.18761221647495688, 0.01210401396612625, 0.013190002219017534, 0.9189034879248882, 0.06155334368874849, 0.16266854782901866, 0.13522003620600484, 0.08176767146645164, 0.1051711392713371, 0.09419173462213158, 0.04738479901236067, 0.05576381834991225, 0.04391761859682208, 0.023692399506180337, 0.04073936988257838, 0.0598088621680406, 0.02195880929841104, 0.049696252622719726, 0.017913765480282694, 0.00953474614273111, 0.026003853116539393, 0.008956882740141347, 0.01097940464920552, 0.004622907220718115, 0.2981738378454277, 0.5367129081217699, 0.08945215135362831, 0.05963476756908555, 0.025109173035747296, 0.17712146384675795, 0.15879855379364505, 0.13233212816137088, 0.16558481677627945, 0.05429010386107523, 0.024430546737483856, 0.0352885675096989, 0.05021834607149459, 0.04411070938712363, 0.0027145051930537616, 0.02985955712359138, 0.019680162649639774, 0.0027145051930537616, 0.0047503840878440826, 0.025109173035747296, 0.009500768175688165, 0.027145051930537616, 0.010858020772215047, 0.15694559070483785, 0.13897472154016174, 0.11501356265392697, 0.3198814711312344, 0.03114950655210522, 0.04672425982815783, 0.011980579443117393, 0.040733970106599134, 0.011980579443117393, 0.04552620188384609, 0.010782521498805653, 0.01557475327605261, 0.020366985053299567, 0.004792231777246957, 0.0011980579443117392, 0.0023961158886234785, 0.020366985053299567, 0.0035941738329352177, 0.20097409273924752, 0.10048704636962376, 0.10048704636962376, 0.5024352318481188, 0.05024352318481188, 0.014206005881641759, 0.07576536470208937, 0.018941341175522344, 0.002367667646940293, 0.4167095058614916, 0.32910580292470076, 0.002367667646940293, 0.016573673528582054, 0.1018097088184326, 0.009470670587761172, 0.009470670587761172, 0.011338550472446206, 0.056692752362231036, 0.022677100944892413, 0.056692752362231036, 0.12472405519690827, 0.7256672302365572, 0.24103697992849793, 0.00753240562276556, 0.00753240562276556, 0.47454155423423033, 0.0376620281138278, 0.2109073574374357, 0.01506481124553112, 0.08660269731590055, 0.12371813902271507, 0.012371813902271506, 0.09897451121817205, 0.1484617668272581, 0.08660269731590055, 0.08660269731590055, 0.28455171975224464, 0.049487255609086025, 0.012371813902271506, 0.007190447292183529, 0.12223760396712, 0.021571341876550586, 0.04314268375310117, 0.08628536750620235, 0.021571341876550586, 0.03595223646091764, 0.12223760396712, 0.014380894584367058, 0.014380894584367058, 0.49614086316066347, 0.014380894584367058, 0.04080124996687225, 0.4080124996687225, 0.4488137496355947, 0.04080124996687225, 0.08913320922207325, 0.14267397653635616, 0.10343102776622835, 0.05414918512467249, 0.060233363228568274, 0.06875121257402238, 0.06388387009090575, 0.03224614395064766, 0.059929154323373486, 0.05019446935714023, 0.02889984599350498, 0.04715238030519234, 0.05354076731428291, 0.026466174751946667, 0.018556743216882145, 0.0651007057116849, 0.016427280880518622, 0.013080982923375938, 0.006388387009090574, 0.16889133977061888, 0.13354826387612834, 0.11682100658255268, 0.11412306185778241, 0.08363628646787837, 0.07014656284402701, 0.03777122614678378, 0.048293210573387826, 0.016457462821098643, 0.03912019850916891, 0.027249241720179722, 0.025630474885317563, 0.025090885940363506, 0.026170063830271616, 0.014568901513759456, 0.017536640711006753, 0.008633423119264863, 0.016187668348621616, 0.010252189954127024, 0.2379618795735594, 0.10175293040588852, 0.038763021107005156, 0.15020670678964496, 0.06945041281671757, 0.07537254104139891, 0.027457139950795316, 0.0075372541041398905, 0.0016151258794585481, 0.05222240343582639, 0.157205585600632, 0.0075372541041398905, 0.0075372541041398905, 0.012921007035668385, 0.005922128224681343, 0.012921007035668385, 0.0037686270520699452, 0.02422688819187822, 0.0048453776383756446, 0.12590075773061646, 0.0968467367158588, 0.00968467367158588, 0.15495477874537408, 0.03873869468634352, 0.13558543140220233, 0.4261256415497788, 0.02778888765087667, 0.09262962550292224, 0.032420368926022784, 0.013894443825438335, 0.013894443825438335, 0.02778888765087667, 0.004631481275146112, 0.11115555060350668, 0.6298814534198712, 0.01852592510058445, 0.013894443825438335, 0.013894443825438335, 0.01914761887726316, 0.01436071415794737, 0.03350833303521053, 0.01436071415794737, 0.07659047550905264, 0.02872142831589474, 0.37337856810663167, 0.03350833303521053, 0.06222976135110527, 0.01436071415794737, 0.1483940462987895, 0.01436071415794737, 0.043082142473842115, 0.12445952270221054, 0.12098256575536642, 0.11090068527575256, 0.1613100876738219, 0.5242577849399211, 0.020163760959227738, 0.010081880479613869, 0.040327521918455476, 0.054515252748299735, 0.04153543066537123, 0.0025959644165857018, 0.0025959644165857018, 0.023363679749271317, 0.01557578649951421, 0.09085875458049956, 0.09345471899708527, 0.2907480146575986, 0.03374753741561412, 0.049323323915128336, 0.3037278367405271, 0.15903030924423, 0.270351525715191, 0.031806061848846, 0.063612123697692, 0.429381834959421, 0.047709092773269, 0.014772270893389871, 0.014772270893389871, 0.014772270893389871, 0.5761185648422049, 0.36930677233474674, 0.04200006968017037, 0.08494750935312655, 0.18789504856918324, 0.014526339889382234, 0.10736859918239042, 0.04673691964409936, 0.007578959942286383, 0.01642107987495383, 0.09821068925212771, 0.11747387910543894, 0.005368429959119521, 0.06252641952386266, 0.023052669824454416, 0.04768428963688516, 0.058105359557528935, 0.01168422991102484, 0.015157919884572766, 0.03694742971864612, 0.016736869872549097, 0.07233176505360402, 0.0803686278373378, 0.0401843139186689, 0.1125160789722729, 0.13662666732347425, 0.01607372556746756, 0.17681098124214314, 0.10447921618853913, 0.0401843139186689, 0.01607372556746756, 0.0401843139186689, 0.024110588351201338, 0.13662666732347425, 0.06403680432207262, 0.04402530297142493, 0.04002300270129539, 0.1961127132363474, 0.04402530297142493, 0.028016101890906774, 0.012006900810388618, 0.36420932458178806, 0.008004600540259078, 0.16809661134544066, 0.004002300270129539, 0.028016101890906774, 0.012006900810388618, 0.06258660351417568, 0.020862201171391894, 0.08344880468556758, 0.6675904374845406, 0.12517320702835136, 0.020862201171391894, 0.8847178318130007, 0.02949059439376669, 0.02949059439376669, 0.02949059439376669, 0.06407382493148421, 0.1019356305728158, 0.1893090282066579, 0.026212019290152634, 0.00873733976338421, 0.032036912465742105, 0.023299572702357895, 0.07281116469486842, 0.09611073739722632, 0.1019356305728158, 0.02038712611456316, 0.014562232938973685, 0.24173306678696316, 0.002912446587794737, 0.00873733976338421, 0.02606025200658307, 0.09456148585245858, 0.04393013909681146, 0.04653616429746977, 0.06477834070207793, 0.0026060252006583073, 0.05360966127068518, 0.023081937491545006, 0.48807129115186293, 0.009307232859493954, 0.017497597775848632, 0.0059566290300761306, 0.04541929635433049, 0.04541929635433049, 0.007445786287595163, 0.013030126003291535, 0.009679522173873712, 0.002233735886278549, 0.0007445786287595163, 0.09727754066568264, 0.1621292344428044, 0.03242584688856088, 0.6485169377712175, 0.04038102592341609, 0.08076205184683218, 0.05384136789788812, 0.12114307777024827, 0.02692068394894406, 0.01346034197447203, 0.4980326530554651, 0.06730170987236014, 0.04038102592341609, 0.04038102592341609, 0.17135729742300346, 0.08063872819906046, 0.1612774563981209, 0.4838323691943627, 0.030239523074647667, 0.020159682049765114, 0.04031936409953023, 0.010721922878168024, 0.02144384575633605, 0.0428876915126721, 0.005360961439084012, 0.4985694138348132, 0.19299461180702446, 0.09113634446442821, 0.11794115165984827, 0.02144384575633605, 0.052139543526989185, 0.028127911639559956, 0.20306980110511577, 0.028813958264915077, 0.2219360833023816, 0.04527907727343798, 0.02401163188742923, 0.041162797521307255, 0.03910465764524189, 0.07443605885103062, 0.009261629442294132, 0.02195349201136387, 0.06311628953267112, 0.018180235571910702, 0.05728489321715259, 0.010976746005681935, 0.020924422073331186, 0.03464535458043361, 0.005145349690163407, 0.6537361481355003, 0.1508621880312693, 0.1508621880312693, 0.12979672863762434, 0.13678578325657334, 0.09485145554287933, 0.1877060383374875, 0.09485145554287933, 0.018970291108575864, 0.18271385646680965, 0.057909309699863167, 0.009984363741355718, 0.022964036605118154, 0.0029953091224067157, 0.005990618244813431, 0.008985927367220146, 0.007987490993084575, 0.014976545612033577, 0.012979672863762434, 0.007987490993084575, 0.11521126653832206, 0.13441314429470907, 0.08747522089020748, 0.13441314429470907, 0.10241001470073072, 0.04693792340450158, 0.24109024294130357, 0.03413667156691024, 0.00426708394586378, 0.03413667156691024, 0.01280125183759134, 0.01493479381052323, 0.00853416789172756, 0.01493479381052323, 0.01280125183759134, 0.00853416789172756, 0.18656121409037382, 0.14924897127229905, 0.03731224281807476, 0.5596836422711214, 0.15968298965477973, 0.21291065287303965, 0.15968298965477973, 0.31936597930955946, 0.10645532643651982, 0.10540035615951775, 0.1581005342392766, 0.10540035615951775, 0.3689012465583121, 0.1581005342392766, 0.021563342202899814, 0.008625336881159925, 0.09056603725217922, 0.03018867908405974, 0.01725067376231985, 0.4528301862608961, 0.004312668440579963, 0.12075471633623897, 0.056064689727539516, 0.008625336881159925, 0.008625336881159925, 0.16819406918261856, 0.004312668440579963, 0.04408991498903023, 0.11757310663741394, 0.022044957494515113, 0.029393276659353484, 0.036741595824191856, 0.5805172140222313, 0.04408991498903023, 0.11757310663741394, 0.06589230890108776, 0.12480778509500151, 0.21085538848348082, 0.08062117794956619, 0.20620416667869815, 0.007752036341304442, 0.003876018170652221, 0.041860996243043985, 0.017054479950869773, 0.05581466165739198, 0.008527239975434886, 0.04728742168195709, 0.030232941731087322, 0.05193864348673976, 0.0015504072682608883, 0.024806516292174213, 0.0023256109023913323, 0.019380090853261103, 0.023499352954231487, 0.08077902578017074, 0.13071515080791263, 0.002937419119278936, 0.07343547798197339, 0.024968062513870952, 0.002937419119278936, 0.019093224275313084, 0.04699870590846297, 0.20268191923024656, 0.017624514715673615, 0.1924009523127703, 0.12043418389043636, 0.011749676477115743, 0.016155805156034146, 0.017624514715673615, 0.016155805156034146, 0.9532356075261132, 0.7411121865234617, 0.047813689453126564, 0.07172053417968983, 0.1195342236328164, 0.22650621753083205, 0.6795186525924961, 0.028313277191354007, 0.028313277191354007, 0.021055385807473348, 0.968547747143774, 0.03460987722249863, 0.9517716236187124, 0.04876664416125426, 0.038316648983842634, 0.03483331725803876, 0.11320828108862596, 0.05921663933866589, 0.09404995659670465, 0.28737486737881973, 0.07314996624188139, 0.04005831484674457, 0.005224997588705814, 0.001741665862901938, 0.1375916031692531, 0.029608319669332944, 0.019158324491921317, 0.005224997588705814, 0.012191661040313564, 0.1145964714830235, 0.028649117870755875, 0.1862192661599132, 0.6446051520920072, 0.030363846905407835, 0.06072769381081567, 0.18218308143244702, 0.6376407850135646, 0.06072769381081567, 0.18258649631143006, 0.4868973234971468, 0.1217243308742867, 0.18258649631143006, 0.07708748507989346, 0.8865060784187749, 0.03538436002468614, 0.15670216582361005, 0.07582362862432744, 0.06571381147441711, 0.1769218001234307, 0.45999668032091984, 0.010109817149910326, 0.01516472572486549, 0.043432080075838965, 0.043432080075838965, 0.043432080075838965, 0.5211849609100676, 0.2605924804550338, 0.21051793714789943, 0.5894502240141184, 0.04210358742957989, 0.12631076228873966, 0.08984085974438435, 0.8149849419669152, 0.08984085974438435, 0.1679812887861602, 0.08570473917661235, 0.0291396113200482, 0.010284568701193483, 0.015426853051790222, 0.04799465393890292, 0.10113159222840257, 0.008570473917661236, 0.16112490965203122, 0.04113827480477393, 0.04456646437183842, 0.03599599045417719, 0.05656512785656415, 0.015426853051790222, 0.11141616092959605, 0.05142284350596741, 0.015426853051790222, 0.29327375210272266, 0.03400275386698234, 0.07225585196733747, 0.014876204816804772, 0.01062586058343198, 0.1083837779510062, 0.08288171255076945, 0.006375516350059189, 0.337902366553137, 0.02762723751692315, 0.01062586058343198, 0.00405040030634304, 0.00405040030634304, 0.1093608082712621, 0.7250216548354043, 0.012151200919029123, 0.14176401072200642, 0.9789709553905055, 0.0015299269525859967, 0.7879123805817883, 0.0015299269525859967, 0.1759415995473896, 0.0030598539051719933, 0.006119707810343987, 0.0015299269525859967, 0.019889050383617955, 0.31421072524160404, 0.6284214504832081, 0.057129222771200736, 0.0399592601720818, 0.47151927003056515, 0.00799185203441636, 0.03196740813766544, 0.07192666830974723, 0.01598370406883272, 0.3356577854454871, 0.00799185203441636, 0.20293302692293708, 0.04272274251009202, 0.010680685627523005, 0.010680685627523005, 0.2242943981779831, 0.03204205688256902, 0.053403428137615026, 0.04272274251009202, 0.09612617064770704, 0.28837851194312114, 0.013878971749333646, 0.05551588699733458, 0.12491074574400281, 0.09715280224533551, 0.5967957852213468, 0.11103177399466917, 0.7532410224269549, 0.03138504260112312, 0.03138504260112312, 0.06277008520224624, 0.06277008520224624, 0.01890582216763442, 0.004726455541908605, 0.023632277709543025, 0.023632277709543025, 0.023632277709543025, 0.8413090864597317, 0.06144392204481187, 0.025321139901459365, 0.12660569950729683, 0.12660569950729683, 0.0759634197043781, 0.5064227980291873, 0.025321139901459365, 0.0759634197043781, 0.030041142689296692, 0.015020571344648346, 0.826131423955659, 0.1351851421018351, 0.13384543522091183, 0.1529662116810421, 0.11472465876078157, 0.019120776460130263, 0.4588986350431263, 0.019120776460130263, 0.019120776460130263, 0.038241552920260526, 0.019120776460130263, 0.038241552920260526, 0.013033897895734075, 0.1978085680646701, 0.1058045829183119, 0.06286938985001142, 0.1058045829183119, 0.17174077227320192, 0.027601195543907452, 0.02223429641036989, 0.039101693687202226, 0.006900298885976863, 0.016100697400612683, 0.04523529269695944, 0.034501494429884316, 0.06133599009757212, 0.016867397276832334, 0.012267198019514423, 0.04063509343964153, 0.020700896657930592, 0.09895738258930178, 0.36966181602354653, 0.0037708933319248947, 0.2765321776744923, 0.0137123393888178, 0.0029710068675771898, 0.05119273371825312, 0.00388516282683171, 0.040565670691919326, 0.007541786663849789, 0.010741332521240609, 0.01279818342956328, 0.0799886464347705, 0.00011426949490681499, 0.00205685090832267, 0.015883459792047284, 0.00868448161291794, 0.000799886464347705, 0.1947385910187183, 0.23213871777065756, 0.0038689786295109593, 0.3559460339150083, 0.020634552690725116, 0.0038689786295109593, 0.03997944583827991, 0.027082850406576715, 0.04513808401096119, 0.011606935888532878, 0.030951829036087675, 0.005158638172681279, 0.010317276345362558, 0.018055233604384477, 0.0012896595431703198, 0.0012896595431703198, 0.009211292602049573, 0.02763387780614872, 0.43293075229632993, 0.030704308673498576, 0.046056463010247864, 0.01228172346939943, 0.018422585204099146, 0.06754947908169687, 0.009211292602049573, 0.1811554211736416, 0.05219732474494758, 0.015352154336749288, 0.09518335688784559, 0.0030704308673498576, 0.17355782933061462, 0.17355782933061462, 0.5592418945097581, 0.07713681303582871, 0.970078019765356, 0.04618802698016056, 0.415692242821445, 0.04618802698016056, 0.09237605396032111, 0.04618802698016056, 0.33871219785451073, 0.015396008993386851, 0.07771073809674053, 0.17360909574803737, 0.06117653850168936, 0.0016534199595051179, 0.12400649696288384, 0.02314787943307165, 0.0033068399190102358, 0.016534199595051178, 0.09920519757030707, 0.02314787943307165, 0.02314787943307165, 0.02976155927109212, 0.04960259878515354, 0.15211463627447083, 0.14054069655793502, 0.0016534199595051179, 0.1854542266168968, 0.04723834074203975, 0.040240068039515346, 0.2633100104324808, 0.11197236324039052, 0.023619170371019876, 0.03324179533699093, 0.03499136351262204, 0.022744386283204323, 0.16096027215806138, 0.005248704526893306, 0.016620897668495466, 0.0017495681756311018, 0.020120034019757673, 0.006998272702524407, 0.00874784087815551, 0.00874784087815551, 0.006123488614708857, 0.04353761958459327, 0.6748331035611956, 0.13061285875377981, 0.08707523916918654, 0.04353761958459327, 0.09380309731193504, 0.04466814157711192, 0.02233407078855596, 0.03573451326168954, 0.04020132741940073, 0.04913495573482312, 0.6521548670258341, 0.03126769910397835, 0.01786725663084477, 0.008933628315422385, 0.11603861454336574, 0.023207722908673147, 0.10443475308902916, 0.3597197050844338, 0.09283089163469259, 0.023207722908673147, 0.2900965363584143, 0.3148977629775667, 0.09286342012420483, 0.005585769631531117, 0.0272306269537142, 0.02373952093400725, 0.16827131014987493, 0.06353812955866646, 0.0013964424078827793, 0.011171539263062235, 0.004189327223648338, 0.08518298688084953, 0.07331322641384591, 0.009076875651238065, 0.02304129973006586, 0.01885197250641752, 0.008378654447296676, 0.052366590295604226, 0.017455530098534743, 0.0006982212039413897, 0.628924343479789, 0.033101281235778365, 0.016550640617889183, 0.04965192185366755, 0.18205704679678103, 0.0993038437073351, 0.7409420612288538, 0.01372114928201581, 0.01372114928201581, 0.1234903435381423, 0.05488459712806324, 0.01372114928201581, 0.02744229856403162, 0.030136490200920702, 0.6630027844202555, 0.27122841180828633, 0.9594635133325643, 0.5815518361453105, 0.12461825060256654, 0.04153941686752218, 0.2076970843376109, 0.08928114714139121, 0.1416852987243817, 0.15818290200050833, 0.12227635369364448, 0.09057507681010703, 0.043023161484800836, 0.03331868896943223, 0.034936101055327, 0.05337459883452735, 0.05078673949709572, 0.023614216454063617, 0.0265255582086742, 0.027819487877390015, 0.03525958347250595, 0.022643769202526757, 0.0132627791043371, 0.0077635780122948875, 0.013586261521516053, 0.011321884601263378, 0.08187242544394935, 0.16805392591126445, 0.004309075023365755, 0.012927225070097265, 0.13789040074770417, 0.01723630009346302, 0.3964349021496495, 0.012927225070097265, 0.047399825257023305, 0.00861815004673151, 0.00861815004673151, 0.0775633504205836, 0.021545375116828778, 0.004309075023365755, 0.09694215687957192, 0.05662957679103706, 0.2831478839551853, 0.08446445351883494, 0.07102692682265666, 0.08158498351251102, 0.0316741700695631, 0.018236643373384816, 0.02975452339868049, 0.0787055135061871, 0.02975452339868049, 0.043192050094858776, 0.04223222675941747, 0.0028794700063239182, 0.01247770336073698, 0.02783487672779788, 0.0028794700063239182, 0.0009598233354413061, 0.00479911667720653, 0.3874584008116067, 0.07451123092530898, 0.4768718779219775, 0.04470673855518539, 0.09987233146807942, 0.10524789605134716, 0.10241865153383782, 0.09958940701632849, 0.11062346063461488, 0.061677530481703435, 0.03338508530661012, 0.0766725264245029, 0.04781423234590771, 0.04583376118365118, 0.03536555646886665, 0.015560844846301327, 0.048663005701160514, 0.01669254265330506, 0.03762895208287412, 0.024331502850580257, 0.006507262390271463, 0.018673013815561593, 0.013863298135795727, 0.09228563345277115, 0.04614281672638557, 0.03076187781759038, 0.10766657236156633, 0.04614281672638557, 0.13842845017915673, 0.03076187781759038, 0.09228563345277115, 0.04614281672638557, 0.30761877817590383, 0.04614281672638557, 0.06180349376869452, 0.04120232917912968, 0.13390756983217145, 0.01030058229478242, 0.06180349376869452, 0.6798384314556397, 0.0828599618296158, 0.5247797582542335, 0.027619987276538603, 0.027619987276538603, 0.1657199236592316, 0.055239974553077206, 0.055239974553077206, 0.027619987276538603, 0.04660200990980459, 0.15591113609530213, 0.148029913831144, 0.07607092794100456, 0.07675625161614874, 0.04386071520922785, 0.025699637817906944, 0.04420337704679995, 0.09457466716989756, 0.034951507432353444, 0.01713309187860463, 0.025699637817906944, 0.04283272969651158, 0.08498013571787896, 0.02501431414276276, 0.014734459015599981, 0.007538560426586037, 0.027412947005767407, 0.00788122226415813, 0.007926639287068432, 0.4874883161547086, 0.06341311429654746, 0.15456946609783442, 0.05152315536594481, 0.01981659821767108, 0.18231270360257396, 0.03170655714827373, 0.07517583162760903, 0.25774570843751665, 0.021478809036459722, 0.5154914168750333, 0.010739404518229861, 0.09665464066406876, 0.021478809036459722, 0.1352155558850173, 0.17432405512560692, 0.09444286518738132, 0.0349480205979737, 0.11774154558603045, 0.035780116326496886, 0.03869245137632803, 0.013729579520632527, 0.05367017448974533, 0.0349480205979737, 0.04118873856189758, 0.052422030896960556, 0.0353640684622353, 0.055750413811053286, 0.03120358981961938, 0.023298680398649137, 0.0024962871855695504, 0.01664191457046367, 0.009153053013755017, 0.19456480125199965, 0.14619533948823438, 0.06739116021018983, 0.09021719834589928, 0.1141301906785473, 0.052173801453050186, 0.06304334342243564, 0.041304259483664736, 0.027717332021932915, 0.01956517554489382, 0.08315199606579873, 0.01576083585560891, 0.012499973264793275, 0.01576083585560891, 0.004891293886223455, 0.018478221347955275, 0.014130404560201093, 0.016847790052547457, 0.002173908393877091, 0.2955108131939755, 0.09850360439799183, 0.06402734285869469, 0.05417698241889551, 0.1370841827872053, 0.09111583406814244, 0.03201367142934734, 0.016417267399665307, 0.030371944689380814, 0.016417267399665307, 0.03201367142934734, 0.028730217949414286, 0.025446764469481225, 0.0188798575096151, 0.009029497069815918, 0.01395467728971551, 0.019700720879598368, 0.010671223809782448, 0.0073877703298493875, 0.7717743882622489, 0.15435487765244976, 0.11834599656281139, 0.09160770657317817, 0.14392175220506925, 0.08602754170577645, 0.07068208832042173, 0.12020605151861197, 0.03720109911601144, 0.015112946515879647, 0.06021927919404352, 0.03603856476863608, 0.0465013738950143, 0.0660319509309203, 0.009067767909527787, 0.008835261040052717, 0.024180714425407434, 0.030458399901234365, 0.011857850343228647, 0.017670522080105434, 0.006510192345302002, 0.036643611327226586, 0.3533491092268278, 0.020939206472700905, 0.09946123074532931, 0.005234801618175226, 0.3481143076086526, 0.03402621051813897, 0.0602002186090151, 0.018321805663613293, 0.002617400809087613, 0.020939206472700905, 0.11238037042477023, 0.1204349362231326, 0.10547645688331678, 0.07479239669907917, 0.12618819750767715, 0.09435348506653064, 0.03298536469805543, 0.027615654165813845, 0.04180703200102374, 0.04295768425793265, 0.04295768425793265, 0.05714906209314254, 0.013040725578300983, 0.026848552661207906, 0.018793986862845533, 0.018410436110542563, 0.018026885358239594, 0.022629494385875235, 0.0034519567707267306, 0.03637891399140979, 0.10913674197422937, 0.018189456995704897, 0.7457677368239007, 0.07275782798281959, 0.3526465206686694, 0.08396345730206414, 0.008396345730206416, 0.0587744201114449, 0.025189037190619244, 0.01679269146041283, 0.01679269146041283, 0.008396345730206416, 0.0587744201114449, 0.0587744201114449, 0.31066479201763736, 0.08276136916667931, 0.08276136916667931, 0.4689810919445161, 0.05517424611111954, 0.2758712305555977, 0.22831901645596886, 0.07610633881865629, 0.015221267763731257, 0.015221267763731257, 0.48708056843940023, 0.04566380329119377, 0.12177014210985006, 0.005916783917873846, 0.005916783917873846, 0.2189210049613323, 0.035500703507243075, 0.39642452249754767, 0.005916783917873846, 0.029583919589369227, 0.13608603011109846, 0.005916783917873846, 0.08875175876810769, 0.059167839178738454, 0.008343032272983929, 0.9260765823012161, 0.058401225910887505, 0.00278101075766131, 0.13637119921375002, 0.13688291103068717, 0.11104146427536118, 0.11078560836689261, 0.08443244979462947, 0.09722524521805817, 0.05219460532758913, 0.031214420833166046, 0.0455423517074062, 0.026097302663794564, 0.017398201775863043, 0.037354962636411825, 0.021236040402891655, 0.014327930874240152, 0.027632438114606007, 0.01535135450811445, 0.01049009224721154, 0.010234236338742967, 0.014327930874240152, 0.026157934291285972, 0.15694760574771582, 0.6016324886995774, 0.026157934291285972, 0.15694760574771582, 0.25118103415895926, 0.013220054429418907, 0.013220054429418907, 0.09254038100593236, 0.013220054429418907, 0.07932032657651344, 0.47592195945908067, 0.03966016328825672, 0.03003804006143479, 0.09011412018430437, 0.06007608012286958, 0.45057060092152185, 0.03003804006143479, 0.3304184406757827, 0.12207429398918136, 0.07269592788119789, 0.06583782147731129, 0.032918910738655646, 0.0877837619697484, 0.01097297024621855, 0.2139729198012617, 0.06309457891575666, 0.08504051940819377, 0.05212160866953811, 0.07681079172352985, 0.06858106403886594, 0.0068581064038865935, 0.012344591526995869, 0.028804046896323692, 0.22840076195903017, 0.10260768571809563, 0.01381257307743595, 0.25454598956989105, 0.023678696704175915, 0.07547584574456072, 0.007399592720054973, 0.026145227610860904, 0.02219877816016492, 0.05229045522172181, 0.1583512842091764, 0.01134604217075096, 0.003946449450695985, 0.0014799185440109947, 0.004439755632032983, 0.0009866123626739963, 0.007399592720054973, 0.005919674176043979, 0.26926615799247416, 0.16095798271058512, 0.01353852191023613, 0.3595229707273817, 0.009025681273490755, 0.021059922971478427, 0.009025681273490755, 0.009025681273490755, 0.006017120848993836, 0.05716264806544145, 0.001504280212248459, 0.028581324032720724, 0.0075214010612422956, 0.021059922971478427, 0.003008560424496918, 0.0075214010612422956, 0.01353852191023613, 0.003008560424496918, 0.20823090268961025, 0.5899875576205624, 0.05205772567240256, 0.12146802656893932, 0.01735257522413419, 0.052967635771676715, 0.08827939295279452, 0.47670872194509045, 0.3354616932206192, 0.017655878590558907, 0.017655878590558907, 0.036480020364664495, 0.03192001781908143, 0.743280414930039, 0.004560002545583062, 0.17328009673215633, 0.004560002545583062, 0.288475910802731, 0.12821151591232488, 0.0022894913555772303, 0.009157965422308921, 0.011447456777886151, 0.0022894913555772303, 0.4945301328046817, 0.0022894913555772303, 0.052658301178276294, 0.0045789827111544605, 0.9871515310749429, 0.24309165591920673, 0.13505091995511484, 0.0009003394663674323, 0.03961493652016702, 0.008103055197306891, 0.014405431461878917, 0.01170441306277662, 0.0009003394663674323, 0.07562851517486431, 0.18546993007169105, 0.026109844524655538, 0.0027010183991022967, 0.12964888315691026, 0.0009003394663674323, 0.025209505058288104, 0.07022647837665971, 0.025209505058288104, 0.004501697331837162, 0.09415788878097348, 0.0706184165857301, 0.010461987642330386, 0.19354677138311213, 0.010461987642330386, 0.11508186406563425, 0.4524809655307892, 0.018308478374078174, 0.028770466016408563, 0.0026154969105825964, 0.10295627569167538, 0.061773765415005226, 0.04118251027667015, 0.061773765415005226, 0.7206939298417276, 0.06183280695829684, 0.08402919919973674, 0.15870420452629522, 0.01648874852221249, 0.12382415957546111, 0.12905616631808622, 0.086724475400483, 0.014269109298068502, 0.020452389993898187, 0.004597824107155406, 0.061040078663959704, 0.05200297610851632, 0.02600148805425816, 0.026318579371993014, 0.00935419387317824, 0.02520875975992102, 0.017757113793151914, 0.024098940147849024, 0.05834480246321343, 0.1742651806497549, 0.11263481188337816, 0.07225629441575203, 0.08500740519500238, 0.08819518288981498, 0.13441795946459753, 0.06588073902612686, 0.0515357393994702, 0.021251851298750596, 0.014876295909125418, 0.05525481337675155, 0.03400296207800096, 0.007969444237031473, 0.00212518512987506, 0.01700148103900048, 0.027627406688375777, 0.023377036428625656, 0.0015938888474062948, 0.011157221931844064, 0.01800088979204021, 0.003600177958408042, 0.010800533875224125, 0.8712430659347462, 0.07200355916816084, 0.02160106775044825, 0.01716304457655961, 0.9439674517107786, 0.01716304457655961, 0.03357618037121071, 0.20005807471179718, 0.05246278183001674, 0.25811688660368237, 0.10212754862909926, 0.019586105216539584, 0.003497518788667783, 0.02238412024747381, 0.06995037577335565, 0.1336052177271093, 0.006995037577335566, 0.025182135278408034, 0.03637419540214494, 0.003497518788667783, 0.003497518788667783, 0.005596030061868452, 0.021684616489740252, 0.001399007515467113, 0.2562105504255152, 0.5240670349612812, 0.04658373644100276, 0.02329186822050138, 0.02329186822050138, 0.01164593411025069, 0.01164593411025069, 0.09316747288200553, 0.10176406700000556, 0.01696067783333426, 0.03392135566666852, 0.1696067783333426, 0.6614664355000361, 0.08539507577105941, 0.08227846716627622, 0.1869965162869914, 0.0180763299077425, 0.14772724786672323, 0.05921556349088061, 0.09225161470158243, 0.03677598153644165, 0.1346374917266338, 0.00623321720956638, 0.0006233217209566381, 0.040515911862181474, 0.08165514544531959, 0.011219790977219484, 0.006856538930523019, 0.0024932868838265522, 0.007479860651479656, 0.01855954164270159, 0.5011076243529429, 0.07423816657080635, 0.05567862492810477, 0.27839312464052385, 0.01855954164270159, 0.03711908328540318, 0.107924717324915, 0.1071871907828313, 0.10104113626546712, 0.10030360972338342, 0.10251618934963452, 0.047939225235440606, 0.04695585651266234, 0.0892407115921279, 0.03908890673043619, 0.034172063116544846, 0.053347753210721084, 0.014258846480284899, 0.03785969582696335, 0.027780166418486095, 0.022617480623900184, 0.032942852213072006, 0.010817055950560957, 0.017454794829314273, 0.006883581059447882, 0.0061750046034244445, 0.024700018413697778, 0.09262506905136667, 0.012350009206848889, 0.09880007365479111, 0.19760014730958222, 0.04631253452568333, 0.049400036827395556, 0.0061750046034244445, 0.0061750046034244445, 0.0030875023017122223, 0.10806258055992778, 0.027787520715409998, 0.26861270024896333, 0.03705002762054667, 0.018525013810273334, 0.03325833143788503, 0.09027261390283078, 0.1124448348614208, 0.004751190205412147, 0.21855474944895875, 0.18529641801107372, 0.13303332575154012, 0.0015837300684707156, 0.1219472152722451, 0.02217222095859002, 0.07760277335506506, 0.7778600063718146, 0.08072132141594301, 0.04402981168142347, 0.08805962336284694, 0.026755812961471608, 0.9096976406900347, 0.026755812961471608, 0.23603533894774675, 0.1032654607896392, 0.027045715921095982, 0.004917402894744724, 0.007376104342117086, 0.08113714776328794, 0.1352285796054799, 0.031963118815840706, 0.22128313026351257, 0.007376104342117086, 0.044256626052702516, 0.02458701447372362, 0.07130234197379849, 0.002458701447372362, 0.004324134669418346, 0.012972404008255035, 0.05621375070243849, 0.125399905413132, 0.008648269338836691, 0.012972404008255035, 0.02594480801651007, 0.02594480801651007, 0.038917212024765106, 0.6788891430986802, 0.06860361748227028, 0.009147148997636039, 0.05945646848463425, 0.08689791547754236, 0.03201502149172613, 0.027441446992908115, 0.0960450644751784, 0.6174325573404326, 0.08936285873138793, 0.1117035734142349, 0.05212833425997629, 0.05212833425997629, 0.014893809788564654, 0.04468142936569396, 0.059575239154258615, 0.03723452447141164, 0.007446904894282327, 0.4989426279169159, 0.007446904894282327, 0.014893809788564654, 0.014893809788564654, 0.7762575400020104, 0.1940643850005026, 0.08869806453476851, 0.02217451613369213, 0.8426316130803009, 0.00679103752570656, 0.01584575422664864, 0.40067121401668704, 0.03282334804091504, 0.21957687999784545, 0.00113183958761776, 0.06564669608183007, 0.04980094185518144, 0.03621886680376832, 0.00113183958761776, 0.0113183958761776, 0.00226367917523552, 0.05319646061803472, 0.06677853566944784, 0.00113183958761776, 0.00679103752570656, 0.028295989690444, 0.13165923638958063, 0.06582961819479032, 0.03949777091687419, 0.5529687928362387, 0.18432293094541288, 0.002957275061614361, 0.002957275061614361, 0.0828037017252021, 0.002957275061614361, 0.002957275061614361, 0.005914550123228722, 0.8960543436691513, 0.267983536836208, 0.11238019286679692, 0.05186778132313704, 0.011526173627363787, 0.08356475879838744, 0.011526173627363787, 0.005763086813681893, 0.05763086813681893, 0.03169697747525041, 0.30544360112514035, 0.060512411543659876, 0.7265473316716468, 0.03363645054035402, 0.06727290108070803, 0.013454580216141607, 0.06727290108070803, 0.013454580216141607, 0.05381832086456643, 0.02018187032421241, 0.19032510309865047, 0.04478237719968246, 0.02239118859984123, 0.0671735657995237, 0.10076034869928555, 0.08956475439936493, 0.4254325833969834, 0.02239118859984123, 0.02239118859984123, 0.8581646077376444, 0.10096054208678168, 0.5220062655250719, 0.03895569145709492, 0.0038955691457094915, 0.007791138291418983, 0.02726898401996644, 0.05064239889422339, 0.03895569145709492, 0.02337341487425695, 0.0038955691457094915, 0.22204744130544102, 0.05453796803993288, 0.0038955691457094915, 0.09125794537681427, 0.048583366603483856, 0.06499666613168786, 0.053835622452509134, 0.15395674957455358, 0.056790016367585856, 0.002297861933948561, 0.08863181745230163, 0.013130639622563204, 0.2143576918383443, 0.044315908726150814, 0.05514868641476545, 0.012145841650870964, 0.006237053820717522, 0.015756767547075844, 0.013458905613127283, 0.022650353348921525, 0.036765790943176974, 0.005908787830153442, 0.09339944946026096, 0.05943601329289334, 0.806631608974981, 0.03396343616736762, 0.3264997713178189, 0.11490890009971781, 0.03169900692406009, 0.0031699006924060086, 0.01109465242342103, 0.09034216973357125, 0.10143682215699228, 0.023774255193045064, 0.09192712007977426, 0.0015849503462030043, 0.036453857962669096, 0.02932158140475558, 0.010302177250319528, 0.007924751731015022, 0.006339801384812017, 0.07924751731015021, 0.011887127596522532, 0.023774255193045064, 0.01573174788932153, 0.05069118764336937, 0.2482120222537397, 0.2464640502660373, 0.0017479719877023922, 0.020975663852428706, 0.0034959439754047843, 0.013983775901619137, 0.089146571372822, 0.0017479719877023922, 0.0017479719877023922, 0.008739859938511962, 0.054187131618774156, 0.22723635840131098, 0.01573174788932153, 0.00851070320667784, 0.5617064116407374, 0.00425535160333892, 0.00851070320667784, 0.2340443381836406, 0.00425535160333892, 0.00425535160333892, 0.055319570843405955, 0.00425535160333892, 0.10212843848013407, 0.00425535160333892, 0.05109049727739476, 0.1271668581868001, 0.17229058205953562, 0.16557796197929397, 0.08390775100302059, 0.03580064042795545, 0.032444330387834626, 0.1133686946885256, 0.036546487103537854, 0.045869570548317924, 0.0041021567157032285, 0.03430894707679064, 0.008950160106988863, 0.013425240160483295, 0.016408626862812914, 0.0141710868360657, 0.008950160106988863, 0.020883706916307348, 0.014916933511648104, 0.016773909918125978, 0.0055913033060419936, 0.0838695495906299, 0.06709563967250391, 0.2460173454658477, 0.022365213224167974, 0.055913033060419934, 0.5032172975437794, 0.19563664889240726, 0.23120694869102676, 0.08892574949654874, 0.1778514989930975, 0.035570299798619504, 0.035570299798619504, 0.017785149899309752, 0.017785149899309752, 0.19563664889240726, 0.31903987701013176, 0.0860901255424165, 0.11647487573385762, 0.09115425057432336, 0.005064125031906853, 0.06076950038288224, 0.005064125031906853, 0.025320625159534264, 0.05570537535097538, 0.025320625159534264, 0.2025650012762741, 0.5219636612274712, 0.05138502364415519, 0.010817899714558987, 0.029749224215037215, 0.04327159885823595, 0.09465662250239114, 0.005408949857279494, 0.027044749286397468, 0.14874612107518606, 0.05949844843007443, 0.00811342478591924, 0.2726488360351908, 0.037867893893776504, 0.045441472672531805, 0.007573578778755301, 0.21206020580514842, 0.060588630230042406, 0.35595820260149913, 0.007573578778755301, 0.07963315070262206, 0.1659023972971293, 0.14074053370706469, 0.11419615013952399, 0.0945643664593637, 0.04894120720265314, 0.021567311648626807, 0.05419478311706223, 0.0553007990990431, 0.03954007135581581, 0.02765039954952155, 0.025991375576550256, 0.024332351603578963, 0.027097391558531116, 0.04009307934680625, 0.00912463185134211, 0.0027650399549521546, 0.014931215756741636, 0.013272191783770343, 0.6533836354070186, 0.03266918177035093, 0.1742356361085383, 0.021779454513567286, 0.06533836354070185, 0.04355890902713457, 0.021125195661799486, 0.08450078264719794, 0.021125195661799486, 0.10562597830899743, 0.08450078264719794, 0.1267511739707969, 0.23237715227979436, 0.04225039132359897, 0.06337558698539845, 0.04225039132359897, 0.21125195661799487, 0.17890542321930414, 0.04969595089425115, 0.07880357927516968, 0.10578138118919173, 0.07951352143080184, 0.06886438909631945, 0.09726207532160581, 0.04685618227172251, 0.004259652933792955, 0.021298264668964777, 0.09300242238781287, 0.015618727423907504, 0.012069016645746708, 0.011359074490114548, 0.033367281314711485, 0.007099421556321593, 0.03691699209287228, 0.0539556038280441, 0.004969595089425115, 0.029445304571762646, 0.6183513960070156, 0.11778121828705058, 0.11778121828705058, 0.05889060914352529, 0.10754746848765556, 0.035849156162551854, 0.7169831232510371, 0.07169831232510371, 0.035849156162551854, 0.05600249312159681, 0.896039889945549, 0.21310590697187326, 0.01639276207475948, 0.00819638103737974, 0.01639276207475948, 0.057374667261658185, 0.057374667261658185, 0.01639276207475948, 0.040981905186898704, 0.5081756243175439, 0.00819638103737974, 0.049178286224278445, 0.02167426721695581, 0.10837133608477906, 0.02167426721695581, 0.02167426721695581, 0.6502280165086743, 0.15171987051869068, 0.018754876260339167, 0.004688719065084792, 0.07501950504135667, 0.02344359532542396, 0.004688719065084792, 0.02344359532542396, 0.009377438130169584, 0.014066157195254376, 0.67517554537221, 0.1219066956922046, 0.014066157195254376, 0.009377438130169584, 0.12846441375879208, 0.11203291897569076, 0.14877971639971732, 0.12189181584555155, 0.09679644199499682, 0.0711035592432384, 0.019717793739721573, 0.03674679742402657, 0.030472953961387887, 0.051087011052914987, 0.024199110498749205, 0.03853932412763762, 0.023302847146943678, 0.02658914610356394, 0.03256423511560078, 0.008663879067453419, 0.001195017802407368, 0.02210782934453631, 0.0059750890120368405, 0.09443602564894107, 0.01717018648162565, 0.008585093240812825, 0.2146273310203206, 0.0343403729632513, 0.09443602564894107, 0.39491428907738996, 0.08585093240812824, 0.025755279722438476, 0.025755279722438476, 0.05304965607857863, 0.05304965607857863, 0.1856737962750252, 0.05304965607857863, 0.5570213888250756, 0.05304965607857863, 0.026524828039289315, 0.15469271158029116, 0.1339807167243526, 0.09514572636946779, 0.06375410916593591, 0.1436894643130738, 0.06666673344255226, 0.042718489390373295, 0.02880261784653957, 0.040453114953005014, 0.04466023890811754, 0.02847899292691553, 0.02880261784653957, 0.03398061656052421, 0.02880261784653957, 0.020711994855938567, 0.017152120740074127, 0.011003247267217364, 0.015857621061577964, 0.0009708747588721204, 0.12207358066386181, 0.05231724885594077, 0.01743908295198026, 0.10463449771188155, 0.01743908295198026, 0.67140469365124, 0.00871954147599013, 0.00871954147599013, 0.15082881590699201, 0.02661684986593977, 0.08872283288646589, 0.02661684986593977, 0.00887228328864659, 0.6831658132257874, 0.9646436644282499, 0.322178675004909, 0.01718286266692848, 0.03866144100058908, 0.0859143133346424, 0.02577429400039272, 0.01288714700019636, 0.0214785783336606, 0.04725287233405332, 0.00429571566673212, 0.42098013533974776, 0.047363077167456066, 0.11287462315608689, 0.1549259533514918, 0.16422151055258133, 0.09605409107792492, 0.04382191251942197, 0.032313127413311146, 0.06506890040762656, 0.03541164648034099, 0.04028074787138787, 0.0004426455810042623, 0.04957630507247738, 0.01549259533514918, 0.03098519067029836, 0.06374096366461378, 0.02257492463121738, 0.0035411646480340985, 0.012394076268119345, 0.009295557201089509, 0.10579122080828096, 0.03526374026942699, 0.017631870134713495, 0.017631870134713495, 0.017631870134713495, 0.017631870134713495, 0.6700110651191127, 0.017631870134713495, 0.07052748053885398, 0.197942222886866, 0.05302023827326768, 0.5690838907997398, 0.12371388930429125, 0.0035346825515511784, 0.03888150806706296, 0.0035346825515511784, 0.007069365103102357, 0.07381203953323419, 0.022143611859970255, 0.007381203953323419, 0.18453009883308547, 0.05166842767326393, 0.09595565139320444, 0.007381203953323419, 0.4650158490593754, 0.007381203953323419, 0.0811932434865576, 0.08348982809560106, 0.04174491404780053, 0.8662069664918609, 0.10761249985287412, 0.06725781240804632, 0.006725781240804632, 0.006725781240804632, 0.03362890620402316, 0.006725781240804632, 0.3564664057626455, 0.02690312496321853, 0.02690312496321853, 0.15469296853850653, 0.03362890620402316, 0.16141874977931117, 0.191945832565739, 0.04798645814143475, 0.023993229070717374, 0.023993229070717374, 0.5518442686264996, 0.07197968721215213, 0.04798645814143475, 0.023993229070717374, 0.05705641486899082, 0.017116924460697246, 0.02852820743449541, 0.0627620563558899, 0.1255241127117798, 0.0627620563558899, 0.14834667865937612, 0.490685167873321, 0.005705641486899082, 0.005705641486899082, 0.009264754662229348, 0.06485328263560544, 0.920298963114782, 0.7729271633618929, 0.12882119389364882, 0.042940397964549605, 0.043600916332107, 0.218004581660535, 0.610412828649498, 0.043600916332107, 0.18929410125466517, 0.18929410125466517, 0.536333286888218, 0.06309803375155505, 0.015470506647216279, 0.1392345598249465, 0.8199368523024628, 0.022871268079409705, 0.004574253615881941, 0.004574253615881941, 0.8736824406334507, 0.08233656508587493, 0.009148507231763883, 0.050896993290670274, 0.04113592608424036, 0.26703491000447555, 0.12201334008037396, 0.06553859410031515, 0.043227583342761056, 0.007669409947909219, 0.001394438172347131, 0.04253036425658749, 0.0927301384610842, 0.008366629034082786, 0.05996084141092663, 0.023705448929901226, 0.08715238577169568, 0.029980420705463313, 0.005577752689388524, 0.0006972190861735655, 0.03207207796398401, 0.019522134412859833, 0.008027875624615297, 0.5458955424738402, 0.12041813436922945, 0.04013937812307648, 0.02408362687384589, 0.016055751249230595, 0.06422300499692238, 0.008027875624615297, 0.05619512937230708, 0.04816725374769178, 0.06422300499692238, 0.016058013675547687, 0.024087020513321532, 0.03211602735109537, 0.12043510256660765, 0.44962438291533524, 0.09634808205328613, 0.03211602735109537, 0.19269616410657225, 0.024087020513321532, 0.016058013675547687, 0.14129260771200586, 0.08948531821760371, 0.17749883843820738, 0.07859401303980326, 0.08595300302480356, 0.0939007122086039, 0.029730319539401234, 0.01324618197300055, 0.03179083673520132, 0.05975499867820248, 0.022960048753200953, 0.08153760903380339, 0.01059694557840044, 0.014129260771200587, 0.013834901171800574, 0.01589541836760066, 0.02001645275920083, 0.012951822373600538, 0.006475911186800269, 0.9746356613489646, 0.028063893052758783, 0.16391864805815926, 0.4477466573417424, 0.0019134472535971899, 0.02742607730155972, 0.032528603311152225, 0.0191344725359719, 0.0012756315023981265, 0.00574034176079157, 0.0019134472535971899, 0.100774888689452, 0.020410104038370024, 0.02296136704316628, 0.0191344725359719, 0.013394130775180329, 0.056765601856716634, 0.035717682067147545, 0.0012756315023981265, 0.9741601351550677, 0.010705056430275469, 0.5086664424637025, 0.029921555439041327, 0.09475159222363086, 0.14960777719520663, 0.12467314766267219, 0.07480388859760331, 0.0049869259065068875, 0.007127041346840245, 0.09193883337423915, 0.26726405050650914, 0.07340852587245451, 0.14966786828364514, 0.01781760336710061, 0.0028508165387360978, 0.004988928942788171, 0.10904373260665574, 0.04988928942788171, 0.0014254082693680489, 0.05416551423598586, 0.05701633077472196, 0.004988928942788171, 0.0014254082693680489, 0.020668419905836708, 0.03278439019546513, 0.03420979846483317, 0.017104899232416586, 0.9692729277657388, 0.3821703952194213, 0.5520239042058308, 0.04246337724660237, 0.15297589604764888, 0.09178553762858933, 0.23456304060639496, 0.050991965349216295, 0.08158714455874608, 0.09178553762858933, 0.12238071683811912, 0.18357107525717867, 0.06384734614195668, 0.20419104096342752, 0.06926834722948132, 0.14937869663401188, 0.13733202755062382, 0.0036140007250164163, 0.12829702573808277, 0.10721535484215368, 0.039151674521011176, 0.011444335629218651, 0.0036140007250164163, 0.011444335629218651, 0.00903500181254104, 0.0036140007250164163, 0.007830334904202235, 0.00662566799586343, 0.025900338529284316, 0.016865336716743274, 0.0006023334541694028, 0.04447474441085397, 0.11118686102713493, 0.022237372205426986, 0.07412457401808996, 0.24461109425969685, 0.051887201812662966, 0.42992252930492175, 0.0742698946927173, 0.03713494734635865, 0.0742698946927173, 0.7426989469271731, 0.03713494734635865, 0.12295497967066028, 0.03842343114708134, 0.06147748983533014, 0.06147748983533014, 0.03842343114708134, 0.16137841081774162, 0.4995046049120574, 0.015369372458832535, 0.2830198308455136, 0.03773597744606847, 0.222642266931804, 0.011320793233820542, 0.003773597744606847, 0.018867988723034235, 0.003773597744606847, 0.007547195489213694, 0.41132215416214635, 0.12178461556461681, 0.25490949897533155, 0.0019722204949735515, 0.22581924667447165, 0.020215260073478902, 0.0009861102474867758, 0.025145811310912782, 0.19278455338366465, 0.0774096544277119, 0.002958330742460327, 0.0019722204949735515, 0.049798567498082175, 0.0162708190835318, 0.0009861102474867758, 0.0004930551237433879, 0.0024652756187169395, 0.003944440989947103, 0.005860781258076961, 0.01758234377423088, 0.16996265648423187, 0.005860781258076961, 0.011721562516153921, 0.046886250064615685, 0.5509134382592343, 0.05274703132269264, 0.09377250012923137, 0.011721562516153921, 0.023443125032307843, 0.05719752176772821, 0.08579628265159231, 0.815064685190127, 0.028598760883864104, 0.0457669776170779, 0.675062919851899, 0.0915339552341558, 0.02288348880853895, 0.1487426772555032, 0.13223605791158116, 0.11019671492631763, 0.0606081932094747, 0.08154556904547505, 0.11460458352337034, 0.09366720768736998, 0.03856885022421117, 0.12011441926968622, 0.03746688307494799, 0.009917704343368586, 0.030855080179368936, 0.016529507238947645, 0.009917704343368586, 0.014325572940421293, 0.004407868597052706, 0.012121638641894939, 0.09146327338884364, 0.005509835746315882, 0.017631474388210822, 0.0879922708627066, 0.0439961354313533, 0.6159458960389462, 0.1759845417254132, 0.239693153244899, 0.10179561076079661, 0.054448815058100515, 0.12014249409559136, 0.1302036881824143, 0.04261211613242649, 0.05267331021924941, 0.05681615484323532, 0.021306058066213246, 0.020122388173645842, 0.040244776347291684, 0.013020368818241429, 0.018938718281078442, 0.026632572582766557, 0.007693854301688116, 0.021306058066213246, 0.006510184409120714, 0.01834688333479474, 0.007102019355404415, 0.16850812468621568, 0.11233874979081045, 0.05616937489540522, 0.05616937489540522, 0.505524374058647, 0.9205733895019178, 0.0126105943767386, 0.0063052971883693, 0.0441370803185851, 0.25379121523826464, 0.08459707174608821, 0.5075824304765293, 0.08459707174608821, 0.04229853587304411, 0.3359985094444665, 0.641451699848527, 0.03314330850885605, 0.125944572333653, 0.32480442338678933, 0.0596579553159409, 0.006628661701771211, 0.43086301061512866, 0.013257323403542421, 0.9724994608916695, 0.891529341340755, 0.07641680068635043, 0.012736133447725072, 0.04949408888967989, 0.8743955703843448, 0.04949408888967989, 0.08300183624909657, 0.041500918124548286, 0.06916819687424715, 0.041500918124548286, 0.01383363937484943, 0.08300183624909657, 0.16600367249819314, 0.08300183624909657, 0.3458409843712357, 0.041500918124548286, 0.02766727874969886, 0.020550437799726064, 0.014678884142661474, 0.02348621462825836, 0.07926597437037196, 0.04110087559945213, 0.002935776828532295, 0.008807330485596884, 0.04990820608504901, 0.02935776828532295, 0.014678884142661474, 0.4902747303648933, 0.038165098770919836, 0.14678884142661475, 0.032293545113855245, 0.00587155365706459, 0.1413956976143129, 0.6645597787872706, 0.042418709284293865, 0.042418709284293865, 0.028279139522862578, 0.042418709284293865, 0.028279139522862578, 0.9426629006618422, 0.13878911634740795, 0.04530916169417098, 0.1111266807867562, 0.08012567541706025, 0.12972728400857375, 0.16692849045220887, 0.07821792124046359, 0.042447530429275966, 0.02575468138405508, 0.020031418854265064, 0.020508357398414234, 0.05055548567981183, 0.0019077541765966728, 0.02146223448671257, 0.013354279236176709, 0.002384692720745841, 0.03195488245799427, 0.01621591050107172, 0.0038155083531933457, 0.026975679256730518, 0.09634171163118042, 0.01156100539574165, 0.11946372242266373, 0.06551236390920269, 0.088634374700686, 0.45858654736441884, 0.003853668465247217, 0.06936603237444991, 0.03853668465247217, 0.01156100539574165, 0.007707336930494434, 0.09563546619087843, 0.03187848873029281, 0.09563546619087843, 0.03187848873029281, 0.7013267520664418, 0.07991041853315012, 0.02179375050904094, 0.05085208452109553, 0.13076250305424564, 0.007264583503013647, 0.014529167006027294, 0.07264583503013647, 0.16708542056931389, 0.44313959368383243, 0.014529167006027294, 0.2638024407221664, 0.19185632052521195, 0.4796408013130299, 0.04796408013130299, 0.30105117539702086, 0.4816818806352334, 0.12042047015880834, 0.46928866329156316, 0.4314428033486951, 0.015138343977147199, 0.06812254789716239, 0.04050914701309252, 0.015190930129909696, 0.07089100727291192, 0.005063643376636565, 0.17216387480564324, 0.1012728675327313, 0.25318216883182826, 0.10633651090936788, 0.02025457350654626, 0.025318216883182827, 0.18229116155891636, 0.08157331808881915, 0.1631466361776383, 0.4894399085329149, 0.1631466361776383, 0.040786659044409576, 0.6856635629454508, 0.01594566425454537, 0.06378265701818148, 0.1594566425454537, 0.06378265701818148, 0.27999626577783554, 0.00903213760573663, 0.587088944372881, 0.00903213760573663, 0.01806427521147326, 0.08128923845162968, 0.00903213760573663, 0.00903213760573663, 0.23970171758470715, 0.18643466923255, 0.02663352417607857, 0.5326704835215714, 0.09891063634746708, 0.11883508107933095, 0.08432309645449532, 0.09001579494931357, 0.13449000194008115, 0.0587059532278132, 0.07969777892745548, 0.08396730279856918, 0.03308881000113108, 0.01743388914038089, 0.044474206990767574, 0.009606428710005796, 0.044118413334841435, 0.01992444473186387, 0.01778968279630703, 0.020636032043716154, 0.014587539892971764, 0.01672230182852861, 0.013164365269267201, 0.11102075200759362, 0.06661245120455618, 0.011102075200759362, 0.0888166016060749, 0.03330622560227809, 0.12212282720835299, 0.04440830080303745, 0.09991867680683426, 0.39967470722733706, 0.022204150401518723, 0.16433456343972758, 0.10955637562648506, 0.24650184515959137, 0.15520486547085383, 0.009129697968873755, 0.009129697968873755, 0.04564848984436877, 0.01825939593774751, 0.01825939593774751, 0.20998305328409633, 0.4337208777611746, 0.030980062697226755, 0.030980062697226755, 0.06196012539445351, 0.4027408150639478, 0.11244599581782198, 0.03748199860594066, 0.02998559888475253, 0.02998559888475253, 0.007496399721188133, 0.07496399721188132, 0.10494959609663386, 0.56222997908911, 0.022489199163564396, 0.007496399721188133, 0.0885103490170576, 0.0411786115747808, 0.28209715515596967, 0.14956829031759464, 0.08472381002167545, 0.021299281849024555, 0.027452407716520535, 0.009466347488455358, 0.008046395365187054, 0.06579111504476473, 0.00047331737442276786, 0.020825964474601787, 0.00899303011403259, 0.027452407716520535, 0.05064495906323616, 0.010886299611723662, 0.009939664862878126, 0.05301154593535, 0.04023197682593527, 0.019280667070248808, 0.04820166767562202, 0.7423056822045792, 0.12532433595661724, 0.04820166767562202, 0.9584217754953582, 0.022100308343231796, 0.0331504625148477, 0.8398117170428083, 0.022100308343231796, 0.0663009250296954, 0.05005482146312367, 0.8259045541415405, 0.0750822321946855, 0.05005482146312367, 0.14979441813100758, 0.07489720906550379, 0.037448604532751895, 0.5242804634585265, 0.07489720906550379, 0.11234581359825568, 0.020157009825958812, 0.9742554749213426, 0.23797795238791594, 0.029747244048489493, 0.029747244048489493, 0.5651976369213003, 0.029747244048489493, 0.059494488096978985, 0.0988724953687102, 0.07716877687313968, 0.07716877687313968, 0.20377380143063445, 0.09284368467549617, 0.030144053466070186, 0.08681487398228213, 0.25079852483770393, 0.010851859247785266, 0.0012057621386428075, 0.016880669940999304, 0.0012057621386428075, 0.002411524277285615, 0.04581896126842668, 0.002411524277285615, 0.06383074243372514, 0.06505825671129677, 0.07365085665429823, 0.31301614078076745, 0.03928045688229239, 0.05032808538043712, 0.0012275142775716372, 0.0036825428327149114, 0.0036825428327149114, 0.2221800842404663, 0.08224345659729969, 0.013502657053288009, 0.006137571387858186, 0.006137571387858186, 0.055238142490723674, 0.0036825428327149114, 0.3647465200839001, 0.015197771670162504, 0.06079108668065002, 0.07598885835081252, 0.015197771670162504, 0.4407353784347126, 0.045593315010487516, 0.023013115089842877, 0.01643793934988777, 0.03945105443973065, 0.5753278772460719, 0.0032875878699775538, 0.15122904201896747, 0.04931381804966331, 0.0032875878699775538, 0.0032875878699775538, 0.019725527219865324, 0.0065751757399551075, 0.042738642309708204, 0.04931381804966331, 0.0032875878699775538, 0.013150351479910215, 0.10908016821333062, 0.37423551782281017, 0.25286766267635735, 0.0006467203649011697, 0.003449175279472905, 0.07868431106297565, 0.1364579969941468, 0.032767165154992596, 0.001509014184769396, 0.00021557345496705656, 0.0010778672748352827, 0.008191791288748149, 0.003506872090368324, 0.985431057393499, 0.007013744180736648, 0.03224199849815637, 0.48081691720069436, 0.0006491677549964371, 0.3291280517831936, 0.005193342039971497, 0.0010819462583273951, 0.1040832300510954, 0.03072727373649802, 0.0021638925166547903, 0.0049769527883060175, 0.00021638925166547903, 0.00021638925166547903, 0.008006402311622723, 0.00021638925166547903, 0.09807183371451597, 0.024517958428628993, 0.024517958428628993, 0.7600567112874987, 0.049035916857257986, 0.13229569497665147, 0.06369792721098035, 0.014699521664072387, 0.1224960138672699, 0.06859776776567114, 0.02449920277345398, 0.39198724437526367, 0.1126963327578883, 0.004899840554690796, 0.004899840554690796, 0.004899840554690796, 0.03429888388283557, 0.014699521664072387, 0.38755878640247876, 0.5813381796037181, 0.046762319183180245, 0.8105468658417909, 0.031174879455453497, 0.09352463836636049, 0.48870360814871644, 0.12217590203717911, 0.061087951018589555, 0.3054397550929478, 0.04212140527479761, 0.37909264747317845, 0.5475782685723689, 0.1049607298251157, 0.03498690994170524, 0.6647512888923994, 0.13994763976682095, 0.26663503983143255, 0.02221958665261938, 0.02221958665261938, 0.1110979332630969, 0.08887834661047753, 0.4888309063576264, 0.029971059884925048, 0.12336924650306358, 0.16937133841946017, 0.06691213369657685, 0.10385320750822866, 0.03763807520432448, 0.03903207798966983, 0.05297210584312334, 0.049487098879759966, 0.0756246511049853, 0.008712517408408444, 0.03450156893729744, 0.07353364692696727, 0.02334954665453463, 0.03241056475927941, 0.04007758007867884, 0.004530509052372391, 0.024743549439879983, 0.00940951880108112, 0.2308564266115287, 0.5540554238676688, 0.09234257064461147, 0.09234257064461147, 0.10139582600967517, 0.11791105524609953, 0.00038407509852149684, 0.6771243986933989, 0.0015363003940859874, 0.016515229236424366, 0.0030726007881719747, 0.0061452015763439494, 0.018819679827553344, 0.00038407509852149684, 0.03955973514771417, 0.001920375492607484, 0.01459485374381688, 0.0817007753305692, 0.0272335917768564, 0.0544671835537128, 0.0817007753305692, 0.1634015506611384, 0.5174382437602716, 0.0272335917768564, 0.05633837100532821, 0.17026707681610304, 0.24225499532291128, 0.2209716107208984, 0.07887371940745949, 0.014397583701361653, 0.020031420801894472, 0.009389728500888034, 0.023161330302190485, 0.027543203602604902, 0.04507069680426257, 0.002503927600236809, 0.011267674201065642, 0.02190936650207208, 0.009389728500888034, 0.004381873300414416, 0.02503927600236809, 0.016901511301598462, 0.017909668865133246, 0.03581933773026649, 0.05372900659539974, 0.8775737743915291, 0.8066400354757391, 0.002762465874916915, 0.1795602818695995, 0.008287397624750744, 0.09362922138461491, 0.004927853757084996, 0.03449497629959497, 0.11826849017003989, 0.25624839536841976, 0.059134245085019944, 0.014783561271254986, 0.31045478669635473, 0.03449497629959497, 0.049278537570849955, 0.014783561271254986, 0.036705783275650786, 0.009176445818912696, 0.04588222909456348, 0.036705783275650786, 0.8625859069777935, 0.05545641880770485, 0.08318462821155728, 0.1109128376154097, 0.05545641880770485, 0.24955388463467182, 0.4159231410577864, 0.027728209403852424, 0.4347914385116659, 0.48310159834629546, 0.7600022454549943, 0.1788240577541163, 0.015611924170385675, 0.7181485118377411, 0.10928346919269973, 0.03122384834077135, 0.03122384834077135, 0.046835772511157024, 0.015611924170385675, 0.023823282938084535, 0.11117532037772783, 0.07146984881425361, 0.019852735781737112, 0.011911641469042267, 0.11911641469042268, 0.01588218862538969, 0.22632118791180308, 0.039705471563474225, 0.035734924407126806, 0.01588218862538969, 0.31367322535144637, 0.14742682752085368, 0.07371341376042684, 0.11057012064064026, 0.07371341376042684, 0.4054237756823476, 0.1842835344010671, 0.051812233151133355, 0.1302707576371353, 0.23833627249521344, 0.2901485056463468, 0.116947611969701, 0.00888209711162286, 0.016283844704641913, 0.0029606990372076205, 0.03404803892788763, 0.00888209711162286, 0.032567689409283826, 0.00444104855581143, 0.023685592297660964, 0.0029606990372076205, 0.0014803495186038102, 0.031087339890680014, 0.0029606990372076205, 0.15343162292844978, 0.10228774861896651, 0.1790035600831914, 0.30686324585689956, 0.02557193715474163, 0.05114387430948326, 0.12785968577370815, 0.05018530880180943, 0.10037061760361886, 0.20074123520723772, 0.5520383968199037, 0.13512448333921084, 0.02702489666784217, 0.02702489666784217, 0.10809958667136868, 0.02702489666784217, 0.13512448333921084, 0.21619917334273736, 0.2972738633462639, 0.5730782333443762, 0.10419604242625022, 0.295222120207709, 0.11049406995240596, 0.012277118883600661, 0.012277118883600661, 0.036831356650801984, 0.08593983218520464, 0.012277118883600661, 0.4542533986932245, 0.22098813990481192, 0.012277118883600661, 0.049108475534402646, 0.9284631272896376, 0.09334451554118366, 0.5600670932471019, 0.09334451554118366, 0.09334451554118366, 0.06222967702745577, 0.06222967702745577, 0.051241247688004345, 0.5764640364900488, 0.153723743064013, 0.025620623844002172, 0.19215467883001627, 0.16661431643274877, 0.06248036866228079, 0.12496073732456157, 0.5206697388523399, 0.06248036866228079, 0.020826789554093596, 0.07166589614873878, 0.15277613520079972, 0.08111023905206094, 0.10333222235399545, 0.1633315772692186, 0.030555227040159946, 0.039444020360933744, 0.14499844104512263, 0.0594438053326748, 0.004999946242935264, 0.0011110991650967253, 0.004999946242935264, 0.012222090816063978, 0.04555506576896574, 0.011666541233515616, 0.022221983301934506, 0.023888632049579594, 0.026110830379773044, 0.0667165322423819, 0.08895537632317586, 0.022238844080793966, 0.08895537632317586, 0.667165322423819, 0.0667165322423819, 0.1555712923938795, 0.05833923464770482, 0.09723205774617469, 0.04537496028154819, 0.1490891552108012, 0.47319601436471687, 0.006482137183078313, 0.006482137183078313, 0.21697786957317072, 0.16066300266105007, 0.05024169499022528, 0.06956542383261961, 0.13250556920498976, 0.01932372884239434, 0.0645964649874325, 0.1584545765076336, 0.027053220379352073, 0.012146343843790727, 0.020427941919102587, 0.00276053269177062, 0.01104213076708248, 0.01656319615062372, 0.006625278460249488, 0.006625278460249488, 0.0071773849986036115, 0.0138026634588531, 0.00276053269177062, 0.07063837194522897, 0.030125188035465295, 0.16413033481391437, 0.0882979649315362, 0.12153955172929101, 0.007271597112008864, 0.03739678514747416, 0.10803515709270313, 0.004155198349719351, 0.04570718184691286, 0.017659592986307242, 0.048823580609202374, 0.010387995874298377, 0.07375477070751849, 0.06856077277036929, 0.012465595049158052, 0.00934919628686854, 0.01869839257373708, 0.0633667748332201, 0.7717603870558486, 0.12106045287150566, 0.015132556608938207, 0.06053022643575283, 0.1051698503045777, 0.12704517916792987, 0.02608212287553527, 0.05216424575107054, 0.06562598659005649, 0.004206794012183108, 0.056371039763253646, 0.012620382036549324, 0.42656891283536713, 0.010937664431676082, 0.060577833775436754, 0.0016827176048732433, 0.021875328863352164, 0.020192611258478918, 0.0016827176048732433, 0.0025240764073098648, 0.0033654352097464866, 0.0008413588024366217, 0.09906434451149536, 0.3712066242614654, 0.03302144817049845, 0.0751522613535482, 0.04213081318304975, 0.0011386706265689123, 0.004554682506275649, 0.03985347192991193, 0.007970694385982385, 0.05124017819560105, 0.040992142556480836, 0.009109365012551298, 0.07742960260668603, 0.03188277754392954, 0.0022773412531378245, 0.0751522613535482, 0.009109365012551298, 0.004554682506275649, 0.023912083157947156, 0.11503451775994665, 0.2300690355198933, 0.11503451775994665, 0.028758629439986663, 0.057517258879973325, 0.08627588831996, 0.057517258879973325, 0.08627588831996, 0.17255177663992, 0.31776598569595715, 0.12016360803628631, 0.015131713604569387, 0.03204362880967635, 0.10058139043037298, 0.040944636812364224, 0.05518624961666482, 0.06764766082042785, 0.014241612804300599, 0.03471393121048271, 0.033823830410213925, 0.058746652817739976, 0.03115352800940756, 0.020472318406182112, 0.03471393121048271, 0.014241612804300599, 0.006230705601881512, 0.0017802016005375749, 0.15447723512273442, 0.033102264669157375, 0.09128200257252488, 0.033102264669157375, 0.08927580471378807, 0.08626650792568286, 0.020061978587368107, 0.0040123957174736215, 0.041127056104104616, 0.0010030989293684054, 0.1725330158513657, 0.17955470835694454, 0.033102264669157375, 0.0040123957174736215, 0.04012395717473621, 0.003009296788105216, 0.005015494646842027, 0.0020061978587368108, 0.007021692505578837, 0.13801898958618378, 0.027603797917236758, 0.027603797917236758, 0.4968683625102616, 0.11041519166894703, 0.08281139375171027, 0.08281139375171027, 0.05524145078702352, 0.19334507775458232, 0.15316947718220159, 0.007532925107321389, 0.46704135665392615, 0.012554875178868982, 0.08035120114476149, 0.007532925107321389, 0.005021950071547593, 0.007532925107321389, 0.0025109750357737966, 0.005021950071547593, 0.25687977131455475, 0.10867990324846546, 0.012702845834236224, 0.01411427314915136, 0.06915993843084166, 0.09315420278439898, 0.0352856828728784, 0.0352856828728784, 0.06774851111592653, 0.016937127778981632, 0.08327421157999303, 0.05363423796677517, 0.055045665281690304, 0.0028228546298302718, 0.09315420278439898, 0.0028228546298302718, 0.2717133120333514, 0.03881618743333591, 0.6210589989333746, 0.13900430197510436, 0.027800860395020874, 0.2502077435551879, 0.1112034415800835, 0.444813766320334, 0.37593243506143736, 0.006713079197525667, 0.060417712777731, 0.006713079197525667, 0.02685231679010267, 0.07384387117278234, 0.006713079197525667, 0.44306322703669404, 0.194951183091655, 0.12996745539443666, 0.6498372769721833, 0.2830672265401414, 0.040438175220020196, 0.6065726283003029, 0.15258221756821272, 0.17982904213396497, 0.10898729826300908, 0.032696189478902724, 0.032696189478902724, 0.05449364913150454, 0.38145554392053177, 0.005449364913150454, 0.02724682456575227, 0.016348094739451362, 0.2790029293826864, 0.4014430638599804, 0.006021645957899706, 0.15455557958609245, 0.01003607659649951, 0.0040144306385998035, 0.06222367489829696, 0.016057722554399214, 0.006021645957899706, 0.01003607659649951, 0.0040144306385998035, 0.0040144306385998035, 0.01003607659649951, 0.028101014470198627, 0.0020072153192999018, 0.18218421687620825, 0.5237796235190988, 0.0683190813285781, 0.1366381626571562, 0.022773027109526032, 0.022773027109526032, 0.048146957552335654, 0.07479973762595003, 0.2196704938325314, 0.07823880602254543, 0.06964113503105693, 0.08296752506786412, 0.02751254717276323, 0.023213711677018974, 0.057174512093398584, 0.0743698540763756, 0.01719534198297702, 0.030091848470209782, 0.018484992631700295, 0.050726258849782206, 0.06362276533701497, 0.029661964920635355, 0.003868951946169829, 0.02063441037957242, 0.01031720518978621, 0.47100453070592424, 0.3925037755882702, 0.07850075511765404, 0.018296831974421092, 0.5123112952837906, 0.3842334714628429, 0.018296831974421092, 0.036593663948842184, 0.018296831974421092, 0.011697333850221614, 0.02339466770044323, 0.05263800232599727, 0.11112467157710533, 0.005848666925110807, 0.04678933540088646, 0.7427806994890725, 0.14216605284915002, 0.17770756606143753, 0.035541513212287504, 0.10662453963686253, 0.4264981585474501, 0.035541513212287504, 0.005177654559679724, 0.4711665649308549, 0.015532963679039172, 0.002588827279839862, 0.005177654559679724, 0.033654754637918206, 0.02329944551855876, 0.007766481839519586, 0.015532963679039172, 0.012944136399199311, 0.09319778207423504, 0.012944136399199311, 0.020710618238718895, 0.007766481839519586, 0.26923803710334565, 0.08673912322627902, 0.049565213272159445, 0.028913041075426343, 0.03304347551477296, 0.13217390205909185, 0.07021738546889254, 0.00413043443934662, 0.5039130016002876, 0.012391303318039861, 0.00413043443934662, 0.00413043443934662, 0.00413043443934662, 0.020652172196733102, 0.04543477883281282, 0.09087777654005293, 0.04543888827002646, 0.04543888827002646, 0.09087777654005293, 0.7270222123204234, 0.9672888956210184, 0.14756339653444128, 0.07378169826722064, 0.010176785967892501, 0.0025441964919731253, 0.005088392983946251, 0.030530357903677505, 0.025441964919731254, 0.007632589475919376, 0.038162947379596884, 0.6360491229932813, 0.010176785967892501, 0.010176785967892501, 0.31977681525683527, 0.01421230290030379, 0.6395536305136705, 0.01421230290030379, 0.007106151450151895, 0.5570121311279495, 0.013262193598284512, 0.07957316158970706, 0.29176825916225924, 0.013262193598284512, 0.03978658079485353, 0.04441376485413825, 0.08248270615768533, 0.0888275297082765, 0.09517235325886768, 0.025379294202364715, 0.031724117752955895, 0.025379294202364715, 0.39972388368724426, 0.04441376485413825, 0.04441376485413825, 0.019034470651773536, 0.05710341195532061, 0.031724117752955895, 0.06082497332806701, 0.06082497332806701, 0.18247491998420104, 0.04561872999605026, 0.5626310032846199, 0.015206243332016752, 0.030412486664033504, 0.030412486664033504, 0.20954858782828917, 0.13969905855219278, 0.02328317642536546, 0.09313270570146184, 0.5355130577834056, 0.8265787898036875, 0.021194327943684293, 0.021194327943684293, 0.021194327943684293, 0.08477731177473717, 0.10401746450438944, 0.008668122042032454, 0.008668122042032454, 0.8581440821612129, 0.008668122042032454, 0.008668122042032454, 0.08035981562855918, 0.683058432842753, 0.20089953907139793, 0.20218171919544434, 0.09190078145247471, 0.05514046887148482, 0.018380156290494942, 0.4962642198433634, 0.11028093774296964, 0.36352610166817684, 0.10386460047662195, 0.051932300238310976, 0.2856276513107104, 0.12983075059577745, 0.05320213503943353, 0.21280854015773412, 0.10640427007886706, 0.21280854015773412, 0.10640427007886706, 0.26601067519716765, 0.2897064772404673, 0.13168476238203056, 0.10534780990562445, 0.10534780990562445, 0.3160434297168734, 0.2660391895809573, 0.04488059499028345, 0.0016221901803716908, 0.009733141082230145, 0.008110950901858455, 0.018925552104336392, 0.05677665631300918, 0.0054073006012389695, 0.027036503006194847, 0.0702949078161066, 0.4287989376782503, 0.027577233066318745, 0.012977521442973526, 0.0032443803607433816, 0.009192411022106248, 0.008651680961982352, 0.0929336594005694, 0.038722358083570586, 0.10067813101728353, 0.0464668297002847, 0.06195577293371294, 0.05421130131699882, 0.0077444716167141174, 0.06195577293371294, 0.11616707425071175, 0.02323341485014235, 0.0077444716167141174, 0.038722358083570586, 0.06195577293371294, 0.28654544981842234, 0.013459376207871377, 0.1749718907023279, 0.2422687717416848, 0.026918752415742753, 0.08075625724722826, 0.04037812862361413, 0.08075625724722826, 0.013459376207871377, 0.05383750483148551, 0.013459376207871377, 0.2557281479495562, 0.25563453407249837, 0.06310373888943284, 0.11010958520503078, 0.1764329026092306, 0.11268524801684436, 0.08048946286917455, 0.06954289591896681, 0.025756628118135855, 0.00901481984134755, 0.00901481984134755, 0.0360592793653902, 0.005795241326580568, 0.008370904138394152, 0.0025756628118135854, 0.006439157029533964, 0.01223439835611453, 0.0025756628118135854, 0.009658735544300946, 0.003219578514766982, 0.07403576180877165, 0.15363812224978177, 0.09574549647450169, 0.1775744963684072, 0.10632203387575478, 0.0283896530244162, 0.08906557811581553, 0.05900594550172778, 0.023936374118625422, 0.0378528706992216, 0.02616301357152081, 0.01669979589671541, 0.015586476170267717, 0.03729621083599775, 0.007236578221910012, 0.011689857127700787, 0.018369775486386953, 0.01669979589671541, 0.004453278905790776, 0.9730883699854419, 0.10375183191467557, 0.16056831129652172, 0.0024702817122541805, 0.0074108451367625415, 0.0024702817122541805, 0.0024702817122541805, 0.05928676109410033, 0.024702817122541805, 0.004940563424508361, 0.44712098991800664, 0.16797915643328426, 0.0074108451367625415, 0.0024702817122541805, 0.009881126849016722, 0.08159652273392151, 0.35198500002868105, 0.006399727273248746, 0.03679843182118029, 0.06239734091417527, 0.014399386364809679, 0.0239989772746828, 0.007999659091560933, 0.1055955000086043, 0.03679843182118029, 0.006399727273248746, 0.00959959090987312, 0.033598568184555914, 0.01759925000143405, 0.014399386364809679, 0.028798772729619358, 0.15839325001290647, 0.4588982023281992, 0.5244550883750848, 0.06061996482737722, 0.06061996482737722, 0.06061996482737722, 0.06061996482737722, 0.5152697010327064, 0.03030998241368861, 0.18185989448213166, 0.08936390705015884, 0.1214840302247711, 0.12720840861232577, 0.11130735753578504, 0.06074201511238555, 0.06487628839228614, 0.037208459519105286, 0.06519430941381694, 0.03148408113155062, 0.035936375432982025, 0.03466429134685877, 0.0464310691434989, 0.044204921992783204, 0.05978795204779311, 0.017491156184194792, 0.019081261291848863, 0.0034982312368389583, 0.01526500903347909, 0.014946988011948277, 0.30936860322270693, 0.11601322620851509, 0.5413950556397371, 0.02334782083284569, 0.11673910416422845, 0.02334782083284569, 0.09339128333138276, 0.11673910416422845, 0.4669564166569138, 0.11673910416422845, 0.04669564166569138, 0.13407407224381937, 0.10725925779505549, 0.5899259178728052, 0.13407407224381937, 0.0271154945041817, 0.6507718681003608, 0.0813464835125451, 0.0542309890083634, 0.1084619780167268, 0.0271154945041817, 0.16300128206152376, 0.023285897437360537, 0.034928846156040805, 0.034928846156040805, 0.11060801282746255, 0.05821474359340134, 0.5530400641373128, 0.005821474359340134, 0.005821474359340134, 0.09320103685293543, 0.09320103685293543, 0.10873454299509135, 0.019416882677694883, 0.011650129606616929, 0.03106701228431181, 0.0038833765355389765, 0.019416882677694883, 0.15533506142155906, 0.023300259213233858, 0.4310547954448264, 0.011650129606616929, 0.02001947652520684, 0.8608374905838942, 0.08007790610082736, 0.02001947652520684, 0.09358406840339427, 0.06114159135688426, 0.01746902610196693, 0.0024955751574238473, 0.028699114310374245, 0.07112389198657965, 0.039929202518781556, 0.008734513050983465, 0.0474159279910531, 0.6089203384114188, 0.012477875787119237, 0.0012477875787119236, 0.0012477875787119236, 0.003743362736135771, 0.17592504899145958, 0.08796252449572979, 0.006766348038133061, 0.013532696076266122, 0.006766348038133061, 0.10826156861012898, 0.3992145342498506, 0.10826156861012898, 0.05413078430506449, 0.027065392152532244, 0.055453910122979615, 0.03696927341531974, 0.14376939661513233, 0.03696927341531974, 0.041076970461466376, 0.012323091138439914, 0.06983084978449285, 0.002053848523073319, 0.1519847907074256, 0.40871585609159045, 0.002053848523073319, 0.012323091138439914, 0.002053848523073319, 0.008215394092293276, 0.014376939661513233, 0.07287896645661417, 0.13118213962190547, 0.029151586582645665, 0.05830317316529133, 0.5393043517789448, 0.16033372620455116, 0.3046095939056193, 0.057691210966973355, 0.01615353907075254, 0.013845890632073607, 0.04615296877357869, 0.027691781264147213, 0.011538242193394672, 0.029999429702826146, 0.013845890632073607, 0.018461187509431473, 0.4246073127169239, 0.006922945316036803, 0.009230593754715737, 0.002307648438678934, 0.011538242193394672, 0.2349505369838505, 0.02610561522042783, 0.02610561522042783, 0.05221123044085566, 0.3915842283064175, 0.20884492176342265, 0.1673566858332267, 0.693334841309082, 0.02390809797617524, 0.09563239190470096, 0.2913400716707076, 0.03641750895883845, 0.2185050537530307, 0.03641750895883845, 0.0728350179176769, 0.2913400716707076, 0.21545365815071424, 0.03917339239103895, 0.03917339239103895, 0.1566935695641558, 0.04896674048879869, 0.04896674048879869, 0.019586696195519476, 0.019586696195519476, 0.42111396820366875, 0.994558963727255, 0.17113539439274886, 0.10492973086854675, 0.07494980776324768, 0.057461519285156554, 0.022484942328974303, 0.011242471164487152, 0.028730759642578277, 0.036225740418903044, 0.10368056740582596, 0.19486950018444396, 0.047468211583390194, 0.06620566352420211, 0.017488288478091123, 0.022484942328974303, 0.0037474903881623838, 0.022484942328974303, 0.011242471164487152, 0.0037474903881623838, 0.12975229635710378, 0.043250765452367924, 0.021625382726183962, 0.7785137781426227, 0.03280441128384485, 0.1312176451353794, 0.04373921504512646, 0.08747843009025293, 0.02186960752256323, 0.010934803761281616, 0.010934803761281616, 0.6342186181543338, 0.010934803761281616, 0.0677988141958394, 0.025424555323439773, 0.008474851774479925, 0.008474851774479925, 0.7881612150266329, 0.08474851774479925, 0.008474851774479925, 0.2289366937594703, 0.006403823601663505, 0.030418162107901648, 0.057634412414971546, 0.016009559004158763, 0.056033456514555664, 0.004802867701247628, 0.0032019118008317525, 0.3810275042989785, 0.038422941609981026, 0.09925926582578433, 0.019211470804990513, 0.05123058881330804, 0.0032019118008317525, 0.006403823601663505, 0.19856227027713397, 0.008160093299060301, 0.11968136838621773, 0.027200310996867667, 0.05440062199373533, 0.0027200310996867666, 0.08432096409028977, 0.2937633587661708, 0.013600155498433833, 0.016320186598120602, 0.09520108848903684, 0.027200310996867667, 0.019040217697807366, 0.010880124398747066, 0.008160093299060301, 0.016320186598120602, 0.09919156625545976, 0.06199472890966235, 0.6819420180062858, 0.13638840360125717, 0.06388569712906544, 0.07822738423967197, 0.0026075794746557323, 0.0867020175323031, 0.04889211514979498, 0.03194284856453272, 0.01499358197927046, 0.06258190739173758, 0.13037897373278662, 0.35528270342184354, 0.01499358197927046, 0.003911369211983599, 0.018904951191254057, 0.03324663830186059, 0.011082212767286862, 0.03324663830186059, 0.00847463329263113, 0.05294437880336105, 0.08835750634733103, 0.13954876002475297, 0.05890500423155402, 0.07047563006275213, 0.04347750312328987, 0.01823250130976672, 0.03506250251878216, 0.09537000685108746, 0.13709438484843822, 0.012271875881573755, 0.08064375579319896, 0.03295875236765523, 0.04488000322404116, 0.02945250211577701, 0.028050002015025725, 0.004908750352629502, 0.02033625146089365, 0.007012500503756431, 0.38586202259608376, 0.5512314608515483, 0.055123146085154826, 0.06620486501184274, 0.022068288337280913, 0.41929747840833737, 0.16551216252960685, 0.0772390091804832, 0.055170720843202285, 0.022068288337280913, 0.04413657667456183, 0.04413657667456183, 0.06620486501184274, 0.294454256098028, 0.02979596639087188, 0.019279742958799452, 0.015774335148108644, 0.022785150769490264, 0.2874434404766464, 0.04206489372828971, 0.0017527039053454048, 0.052581117160362144, 0.0035054078106908095, 0.06660274840312538, 0.14021631242763238, 0.0035054078106908095, 0.005258111716036214, 0.0017527039053454048, 0.010516223432072428, 0.021407233118196804, 0.011892907287887113, 0.007135744372732267, 0.06184311789701299, 0.11892907287887113, 0.22834381992743255, 0.5209093392094555, 0.004757162915154845, 0.0023785814575774224, 0.01902865166061938, 0.021691392343009847, 0.10845696171504923, 0.021691392343009847, 0.845964301377384, 0.02925442089108335, 0.10637971233121218, 0.0026594928082803045, 0.02393543527452274, 0.018616449657962133, 0.05318985616560609, 0.06914681301528791, 0.38296696439236383, 0.034573406507643956, 0.02393543527452274, 0.22073790308726526, 0.013297464041401523, 0.013297464041401523, 0.0026594928082803045, 0.10538903457844093, 0.26347258644610233, 0.21077806915688185, 0.05269451728922046, 0.05269451728922046, 0.26347258644610233, 0.05201144177384664, 0.20804576709538655, 0.15603432532153994, 0.5201144177384665, 0.17839526767028502, 0.08919763383514251, 0.05946508922342834, 0.02973254461171417, 0.535185803010855, 0.08919763383514251, 0.016031701855437404, 0.040079254638593506, 0.39277669545821636, 0.008015850927718702, 0.14428531669893663, 0.08015850927718701, 0.05611095649403091, 0.25650722968699846, 0.08813356147968159, 0.07050684918374527, 0.616934930357771, 0.05288013688780895, 0.03525342459187263, 0.03525342459187263, 0.05288013688780895, 0.03525342459187263, 0.13126072566682076, 0.03281518141670519, 0.09844554425011556, 0.6563036283341038, 0.03281518141670519, 0.03281518141670519, 0.25295355390756696, 0.025550864031067367, 0.0025550864031067366, 0.00766525920932021, 0.0025550864031067366, 0.2299577762796063, 0.005110172806213473, 0.01533051841864042, 0.29639002276038146, 0.08431785130252231, 0.010220345612426946, 0.06387716007766842, 0.0989619351514971, 0.02968858054544913, 0.019792387030299417, 0.5640830303635335, 0.16823528975754506, 0.019792387030299417, 0.02968858054544913, 0.04948096757574855, 0.009896193515149709, 0.13981513390847858, 0.06324970343478792, 0.03162485171739396, 0.048269510516022365, 0.4976752980789892, 0.00332893175972568, 0.1498019291876556, 0.014980192918765562, 0.04494057875629669, 0.00332893175972568, 0.7469543645998776, 0.034742063469761754, 0.034742063469761754, 0.13896825387904702, 0.017371031734880877, 0.0856768803433803, 0.14115348102549244, 0.03216986311743781, 0.062370142778705964, 0.09355521416805894, 0.027902432295736877, 0.035124238301692305, 0.11226625700167073, 0.09355521416805894, 0.03381118266424586, 0.05482007286338893, 0.0052522225497857655, 0.114564104367202, 0.03939166912339324, 0.0026261112748928827, 0.014443612011910854, 0.025276321020843994, 0.02035236238041984, 0.005908750368508986, 0.0688602523643892, 0.15164306941447458, 0.15766363792720806, 0.148256499626062, 0.08993224215895639, 0.03950998086481348, 0.05794797193505977, 0.09331881194736898, 0.03236055575594247, 0.010159709365237751, 0.005644282980687639, 0.02144827532661303, 0.015427706813879548, 0.007901996172962696, 0.03311312682003415, 0.027845129371392354, 0.007901996172962696, 0.017309134474108763, 0.01429885021774202, 0.20083429879635906, 0.10183147544604121, 0.05374438981874397, 0.011314608382893469, 0.15840451736050856, 0.05374438981874397, 0.03677247724440377, 0.016971912574340203, 0.254578688615103, 0.011314608382893469, 0.03677247724440377, 0.025457868861510302, 0.0028286520957233672, 0.01980056467006357, 0.014143260478616835, 0.007863736600124944, 0.5976439816094957, 0.023591209800374834, 0.007863736600124944, 0.007863736600124944, 0.10222857580162427, 0.2123208882033735, 0.03145494640049978, 0.011388723136703794, 0.09110978509363035, 0.045554892546815176, 0.011388723136703794, 0.10249850823033414, 0.011388723136703794, 0.034166169410111386, 0.011388723136703794, 0.1822195701872607, 0.045554892546815176, 0.056943615683518974, 0.13666467764044554, 0.2505519090074835, 0.2252858968391912, 0.10012706526186275, 0.07509529894639708, 0.07509529894639708, 0.12515883157732846, 0.32541296210105397, 0.02503176631546569, 0.14598246857635494, 0.08826846937174951, 0.0695962931584948, 0.1391925863169896, 0.1097697631930731, 0.04526588172910231, 0.03677852890489563, 0.07355705780979126, 0.031686117210371616, 0.02546205847262005, 0.07751782246108771, 0.016974705648413368, 0.07695199893947392, 0.014711411561958251, 0.0062240587377515675, 0.01980382325648226, 0.0016974705648413366, 0.01018482338904802, 0.010750646910661799, 0.025581829141698674, 0.07674548742509603, 0.11511823113764404, 0.012790914570849337, 0.5500093265465215, 0.21744554770443872, 0.016297185622608398, 0.0032594371245216794, 0.045632119743303515, 0.013037748498086718, 0.026075496996173435, 0.06192930536591191, 0.019556622747130076, 0.03585380836973847, 0.6029958680365107, 0.04889155686782519, 0.016297185622608398, 0.0032594371245216794, 0.0032594371245216794, 0.10104255086017207, 0.12397536402152137, 0.015496920502690172, 0.6043798996049167, 0.015496920502690172, 0.2169568870376624, 0.06250728776883892, 0.12501457553767784, 0.04167152517922594, 0.06250728776883892, 0.02083576258961297, 0.6459086402780021, 0.02083576258961297, 0.0338595523044129, 0.0677191046088258, 0.05078932845661935, 0.7787697030014966, 0.01692977615220645, 0.0338595523044129, 0.1527318749374707, 0.6109274997498828, 0.1018212499583138, 0.1018212499583138, 0.16986171924195304, 0.04246542981048826, 0.7643777365887887, 0.08213130043163959, 0.20532825107909897, 0.06844275035969966, 0.16426260086327918, 0.01368855007193993, 0.4517221523740177, 0.009969027339913249, 0.039876109359652995, 0.07975221871930599, 0.04984513669956625, 0.02243031151480481, 0.004984513669956624, 0.009969027339913249, 0.02990708201973975, 0.5158971648405106, 0.019938054679826497, 0.027414825184761436, 0.16448895110856862, 0.007476770504934937, 0.014953541009869875, 0.031003463972990357, 0.12401385589196143, 0.062006927945980714, 0.34103810370289395, 0.3720415676758843, 0.0479133515901273, 0.00958267031802546, 0.06707869222617821, 0.22998408763261102, 0.15332272508840736, 0.13415738445235642, 0.15332272508840736, 0.2108187469965601, 0.14332081889073103, 0.13617264837249007, 0.11937444765462385, 0.043603840161269794, 0.08613545474480344, 0.036098261117116795, 0.050037193627686646, 0.022874145658371037, 0.0693372540269372, 0.040029754902149314, 0.029307499124787893, 0.05539832151636736, 0.0489649680499505, 0.023588962710195133, 0.03252417585799632, 0.0421742060576216, 0.002501859681384332, 0.011079664303273472, 0.008220396095977092, 0.4992517499791247, 0.06978787902934001, 0.005368298386872308, 0.06173543144903155, 0.008052447580308464, 0.16641724999304155, 0.01342074596718077, 0.002684149193436154, 0.042946387094978465, 0.05099883467528693, 0.005368298386872308, 0.016104895160616927, 0.059051282255595396, 0.7739320575198121, 0.04299622541776734, 0.04299622541776734, 0.08599245083553468, 0.1984972164915853, 0.03609040299847006, 0.022556501874043785, 0.02706780224885254, 0.49624304122896323, 0.07669210637174886, 0.0315791026236613, 0.05864690487251384, 0.004511300374808757, 0.049624304122896326, 0.0075095447329669935, 0.08260499206263693, 0.15770043939230685, 0.06007635786373595, 0.5106490418417555, 0.04505726839780196, 0.030038178931867974, 0.09762408152857091, 0.005380051784951817, 0.016140155354855454, 0.048420466064566355, 0.005380051784951817, 0.8285279748825799, 0.016140155354855454, 0.03228031070971091, 0.02690025892475909, 0.010760103569903635, 0.20890856342404468, 0.1492204024457462, 0.5371934488046863, 0.02984408048914924, 0.05968816097829848, 0.07173008723291047, 0.023910029077636823, 0.812940988639652, 0.04782005815527365, 0.16157584062365063, 0.10771722708243375, 0.10593677704801335, 0.09436385182428081, 0.07433378893705139, 0.045846588386325104, 0.052968388524006677, 0.015578937801178434, 0.04940748845516589, 0.031157875602356867, 0.07210822639402589, 0.0689924388337902, 0.0240360754646753, 0.01646916281838863, 0.02136540041304471, 0.01646916281838863, 0.010682700206522355, 0.022255625430254906, 0.008902250172101963, 0.9786306892770632, 0.12381889858327992, 0.10750742691362628, 0.10083455213967706, 0.044485831826328114, 0.08081592781782941, 0.09193738577441143, 0.022242915913164057, 0.043744401295889315, 0.04300297076545051, 0.016311471669653643, 0.05115870660027733, 0.06079730349598176, 0.041520109704572906, 0.07266019198300258, 0.06450445614817577, 0.012604319017459632, 0.0074143053043880195, 0.016311471669653643, 0.020308298420075848, 0.13200393973049301, 0.6194031018123134, 0.2030829842007585, 0.47322127446749723, 0.017526713869166564, 0.014021371095333251, 0.007010685547666626, 0.014021371095333251, 0.12268699708416594, 0.017526713869166564, 0.05258014160749969, 0.09113891211966614, 0.18227782423933228, 0.007010685547666626, 0.003505342773833313, 0.1029954827447934, 0.03511209639027048, 0.05305827898974206, 0.04759639732903332, 0.1068968267881568, 0.060080698267796155, 0.03823317162496119, 0.010143494512744806, 0.01170403213009016, 0.0007802688086726774, 0.0585201606504508, 0.0585201606504508, 0.005461881660708741, 0.019506720216816934, 0.0007802688086726774, 0.38779359791032064, 0.0007802688086726774, 0.0031210752346907096, 0.015180534570758849, 0.8501099359624955, 0.10626374199531194, 0.3469076065875288, 0.08887715540672224, 0.09461116543296239, 0.0673746178083217, 0.09174416041984232, 0.10607918548544268, 0.04873908522304123, 0.010034517545920253, 0.012901522559040327, 0.04013807018368101, 0.021502537598400543, 0.021502537598400543, 0.0028670050131200725, 0.021502537598400543, 0.004300507519680108, 0.0028670050131200725, 0.0028670050131200725, 0.005734010026240145, 0.004300507519680108, 0.00884809994296819, 0.01769619988593638, 0.20350629868826836, 0.11944934923007057, 0.06193669960077733, 0.06193669960077733, 0.00884809994296819, 0.10175314934413418, 0.10617719931561828, 0.04866454968632505, 0.044240499714840946, 0.030968349800388664, 0.17696199885936378, 0.2297196446389361, 0.09188785785557443, 0.13783178678336167, 0.5513271471334467, 0.11094899140302628, 0.11094899140302628, 0.07670547553789471, 0.028764553326710515, 0.0917726225185526, 0.04794092221118419, 0.07259625363407891, 0.05341988474960524, 0.05752910665342103, 0.0328737752305263, 0.05752910665342103, 0.0219158501536842, 0.03561325649973683, 0.05341988474960524, 0.017806628249868416, 0.09999106632618417, 0.006848703173026313, 0.0109579250768421, 0.012327665711447363, 0.16715388661237005, 0.027858981102061676, 0.07429061627216448, 0.26001715695257566, 0.45503002466700737, 0.0922597296023282, 0.16606751328419075, 0.055355837761396916, 0.01845194592046564, 0.1476155673637251, 0.055355837761396916, 0.1476155673637251, 0.07380778368186255, 0.22142335104558766, 0.8209827961756346, 0.05864162829825962, 0.05864162829825962, 0.05290147734274659, 0.529014773427466, 0.37031034139922614, 0.08819200995418362, 0.4890647824732001, 0.00801745545038033, 0.03206982180152132, 0.04810473270228198, 0.07215709905342296, 0.12026183175570494, 0.12827928720608528, 0.01603491090076066, 0.00801745545038033, 0.00583774645015448, 0.00145943661253862, 0.990957459913723, 0.15202462301303035, 0.5723279925196437, 0.03577049953247773, 0.06259837418183603, 0.026827874649358298, 0.07154099906495547, 0.04471312441559717, 0.017885249766238866, 0.008942624883119433, 0.19516413374599953, 0.6180197568623319, 0.16263677812166627, 0.03252735562433326, 0.07228322678080763, 0.0397557747294442, 0.18432222829105946, 0.06144074276368649, 0.04698409740752496, 0.025299129373282672, 0.03252745205136344, 0.025299129373282672, 0.043369936068484584, 0.30358955247939207, 0.010842484017121146, 0.036141613390403816, 0.043369936068484584, 0.036141613390403816, 0.028913290712323056, 0.010842484017121146, 0.03872136569790354, 0.7357059482601672, 0.03872136569790354, 0.03872136569790354, 0.03872136569790354, 0.03872136569790354, 0.04888450606608638, 0.5377295667269502, 0.02444225303304319, 0.14665351819825914, 0.17109577123130232, 0.02444225303304319, 0.11579648044598857, 0.29743801840048045, 0.0034057788366467228, 0.01929941340766476, 0.01929941340766476, 0.013623115346586891, 0.06584505750850331, 0.005676298061077872, 0.11693174005820414, 0.20207621097437223, 0.08968550936503036, 0.027246230693173782, 0.012487855734371316, 0.010217336509940169, 0.0041951053933138105, 0.01258531617994143, 0.10068252943953145, 0.0041951053933138105, 0.041951053933138104, 0.020975526966569052, 0.13843847797935574, 0.0041951053933138105, 0.20556016427237672, 0.4488762770845777, 0.016780421573255242, 0.06672010240614047, 0.030024046082763215, 0.03169204864291673, 0.016680025601535118, 0.1117561715302853, 0.038364058883530776, 0.003336005120307024, 0.008340012800767559, 0.006672010240614048, 0.07506011520690803, 0.030024046082763215, 0.023352035842149167, 0.04837207424445184, 0.003336005120307024, 0.0050040076804605356, 0.49206075524528603, 0.003336005120307024, 0.006672010240614048, 0.8878640260366758, 0.08592232510032347, 0.15018475223095876, 0.01668719469232875, 0.066748778769315, 0.467241451385205, 0.200246336307945, 0.05006158407698625, 0.01668719469232875, 0.04889925181022552, 0.13039800482726807, 0.04889925181022552, 0.01629975060340851, 0.47269276749884676, 0.26079600965453614, 0.12822647532120315, 0.03205661883030079, 0.04808492824545118, 0.14425478473635353, 0.03205661883030079, 0.4808492824545118, 0.08014154707575197, 0.06411323766060158, 0.1853283748622704, 0.0926641874311352, 0.5328190777290275, 0.0115830234288919, 0.034749070286675704, 0.06949814057335141, 0.06949814057335141, 0.09452560023940625, 0.12153291459352232, 0.006751828588529018, 0.006751828588529018, 0.040510971531174104, 0.02700731435411607, 0.47262800119703124, 0.21605851483292857, 0.013503657177058035, 0.20633976407514598, 0.240729724754337, 0.034389960679191, 0.447069488829483, 0.05920519038734962, 0.0008338759209485861, 0.0025016277628457585, 0.0033355036837943446, 0.0016677518418971723, 0.0016677518418971723, 0.16010417682212855, 0.014175890656125964, 0.004169379604742931, 0.07755046064821852, 0.0016677518418971723, 0.10006511051383034, 0.5637001225612442, 0.0008338759209485861, 0.008338759209485862, 0.1470179188333724, 0.11026343912502931, 0.1470179188333724, 0.5880716753334896, 0.10977717016979897, 0.13666137510934157, 0.017922803293028405, 0.09185436687677057, 0.08289296523025637, 0.008961401646514202, 0.22403504116285505, 0.25988064774891184, 0.004480700823257101, 0.022403504116285503, 0.0022403504116285506, 0.020163153704656954, 0.004480700823257101, 0.004480700823257101, 0.004480700823257101, 0.006721051234885651, 0.25336265829706645, 0.7178608651750216, 0.06245707720915893, 0.013383659401962627, 0.5308851562778509, 0.004461219800654209, 0.10260805541504682, 0.05353463760785051, 0.004461219800654209, 0.13383659401962628, 0.05799585740850472, 0.008922439601308419, 0.013383659401962627, 0.017844879202616837, 0.04882424994556435, 0.008137374990927392, 0.13833537484576566, 0.024412124972782175, 0.30922024965524086, 0.04068687495463696, 0.42314349952822433, 0.008137374990927392, 0.09745402669927379, 0.09660660038014966, 0.1830440849308099, 0.11567369256044237, 0.06609925289168135, 0.08092921347635346, 0.01779595270160652, 0.04194760279664393, 0.022880510616351237, 0.024575363254599476, 0.06737039237036753, 0.0317784869671545, 0.07076009764686401, 0.030507347488468315, 0.01779595270160652, 0.011016542148613558, 0.0025422789573723596, 0.011016542148613558, 0.00974540266992738, 0.05354537695026144, 0.11770945734635531, 0.21666673626709163, 0.13194303856098177, 0.08178660951896473, 0.06280850123279612, 0.016944739541221974, 0.05173793806586442, 0.028919022150352167, 0.03682656726958909, 0.009263124282534679, 0.04654155127322302, 0.024852284660458895, 0.017396599262321226, 0.041571094341131244, 0.02214112633386338, 0.0015815090238473842, 0.024174495078810015, 0.013781721493527205, 0.04114478614706122, 0.17692258043236322, 0.046630757633336045, 0.031544336046080264, 0.06857464357843536, 0.005485971486274829, 0.054859714862748286, 0.02057239307353061, 0.17692258043236322, 0.08914703665196597, 0.01508642158725578, 0.012343435844118365, 0.02880135030294285, 0.09051852952353467, 0.010971942972549657, 0.05211672911961088, 0.054859714862748286, 0.02057239307353061, 0.0027429857431374143, 0.20405444956333324, 0.5305415688646664, 0.1632435596506666, 0.04081088991266665, 0.003791522256109618, 0.026540655792767327, 0.4398165817087157, 0.527021593599237, 0.046257816655437364, 0.0030838544436958245, 0.0015419272218479122, 0.21124402939316397, 0.009251563331087473, 0.007709636109239561, 0.004625781665543736, 0.08480599720163517, 0.0015419272218479122, 0.09714141497641847, 0.5319648915375297, 0.0015419272218479122, 0.053233629699468495, 0.01451826264530959, 0.13550378468955618, 0.03871536705415891, 0.13066436380778632, 0.11614610116247671, 0.4887815090587562, 0.019357683527079454, 0.012557875624365916, 0.11302088061929325, 0.012557875624365916, 0.12557875624365916, 0.10046300499492733, 0.602778029969564, 0.017378155135168112, 0.034756310270336224, 0.19115970648684924, 0.7125043605418926, 0.017378155135168112, 0.026141093249093025, 0.15684655949455814, 0.1045643729963721, 0.6665978778518722, 0.039211639873639535, 0.009529713302309464, 0.009529713302309464, 0.1477105561857967, 0.028589139906928393, 0.1334159862323325, 0.09529713302309464, 0.5670179414874131, 0.004764856651154732, 0.20248515411094337, 0.04049703082218867, 0.5264614006884527, 0.04049703082218867, 0.16198812328875467, 0.041566040173244896, 0.9144528838113878, 0.018815584579283073, 0.006271861526427691, 0.006271861526427691, 0.006271861526427691, 0.15052467663426458, 0.07526233831713229, 0.056446753737849215, 0.6648173218013352, 0.006271861526427691, 0.021579328807307004, 0.17263463045845603, 0.059343154220094264, 0.19960879146758978, 0.5394832201826751, 0.005394832201826751, 0.058969614158610954, 0.016082622043257534, 0.09649573225954519, 0.058969614158610954, 0.09113485824512602, 0.016082622043257534, 0.02680437007209589, 0.03216524408651507, 0.45031341721121093, 0.10185660627396438, 0.048247866129772596, 0.06799406833375395, 0.2180742398890865, 0.07644928926644874, 0.04333300728006081, 0.05143592734055998, 0.02571796367027999, 0.05460663519032053, 0.03804849419712656, 0.13105592445676928, 0.07574468752205751, 0.019376547970758898, 0.017615043609780816, 0.032059379369801085, 0.03382088373077917, 0.0017615043609780817, 0.034173184602974783, 0.05989114827325478, 0.017615043609780816, 0.0014092034887824654, 0.18976536093959812, 0.13554668638542722, 0.09488268046979906, 0.027109337277085442, 0.10843734910834177, 0.027109337277085442, 0.12199201774688449, 0.027109337277085442, 0.027109337277085442, 0.21687469821668354, 0.7845565157419884, 0.12387734459084028, 0.04129244819694676, 0.06030683410094714, 0.12496570777618944, 0.12061366820189429, 0.10631410960063878, 0.052224474891541854, 0.03295115677680617, 0.03419459665517621, 0.05844167428339207, 0.08579735160753305, 0.036681476411916304, 0.013056118722885464, 0.05968511416176212, 0.0478724353172467, 0.026112237445770927, 0.03979007610784141, 0.06528059361442731, 0.019273318114735684, 0.0037303196351101326, 0.013056118722885464, 0.1545923938163183, 0.1308089486138078, 0.022594272942384985, 0.06778281882715495, 0.07135033560753153, 0.03805351232401681, 0.21880769586309667, 0.04756689040502102, 0.08324205820878677, 0.011891722601255254, 0.058269440746150744, 0.0023783445202510507, 0.010702550341129729, 0.005945861300627627, 0.005945861300627627, 0.005945861300627627, 0.03210765102338919, 0.02378344520251051, 0.008324205820878679, 0.06526387086925318, 0.0010877311811542196, 0.0054386559057710985, 0.0010877311811542196, 0.16859833307890407, 0.009789580630387977, 0.12835227937619792, 0.0021754623623084393, 0.1544578277238992, 0.4459697842732301, 0.010877311811542197, 0.006526387086925318, 0.011738294042809861, 0.3286722331986761, 0.10564464638528874, 0.5164849378836339, 0.03521488212842958, 0.2190448945630981, 0.007553272226313728, 0.060426177810509824, 0.07553272226313729, 0.007553272226313728, 0.015106544452627456, 0.022659816678941184, 0.0528729055841961, 0.4078767002209413, 0.007553272226313728, 0.12085235562101965, 0.06593946473046063, 0.19639524027633595, 0.12476315988569169, 0.03273254004605599, 0.14041785295119671, 0.011859615958715939, 0.016603462342202314, 0.05597738732513923, 0.047912848473212394, 0.04127146353633147, 0.0018975385533945503, 0.020872924087340053, 0.046015309919817844, 0.09677446622312207, 0.026565539747523705, 0.018975385533945503, 0.007590154213578201, 0.03178377076935872, 0.01565469306550504, 0.02567680414156906, 0.02567680414156906, 0.02567680414156906, 0.02567680414156906, 0.1283840207078453, 0.20541443313255248, 0.5648896911145193, 0.33401140110080657, 0.02226742674005377, 0.48988338828118294, 0.02226742674005377, 0.08906970696021509, 0.244898688461007, 0.653063169229352, 0.0408164480768345, 0.22565914743362017, 0.11282957371681009, 0.30087886324482693, 0.33848872115043027, 0.039604274641786834, 0.019802137320893417, 0.009901068660446708, 0.049505343302233544, 0.8712940421193104, 0.11912960008877703, 0.04765184003551081, 0.6909516805149067, 0.11912960008877703, 0.06594374449422723, 0.1978312334826817, 0.06594374449422723, 0.016485936123556807, 0.5440358920773747, 0.032971872247113614, 0.06594374449422723, 0.016485936123556807, 0.9456888904420924, 0.013529038842514617, 0.013529038842514617, 0.3111678933778362, 0.027058077685029235, 0.5952777090706431, 0.013529038842514617, 0.0940768690356973, 0.2004916881088631, 0.10949930658253292, 0.04973736108854488, 0.0327726797870257, 0.15345325359101444, 0.016579120362848292, 0.03508604541905104, 0.009639023466772263, 0.11605384253993806, 0.038941654805759944, 0.030844875093671245, 0.018506925056202748, 0.021205851626898982, 0.022748095381582543, 0.021591412565569873, 0.008096779712088702, 0.00694009689607603, 0.01388019379215206, 0.1768470991507138, 0.04081086903478011, 0.6665775275680752, 0.02720724602318674, 0.01360362301159337, 0.02720724602318674, 0.01360362301159337, 0.02720724602318674, 0.7874876241999247, 0.18172791327690568, 0.0018709004947979452, 0.44527431776191095, 0.2637969697665103, 0.23386256184974316, 0.007483601979191781, 0.0037418009895958905, 0.018709004947979453, 0.02245080593757534, 0.6063829066380507, 0.03566958274341475, 0.03566958274341475, 0.24968707920390326, 0.0713391654868295, 0.02253135394101507, 0.5858152024663917, 0.11265676970507534, 0.15771947758710547, 0.09012541576406027, 0.00445204072562534, 0.9883530410888256, 0.1324995395300755, 0.5741646712969939, 0.04416651317669184, 0.17666605270676736, 0.8254842582669302, 0.041274212913346514, 0.08254842582669303, 0.07272898178146485, 0.036364490890732425, 0.1454579635629297, 0.5636496088063526, 0.07272898178146485, 0.09091122722683107, 0.06708129597419359, 0.13416259194838717, 0.08944172796559144, 0.6260920957591402, 0.06708129597419359, 0.883383028573427, 0.017846121789362162, 0.08030754805212972, 0.03232605329806157, 0.008081513324515392, 0.016163026649030784, 0.008081513324515392, 0.056570593271607746, 0.8728034390476624, 0.07215867600137892, 0.24685862842577, 0.02278695031622492, 0.039877163053393616, 0.04557390063244984, 0.03228151294798531, 0.020888037789872846, 0.2791401413737553, 0.020888037789872846, 0.026584775368929076, 0.06076520084326646, 0.04177607557974569, 0.028483687895281152, 0.03228151294798531, 0.01139347515811246, 0.01898912526352077, 0.06703636663895478, 0.1438548640320918, 0.08314811141054906, 0.06358384990218457, 0.0684749152792757, 0.060706752621542744, 0.07595536820894447, 0.05984362343735019, 0.05322629969187397, 0.10271237291891355, 0.012371518306759895, 0.025893875525776527, 0.03193577981512438, 0.02301677824513469, 0.026757004709969077, 0.03711455492027969, 0.03423745763963785, 0.016974873955786833, 0.01352235721901663, 0.06705679424099308, 0.5699827510484411, 0.06705679424099308, 0.16764198560248267, 0.03352839712049654, 0.03352839712049654, 0.028367796258928747, 0.028367796258928747, 0.9077694802857199, 0.10640585609323928, 0.15960878413985893, 0.21281171218647857, 0.10640585609323928, 0.10640585609323928, 0.26601464023309823, 0.1985166547994735, 0.11834646728430151, 0.04199390774604247, 0.3893980536451211, 0.061082047630607234, 0.003817627976912952, 0.04199390774604247, 0.030541023815303617, 0.03435865179221657, 0.030541023815303617, 0.003817627976912952, 0.007635255953825904, 0.03435865179221657, 0.2054575967873923, 0.054839235550878385, 0.05357565869486736, 0.1612324068270065, 0.04649962830120564, 0.05458652017967618, 0.144553192327661, 0.05509195092208059, 0.022238952665794, 0.013646630044919046, 0.04321432847557698, 0.009097753363279363, 0.041950751619565955, 0.05079578961164311, 0.007834176507268342, 0.015162922272132274, 0.004043445939235273, 0.009855899476885978, 0.0055597381664485, 0.05171392596471134, 0.1809987408764897, 0.11635633342060052, 0.012928481491177835, 0.4783538151735799, 0.02585696298235567, 0.10342785192942268, 0.01809598441018475, 0.9228952049194222, 0.0361919688203695, 0.9689184265022746, 0.8338511907579602, 0.13897519845966005, 0.9594773606830372, 0.05233243605422335, 0.9158176309489087, 0.03126186353270299, 0.046892795299054484, 0.015630931766351493, 0.5470826118223023, 0.06252372706540597, 0.10941652236446046, 0.17194024942986644, 0.14498859127987057, 0.006516341181117779, 0.16779578541378282, 0.0032581705905588895, 0.33233340023700675, 0.12706865303179668, 0.01791993824807389, 0.03583987649614778, 0.060276155925339456, 0.014661767657515003, 0.03095262061030945, 0.0032581705905588895, 0.03583987649614778, 0.014661767657515003, 0.004887255885838334, 0.8292244876397443, 0.02997196943276184, 0.05994393886552368, 0.009990656477587281, 0.02997196943276184, 0.02997196943276184, 0.9294012696177367, 0.009294012696177368, 0.018588025392354737, 0.009294012696177368, 0.018588025392354737, 0.40896424306267576, 0.5867747835247087, 0.2595717895545289, 0.06636301415795401, 0.12516568493082464, 0.1360861809315006, 0.07476339569693552, 0.03948179323321314, 0.023521068309148255, 0.02604118277084271, 0.0033601526155926076, 0.05964270892676879, 0.04620209846439836, 0.03360152615592608, 0.032761488002027925, 0.01260057230847228, 0.02940133538643532, 0.022681030155250102, 0.005040228923388911, 0.0025201144616944556, 0.0016800763077963038, 0.9828108277765166, 0.9715841046900551, 0.08387062063458978, 0.6150512179869917, 0.02795687354486326, 0.05591374708972652, 0.1956981148140428, 0.048524930120369306, 0.19409972048147722, 0.1455747903611079, 0.5822991614444316, 0.018268220488541646, 0.05480466146562494, 0.03653644097708329, 0.07307288195416659, 0.7672652605187491, 0.03653644097708329, 0.06911812030949124, 0.10367718046423686, 0.03455906015474562, 0.08639765038686406, 0.6911812030949125, 0.008702422575522239, 0.13633795368318175, 0.2325480699347887, 0.06381776555382974, 0.06043349010779332, 0.06720204099986617, 0.007252018812935198, 0.03916090158985007, 0.08025567486314954, 0.09959439169764339, 0.003384275446036426, 0.09379277664729524, 0.009669358417246931, 0.016437909309319782, 0.039644369510712416, 0.011603230100696318, 0.0029008075251740796, 0.008218954654659891, 0.01837178099276917, 0.5135641773097732, 0.06419552216372165, 0.19258656649116493, 0.19258656649116493, 0.022134879591985037, 0.0747052186229495, 0.15494415714389526, 0.019368019642986907, 0.05810405892896072, 0.055337198979962594, 0.044269759183970074, 0.024901739540983167, 0.044269759183970074, 0.3015877344407961, 0.011067439795992519, 0.05257033903096446, 0.05257033903096446, 0.013834299744990649, 0.03596917933697569, 0.04150289923497195, 0.12517001550926238, 0.10850431939329827, 0.03226762439473903, 0.03581351718536969, 0.048578731231640075, 0.05850723104540593, 0.036168106464432755, 0.022339124580973174, 0.03758646358068502, 0.08226471274263136, 0.058861820324468996, 0.16736613971776726, 0.02162994602284704, 0.046451195557261675, 0.036168106464432755, 0.029430910162234498, 0.03900482069693729, 0.005673428465009059, 0.009219321255639722, 0.39598028147331543, 0.025610664970910947, 0.0019700511516085343, 0.03152081842573655, 0.021670562667693877, 0.06107158569986457, 0.025610664970910947, 0.021670562667693877, 0.021670562667693877, 0.055161432245038965, 0.2935376215896716, 0.005910153454825603, 0.03940102303217069, 0.0019700511516085343, 0.11176765942118524, 0.16232921963553096, 0.13926605181846097, 0.09343539782300142, 0.0937310794616818, 0.06623268706440608, 0.030159527145399195, 0.030455208784079577, 0.05736223790399454, 0.02306316781706997, 0.012714310463256523, 0.024541576010471893, 0.04080406613789302, 0.03725588647372841, 0.028385437313316886, 0.017149535043462286, 0.011235902269854601, 0.0050265878575665324, 0.014784081934019212, 0.09242971793962118, 0.78565260248678, 0.04621485896981059, 0.023107429484905295, 0.06327944205464545, 0.06327944205464545, 0.6644341415737772, 0.15819860513661363, 0.11344232759641332, 0.13209038144787852, 0.009324026925732603, 0.08080823335634922, 0.09013226028208182, 0.012432035900976803, 0.03574210321530831, 0.0077700224381105016, 0.08702425130683762, 0.25796474494526866, 0.04662013462866301, 0.0031080089752442007, 0.027972080777197806, 0.06216017950488401, 0.004662013462866301, 0.020202058339087305, 0.006216017950488401, 0.006832515741495902, 0.08199018889795083, 0.013665031482991804, 0.020497547224487708, 0.006832515741495902, 0.006832515741495902, 0.06832515741495902, 0.4099509444897541, 0.020497547224487708, 0.027330062965983608, 0.3279607555918033, 0.006832515741495902, 0.017503578570565875, 0.0700143142822635, 0.10502147142339524, 0.05251073571169762, 0.7351502999637667, 0.12056856670865457, 0.04018952223621819, 0.6832218780157092, 0.12056856670865457, 0.17236004328836158, 0.043090010822090394, 0.6463501623313559, 0.08618002164418079, 0.021545005411045197, 0.021545005411045197, 0.23951014507703478, 0.03488663177592663, 0.053000844428811617, 0.10734348238746656, 0.061722502372793274, 0.09124196002934658, 0.02012690294764998, 0.015430625593198318, 0.024152283537179978, 0.08855837296965992, 0.08990016649950325, 0.08252030208536491, 0.00670896764921666, 0.022810490007336644, 0.017443315887963315, 0.00335448382460833, 0.01677241912304165, 0.02213959324241498, 0.22703730116011703, 0.017464407781547463, 0.1921084855970221, 0.1397152622523797, 0.06985763112618985, 0.05239322334464239, 0.26196611672321196, 0.225009196763908, 0.1407878773047916, 0.02891179623223399, 0.10433387335980092, 0.07416504250877415, 0.01885551928189173, 0.046510280895332934, 0.05405248860808963, 0.011313311569135039, 0.05028138475171128, 0.17724188124978227, 0.007542207712756693, 0.0037711038563783463, 0.005028138475171129, 0.03645400394499068, 0.013827380806720604, 0.0012570346187927822, 0.1311375295964511, 0.19670629439467666, 0.06556876479822556, 0.5901188831840299, 0.04199709578385915, 0.03641935650006536, 0.20539204656793617, 0.03182592414870576, 0.19751759110846256, 0.037731765743310955, 0.0075463531486621915, 0.027888696418968968, 0.02592008255410057, 0.06594856447309132, 0.011155478567587588, 0.0885876239190779, 0.04396570964872755, 0.06069892750010893, 0.03445074263519696, 0.007218250837850792, 0.031169719527082963, 0.023295264067609373, 0.021326650202740976, 0.07148776544054977, 0.07148776544054977, 0.05361582408041233, 0.08935970680068722, 0.6612618303250855, 0.05361582408041233, 0.3163982427478112, 0.05053583043888651, 0.0197748901717382, 0.025267915219443254, 0.05383164546750954, 0.1384242312021674, 0.042845595372099435, 0.002197210019082022, 0.0494372254293455, 0.06811351059154269, 0.12194515605905223, 0.017577680152656178, 0.017577680152656178, 0.010986050095410111, 0.002197210019082022, 0.004394420038164044, 0.060423275524755606, 0.7966345508291337, 0.09372171186225102, 0.09372171186225102, 0.3894884806710158, 0.031159078453681266, 0.015579539226840633, 0.015579539226840633, 0.015579539226840633, 0.49854525525890026, 0.015579539226840633, 0.015579539226840633, 0.0538899512874433, 0.22582455777595287, 0.10264752626179675, 0.19118101766259646, 0.08468420916598232, 0.04619138681780854, 0.037851275309037556, 0.06030542167880559, 0.030152710839402797, 0.03143580491767526, 0.007057017430498527, 0.05838078056139691, 0.007698564469634757, 0.010906299665315906, 0.009623205587043446, 0.009623205587043446, 0.021812599330631812, 0.011547846704452134, 0.08526777644345697, 0.15142380989096668, 0.004410402229833981, 0.010290938536279288, 0.04410402229833981, 0.001470134076611327, 0.10731978759262686, 0.23816172041103498, 0.01911174299594725, 0.004410402229833981, 0.03675335191528317, 0.0823275082902343, 0.005880536306445308, 0.1470134076611327, 0.06321576529428706, 0.0819825757865393, 0.11488347791140047, 0.12189514557735448, 0.1558747658046701, 0.11434411886017323, 0.038294492637133484, 0.044227442200633044, 0.12189514557735448, 0.03397962022731563, 0.011326540075771876, 0.017798848690498664, 0.01456269438313527, 0.0318221840224067, 0.020495643946634824, 0.015102053434362502, 0.030743465919952237, 0.005932949563499554, 0.0167201305880442, 0.008629744819635715, 0.0009375489013538025, 0.054377836278520546, 0.3290796643751847, 0.004687744506769013, 0.012188135717599432, 0.2690765346885413, 0.13125684618953234, 0.028126467040614077, 0.03093911374467548, 0.014063233520307038, 0.08344185222048843, 0.0028126467040614075, 0.02250117363249126, 0.016875880224368447, 0.06523533231669781, 0.05653728800780477, 0.1328867880525326, 0.060886310162251295, 0.1377190348908065, 0.10679265512585345, 0.00386579747061913, 0.05991986079459651, 0.01546318988247652, 0.16719574060427736, 0.057986962059286946, 0.008698044308893042, 0.0386579747061913, 0.0009664493676547825, 0.014496740514821737, 0.016912863933958692, 0.02416123419136956, 0.028510256345816082, 0.00386579747061913, 0.0942405625612854, 0.1442457590223756, 0.1128322381686138, 0.055775026821985235, 0.07052014885538363, 0.05385175003502023, 0.019232767869650082, 0.012180752984111719, 0.026925875017510113, 0.06539141075681028, 0.027566967279831784, 0.03013133632911846, 0.06795577980609695, 0.026925875017510113, 0.13911702092380226, 0.016027306558041732, 0.005128738098573355, 0.026284782755188443, 0.006410922623216694, 0.05558999301850161, 0.08338498952775242, 0.08338498952775242, 0.05558999301850161, 0.08338498952775242, 0.4308224458933875, 0.138974982546254, 0.04169249476387621, 0.013897498254625402, 0.08448482160627215, 0.027439514709729412, 0.28739281195979755, 0.04188136455695542, 0.08809528406807864, 0.051990659450013625, 0.018774404801393807, 0.02527323723264551, 0.02310695975556161, 0.06426623182015573, 0.06209995434307183, 0.009387202400696903, 0.07509761920557523, 0.015163942339587308, 0.07365343422085263, 0.002888369969445201, 0.02094068227847771, 0.024551144740284213, 0.004332554954167802, 0.03883303594173484, 0.07766607188346968, 0.03883303594173484, 0.15533214376693935, 0.504829467242553, 0.11649910782520452, 0.03883303594173484, 0.02395153076616808, 0.02395153076616808, 0.1437091845970085, 0.5029821460895297, 0.2634668384278489, 0.02395153076616808, 0.02395153076616808, 0.047179726724095795, 0.06192339132537573, 0.002948732920255987, 0.33320681998892654, 0.07371832300639967, 0.032436062122815856, 0.15628284477356733, 0.1415391801722874, 0.12974424849126343, 0.002948732920255987, 0.017692397521535924, 0.4673790089713526, 0.025648848053305934, 0.07409667215399492, 0.05984731212438051, 0.01994910404146017, 0.11684475224283815, 0.0455979520947661, 0.008549616017768645, 0.01994910404146017, 0.014249360029614407, 0.07979641616584068, 0.028498720059228815, 0.005699744011845763, 0.005699744011845763, 0.0028498720059228814, 0.02279897604738305, 0.20335035487263223, 0.10039624438680271, 0.049878388931023, 0.038367991485402306, 0.07225971729750769, 0.09719891176301917, 0.05691252070334676, 0.037728524960645604, 0.039007458010159014, 0.010870930920863987, 0.1477167672187989, 0.02621812751502491, 0.021741861841727973, 0.03133385971307855, 0.020462928792214563, 0.031973326237835255, 0.0019183995742701153, 0.007673598297080461, 0.004476265673296936, 0.7631352792461095, 0.13467093163166638, 0.12028022466890471, 0.22182113897272643, 0.05403894151791371, 0.0928249559944808, 0.06667708106645805, 0.04750197278590802, 0.01743191661868184, 0.03617122698376482, 0.08454479560060693, 0.10328410596568992, 0.02963425825175913, 0.02091829994241821, 0.02004670411148412, 0.023968885350687533, 0.0008715958309340921, 0.006536968732005691, 0.026147874928022764, 0.015252927041346611, 0.012638139548544336, 0.08532135178525556, 0.012188764540750793, 0.012188764540750793, 0.012188764540750793, 0.13407640994825873, 0.7191371079042967, 0.05744440153980494, 0.37749178154728963, 0.05334123000124745, 0.021883581538973313, 0.17643637615797234, 0.039663991539389126, 0.05197350615506162, 0.015044962308044153, 0.002735447692371664, 0.017780410000415817, 0.016412686154229986, 0.005470895384743328, 0.001367723846185832, 0.15318507077281318, 0.008206343077114993, 0.001367723846185832, 0.08935023740978663, 0.44386892132603684, 0.007926230737964944, 0.0021616992921722573, 0.03602832153620429, 0.020175860060274404, 0.024499258644618917, 0.011529062891585373, 0.16645084549726383, 0.0007205664307240858, 0.029543223659687517, 0.0021616992921722573, 0.004323398584344515, 0.01873472719882623, 0.12537855894599093, 0.015852461475929887], \"Term\": [\"aboard\", \"aboard\", \"aboard\", \"aboard\", \"address\", \"address\", \"address\", \"address\", \"address\", \"address\", \"address\", \"address\", \"address\", \"address\", \"address\", \"adopt\", \"adopt\", \"adopt\", \"adopt\", \"afanasief\", \"afanasief\", \"affect\", \"affect\", \"affect\", \"affect\", \"affliction\", \"affliction\", \"affliction\", \"affliction\", \"affliction\", \"afterward\", \"afterward\", \"afterward\", \"afterward\", \"afterward\", \"afterward\", \"afterward\", \"afterward\", \"agreement\", \"agreement\", \"agreement\", \"agreement\", \"agreement\", \"air\", \"air\", \"air\", \"air\", \"air\", \"air\", \"air\", \"air\", \"air\", \"air\", \"air\", \"air\", \"air\", \"air\", \"air\", \"air\", \"air\", \"air\", \"air\", \"also\", \"also\", \"also\", \"also\", \"also\", \"also\", \"also\", \"also\", \"also\", \"also\", \"also\", \"also\", \"also\", \"also\", \"also\", \"also\", \"also\", \"also\", \"also\", \"ambassador\", \"ambassador\", \"amiable\", \"amiable\", \"amiable\", \"amiable\", \"amiable\", \"anchor\", \"anchor\", \"anchor\", \"animal\", \"animal\", \"animal\", \"animal\", \"animal\", \"animal\", \"animal\", \"animal\", \"animal\", \"animal\", \"animal\", \"animal\", \"animal\", \"animal\", \"animal\", \"answer\", \"answer\", \"answer\", \"answer\", \"answer\", \"answer\", \"answer\", \"answer\", \"answer\", \"answer\", \"answer\", \"answer\", \"answer\", \"answer\", \"answer\", \"answer\", \"answer\", \"answer\", \"answer\", \"apartment\", \"apartment\", \"apartment\", \"apartment\", \"apartment\", \"apartment\", \"apartment\", \"apollo\", \"appear\", \"appear\", \"appear\", \"appear\", \"appear\", \"appear\", \"appear\", \"appear\", \"appear\", \"appear\", \"appear\", \"appear\", \"appear\", \"appear\", \"appear\", \"appear\", \"appear\", \"appear\", \"appear\", \"apprentice\", \"apprentice\", \"apprentice\", \"apprentice\", \"apprentice\", \"apprentice\", \"apprentice\", \"arm\", \"arm\", \"arm\", \"arm\", \"arm\", \"arm\", \"arm\", \"arm\", \"arm\", \"arm\", \"arm\", \"arm\", \"arm\", \"arm\", \"arm\", \"arm\", \"arm\", \"arm\", \"arm\", \"armor\", \"armor\", \"armor\", \"armor\", \"armor\", \"armor\", \"art\", \"art\", \"art\", \"art\", \"art\", \"art\", \"art\", \"art\", \"art\", \"art\", \"art\", \"art\", \"art\", \"art\", \"art_thou\", \"art_thou\", \"art_thou\", \"art_thou\", \"art_thou\", \"asgard\", \"asgard\", \"asgard\", \"ashore\", \"ashore\", \"ashore\", \"ashore\", \"ashore\", \"ashore\", \"ashore\", \"ashore\", \"ashore\", \"ashore\", \"ashore\", \"ask\", \"ask\", \"ask\", \"ask\", \"ask\", \"ask\", \"ask\", \"ask\", \"ask\", \"ask\", \"ask\", \"ask\", \"ask\", \"ask\", \"ask\", \"ask\", \"ask\", \"ask\", \"ask\", \"aspen\", \"aspen\", \"aspen\", \"assuredly\", \"assuredly\", \"assuredly\", \"assuredly\", \"assuredly\", \"assuredly\", \"attribute\", \"attribute\", \"attribute\", \"attribute\", \"attribute\", \"attribute\", \"attribute\", \"avenue\", \"avenue\", \"avenue\", \"avenue\", \"away\", \"away\", \"away\", \"away\", \"away\", \"away\", \"away\", \"away\", \"away\", \"away\", \"away\", \"away\", \"away\", \"away\", \"away\", \"away\", \"away\", \"away\", \"away\", \"ax\", \"ax\", \"ax\", \"ax\", \"ax\", \"aye\", \"aye\", \"aye\", \"aye\", \"baba_yaga\", \"baba_yaga\", \"baba_yaga\", \"baba_yaga\", \"baba_yaga\", \"baby\", \"baby\", \"baby\", \"baby\", \"baby\", \"baby\", \"baby\", \"baby\", \"baby\", \"baby\", \"baby\", \"baby\", \"baby\", \"baby\", \"baby\", \"back\", \"back\", \"back\", \"back\", \"back\", \"back\", \"back\", \"back\", \"back\", \"back\", \"back\", \"back\", \"back\", \"back\", \"back\", \"back\", \"back\", \"back\", \"back\", \"bagdad\", \"bagdad\", \"bake_cake\", \"bake_cake\", \"bake_cake\", \"bake_cake\", \"bake_cake\", \"baker\", \"baker\", \"baker\", \"baker\", \"baker\", \"baker\", \"bale\", \"bale\", \"bale\", \"bale\", \"bale\", \"ball\", \"ball\", \"ball\", \"ball\", \"ball\", \"ball\", \"ball\", \"ball\", \"ball\", \"ball\", \"ball\", \"ball\", \"barber\", \"barber\", \"barber\", \"barber\", \"barber\", \"barber\", \"barrel\", \"barrel\", \"barrel\", \"barrel\", \"barrel\", \"barrel\", \"barrel\", \"barrel\", \"barrel\", \"barrel\", \"barrel\", \"barrel\", \"bay\", \"bay\", \"bay\", \"bay\", \"bay\", \"bay\", \"bay\", \"bay\", \"bay\", \"bay\", \"bean\", \"bean\", \"bean\", \"bean\", \"bean\", \"bean\", \"bean\", \"bear\", \"bear\", \"bear\", \"bear\", \"bear\", \"bear\", \"bear\", \"bear\", \"bear\", \"bear\", \"bear\", \"bear\", \"bear\", \"bear\", \"bear\", \"bear\", \"bear\", \"bear\", \"bear\", \"beast\", \"beast\", \"beast\", \"beast\", \"beast\", \"beast\", \"beast\", \"beast\", \"beast\", \"beast\", \"beast\", \"beast\", \"beast\", \"beast\", \"beast\", \"beast\", \"beautiful\", \"beautiful\", \"beautiful\", \"beautiful\", \"beautiful\", \"beautiful\", \"beautiful\", \"beautiful\", \"beautiful\", \"beautiful\", \"beautiful\", \"beautiful\", \"beautiful\", \"beautiful\", \"beautiful\", \"beautiful\", \"beautiful\", \"beautiful\", \"beautiful\", \"beauty\", \"beauty\", \"beauty\", \"beauty\", \"beauty\", \"beauty\", \"beauty\", \"beauty\", \"beauty\", \"beauty\", \"beauty\", \"beauty\", \"beauty\", \"beauty\", \"beauty\", \"become\", \"become\", \"become\", \"become\", \"become\", \"become\", \"become\", \"become\", \"become\", \"become\", \"become\", \"become\", \"become\", \"become\", \"become\", \"become\", \"become\", \"become\", \"become\", \"bed\", \"bed\", \"bed\", \"bed\", \"bed\", \"bed\", \"bed\", \"bed\", \"bed\", \"bed\", \"bed\", \"bed\", \"bed\", \"bed\", \"bed\", \"bed\", \"bed\", \"bed\", \"bed\", \"beetle\", \"beetle\", \"beetle\", \"beetle\", \"beetle\", \"begin\", \"begin\", \"begin\", \"begin\", \"begin\", \"begin\", \"begin\", \"begin\", \"begin\", \"begin\", \"begin\", \"begin\", \"begin\", \"begin\", \"begin\", \"begin\", \"begin\", \"begin\", \"begin\", \"belgian\", \"belgium\", \"belgium\", \"bell\", \"bell\", \"bell\", \"bell\", \"bell\", \"bell\", \"bell\", \"bell\", \"bell\", \"bell\", \"bell\", \"bell\", \"bell\", \"bell\", \"bell\", \"bell\", \"bellow\", \"bellow\", \"bellow\", \"bellow\", \"bellow\", \"bellow\", \"bellow\", \"bellow\", \"belly\", \"belly\", \"belly\", \"belly\", \"belly\", \"beyond_measure\", \"beyond_measure\", \"beyond_measure\", \"beyond_measure\", \"big\", \"big\", \"big\", \"big\", \"big\", \"big\", \"big\", \"big\", \"big\", \"big\", \"big\", \"big\", \"big\", \"big\", \"big\", \"big\", \"big\", \"big\", \"big\", \"bill\", \"bill\", \"bill\", \"bill\", \"bill\", \"billow\", \"billow\", \"billow\", \"birch_tree\", \"birch_tree\", \"birch_tree\", \"birch_tree\", \"birch_tree\", \"birch_tree\", \"bird\", \"bird\", \"bird\", \"bird\", \"bird\", \"bird\", \"bird\", \"bird\", \"bird\", \"bird\", \"bird\", \"bird\", \"bird\", \"bird\", \"bird\", \"bird\", \"bird\", \"bird\", \"bird\", \"bite\", \"bite\", \"bite\", \"bite\", \"bite\", \"bite\", \"bite\", \"bite\", \"bite\", \"bite\", \"bite\", \"bite\", \"bite\", \"bite\", \"bite\", \"bite\", \"black\", \"black\", \"black\", \"black\", \"black\", \"black\", \"black\", \"black\", \"black\", \"black\", \"black\", \"black\", \"black\", \"black\", \"black\", \"black\", \"black\", \"black\", \"blow\", \"blow\", \"blow\", \"blow\", \"blow\", \"blow\", \"blow\", \"blow\", \"blow\", \"blow\", \"blow\", \"blow\", \"blow\", \"blow\", \"blow\", \"blow\", \"blow\", \"blow\", \"blow\", \"blue\", \"blue\", \"blue\", \"blue\", \"blue\", \"blue\", \"blue\", \"blue\", \"blue\", \"blue\", \"blue\", \"blue\", \"blue\", \"blue\", \"blue\", \"blue\", \"blue\", \"blue_sea\", \"blue_sea\", \"blue_sea\", \"blue_sea\", \"boat\", \"boat\", \"boat\", \"boat\", \"boat\", \"boat\", \"boat\", \"boat\", \"boat\", \"boat\", \"boat\", \"boat\", \"boat\", \"bottom_sea\", \"bottom_sea\", \"bottom_sea\", \"bottom_sea\", \"boulder\", \"boulder\", \"boulder\", \"box\", \"box\", \"box\", \"box\", \"box\", \"box\", \"box\", \"box\", \"box\", \"box\", \"box\", \"box\", \"box\", \"box\", \"box\", \"boy\", \"boy\", \"boy\", \"boy\", \"boy\", \"boy\", \"boy\", \"boy\", \"boy\", \"boy\", \"boy\", \"boy\", \"boy\", \"boy\", \"boy\", \"boy\", \"boy\", \"boy\", \"brave\", \"brave\", \"brave\", \"brave\", \"brave\", \"brave\", \"brave\", \"brave\", \"brave\", \"brave\", \"brave\", \"brave\", \"brave\", \"brave\", \"bread\", \"bread\", \"bread\", \"bread\", \"bread\", \"bread\", \"bread\", \"bread\", \"bread\", \"bread\", \"bread\", \"bread\", \"bread\", \"bread\", \"bread\", \"bread\", \"bread\", \"breech\", \"breech\", \"breech\", \"breech\", \"brick\", \"brick\", \"brick\", \"brick\", \"brick\", \"brick\", \"bride\", \"bride\", \"bride\", \"bride\", \"bride\", \"bride\", \"bride\", \"bride\", \"bride\", \"bride\", \"bride\", \"bride\", \"bride\", \"bride\", \"bride\", \"bride\", \"bridle\", \"bridle\", \"bridle\", \"bridle\", \"bridle\", \"bridle\", \"bridle\", \"bridle\", \"bring\", \"bring\", \"bring\", \"bring\", \"bring\", \"bring\", \"bring\", \"bring\", \"bring\", \"bring\", \"bring\", \"bring\", \"bring\", \"bring\", \"bring\", \"bring\", \"bring\", \"bring\", \"bring\", \"broth\", \"broth\", \"broth\", \"broth\", \"brother\", \"brother\", \"brother\", \"brother\", \"brother\", \"brother\", \"brother\", \"brother\", \"brother\", \"brother\", \"brother\", \"brother\", \"brother\", \"brother\", \"brother\", \"brother\", \"brother\", \"brother\", \"brother\", \"buffalo\", \"buffalo\", \"buffalo\", \"buffalo\", \"buffalo\", \"buffalo\", \"buffalo\", \"buffalo\", \"build_nest\", \"build_nest\", \"build_nest\", \"build_nest\", \"build_nest\", \"build_nest\", \"build_nest\", \"bull\", \"bull\", \"bull\", \"bull\", \"bull\", \"bull\", \"bull\", \"bull\", \"bull\", \"bull\", \"bull\", \"butcher\", \"butcher\", \"butcher\", \"butcher\", \"butcher\", \"butterfly\", \"butterfly\", \"butterfly\", \"butterfly\", \"butterfly\", \"buy\", \"buy\", \"buy\", \"buy\", \"buy\", \"buy\", \"buy\", \"buy\", \"buy\", \"buy\", \"buy\", \"buy\", \"buy\", \"buy\", \"buy\", \"buy\", \"buzz\", \"buzz\", \"buzz\", \"buzz\", \"buzz\", \"buzz\", \"cabbage\", \"cabbage\", \"cabbage\", \"cabbage\", \"cabbage\", \"cake\", \"cake\", \"cake\", \"cake\", \"cake\", \"cake\", \"cake\", \"cake\", \"cake\", \"cake\", \"cake\", \"cake\", \"cake\", \"cake\", \"cake\", \"cake\", \"cake\", \"calf\", \"calf\", \"calf\", \"calf\", \"calf\", \"calf\", \"calf\", \"calf\", \"calf\", \"calf\", \"caliph\", \"caliph\", \"call\", \"call\", \"call\", \"call\", \"call\", \"call\", \"call\", \"call\", \"call\", \"call\", \"call\", \"call\", \"call\", \"call\", \"call\", \"call\", \"call\", \"call\", \"call\", \"canst\", \"canst\", \"canst\", \"capable\", \"capable\", \"capable\", \"capable\", \"capable\", \"captain\", \"captain\", \"captain\", \"captain\", \"captain\", \"captain\", \"captain\", \"captain\", \"captain\", \"captain\", \"caravan\", \"caravan\", \"caravan\", \"caravan\", \"caravan\", \"caravan\", \"carbuncle\", \"carbuncle\", \"carbuncle\", \"card\", \"card\", \"card\", \"card\", \"card\", \"card\", \"card\", \"card\", \"cart\", \"cart\", \"cart\", \"cart\", \"cart\", \"cart\", \"cart\", \"cart\", \"cart\", \"cart\", \"cart\", \"cart\", \"cart\", \"cask\", \"cask\", \"cask\", \"cask\", \"cask\", \"cask\", \"cask\", \"cask\", \"castle\", \"castle\", \"castle\", \"castle\", \"castle\", \"castle\", \"castle\", \"castle\", \"castle\", \"castle\", \"castle\", \"castle\", \"castle\", \"castle\", \"castle\", \"castle\", \"cat\", \"cat\", \"cat\", \"cat\", \"cat\", \"cat\", \"cat\", \"cat\", \"cat\", \"cat\", \"cat\", \"cat\", \"cat\", \"cat\", \"cat\", \"cat\", \"cat\", \"cauldron\", \"cauldron\", \"cauldron\", \"cauldron\", \"cauldron\", \"cauldron\", \"cauldron\", \"cauldron\", \"centre\", \"centre\", \"centre\", \"centre\", \"centre\", \"centre\", \"centre\", \"centre\", \"cf\", \"cf_also\", \"champion\", \"champion\", \"champion\", \"champion\", \"champion\", \"champion\", \"chariot\", \"chariot\", \"chariot\", \"chariot\", \"chariot\", \"chariot\", \"chariot_draw\", \"chariot_draw\", \"chariot_draw\", \"chariot_draw\", \"charming\", \"charming\", \"charming\", \"charming\", \"charming\", \"chat\", \"chat\", \"chat\", \"chat\", \"chat\", \"chat\", \"chat\", \"chat\", \"chat\", \"chatter\", \"chatter\", \"chatter\", \"chatter\", \"chatter\", \"chatter\", \"chatter\", \"chatter\", \"chatter\", \"chatter\", \"chatter\", \"check\", \"check\", \"check\", \"cheese\", \"cheese\", \"cheese\", \"cheese\", \"cheese\", \"cheese\", \"cheese\", \"cheese\", \"chicken\", \"chicken\", \"chicken\", \"chicken\", \"chicken\", \"chicken\", \"chicken\", \"chicken\", \"chicken\", \"chief\", \"chief\", \"chief\", \"chief\", \"chief\", \"chief\", \"chief\", \"chief\", \"chief\", \"chief\", \"chief\", \"chief\", \"chief\", \"chief\", \"child\", \"child\", \"child\", \"child\", \"child\", \"child\", \"child\", \"child\", \"child\", \"child\", \"child\", \"child\", \"child\", \"child\", \"child\", \"child\", \"child\", \"child\", \"child\", \"chip\", \"chip\", \"chip\", \"chip\", \"chip\", \"chip\", \"christen\", \"christen\", \"christen\", \"christen\", \"christen\", \"christen\", \"christen\", \"church\", \"church\", \"church\", \"church\", \"church\", \"church\", \"church\", \"church\", \"church\", \"church\", \"church\", \"church\", \"church\", \"church\", \"church\", \"cinder\", \"cinder\", \"cinder\", \"cinder\", \"cinder\", \"cinder\", \"city\", \"city\", \"city\", \"city\", \"city\", \"city\", \"city\", \"city\", \"city\", \"city\", \"city\", \"city\", \"city\", \"city\", \"clay\", \"clay\", \"clay\", \"clay\", \"clay\", \"clay\", \"clay\", \"cloud\", \"cloud\", \"cloud\", \"cloud\", \"cloud\", \"cloud\", \"cloud\", \"cloud\", \"cloud\", \"cloud\", \"cloud\", \"cloud\", \"cloud\", \"cloud\", \"cloud\", \"clover\", \"clover\", \"clover\", \"clover\", \"clover\", \"club\", \"club\", \"club\", \"club\", \"club\", \"club\", \"club\", \"club\", \"club\", \"club\", \"club\", \"coach\", \"coach\", \"coach\", \"coach\", \"coach\", \"coach\", \"coach\", \"coach\", \"coach\", \"coachman\", \"coachman\", \"coachman\", \"coachman\", \"coachman\", \"coachman\", \"cock\", \"cock\", \"cock\", \"cock\", \"cock\", \"cock\", \"cock\", \"cock\", \"cock\", \"cock\", \"cock\", \"cock\", \"cock\", \"coffin\", \"coffin\", \"coffin\", \"coffin\", \"coffin\", \"coffin\", \"coffin\", \"coffin\", \"coffin\", \"coffin\", \"collection\", \"collection\", \"collection\", \"collection\", \"collection\", \"colt\", \"colt\", \"colt\", \"colt\", \"command\", \"command\", \"command\", \"command\", \"command\", \"command\", \"command\", \"command\", \"command\", \"command\", \"command\", \"command\", \"command\", \"command\", \"command\", \"command\", \"communicate\", \"communicate\", \"communicate\", \"communicate\", \"companion\", \"companion\", \"companion\", \"companion\", \"companion\", \"companion\", \"companion\", \"companion\", \"companion\", \"companion\", \"companion\", \"companion\", \"companion\", \"companion\", \"compass\", \"compass\", \"compass\", \"comprehend\", \"comprehend\", \"comprehend\", \"comprehend\", \"connect\", \"connect\", \"connect\", \"connect\", \"connect\", \"connect\", \"connect\", \"considerable\", \"considerable\", \"considerable\", \"considerable\", \"considerable\", \"contain\", \"contain\", \"contain\", \"contain\", \"contain\", \"contain\", \"contain\", \"contain\", \"contain\", \"contain\", \"contest\", \"contest\", \"contest\", \"contest\", \"contest\", \"contest\", \"continue_journey\", \"continue_journey\", \"continue_journey\", \"continue_journey\", \"continue_journey\", \"continue_journey\", \"continue_journey\", \"continue_journey\", \"contract\", \"contract\", \"contract\", \"convenient\", \"convenient\", \"convenient\", \"convenient\", \"cook\", \"cook\", \"cook\", \"cook\", \"cook\", \"cook\", \"cook\", \"cook\", \"cook\", \"cook\", \"cook\", \"cook\", \"cook\", \"cook\", \"cook\", \"cook\", \"cook\", \"copper\", \"copper\", \"copper\", \"copper\", \"copper\", \"copper\", \"copper\", \"copper\", \"copper\", \"copper\", \"copper\", \"copper\", \"copper\", \"copper\", \"corpse\", \"corpse\", \"corpse\", \"corpse\", \"corpse\", \"corpse\", \"corpse\", \"corpse\", \"corpse\", \"corpse\", \"corpse\", \"cottage\", \"cottage\", \"cottage\", \"cottage\", \"cottage\", \"cottage\", \"cottage\", \"cottage\", \"cottage\", \"cottage\", \"cottage\", \"cottage\", \"cottage\", \"cottage\", \"counsellor\", \"counsellor\", \"counsellor\", \"counsellor\", \"counsellor\", \"counsellor\", \"court\", \"court\", \"court\", \"court\", \"court\", \"court\", \"court\", \"court\", \"court\", \"court\", \"court\", \"court\", \"court\", \"crab\", \"crab\", \"crab\", \"crab\", \"crab\", \"crab\", \"crab\", \"crackle\", \"crackle\", \"crackle\", \"crackle\", \"crackle\", \"crackle\", \"crackle\", \"create\", \"create\", \"create\", \"create\", \"create\", \"crew\", \"crew\", \"crew\", \"crew\", \"crew\", \"crew\", \"croak\", \"croak\", \"croak\", \"croak\", \"croak\", \"croak\", \"croak\", \"croak\", \"croak\", \"croak\", \"croak\", \"cross_road\", \"cross_road\", \"cross_road\", \"cross_road\", \"cross_road\", \"cross_road\", \"crumb\", \"crumb\", \"crumb\", \"crumb\", \"crumb\", \"crumb\", \"crumb\", \"crumb\", \"cry\", \"cry\", \"cry\", \"cry\", \"cry\", \"cry\", \"cry\", \"cry\", \"cry\", \"cry\", \"cry\", \"cry\", \"cry\", \"cry\", \"cry\", \"cry\", \"cry\", \"cry\", \"cry\", \"cunne\", \"cunne\", \"cunne\", \"cunne\", \"cunne\", \"cunne\", \"cunne\", \"cunne\", \"cunne\", \"cunne\", \"curly\", \"curly\", \"curly\", \"curly\", \"curly\", \"curly\", \"customer\", \"customer\", \"customer\", \"customer\", \"cypress\", \"cypress\", \"cypress\", \"dame\", \"dame\", \"dame\", \"dame\", \"dame\", \"dame\", \"dame\", \"damsel\", \"damsel\", \"damsel\", \"damsel\", \"damsel\", \"dark\", \"dark\", \"dark\", \"dark\", \"dark\", \"dark\", \"dark\", \"dark\", \"dark\", \"dark\", \"dark\", \"dark\", \"dark\", \"dark\", \"dark\", \"dark\", \"dark\", \"dasent\", \"dasent\", \"date\", \"date\", \"date\", \"date\", \"date\", \"daughter\", \"daughter\", \"daughter\", \"daughter\", \"daughter\", \"daughter\", \"daughter\", \"daughter\", \"daughter\", \"daughter\", \"daughter\", \"daughter\", \"daughter\", \"daughter\", \"daughter\", \"daughter\", \"daughter\", \"daughter\", \"daughter\", \"dear\", \"dear\", \"dear\", \"dear\", \"dear\", \"dear\", \"dear\", \"dear\", \"dear\", \"dear\", \"dear\", \"dear\", \"dear\", \"dear\", \"dear\", \"dear\", \"dear\", \"dear\", \"dear\", \"death\", \"death\", \"death\", \"death\", \"death\", \"death\", \"death\", \"death\", \"death\", \"death\", \"death\", \"death\", \"death\", \"death\", \"death\", \"death\", \"death\", \"death\", \"death\", \"deathless\", \"deathless\", \"deer\", \"deer\", \"deer\", \"deer\", \"deer\", \"deer\", \"deer\", \"deer\", \"defence\", \"defence\", \"defence\", \"defence\", \"defence\", \"deliverance\", \"deliverance\", \"deliverance\", \"deliverance\", \"deliverance\", \"deliverance\", \"deliverer\", \"deliverer\", \"deliverer\", \"deliverer\", \"deliverer\", \"deliverer\", \"demon\", \"demon\", \"demon\", \"demon\", \"demon\", \"demon\", \"demon\", \"demon\", \"demon\", \"demon\", \"denton\", \"der\", \"der\", \"der\", \"der\", \"der\", \"deserted\", \"design\", \"design\", \"design\", \"design\", \"design\", \"design\", \"desire\", \"desire\", \"desire\", \"desire\", \"desire\", \"desire\", \"desire\", \"desire\", \"desire\", \"desire\", \"desire\", \"desire\", \"desire\", \"desire\", \"desire\", \"desire\", \"devil\", \"devil\", \"devil\", \"devil\", \"devil\", \"devil\", \"devil\", \"devil\", \"devil\", \"devil\", \"devil\", \"devil\", \"devil\", \"devoted\", \"devoted\", \"devoted\", \"devoted\", \"diamond\", \"diamond\", \"diamond\", \"diamond\", \"diamond\", \"diamond\", \"diamond\", \"diamond\", \"diamond\", \"diamond\", \"diamond\", \"diamond\", \"diamond_ruby\", \"diamond_ruby\", \"diamond_ruby\", \"diamond_ruby\", \"diamond_ruby\", \"diamond_ruby\", \"diana\", \"didst_thou\", \"didst_thou\", \"didst_thou\", \"didst_thou\", \"dig_hole\", \"dig_hole\", \"dig_hole\", \"dig_hole\", \"dig_hole\", \"dig_hole\", \"dinner\", \"dinner\", \"dinner\", \"dinner\", \"dinner\", \"dinner\", \"dinner\", \"dinner\", \"dinner\", \"dinner\", \"dinner\", \"dinner\", \"dinner\", \"dinner\", \"discharge\", \"discharge\", \"discharge\", \"discharge\", \"discharge\", \"discourse\", \"discourse\", \"discourse\", \"displease\", \"displease\", \"displease\", \"displease\", \"displeased\", \"displeased\", \"displeased\", \"disposal\", \"disposal\", \"disposal\", \"doctor\", \"doctor\", \"doctor\", \"doctor\", \"doctor\", \"doctor\", \"doctor\", \"doctor\", \"dog\", \"dog\", \"dog\", \"dog\", \"dog\", \"dog\", \"dog\", \"dog\", \"dog\", \"dog\", \"dog\", \"dog\", \"dog\", \"dog\", \"dog\", \"dog\", \"dog\", \"doll\", \"doll\", \"doll\", \"doll\", \"doll\", \"dollar\", \"dollar\", \"dollar\", \"dollar\", \"dollar\", \"donkey\", \"donkey\", \"donkey\", \"donkey\", \"donkey\", \"donkey\", \"door\", \"door\", \"door\", \"door\", \"door\", \"door\", \"door\", \"door\", \"door\", \"door\", \"door\", \"door\", \"door\", \"door\", \"door\", \"door\", \"door\", \"door\", \"door\", \"dost_thou\", \"dost_thou\", \"dost_thou\", \"dost_thou\", \"dost_thou\", \"dough\", \"dough\", \"dough\", \"dough\", \"dove\", \"dove\", \"dove\", \"dove\", \"dove\", \"dove\", \"dove\", \"dove\", \"dove\", \"dove\", \"dr\", \"dr\", \"dr\", \"dr\", \"dragon\", \"dragon\", \"dragon\", \"dragon\", \"dragon\", \"dragon\", \"dragon\", \"dragon\", \"dragon\", \"dragon\", \"dragon\", \"dragon\", \"dream\", \"dream\", \"dream\", \"dream\", \"dream\", \"dream\", \"dream\", \"dream\", \"dream\", \"dream\", \"dream\", \"dream\", \"dream\", \"dream\", \"dream\", \"dream\", \"dreamt\", \"dreamt\", \"dreamt\", \"dreamt\", \"dreamt\", \"dreamt\", \"dreamt\", \"dress\", \"dress\", \"dress\", \"dress\", \"dress\", \"dress\", \"dress\", \"dress\", \"dress\", \"dress\", \"dress\", \"dress\", \"dress\", \"dress\", \"dress\", \"dress\", \"dress\", \"dress\", \"dress\", \"drum\", \"drum\", \"drum\", \"drum\", \"drum\", \"drum\", \"drum\", \"drum\", \"drum\", \"drum\", \"duck\", \"duck\", \"duck\", \"duck\", \"duck\", \"duck\", \"duck\", \"duck\", \"duck\", \"duck\", \"duck\", \"duck\", \"duck\", \"duke\", \"duke\", \"duke\", \"duke\", \"duke\", \"duke\", \"dwarf\", \"dwarf\", \"dwarf\", \"dwarf\", \"dwarf\", \"dwarf\", \"dwarf\", \"dwarf\", \"dwarf\", \"dwarf\", \"dwarf\", \"dwarf\", \"dweller\", \"dweller\", \"dweller\", \"dweller\", \"dweller\", \"dweller_asgard\", \"dweller_asgard\", \"dweller_asgard\", \"dynasty\", \"dynasty\", \"dynasty\", \"dynasty\", \"eagle_fly\", \"eagle_fly\", \"eagle_fly\", \"eagle_fly\", \"eagle_fly\", \"eagle_fly\", \"earth\", \"earth\", \"earth\", \"earth\", \"earth\", \"earth\", \"earth\", \"earth\", \"earth\", \"earth\", \"earth\", \"earth\", \"earth\", \"earth\", \"earth\", \"earth\", \"earth\", \"earth\", \"earth\", \"earthly\", \"earthly\", \"earthly\", \"earthly\", \"earthly\", \"earthly\", \"eat\", \"eat\", \"eat\", \"eat\", \"eat\", \"eat\", \"eat\", \"eat\", \"eat\", \"eat\", \"eat\", \"eat\", \"eat\", \"eat\", \"eat\", \"eat\", \"eat\", \"eat\", \"eat\", \"egg\", \"egg\", \"egg\", \"egg\", \"egg\", \"egg\", \"egg\", \"egg\", \"egg\", \"egg\", \"egg\", \"egg\", \"egg\", \"egg\", \"elephant\", \"elephant\", \"elephant\", \"elephant\", \"elephant\", \"elephant\", \"elf\", \"elf\", \"elf\", \"elf\", \"elf\", \"elf\", \"ell\", \"ell\", \"ell\", \"ell\", \"ell\", \"ell\", \"em\", \"em\", \"em\", \"em\", \"embark\", \"embark\", \"embark\", \"embark\", \"emperor\", \"emperor\", \"emperor\", \"emperor\", \"emperor\", \"emperor\", \"emperor\", \"emperor\", \"empire\", \"empire\", \"empire\", \"empire\", \"empire\", \"empire\", \"empire\", \"empire\", \"empress\", \"empress\", \"empress\", \"enchanter\", \"enchanter\", \"enchanter\", \"enchanter\", \"endeavour\", \"endeavour\", \"endeavour\", \"enrich\", \"enrich\", \"enrich\", \"enter\", \"enter\", \"enter\", \"enter\", \"enter\", \"enter\", \"enter\", \"enter\", \"enter\", \"enter\", \"enter\", \"enter\", \"enter\", \"enter\", \"enter\", \"enter\", \"enter\", \"enter\", \"enter\", \"erdelyi\", \"erin\", \"erin\", \"erin\", \"erin\", \"erin\", \"erin\", \"erin\", \"erin\", \"establish\", \"establish\", \"establish\", \"establish\", \"establish\", \"ever\", \"ever\", \"ever\", \"ever\", \"ever\", \"ever\", \"ever\", \"ever\", \"ever\", \"ever\", \"ever\", \"ever\", \"ever\", \"ever\", \"ever\", \"ever\", \"ever\", \"ever\", \"ever\", \"evermore\", \"evermore\", \"evermore\", \"everything_happen\", \"everything_happen\", \"everything_happen\", \"everything_happen\", \"everything_happen\", \"everything_happen\", \"everything_happen\", \"everything_happen\", \"evil\", \"evil\", \"evil\", \"evil\", \"evil\", \"evil\", \"evil\", \"evil\", \"evil\", \"evil\", \"evil\", \"evil\", \"evil\", \"evil\", \"evil\", \"evil\", \"evil\", \"evil\", \"examination\", \"examination\", \"examination\", \"execute\", \"execute\", \"execute\", \"execute\", \"execute\", \"execute\", \"execute\", \"executioner\", \"executioner\", \"executioner\", \"executioner\", \"expose\", \"expose\", \"expose\", \"expose\", \"expose\", \"expose\", \"expose\", \"exquisite\", \"exquisite\", \"exquisite\", \"exquisite\", \"exquisite\", \"extraordinary\", \"extraordinary\", \"extraordinary\", \"extraordinary\", \"extraordinary\", \"extraordinary\", \"extraordinary\", \"extraordinary\", \"extraordinary\", \"eye\", \"eye\", \"eye\", \"eye\", \"eye\", \"eye\", \"eye\", \"eye\", \"eye\", \"eye\", \"eye\", \"eye\", \"eye\", \"eye\", \"eye\", \"eye\", \"eye\", \"eye\", \"eye\", \"face\", \"face\", \"face\", \"face\", \"face\", \"face\", \"face\", \"face\", \"face\", \"face\", \"face\", \"face\", \"face\", \"face\", \"face\", \"face\", \"face\", \"face\", \"face\", \"failure\", \"failure\", \"failure\", \"failure\", \"fair\", \"fair\", \"fair\", \"fair\", \"fair\", \"fair\", \"fair\", \"fair\", \"fair\", \"fair\", \"fair\", \"fair\", \"fair\", \"fair\", \"fair\", \"fair\", \"fair\", \"fair\", \"fair\", \"fairy\", \"fairy\", \"fairy\", \"fairy\", \"fairy\", \"fairy\", \"fairy\", \"fairy\", \"fairy\", \"fairy\", \"fairy\", \"fairy\", \"fairy\", \"faithful_servant\", \"faithful_servant\", \"faithful_servant\", \"faithful_servant\", \"faithful_servant\", \"falcon\", \"falcon\", \"falcon\", \"falcon\", \"falcon\", \"falcon\", \"falcon\", \"falcon\", \"falcon\", \"family\", \"family\", \"family\", \"family\", \"family\", \"family\", \"family\", \"family\", \"family\", \"family\", \"family\", \"family\", \"family\", \"family\", \"farm\", \"farm\", \"farm\", \"farm\", \"farm\", \"farm\", \"farm\", \"farm\", \"farm\", \"farm\", \"farmer\", \"farmer\", \"farmer\", \"farmer\", \"farmer\", \"farmer\", \"farmer\", \"farmer\", \"farmer\", \"farmer\", \"farmer\", \"farmer\", \"farmhouse\", \"farmhouse\", \"farmhouse\", \"farthing\", \"farthing\", \"farthing\", \"fat\", \"fat\", \"fat\", \"fat\", \"fat\", \"fat\", \"fat\", \"fat\", \"fat\", \"fat\", \"fat\", \"fat\", \"fat\", \"fat\", \"father\", \"father\", \"father\", \"father\", \"father\", \"father\", \"father\", \"father\", \"father\", \"father\", \"father\", \"father\", \"father\", \"father\", \"father\", \"father\", \"father\", \"father\", \"father\", \"favourable\", \"favourable\", \"favourable\", \"favourable\", \"fearfully\", \"fearfully\", \"fearfully\", \"fearfully\", \"fearless\", \"fearless\", \"fearless\", \"fearless\", \"fern\", \"fern\", \"fern\", \"ferocious\", \"ferocious\", \"fierce\", \"fierce\", \"fierce\", \"fierce\", \"fierce\", \"fierce\", \"fierce\", \"fierce\", \"fierce\", \"fifteen_year\", \"fifteen_year\", \"fifteen_year\", \"fifteen_year\", \"fifteen_year\", \"fifteen_year\", \"fifteen_year\", \"fin\", \"fin\", \"fin\", \"fin\", \"finery\", \"finery\", \"finnish\", \"finnish\", \"finnish_story\", \"fir_tree\", \"fir_tree\", \"fir_tree\", \"fir_tree\", \"fir_tree\", \"fir_tree\", \"fir_tree\", \"fir_tree\", \"fire\", \"fire\", \"fire\", \"fire\", \"fire\", \"fire\", \"fire\", \"fire\", \"fire\", \"fire\", \"fire\", \"fire\", \"fire\", \"fire\", \"fire\", \"fire\", \"fire\", \"fire\", \"fire\", \"fireplace\", \"fireplace\", \"fireplace\", \"fireplace\", \"fireplace\", \"first\", \"first\", \"first\", \"first\", \"first\", \"first\", \"first\", \"first\", \"first\", \"first\", \"first\", \"first\", \"first\", \"first\", \"first\", \"first\", \"first\", \"first\", \"first\", \"fish\", \"fish\", \"fish\", \"fish\", \"fish\", \"fish\", \"fish\", \"fish\", \"fish\", \"fish\", \"fish\", \"fish\", \"fish\", \"fish\", \"fish\", \"fish\", \"fish\", \"fish\", \"fisher\", \"fisher\", \"fisher\", \"fisher\", \"fisherman\", \"fisherman\", \"fisherman\", \"fisherman\", \"fisherman\", \"fisherman\", \"fisherman\", \"fishing\", \"fishing\", \"fishing\", \"fishing\", \"fishing\", \"fishing\", \"fishing\", \"flag\", \"flag\", \"flag\", \"flag\", \"flag\", \"flag\", \"flame\", \"flame\", \"flame\", \"flame\", \"flame\", \"flame\", \"flame\", \"flame\", \"flame\", \"flame\", \"flame\", \"flame\", \"flame\", \"flask\", \"flask\", \"flask\", \"flask\", \"flask\", \"flask\", \"flask\", \"flask\", \"flask\", \"flax\", \"flax\", \"flax\", \"flax\", \"flax\", \"flea\", \"flea\", \"flea\", \"flea\", \"flea\", \"flea\", \"flour\", \"flour\", \"flour\", \"flour\", \"flour\", \"flour\", \"flour\", \"flour\", \"flour\", \"flour\", \"flour\", \"flower\", \"flower\", \"flower\", \"flower\", \"flower\", \"flower\", \"flower\", \"flower\", \"flower\", \"flower\", \"flower\", \"flower\", \"flower\", \"flower\", \"flower\", \"flower\", \"flower\", \"fly\", \"fly\", \"fly\", \"fly\", \"fly\", \"fly\", \"fly\", \"fly\", \"fly\", \"fly\", \"fly\", \"fly\", \"fly\", \"fly\", \"fly\", \"fly\", \"fly\", \"fly\", \"fly\", \"foal\", \"foal\", \"foal\", \"foal\", \"foal\", \"folk_lore\", \"folk_tale\", \"folk_tale\", \"following_morning\", \"following_morning\", \"following_morning\", \"following_morning\", \"food\", \"food\", \"food\", \"food\", \"food\", \"food\", \"food\", \"food\", \"food\", \"food\", \"food\", \"food\", \"food\", \"food\", \"food\", \"food\", \"food\", \"food\", \"food\", \"foot\", \"foot\", \"foot\", \"foot\", \"foot\", \"foot\", \"foot\", \"foot\", \"foot\", \"foot\", \"foot\", \"foot\", \"foot\", \"foot\", \"foot\", \"foot\", \"foot\", \"foot\", \"foot\", \"forest\", \"forest\", \"forest\", \"forest\", \"forest\", \"forest\", \"forest\", \"forest\", \"forest\", \"forest\", \"forest\", \"forest\", \"forest\", \"forest\", \"forest\", \"forest\", \"forest\", \"forest\", \"forest\", \"forge\", \"forge\", \"forge\", \"forge\", \"forge\", \"forge\", \"forge\", \"forge\", \"forge\", \"forth\", \"forth\", \"forth\", \"forth\", \"forth\", \"forth\", \"forth\", \"forth\", \"forth\", \"forth\", \"forth\", \"forth\", \"forth\", \"forth\", \"forth\", \"forth\", \"forth\", \"fortress\", \"fortress\", \"fortress\", \"fortress\", \"fortress\", \"fortress\", \"fortress\", \"fox\", \"fox\", \"fox\", \"fox\", \"fox\", \"fox\", \"fox\", \"fox\", \"fox\", \"fox\", \"fox\", \"freeze\", \"freeze\", \"freeze\", \"freeze\", \"freeze\", \"freeze\", \"freeze\", \"freeze\", \"freeze\", \"freeze\", \"freeze\", \"freeze\", \"freeze\", \"fret\", \"fret\", \"fret\", \"fret\", \"fret\", \"fret\", \"frey\", \"frey\", \"freya\", \"freya\", \"freya\", \"friday\", \"friday\", \"friday\", \"friday\", \"friday\", \"friday\", \"friday\", \"friend\", \"friend\", \"friend\", \"friend\", \"friend\", \"friend\", \"friend\", \"friend\", \"friend\", \"friend\", \"friend\", \"friend\", \"friend\", \"friend\", \"friend\", \"friend\", \"friend\", \"friend\", \"friis\", \"frog\", \"frog\", \"frog\", \"frog\", \"frog\", \"frog\", \"frog\", \"frog\", \"frog\", \"frost\", \"frost\", \"frost\", \"frost\", \"frost\", \"frost\", \"frost\", \"frost\", \"fry\", \"fry\", \"fry\", \"fry\", \"fry\", \"fur\", \"fur\", \"fur\", \"fur\", \"fur\", \"fur\", \"fur\", \"fur\", \"fur\", \"fur\", \"fur\", \"fur\", \"fur\", \"fur\", \"gallop\", \"gallop\", \"gallop\", \"gallop\", \"gallop\", \"gallop\", \"gallop\", \"gallop\", \"gallop\", \"gallop\", \"gallop\", \"gallop\", \"gallop\", \"game\", \"game\", \"game\", \"game\", \"game\", \"game\", \"game\", \"game\", \"game\", \"game\", \"game\", \"game\", \"gardener\", \"gardener\", \"gardener\", \"garret\", \"garret\", \"garret\", \"garret\", \"garret\", \"gate\", \"gate\", \"gate\", \"gate\", \"gate\", \"gate\", \"gate\", \"gate\", \"gate\", \"gate\", \"gate\", \"gate\", \"gate\", \"gate\", \"gate\", \"gate\", \"gate\", \"gaze\", \"gaze\", \"gaze\", \"gaze\", \"gaze\", \"gaze\", \"gaze\", \"gaze\", \"gaze\", \"gaze\", \"gaze\", \"gaze\", \"gaze\", \"gaze\", \"gem\", \"gem\", \"gem\", \"gem\", \"gem\", \"gem\", \"gem\", \"get\", \"get\", \"get\", \"get\", \"get\", \"get\", \"get\", \"get\", \"get\", \"get\", \"get\", \"get\", \"get\", \"get\", \"get\", \"get\", \"get\", \"get\", \"get\", \"ghost\", \"ghost\", \"ghost\", \"ghost\", \"ghost\", \"ghost\", \"ghost\", \"giant\", \"giant\", \"giant\", \"giant\", \"giant\", \"giant\", \"giant\", \"giant\", \"giant\", \"giant\", \"giant\", \"giant\", \"giant\", \"giant\", \"giant\", \"giant\", \"giantess\", \"giantess\", \"giantess\", \"giantess\", \"giantess\", \"giantess\", \"girl\", \"girl\", \"girl\", \"girl\", \"girl\", \"girl\", \"girl\", \"girl\", \"girl\", \"girl\", \"girl\", \"girl\", \"girl\", \"girl\", \"girl\", \"girl\", \"glow\", \"glow\", \"glow\", \"glow\", \"glow\", \"glow\", \"glow\", \"glow\", \"gnome\", \"gnome\", \"gnome\", \"gnome\", \"goal\", \"goal\", \"goal\", \"goal\", \"goat\", \"goat\", \"goat\", \"goat\", \"goat\", \"goat\", \"goat\", \"goat\", \"goat\", \"goat\", \"goat\", \"goat\", \"goat\", \"goat\", \"god\", \"god\", \"god\", \"god\", \"god\", \"god\", \"god\", \"god\", \"god\", \"god\", \"god\", \"god\", \"god\", \"god\", \"god\", \"god\", \"god\", \"god\", \"goddess\", \"goddess\", \"goddess\", \"godmother\", \"godmother\", \"godmother\", \"godmother\", \"gold_piece\", \"gold_piece\", \"gold_piece\", \"gold_piece\", \"gold_piece\", \"gold_piece\", \"gold_piece\", \"gold_piece\", \"golden\", \"golden\", \"golden\", \"golden\", \"golden\", \"golden\", \"golden\", \"golden\", \"golden\", \"golden\", \"golden\", \"golden\", \"golden\", \"golden\", \"golden\", \"golden\", \"golden\", \"golden\", \"golden_apple\", \"golden_apple\", \"golden_apple\", \"golden_apple\", \"golden_apple\", \"golden_apple\", \"good\", \"good\", \"good\", \"good\", \"good\", \"good\", \"good\", \"good\", \"good\", \"good\", \"good\", \"good\", \"good\", \"good\", \"good\", \"good\", \"good\", \"good\", \"good\", \"goody\", \"goody\", \"goody\", \"goody\", \"goody\", \"goose\", \"goose\", \"goose\", \"goose\", \"goose\", \"goose\", \"goose\", \"goose\", \"goose\", \"goose\", \"goose\", \"graciously\", \"graciously\", \"graciously\", \"graciously\", \"graciously\", \"graciously\", \"gradually\", \"gradually\", \"gradually\", \"gradually\", \"gradually\", \"gradually\", \"gradually\", \"gradually\", \"gradually\", \"gradually\", \"gradually\", \"gradually\", \"gradually\", \"gradually\", \"grand_vizier\", \"grand_vizier\", \"grandchild\", \"grandchild\", \"grandchild\", \"grandchild\", \"grandchild\", \"grandmother\", \"grandmother\", \"grandmother\", \"grandmother\", \"grandmother\", \"grandmother\", \"grandmother\", \"grandmother\", \"grandmother\", \"grandmother\", \"great\", \"great\", \"great\", \"great\", \"great\", \"great\", \"great\", \"great\", \"great\", \"great\", \"great\", \"great\", \"great\", \"great\", \"great\", \"great\", \"great\", \"great\", \"great\", \"green\", \"green\", \"green\", \"green\", \"green\", \"green\", \"green\", \"green\", \"green\", \"green\", \"green\", \"green\", \"green\", \"green\", \"green\", \"green\", \"grey\", \"grey\", \"grey\", \"grey\", \"grey\", \"grey\", \"grey\", \"grey\", \"grey\", \"grey\", \"grey\", \"grey\", \"grey\", \"grey\", \"grey\", \"grey\", \"greyhound\", \"greyhound\", \"greyhound\", \"greyhound\", \"greyhound\", \"greyhound\", \"grimm\", \"grimm\", \"grimm\", \"grimm\", \"grimm\", \"grimm\", \"grimm\", \"grimm\", \"grimm\", \"grimm\", \"grimm\", \"grimm_vol\", \"grind\", \"grind\", \"grind\", \"grind\", \"grind\", \"grind\", \"grind\", \"grind\", \"grind\", \"grind\", \"grind\", \"grind\", \"groaning\", \"groaning\", \"groaning\", \"groaning\", \"groaning\", \"groaning\", \"groom\", \"groom\", \"groom\", \"groom\", \"groom\", \"groom\", \"groom\", \"grow\", \"grow\", \"grow\", \"grow\", \"grow\", \"grow\", \"grow\", \"grow\", \"grow\", \"grow\", \"grow\", \"grow\", \"grow\", \"grow\", \"grow\", \"grow\", \"grow\", \"grow\", \"grow\", \"gubernatis_vol\", \"hag\", \"hag\", \"hag\", \"hag\", \"hag\", \"hag\", \"hag\", \"hag\", \"hag\", \"hag\", \"half_kingdom\", \"half_kingdom\", \"half_kingdom\", \"half_kingdom\", \"hall\", \"hall\", \"hall\", \"hall\", \"hall\", \"hall\", \"hall\", \"hall\", \"hall\", \"hall\", \"hall\", \"hall\", \"hall\", \"hall\", \"hall\", \"hammer\", \"hammer\", \"hammer\", \"hammer\", \"hammer\", \"hammer\", \"hammer\", \"hammer\", \"hammer\", \"hammer\", \"hammer\", \"hammer\", \"hammer\", \"han\", \"han\", \"han\", \"hand\", \"hand\", \"hand\", \"hand\", \"hand\", \"hand\", \"hand\", \"hand\", \"hand\", \"hand\", \"hand\", \"hand\", \"hand\", \"hand\", \"hand\", \"hand\", \"hand\", \"hand\", \"hand\", \"handsome_youth\", \"handsome_youth\", \"handsome_youth\", \"handsome_youth\", \"happen\", \"happen\", \"happen\", \"happen\", \"happen\", \"happen\", \"happen\", \"happen\", \"happen\", \"happen\", \"happen\", \"happen\", \"happen\", \"happen\", \"happen\", \"happen\", \"happen\", \"happen\", \"happen\", \"happy\", \"happy\", \"happy\", \"happy\", \"happy\", \"happy\", \"happy\", \"happy\", \"happy\", \"happy\", \"happy\", \"happy\", \"happy\", \"happy\", \"happy\", \"happy\", \"happy\", \"happy\", \"harbour\", \"harbour\", \"harbour\", \"harbour\", \"harbour\", \"hare\", \"hare\", \"hare\", \"hare\", \"hare\", \"hare\", \"hare\", \"hare\", \"hare\", \"hare\", \"hare\", \"hast_thou\", \"hast_thou\", \"hast_thou\", \"hast_thou\", \"hast_thou\", \"hast_thou\", \"hath\", \"hath\", \"hath\", \"hath\", \"hath\", \"hath\", \"hath\", \"hawk\", \"hawk\", \"hawk\", \"hawk\", \"hawk\", \"hawk\", \"hawk\", \"hawk\", \"hawk\", \"hawk\", \"hay\", \"hay\", \"hay\", \"hay\", \"hay\", \"hay\", \"hay\", \"hay\", \"hay\", \"hay\", \"hay\", \"hay\", \"hazel\", \"hazel\", \"hazel\", \"hazel\", \"head\", \"head\", \"head\", \"head\", \"head\", \"head\", \"head\", \"head\", \"head\", \"head\", \"head\", \"head\", \"head\", \"head\", \"head\", \"head\", \"head\", \"head\", \"head\", \"hear\", \"hear\", \"hear\", \"hear\", \"hear\", \"hear\", \"hear\", \"hear\", \"hear\", \"hear\", \"hear\", \"hear\", \"hear\", \"hear\", \"hear\", \"hear\", \"hear\", \"hear\", \"hear\", \"heart\", \"heart\", \"heart\", \"heart\", \"heart\", \"heart\", \"heart\", \"heart\", \"heart\", \"heart\", \"heart\", \"heart\", \"heart\", \"heart\", \"heart\", \"heart\", \"heart\", \"heart\", \"heart\", \"helmet\", \"helmet\", \"helmet\", \"helmet\", \"helmet\", \"helmet\", \"helmet\", \"hen\", \"hen\", \"hen\", \"hen\", \"hen\", \"hen\", \"hen\", \"hen\", \"hen\", \"hen\", \"hen\", \"hen\", \"herd\", \"herd\", \"herd\", \"herd\", \"herd\", \"herd\", \"herd\", \"herd\", \"herd\", \"herd\", \"herd\", \"herd\", \"herd\", \"herd\", \"hermit\", \"hermit\", \"hermit\", \"hermit\", \"hermit\", \"hermit\", \"hermit\", \"hero\", \"hero\", \"hero\", \"hero\", \"hero\", \"hero\", \"hero\", \"hero\", \"hero\", \"hero\", \"hero\", \"hero\", \"hill_dale\", \"hill_dale\", \"hill_dale\", \"hill_dale\", \"hill_dale\", \"hill_dale\", \"hoard\", \"hoard\", \"hoard\", \"hoard\", \"hoard\", \"home\", \"home\", \"home\", \"home\", \"home\", \"home\", \"home\", \"home\", \"home\", \"home\", \"home\", \"home\", \"home\", \"home\", \"home\", \"home\", \"home\", \"home\", \"home\", \"honey\", \"honey\", \"honey\", \"honey\", \"honey\", \"honey\", \"honey\", \"honey\", \"honey\", \"honey\", \"honey\", \"honey\", \"honey\", \"honour\", \"honour\", \"honour\", \"honour\", \"honour\", \"honour\", \"honour\", \"honour\", \"honour\", \"honour\", \"honour\", \"honour\", \"honour\", \"hood\", \"hood\", \"hood\", \"hood\", \"hood\", \"hood\", \"horizon\", \"horizon\", \"horizon\", \"horizon\", \"horn\", \"horn\", \"horn\", \"horn\", \"horn\", \"horn\", \"horn\", \"horn\", \"horn\", \"horn\", \"horn\", \"horn\", \"horn\", \"horn\", \"horn\", \"horse\", \"horse\", \"horse\", \"horse\", \"horse\", \"horse\", \"horse\", \"horse\", \"horse\", \"horse\", \"horse\", \"horse\", \"horse\", \"horse\", \"horse\", \"horse\", \"horse\", \"horse\", \"horse\", \"horse_gallop\", \"horse_gallop\", \"horse_gallop\", \"horse_gallop\", \"horse_ride\", \"horse_ride\", \"horse_ride\", \"horse_ride\", \"horse_ride\", \"horse_ride\", \"horse_ride\", \"horse_ride\", \"horse_ride\", \"horse_ride\", \"horseman\", \"horseman\", \"horseman\", \"horseman\", \"horseman\", \"horseman\", \"horseman\", \"hound\", \"hound\", \"hound\", \"hound\", \"hound\", \"hound\", \"hound\", \"hound\", \"hound\", \"house\", \"house\", \"house\", \"house\", \"house\", \"house\", \"house\", \"house\", \"house\", \"house\", \"house\", \"house\", \"house\", \"house\", \"house\", \"house\", \"house\", \"house\", \"house\", \"housewife\", \"housewife\", \"housewife\", \"however\", \"however\", \"however\", \"however\", \"however\", \"however\", \"however\", \"however\", \"however\", \"however\", \"however\", \"however\", \"however\", \"however\", \"however\", \"however\", \"however\", \"hundred\", \"hundred\", \"hundred\", \"hundred\", \"hundred\", \"hundred\", \"hundred\", \"hundred\", \"hundred\", \"hundred\", \"hundred\", \"hundred\", \"hundred\", \"hundred\", \"hundred\", \"hundred\", \"hundred_thousand\", \"hundred_thousand\", \"hundred_thousand\", \"hundred_thousand\", \"hunger_thirst\", \"hunger_thirst\", \"hunger_thirst\", \"hunger_thirst\", \"hunger_thirst\", \"hungry_thirsty\", \"hungry_thirsty\", \"hungry_thirsty\", \"hungry_thirsty\", \"hungry_thirsty\", \"hunter\", \"hunter\", \"hunter\", \"hunter\", \"hunter\", \"hunter\", \"hunter\", \"hunter\", \"hunter\", \"hunter\", \"hunter\", \"hunter\", \"hunter\", \"huntsman\", \"huntsman\", \"huntsman\", \"huntsman\", \"huntsman\", \"huntsman\", \"huntsman\", \"huntsman\", \"husband\", \"husband\", \"husband\", \"husband\", \"husband\", \"husband\", \"husband\", \"husband\", \"husband\", \"husband\", \"husband\", \"husband\", \"husband\", \"husband\", \"husband\", \"husband\", \"husband\", \"husband\", \"hut\", \"hut\", \"hut\", \"hut\", \"hut\", \"hut\", \"hut\", \"hut\", \"hut\", \"hut\", \"hut\", \"hut\", \"hut\", \"hut\", \"hut\", \"hut\", \"hut\", \"ib\", \"icy\", \"icy\", \"icy\", \"icy\", \"idiot\", \"idiot\", \"idiot\", \"idiot\", \"ii\", \"ii\", \"iii\", \"iii\", \"immediately\", \"immediately\", \"immediately\", \"immediately\", \"immediately\", \"immediately\", \"immediately\", \"immediately\", \"immediately\", \"immediately\", \"immediately\", \"immediately\", \"immediately\", \"immediately\", \"immediately\", \"immediately\", \"immortal\", \"immortal\", \"immortal\", \"immortal\", \"impostor\", \"impostor\", \"impostor\", \"impostor\", \"impostor\", \"impudent\", \"impudent\", \"impudent\", \"impudent\", \"inclination\", \"inclination\", \"inform\", \"inform\", \"inform\", \"inform\", \"inform\", \"inform\", \"inform\", \"inform\", \"inscription\", \"inscription\", \"inscription\", \"inscription\", \"inscription\", \"insensible\", \"insensible\", \"insensible\", \"insensible\", \"ireland\", \"ireland\", \"ireland\", \"iron\", \"iron\", \"iron\", \"iron\", \"iron\", \"iron\", \"iron\", \"iron\", \"iron\", \"iron\", \"iron\", \"iron\", \"iron\", \"iron\", \"iron\", \"iron\", \"iron\", \"island\", \"island\", \"island\", \"island\", \"island\", \"island\", \"island\", \"island\", \"island\", \"island\", \"island\", \"ivan\", \"ivan\", \"ivan\", \"ivan\", \"ivan\", \"ivan\", \"ja\", \"jack\", \"jack\", \"jack\", \"jack\", \"jack\", \"jack\", \"jack\", \"jack\", \"japanese\", \"japanese\", \"japanese\", \"jar\", \"jar\", \"jar\", \"jar\", \"jar\", \"jar\", \"jar\", \"jar\", \"jaw\", \"jaw\", \"jaw\", \"jaw\", \"jaw\", \"jaw\", \"jaw\", \"jaw\", \"jaw\", \"jaw\", \"jest\", \"jest\", \"jest\", \"jest\", \"jest\", \"jest\", \"job\", \"job\", \"job\", \"job\", \"job\", \"john\", \"john\", \"john\", \"john\", \"john\", \"john\", \"john\", \"jolly\", \"jolly\", \"jolly\", \"jolly\", \"jolly\", \"jolly\", \"jolly\", \"jotunheim\", \"jotunheim\", \"jotunheim\", \"jotunheim\", \"jug\", \"jug\", \"jug\", \"jug\", \"jug\", \"jug\", \"jug\", \"jug\", \"jug\", \"jug\", \"kill\", \"kill\", \"kill\", \"kill\", \"kill\", \"kill\", \"kill\", \"kill\", \"kill\", \"kill\", \"kill\", \"kill\", \"kill\", \"kill\", \"kill\", \"kill\", \"kill\", \"kill\", \"king\", \"king\", \"king\", \"king\", \"king\", \"king\", \"king\", \"king\", \"king\", \"king\", \"king\", \"king\", \"king\", \"king\", \"king\", \"king\", \"king\", \"king\", \"kingdom\", \"kingdom\", \"kingdom\", \"kingdom\", \"kingdom\", \"kingdom\", \"kingdom\", \"kingdom\", \"kingdom\", \"kingdom\", \"kingdom\", \"kingdom\", \"kingdom\", \"kingdom\", \"kingdom\", \"kingdom\", \"kitchen\", \"kitchen\", \"kitchen\", \"kitchen\", \"kitchen\", \"kitchen\", \"kitchen\", \"kitchen\", \"kitchen\", \"kitchen\", \"kitchen\", \"kitchen\", \"kitchen\", \"kitchen\", \"kitten\", \"kitten\", \"kitten\", \"kitten\", \"kriza\", \"lace\", \"lace\", \"lace\", \"lace\", \"lace\", \"lace\", \"lace\", \"lad\", \"lad\", \"lad\", \"lad\", \"lad\", \"lad\", \"lad\", \"lad\", \"lad\", \"lad\", \"lad\", \"lad\", \"lad\", \"lad\", \"lad\", \"lad\", \"lady\", \"lady\", \"lady\", \"lady\", \"lady\", \"lady\", \"lady\", \"lady\", \"lady\", \"lady\", \"lady\", \"lady\", \"lady\", \"lady\", \"lady\", \"lady\", \"lady\", \"lady\", \"lady_waiting\", \"lady_waiting\", \"lady_waiting\", \"lady_waiting\", \"lady_waiting\", \"lamp\", \"lamp\", \"lamp\", \"lamp\", \"lamp\", \"lamp\", \"lamp\", \"lamp\", \"lamp\", \"lamp\", \"lance\", \"lance\", \"lance\", \"lance\", \"lance\", \"lance\", \"lance\", \"land\", \"land\", \"land\", \"land\", \"land\", \"land\", \"land\", \"land\", \"land\", \"land\", \"land\", \"land\", \"land\", \"land\", \"land\", \"land\", \"land\", \"land\", \"land\", \"landlord\", \"landlord\", \"landlord\", \"landlord\", \"landlord\", \"landlord\", \"lantern\", \"lantern\", \"lantern\", \"lantern\", \"lantern\", \"lantern\", \"lantern\", \"lapp\", \"lapp\", \"lapp\", \"lapp_story\", \"larder\", \"larder\", \"larder\", \"larder\", \"last\", \"last\", \"last\", \"last\", \"last\", \"last\", \"last\", \"last\", \"last\", \"last\", \"last\", \"last\", \"last\", \"last\", \"last\", \"last\", \"last\", \"last\", \"last\", \"latter\", \"latter\", \"latter\", \"latter\", \"latter\", \"latter\", \"latter\", \"latter\", \"latter\", \"latter\", \"latter\", \"latter\", \"latter\", \"latter\", \"laugh\", \"laugh\", \"laugh\", \"laugh\", \"laugh\", \"laugh\", \"laugh\", \"laugh\", \"laugh\", \"laugh\", \"laugh\", \"laugh\", \"laugh\", \"laugh\", \"laugh\", \"laugh\", \"laugh\", \"laugh\", \"laugh\", \"leader\", \"leader\", \"leader\", \"leader\", \"leave\", \"leave\", \"leave\", \"leave\", \"leave\", \"leave\", \"leave\", \"leave\", \"leave\", \"leave\", \"leave\", \"leave\", \"leave\", \"leave\", \"leave\", \"leave\", \"leave\", \"leave\", \"leave\", \"left_hand\", \"left_hand\", \"left_hand\", \"left_hand\", \"left_hand\", \"left_hand\", \"left_hand\", \"left_hand\", \"left_hand\", \"left_hand\", \"left_hand\", \"legend\", \"legend\", \"legend\", \"legend\", \"legend\", \"legend\", \"legged\", \"legged\", \"legged\", \"legged\", \"legged\", \"legged\", \"legged\", \"legged\", \"let\", \"let\", \"let\", \"let\", \"let\", \"let\", \"let\", \"let\", \"let\", \"let\", \"let\", \"let\", \"let\", \"let\", \"let\", \"let\", \"let\", \"let\", \"let\", \"letter\", \"letter\", \"letter\", \"letter\", \"letter\", \"letter\", \"letter\", \"letter\", \"lid\", \"lid\", \"lid\", \"lid\", \"lid\", \"lid\", \"lid\", \"lie\", \"lie\", \"lie\", \"lie\", \"lie\", \"lie\", \"lie\", \"lie\", \"lie\", \"lie\", \"lie\", \"lie\", \"lie\", \"lie\", \"lie\", \"lie\", \"lie\", \"lie\", \"lie\", \"life\", \"life\", \"life\", \"life\", \"life\", \"life\", \"life\", \"life\", \"life\", \"life\", \"life\", \"life\", \"life\", \"life\", \"life\", \"life\", \"life\", \"life\", \"life\", \"light\", \"light\", \"light\", \"light\", \"light\", \"light\", \"light\", \"light\", \"light\", \"light\", \"light\", \"light\", \"light\", \"light\", \"light\", \"light\", \"light\", \"light\", \"light\", \"lightning_flash\", \"lightning_flash\", \"like\", \"like\", \"like\", \"like\", \"like\", \"like\", \"like\", \"like\", \"like\", \"like\", \"like\", \"like\", \"like\", \"like\", \"like\", \"like\", \"like\", \"like\", \"like\", \"lion\", \"lion\", \"lion\", \"lion\", \"lion\", \"lion\", \"lion\", \"lion\", \"lion\", \"lion\", \"lion\", \"live\", \"live\", \"live\", \"live\", \"live\", \"live\", \"live\", \"live\", \"live\", \"live\", \"live\", \"live\", \"live\", \"live\", \"live\", \"live\", \"live\", \"live\", \"live\", \"liver\", \"liver\", \"liver\", \"liver\", \"liver\", \"loaf\", \"loaf\", \"loaf\", \"loaf\", \"loaf\", \"loaf\", \"loaf\", \"loaf\", \"loaf\", \"loaf\", \"loaf\", \"loan\", \"loan\", \"loan\", \"loan\", \"loan\", \"lofty\", \"lofty\", \"lofty\", \"lofty\", \"lofty\", \"lofty\", \"lofty\", \"log\", \"log\", \"log\", \"log\", \"log\", \"log\", \"log\", \"log\", \"log\", \"log\", \"log\", \"loki\", \"loki\", \"loki\", \"loki\", \"long\", \"long\", \"long\", \"long\", \"long\", \"long\", \"long\", \"long\", \"long\", \"long\", \"long\", \"long\", \"long\", \"long\", \"long\", \"long\", \"long\", \"long\", \"long\", \"looking_glass\", \"looking_glass\", \"looking_glass\", \"looking_glass\", \"looking_glass\", \"loom\", \"loom\", \"loom\", \"loom\", \"loom\", \"loom\", \"loom\", \"loom\", \"loop\", \"loop\", \"loop\", \"loop\", \"loop\", \"loop\", \"lord\", \"lord\", \"lord\", \"lord\", \"lord\", \"lord\", \"lord\", \"lord\", \"lord\", \"lord\", \"lord\", \"lord\", \"lord\", \"lord\", \"lord\", \"love\", \"love\", \"love\", \"love\", \"love\", \"love\", \"love\", \"love\", \"love\", \"love\", \"love\", \"love\", \"love\", \"love\", \"love\", \"love\", \"love\", \"love\", \"lovely\", \"lovely\", \"lovely\", \"lovely\", \"lovely\", \"lovely\", \"lovely\", \"lovely\", \"lovely\", \"lovely\", \"lovely\", \"lovely\", \"lovely\", \"lovely\", \"lovely\", \"lovely\", \"lovely\", \"lovely\", \"lovely_maiden\", \"lovely_maiden\", \"lovely_maiden\", \"lovely_maiden\", \"lovely_maiden\", \"mace\", \"mace\", \"mace\", \"mace\", \"mace\", \"mace\", \"madam\", \"madam\", \"madam\", \"madam\", \"madam\", \"madam\", \"magician\", \"magician\", \"magician\", \"magician\", \"magician\", \"magician\", \"magician\", \"magician\", \"magician\", \"magician\", \"magyar\", \"maiden\", \"maiden\", \"maiden\", \"maiden\", \"maiden\", \"maiden\", \"maiden\", \"maiden\", \"maiden\", \"maiden\", \"maiden\", \"maiden\", \"maiden\", \"maiden\", \"maiden\", \"maiden\", \"maiden\", \"maiden\", \"majesty\", \"majesty\", \"majesty\", \"majesty\", \"majesty\", \"majesty\", \"majesty\", \"majesty\", \"majesty\", \"majesty\", \"mamma\", \"mamma\", \"mamma\", \"mamma\", \"mamma\", \"man\", \"man\", \"man\", \"man\", \"man\", \"man\", \"man\", \"man\", \"man\", \"man\", \"man\", \"man\", \"man\", \"man\", \"man\", \"man\", \"man\", \"man\", \"man\", \"many\", \"many\", \"many\", \"many\", \"many\", \"many\", \"many\", \"many\", \"many\", \"many\", \"many\", \"many\", \"many\", \"many\", \"many\", \"many\", \"many\", \"many\", \"many\", \"mare\", \"mare\", \"mare\", \"mare\", \"mare\", \"mare\", \"maroosia\", \"maroosia\", \"maroosia\", \"marry\", \"marry\", \"marry\", \"marry\", \"marry\", \"marry\", \"marry\", \"marry\", \"marry\", \"marry\", \"marry\", \"marry\", \"marry\", \"marry\", \"marry\", \"marry\", \"marry\", \"marry\", \"marvellous\", \"marvellous\", \"marvellous\", \"marvellous\", \"marvellous\", \"marvellous\", \"marvellous\", \"marvellous\", \"mast\", \"mast\", \"mast\", \"mast\", \"mast\", \"master\", \"master\", \"master\", \"master\", \"master\", \"master\", \"master\", \"master\", \"master\", \"master\", \"master\", \"master\", \"master\", \"master\", \"master\", \"master\", \"master\", \"mate\", \"mate\", \"mate\", \"mate\", \"mate\", \"mate\", \"mate\", \"may\", \"may\", \"may\", \"may\", \"may\", \"may\", \"may\", \"may\", \"may\", \"may\", \"may\", \"may\", \"may\", \"may\", \"may\", \"may\", \"may\", \"may\", \"may\", \"meat\", \"meat\", \"meat\", \"meat\", \"meat\", \"meat\", \"meat\", \"meat\", \"meat\", \"meat\", \"meat\", \"meat\", \"meat\", \"meat\", \"meat\", \"meat\", \"merchant\", \"merchant\", \"merchant\", \"merchant\", \"merchant\", \"merchant\", \"merchant\", \"merchant\", \"merchant\", \"merchant\", \"merchant\", \"michael\", \"michael\", \"michael\", \"michael\", \"midgard\", \"midgard\", \"midgard\", \"mighty\", \"mighty\", \"mighty\", \"mighty\", \"mighty\", \"mighty\", \"mighty\", \"mighty\", \"mighty\", \"mighty\", \"mighty\", \"mighty\", \"mighty\", \"mighty\", \"mill\", \"mill\", \"mill\", \"mill\", \"mill\", \"mill\", \"mill\", \"mill\", \"mill\", \"mill\", \"miller\", \"miller\", \"miller\", \"miller\", \"miller\", \"miller\", \"miller\", \"miller\", \"misery\", \"misery\", \"misery\", \"misery\", \"misery\", \"misery\", \"misery\", \"misery\", \"misery\", \"misery\", \"misery\", \"misery\", \"misery\", \"moat\", \"moat\", \"modern\", \"modern\", \"modern\", \"money\", \"money\", \"money\", \"money\", \"money\", \"money\", \"money\", \"money\", \"money\", \"money\", \"money\", \"money\", \"money\", \"money\", \"money\", \"money\", \"money\", \"monk\", \"monk\", \"monk\", \"monk\", \"monk\", \"monkey\", \"monkey\", \"monkey\", \"monkey\", \"monkey\", \"monkey\", \"monkey\", \"monster\", \"monster\", \"monster\", \"monster\", \"monster\", \"monster\", \"monster\", \"monster\", \"monster\", \"monster\", \"monster\", \"moor\", \"moor\", \"moor\", \"moor\", \"moor\", \"moor\", \"moor\", \"moor\", \"moreover\", \"moreover\", \"moreover\", \"moreover\", \"moreover\", \"moreover\", \"moreover\", \"moreover\", \"moreover\", \"morn\", \"morn\", \"mortal\", \"mortal\", \"mortal\", \"mortal\", \"mortal\", \"mortal\", \"mortal\", \"mortal\", \"mortal\", \"mortal\", \"mortal\", \"mortal\", \"mother\", \"mother\", \"mother\", \"mother\", \"mother\", \"mother\", \"mother\", \"mother\", \"mother\", \"mother\", \"mother\", \"mother\", \"mother\", \"mother\", \"mother\", \"mother\", \"mother\", \"mother\", \"mother\", \"moujik\", \"moujik\", \"moujik\", \"moujik\", \"mountain\", \"mountain\", \"mountain\", \"mountain\", \"mountain\", \"mountain\", \"mountain\", \"mountain\", \"mountain\", \"mountain\", \"mountain\", \"mountain\", \"mountain\", \"mountain\", \"mountain\", \"mountain\", \"mountain\", \"mountain\", \"mouse\", \"mouse\", \"mouse\", \"mouse\", \"mouse\", \"mouse\", \"mouse\", \"mouse\", \"mouse\", \"mouse\", \"mouse\", \"mouse\", \"mouse\", \"mouse\", \"mouse\", \"mr\", \"mr\", \"mr\", \"mr\", \"mr\", \"mr\", \"mr\", \"mr\", \"mr\", \"mr\", \"mr\", \"much\", \"much\", \"much\", \"much\", \"much\", \"much\", \"much\", \"much\", \"much\", \"much\", \"much\", \"much\", \"much\", \"much\", \"much\", \"much\", \"much\", \"much\", \"much\", \"mule\", \"mule\", \"mule\", \"mule\", \"mule\", \"mule\", \"mule\", \"mule\", \"murderer\", \"murderer\", \"murderer\", \"murderer\", \"murderer\", \"murderer\", \"murderer\", \"murderer\", \"murderer\", \"murmur\", \"murmur\", \"murmur\", \"murmur\", \"murmur\", \"murmur\", \"murmur\", \"murmur\", \"murmur\", \"murmur\", \"murmur\", \"music\", \"music\", \"music\", \"music\", \"music\", \"music\", \"music\", \"music\", \"music\", \"music\", \"music\", \"musician\", \"musician\", \"musician\", \"musician\", \"musician\", \"musician\", \"musician\", \"musician\", \"must\", \"must\", \"must\", \"must\", \"must\", \"must\", \"must\", \"must\", \"must\", \"must\", \"must\", \"must\", \"must\", \"must\", \"must\", \"must\", \"must\", \"must\", \"must\", \"mysterious\", \"mysterious\", \"mysterious\", \"mysterious\", \"mysterious\", \"mysterious\", \"naked\", \"naked\", \"naked\", \"naked\", \"naked\", \"naked\", \"naked\", \"naked\", \"naked\", \"naked\", \"naked\", \"name\", \"name\", \"name\", \"name\", \"name\", \"name\", \"name\", \"name\", \"name\", \"name\", \"name\", \"name\", \"name\", \"name\", \"name\", \"name\", \"name\", \"name\", \"name\", \"nap\", \"nap\", \"nap\", \"nap\", \"nap\", \"natural_form\", \"natural_form\", \"natural_form\", \"natural_form\", \"natural_form\", \"natural_shape\", \"natural_shape\", \"nay\", \"nay\", \"nay\", \"nay\", \"nay\", \"nay\", \"nay\", \"nay\", \"nay\", \"nay\", \"nay\", \"neigh\", \"neigh\", \"neigh\", \"neigh\", \"neigh\", \"neigh\", \"net\", \"net\", \"net\", \"net\", \"net\", \"net\", \"net\", \"net\", \"net\", \"net\", \"net\", \"net\", \"never\", \"never\", \"never\", \"never\", \"never\", \"never\", \"never\", \"never\", \"never\", \"never\", \"never\", \"never\", \"never\", \"never\", \"never\", \"never\", \"never\", \"never\", \"never\", \"nevertheless\", \"nevertheless\", \"nevertheless\", \"nevertheless\", \"nevertheless\", \"nevertheless\", \"nevertheless\", \"nevertheless\", \"nevertheless\", \"nevertheless\", \"nibble\", \"nibble\", \"nibble\", \"nibble\", \"nibble\", \"nibble\", \"nibble\", \"night\", \"night\", \"night\", \"night\", \"night\", \"night\", \"night\", \"night\", \"night\", \"night\", \"night\", \"night\", \"night\", \"night\", \"night\", \"night\", \"night\", \"night\", \"night\", \"nightingale\", \"nightingale\", \"nightingale\", \"nightingale\", \"nightingale\", \"nightingale\", \"nightingale\", \"nightingale\", \"nobleman\", \"nobleman\", \"nobleman\", \"nobleman\", \"nobleman\", \"nobleman\", \"norse\", \"note\", \"note\", \"note\", \"note\", \"note\", \"note\", \"note\", \"note\", \"note\", \"note\", \"nothing\", \"nothing\", \"nothing\", \"nothing\", \"nothing\", \"nothing\", \"nothing\", \"nothing\", \"nothing\", \"nothing\", \"nothing\", \"nothing\", \"nothing\", \"nothing\", \"nothing\", \"nothing\", \"nothing\", \"nothing\", \"nothing\", \"notwithstanding\", \"notwithstanding\", \"notwithstanding\", \"notwithstanding\", \"notwithstanding\", \"notwithstanding\", \"notwithstanding\", \"notwithstanding\", \"notwithstanding\", \"nurse\", \"nurse\", \"nurse\", \"nurse\", \"nurse\", \"nurse\", \"nurse\", \"nurse\", \"nut\", \"nut\", \"nut\", \"nut\", \"nut\", \"nut\", \"nut\", \"nut\", \"nut\", \"nut\", \"nymph\", \"nymph\", \"nymph\", \"oak\", \"oak\", \"oak\", \"oak\", \"oak\", \"oak\", \"oak\", \"oak\", \"oak\", \"oak\", \"oak\", \"oak\", \"oar\", \"oar\", \"oar\", \"oar\", \"oar\", \"oar\", \"oar\", \"oar\", \"observe\", \"observe\", \"observe\", \"observe\", \"observe\", \"observe\", \"observe\", \"observe\", \"observe\", \"observe\", \"odin\", \"odin\", \"odin\", \"oer\", \"oer\", \"oer\", \"offer_service\", \"offer_service\", \"offer_service\", \"offer_service\", \"official\", \"official\", \"official\", \"official\", \"og\", \"og\", \"og\", \"ogre\", \"ogre\", \"ogre\", \"ogre\", \"ogre\", \"ogre\", \"oh\", \"oh\", \"oh\", \"oh\", \"oh\", \"oh\", \"oh\", \"oh\", \"oh\", \"oh\", \"oh\", \"oh\", \"oh\", \"oh\", \"oh\", \"oh\", \"oh\", \"oh\", \"oh\", \"oh_dear\", \"oh_dear\", \"oh_dear\", \"oh_dear\", \"oh_dear\", \"oh_dear\", \"oh_dear\", \"oh_dear\", \"oh_dear\", \"oh_dear\", \"oh_dear\", \"oil\", \"oil\", \"oil\", \"oil\", \"oil\", \"oil\", \"oil\", \"oil\", \"oil\", \"oil\", \"old\", \"old\", \"old\", \"old\", \"old\", \"old\", \"old\", \"old\", \"old\", \"old\", \"old\", \"old\", \"old\", \"old\", \"old\", \"old\", \"old\", \"old\", \"old\", \"old_deccan\", \"old_man\", \"old_man\", \"old_man\", \"old_man\", \"old_man\", \"old_man\", \"old_man\", \"old_man\", \"old_man\", \"old_man\", \"old_man\", \"old_man\", \"old_man\", \"old_man\", \"old_man\", \"old_man\", \"old_man\", \"old_man\", \"old_peter\", \"old_peter\", \"old_witch\", \"old_witch\", \"old_witch\", \"old_witch\", \"old_witch\", \"old_witch\", \"old_witch\", \"old_woman\", \"old_woman\", \"old_woman\", \"old_woman\", \"old_woman\", \"old_woman\", \"old_woman\", \"old_woman\", \"old_woman\", \"old_woman\", \"old_woman\", \"old_woman\", \"old_woman\", \"old_woman\", \"old_woman\", \"old_woman\", \"old_woman\", \"old_woman\", \"old_woman\", \"olympus\", \"onwards\", \"onwards\", \"onwards\", \"orange\", \"orange\", \"orange\", \"orange\", \"orange\", \"orange\", \"orange\", \"orange\", \"order\", \"order\", \"order\", \"order\", \"order\", \"order\", \"order\", \"order\", \"order\", \"order\", \"order\", \"order\", \"order\", \"order\", \"order\", \"order\", \"order\", \"order\", \"order\", \"oven\", \"oven\", \"oven\", \"oven\", \"oven\", \"oven\", \"oven\", \"overboard\", \"overboard\", \"overboard\", \"overboard\", \"overboard\", \"owl\", \"owl\", \"owl\", \"owl\", \"owl\", \"owl\", \"owl\", \"owl\", \"page\", \"page\", \"page\", \"page\", \"page\", \"page\", \"page\", \"page\", \"page\", \"palace\", \"palace\", \"palace\", \"palace\", \"palace\", \"palace\", \"palace\", \"palace\", \"palace\", \"palace\", \"palace\", \"palace\", \"palace\", \"palace\", \"palace\", \"palace\", \"palace\", \"pan\", \"pan\", \"pan\", \"pan\", \"pan\", \"pan\", \"pan\", \"pan\", \"pan\", \"pan\", \"pan\", \"pancake\", \"pancake\", \"pancake\", \"pancake\", \"parrot\", \"parrot\", \"parrot\", \"parrot\", \"parrot\", \"part\", \"part\", \"part\", \"part\", \"part\", \"part\", \"part\", \"part\", \"part\", \"part\", \"part\", \"part\", \"part\", \"part\", \"part\", \"part\", \"part\", \"part\", \"part\", \"partridge\", \"partridge\", \"partridge\", \"partridge\", \"pas\", \"pas\", \"pas\", \"pas\", \"pas\", \"pas\", \"pas\", \"pas\", \"pas\", \"pas\", \"pas\", \"pas\", \"pas\", \"pas\", \"pas\", \"pas\", \"pas\", \"pas\", \"pas\", \"passing\", \"passing\", \"passing\", \"passing\", \"passing\", \"paul\", \"paul\", \"paul\", \"paul\", \"pavement\", \"pavement\", \"pavement\", \"pavement\", \"pavement\", \"pavilion\", \"pavilion\", \"paw\", \"paw\", \"paw\", \"paw\", \"paw\", \"paw\", \"paw\", \"payne_arabian\", \"peach\", \"peach\", \"peach\", \"peacock\", \"peacock\", \"peacock\", \"pear\", \"pear\", \"pear\", \"pear\", \"pear\", \"pear\", \"pear\", \"pear\", \"pear\", \"pear\", \"pear\", \"peasant\", \"peasant\", \"peasant\", \"peasant\", \"peasant\", \"peasant\", \"peasant\", \"peasant\", \"peasant\", \"peasant\", \"peasant\", \"peasant\", \"peasant\", \"peasant\", \"peasant\", \"penny\", \"penny\", \"penny\", \"penny\", \"penny\", \"penny\", \"penny\", \"pentamerone\", \"people\", \"people\", \"people\", \"people\", \"people\", \"people\", \"people\", \"people\", \"people\", \"people\", \"people\", \"people\", \"people\", \"people\", \"people\", \"people\", \"people\", \"people\", \"people\", \"perceive\", \"perceive\", \"perceive\", \"perceive\", \"perceive\", \"perceive\", \"perceive\", \"perceive\", \"perceive\", \"perceive\", \"perceive\", \"perceive\", \"perchance\", \"perchance\", \"perchance\", \"perchance\", \"perchance\", \"perfect\", \"perfect\", \"perfect\", \"perfect\", \"perfect\", \"perfect\", \"perfect\", \"perfect\", \"perfect\", \"perfect\", \"period\", \"period\", \"period\", \"period\", \"perspiration\", \"perspiration\", \"perspiration\", \"peter\", \"peter\", \"peter\", \"peter\", \"pigeon\", \"pigeon\", \"pigeon\", \"pigeon\", \"pigeon\", \"pigeon\", \"pigeon\", \"pigeon\", \"pigeon\", \"pigeon\", \"pigeon\", \"pilgrim\", \"pilgrim\", \"pilgrim\", \"pilgrim\", \"pilgrim\", \"pine_tree\", \"pine_tree\", \"pine_tree\", \"pine_tree\", \"pine_tree\", \"pink\", \"pink\", \"pink\", \"pink\", \"pink\", \"pink\", \"pink\", \"pink\", \"piteous\", \"piteous\", \"piteous\", \"piteous\", \"place\", \"place\", \"place\", \"place\", \"place\", \"place\", \"place\", \"place\", \"place\", \"place\", \"place\", \"place\", \"place\", \"place\", \"place\", \"place\", \"place\", \"place\", \"place\", \"plough\", \"plough\", \"plough\", \"plough\", \"plough\", \"plough\", \"plough\", \"plough\", \"plough\", \"plough\", \"poison\", \"poison\", \"poison\", \"poison\", \"poison\", \"poison\", \"poison\", \"poison\", \"poison\", \"poison\", \"poisonous\", \"poisonous\", \"poisonous\", \"poisonous\", \"poisonous\", \"pond\", \"pond\", \"pond\", \"pond\", \"pond\", \"pond\", \"pond\", \"pond\", \"pond\", \"pond\", \"poor\", \"poor\", \"poor\", \"poor\", \"poor\", \"poor\", \"poor\", \"poor\", \"poor\", \"poor\", \"poor\", \"poor\", \"poor\", \"poor\", \"poor\", \"poor\", \"poor\", \"poor\", \"poor\", \"porridge\", \"porridge\", \"porridge\", \"porridge\", \"porridge\", \"portal\", \"portrait\", \"portrait\", \"portrait\", \"portrait\", \"portrait\", \"potato\", \"potato\", \"potato\", \"potato\", \"pounce\", \"pounce\", \"pounce\", \"pounce\", \"pounce\", \"pounce\", \"pp\", \"pp\", \"precaution\", \"precaution\", \"precaution\", \"precaution\", \"precaution\", \"precaution\", \"present\", \"present\", \"present\", \"present\", \"present\", \"present\", \"present\", \"present\", \"present\", \"present\", \"present\", \"present\", \"present\", \"present\", \"present\", \"pretty\", \"pretty\", \"pretty\", \"pretty\", \"pretty\", \"pretty\", \"pretty\", \"pretty\", \"pretty\", \"pretty\", \"pretty\", \"pretty\", \"pretty\", \"pretty\", \"pretty\", \"pretty\", \"pretty_girl\", \"pretty_girl\", \"pretty_girl\", \"pretty_girl\", \"pretty_girl\", \"pretty_girl\", \"pretty_girl\", \"priest\", \"priest\", \"priest\", \"priest\", \"priest\", \"priest\", \"priest\", \"priest\", \"priest\", \"priest\", \"priest\", \"priest\", \"priest\", \"priest\", \"priest\", \"prince\", \"prince\", \"prince\", \"prince\", \"prince\", \"prince\", \"prince\", \"prince\", \"prince\", \"prince\", \"prince\", \"prince\", \"prince_ivan\", \"prince_ivan\", \"prince_ivan\", \"princess\", \"princess\", \"princess\", \"princess\", \"princess\", \"princess\", \"princess\", \"princess\", \"princess\", \"princess\", \"princess\", \"princess\", \"princess\", \"princess\", \"principal\", \"principal\", \"principal\", \"principal\", \"principal\", \"proceed\", \"proceed\", \"proceed\", \"proceed\", \"proceed\", \"proceed\", \"proceed\", \"proceed\", \"proceed\", \"proceed\", \"proceed\", \"proceed\", \"proceed\", \"profound\", \"profound\", \"prophet\", \"prophet\", \"prophet\", \"prophet\", \"prowess\", \"prowess\", \"prowess\", \"prowess\", \"prowl\", \"prowl\", \"prowl\", \"pulse\", \"pulse\", \"pulse\", \"pulse\", \"pupil\", \"pupil\", \"pupil\", \"pupil\", \"pupil\", \"pupil\", \"put\", \"put\", \"put\", \"put\", \"put\", \"put\", \"put\", \"put\", \"put\", \"put\", \"put\", \"put\", \"put\", \"put\", \"put\", \"put\", \"put\", \"put\", \"put\", \"quake\", \"quake\", \"quake\", \"quake\", \"queen\", \"queen\", \"queen\", \"queen\", \"queen\", \"queen\", \"queen\", \"queen\", \"queen\", \"queen\", \"queen\", \"queen\", \"queen\", \"quench\", \"quench\", \"quench\", \"quench\", \"quench\", \"quench\", \"quench\", \"quite\", \"quite\", \"quite\", \"quite\", \"quite\", \"quite\", \"quite\", \"quite\", \"quite\", \"quite\", \"quite\", \"quite\", \"quite\", \"quite\", \"quite\", \"quite\", \"quite\", \"quite\", \"quote\", \"quote\", \"quote\", \"quote\", \"rabbit\", \"rabbit\", \"rabbit\", \"rabbit\", \"race\", \"race\", \"race\", \"race\", \"race\", \"race\", \"race\", \"race\", \"race\", \"race\", \"race\", \"ram\", \"ram\", \"ram\", \"ram\", \"ram\", \"ransom\", \"ransom\", \"ransom\", \"ransom\", \"ransom\", \"ransom\", \"ransom\", \"rapidity\", \"rapidity\", \"rapture\", \"rapture\", \"rascal\", \"rascal\", \"rascal\", \"rascal\", \"rascal\", \"rascal\", \"rascal\", \"raven\", \"raven\", \"raven\", \"raven\", \"raven\", \"raven\", \"raven\", \"raven\", \"raven\", \"raven\", \"raven\", \"raven\", \"raven_fly\", \"raven_fly\", \"raven_fly\", \"raven_fly\", \"raven_fly\", \"raven_fly\", \"really\", \"really\", \"really\", \"really\", \"really\", \"really\", \"really\", \"really\", \"really\", \"really\", \"really\", \"really\", \"really\", \"really\", \"really\", \"really\", \"really\", \"recompense\", \"recompense\", \"recompense\", \"recompense\", \"recompense\", \"recompense\", \"recompense\", \"recourse\", \"recourse\", \"recourse\", \"recourse\", \"red_blood\", \"red_blood\", \"red_blood\", \"red_blood\", \"red_blood\", \"red_blood\", \"red_blood\", \"red_blood\", \"red_cap\", \"red_cap\", \"red_cap\", \"reed\", \"reed\", \"reed\", \"reed\", \"reed\", \"reed\", \"reed\", \"reed\", \"reed\", \"reed\", \"refuge\", \"regiment\", \"regiment\", \"regiment\", \"regiment\", \"regiment\", \"regiment\", \"reindeer\", \"reindeer\", \"reindeer\", \"reindeer\", \"reindeer\", \"relative\", \"relative\", \"relative\", \"relative\", \"relative\", \"relative\", \"reply\", \"reply\", \"reply\", \"reply\", \"reply\", \"reply\", \"reply\", \"reply\", \"reply\", \"reply\", \"reply\", \"reply\", \"reply\", \"reply\", \"reply\", \"reply\", \"reply\", \"reply\", \"resolution\", \"resolution\", \"resolution\", \"resolution\", \"resolution\", \"resolution\", \"retire\", \"retire\", \"retire\", \"retire\", \"retire\", \"retire\", \"retire\", \"retire\", \"return\", \"return\", \"return\", \"return\", \"return\", \"return\", \"return\", \"return\", \"return\", \"return\", \"return\", \"return\", \"return\", \"return\", \"return\", \"return\", \"return\", \"return\", \"return\", \"rich\", \"rich\", \"rich\", \"rich\", \"rich\", \"rich\", \"rich\", \"rich\", \"rich\", \"rich\", \"rich\", \"rich\", \"rich\", \"rich\", \"rich\", \"rich\", \"rich\", \"rich\", \"rich\", \"riddle\", \"riddle\", \"riddle\", \"riddle\", \"ride\", \"ride\", \"ride\", \"ride\", \"ride\", \"ride\", \"ride\", \"ride\", \"ride\", \"ride\", \"ride\", \"ride\", \"ride\", \"ride\", \"ride\", \"ride\", \"ride\", \"ride\", \"ring\", \"ring\", \"ring\", \"ring\", \"ring\", \"ring\", \"ring\", \"ring\", \"ring\", \"ring\", \"ring\", \"ring\", \"ring\", \"ring\", \"ring\", \"ring\", \"ring\", \"ring\", \"ring\", \"ripen\", \"ripen\", \"ripen\", \"ripen\", \"ripen\", \"ripen\", \"ripen\", \"ripen\", \"ripen\", \"rise\", \"rise\", \"rise\", \"rise\", \"rise\", \"rise\", \"rise\", \"rise\", \"rise\", \"rise\", \"rise\", \"rise\", \"rise\", \"rise\", \"rise\", \"rise\", \"rise\", \"rise\", \"river\", \"river\", \"river\", \"river\", \"river\", \"river\", \"river\", \"river\", \"river\", \"river\", \"river\", \"river\", \"river\", \"river\", \"river\", \"river\", \"river\", \"river\", \"river\", \"river_bank\", \"river_bank\", \"river_bank\", \"river_bank\", \"river_bank\", \"river_bank\", \"river_bank\", \"robber\", \"robber\", \"robber\", \"robber\", \"robber\", \"robber\", \"robber\", \"robber\", \"robber\", \"robber\", \"robber\", \"robber\", \"rock\", \"rock\", \"rock\", \"rock\", \"rock\", \"rock\", \"rock\", \"rock\", \"rock\", \"rock\", \"rock\", \"rock\", \"rock\", \"rock\", \"rock\", \"rock\", \"rode\", \"rode\", \"rode\", \"roman\", \"roman\", \"roman\", \"roman\", \"roman\", \"rosy\", \"rosy\", \"rosy\", \"rosy\", \"rosy\", \"rosy\", \"rosy\", \"rosy\", \"rouble\", \"rouble\", \"rouble\", \"route\", \"route\", \"route\", \"row\", \"row\", \"row\", \"row\", \"row\", \"row\", \"row\", \"row\", \"row\", \"row\", \"royal\", \"royal\", \"royal\", \"royal\", \"royal\", \"royal\", \"royal\", \"royal\", \"royal\", \"royal\", \"royal\", \"royal\", \"royal\", \"royal\", \"royal\", \"royal_palace\", \"royal_palace\", \"royal_palace\", \"royal_palace\", \"royal_palace\", \"royal_palace\", \"run\", \"run\", \"run\", \"run\", \"run\", \"run\", \"run\", \"run\", \"run\", \"run\", \"run\", \"run\", \"run\", \"run\", \"run\", \"run\", \"run\", \"run\", \"run\", \"rune\", \"rune\", \"rune\", \"runner\", \"runner\", \"runner\", \"runner\", \"runner\", \"runner\", \"russian\", \"russian\", \"russian\", \"russian\", \"russian\", \"russian\", \"russian\", \"rusty\", \"rusty\", \"rusty\", \"rusty\", \"rusty\", \"rusty\", \"sack\", \"sack\", \"sack\", \"sack\", \"sack\", \"sack\", \"sack\", \"sack\", \"sack\", \"sack\", \"sack\", \"sack\", \"sack\", \"sack\", \"sack\", \"saddle\", \"saddle\", \"saddle\", \"saddle\", \"saddle\", \"saddle\", \"saddle\", \"saddle\", \"saddle\", \"saddle\", \"saddle\", \"saddle\", \"saddle\", \"saddle\", \"saddle_bridle\", \"saddle_bridle\", \"saddle_bridle\", \"saddle_bridle\", \"saddle_bridle\", \"saga\", \"sail\", \"sail\", \"sail\", \"sail\", \"sail\", \"sail\", \"sail\", \"sail\", \"sail\", \"sail\", \"sail\", \"sail\", \"sailor\", \"sailor\", \"sailor\", \"sailor\", \"sailor\", \"salmon\", \"salmon\", \"salmon\", \"salmon\", \"salmon\", \"salmon\", \"salt\", \"salt\", \"salt\", \"salt\", \"salt\", \"salt\", \"salt\", \"salt\", \"salt\", \"salt\", \"salt\", \"salt\", \"salt\", \"satisfaction\", \"satisfaction\", \"satisfaction\", \"satisfaction\", \"satisfaction\", \"satisfaction\", \"satisfaction\", \"satisfaction\", \"saucer\", \"saucer\", \"saucer\", \"saucer\", \"saucer\", \"sausage\", \"sausage\", \"sausage\", \"sausage\", \"sausage\", \"scholar\", \"scholar\", \"scholar\", \"scholar\", \"scholar\", \"scholar\", \"scolding\", \"scolding\", \"scolding\", \"scorn\", \"scorn\", \"scorn\", \"scorn\", \"scorn\", \"scorn\", \"scotland\", \"scotland\", \"scotland\", \"scotland\", \"scotland\", \"scour\", \"scour\", \"scour\", \"scour\", \"scour\", \"scour\", \"scullion\", \"scullion\", \"scullion\", \"scullion\", \"scullion\", \"sea\", \"sea\", \"sea\", \"sea\", \"sea\", \"sea\", \"sea\", \"sea\", \"sea\", \"sea\", \"sea\", \"sea\", \"sea\", \"sea\", \"sea\", \"sea\", \"seed\", \"seed\", \"seed\", \"seed\", \"seed\", \"seed\", \"seed\", \"seed\", \"seed\", \"seed\", \"seed\", \"seed\", \"seed\", \"seed\", \"seek_fortune\", \"seek_fortune\", \"seek_fortune\", \"seek_fortune\", \"seek_fortune\", \"seek_fortune\", \"seek_fortune\", \"seek_fortune\", \"seek_fortune\", \"seek_fortune\", \"seek_fortune\", \"seem\", \"seem\", \"seem\", \"seem\", \"seem\", \"seem\", \"seem\", \"seem\", \"seem\", \"seem\", \"seem\", \"seem\", \"seem\", \"seem\", \"seem\", \"seem\", \"seem\", \"seem\", \"seem\", \"send\", \"send\", \"send\", \"send\", \"send\", \"send\", \"send\", \"send\", \"send\", \"send\", \"send\", \"send\", \"send\", \"send\", \"send\", \"send\", \"send\", \"send\", \"send\", \"serbian\", \"serpent\", \"serpent\", \"serpent\", \"serpent\", \"serpent\", \"serpent\", \"serpent\", \"serpent\", \"serpent\", \"serpent\", \"serpent\", \"serpent\", \"serpent\", \"serpent\", \"seven\", \"seven\", \"seven\", \"seven\", \"seven\", \"seven\", \"seven\", \"seven\", \"seven\", \"seven\", \"seven\", \"seven\", \"seven\", \"seven\", \"seven\", \"seven\", \"seven\", \"shadowy\", \"shadowy\", \"shaft\", \"shaft\", \"shaft\", \"shaft\", \"shaft\", \"shaft\", \"shaft\", \"shall\", \"shall\", \"shall\", \"shall\", \"shall\", \"shall\", \"shall\", \"shall\", \"shall\", \"shall\", \"shall\", \"shall\", \"shall\", \"shall\", \"shall\", \"shall\", \"shall\", \"shall\", \"shall\", \"shalt_thou\", \"shalt_thou\", \"shalt_thou\", \"sharpen\", \"sharpen\", \"sharpen\", \"sharpen\", \"sharpen\", \"sharpen\", \"sharpen\", \"sharpen\", \"sheaf\", \"sheaf\", \"sheaf\", \"sheaf\", \"shear\", \"shear\", \"shear\", \"shear\", \"shear\", \"shear\", \"shell\", \"shell\", \"shell\", \"shell\", \"shell\", \"shell\", \"shell\", \"shell\", \"shell\", \"shepherd\", \"shepherd\", \"shepherd\", \"shepherd\", \"shepherd\", \"shepherd\", \"shepherd\", \"shepherd\", \"shepherd\", \"shepherd\", \"shepherd\", \"shepherd\", \"shew\", \"shew\", \"shew\", \"shew\", \"ship\", \"ship\", \"ship\", \"ship\", \"ship\", \"ship\", \"ship\", \"ship\", \"ship\", \"ship\", \"ship\", \"ship\", \"ship\", \"ship\", \"shirt\", \"shirt\", \"shirt\", \"shirt\", \"shirt\", \"shirt\", \"shirt\", \"shirt\", \"shirt\", \"shirt\", \"shoe\", \"shoe\", \"shoe\", \"shoe\", \"shoe\", \"shoe\", \"shoe\", \"shoe\", \"shoe\", \"shoe\", \"shoe\", \"shoe\", \"shoe\", \"shoe\", \"shoe\", \"shoemaker\", \"shoemaker\", \"shoemaker\", \"shoemaker\", \"shoemaker\", \"shoemaker\", \"shore\", \"shore\", \"shore\", \"shore\", \"shore\", \"shore\", \"shore\", \"shore\", \"shore\", \"shore\", \"shore\", \"shore\", \"shore\", \"shore\", \"shore\", \"shovel\", \"shovel\", \"shovel\", \"shovel\", \"shovel\", \"shovel\", \"shroud\", \"shroud\", \"shroud\", \"shroud\", \"shrub\", \"shrub\", \"shrub\", \"shrub\", \"shrub\", \"shrub\", \"shudder\", \"shudder\", \"shudder\", \"shudder\", \"shudder\", \"shudder\", \"shudder\", \"shudder\", \"shudder\", \"sigurd\", \"silver\", \"silver\", \"silver\", \"silver\", \"silver\", \"silver\", \"silver\", \"silver\", \"silver\", \"silver\", \"silver\", \"silver\", \"silver\", \"silver\", \"silver\", \"silver\", \"silver\", \"silver\", \"silver_bell\", \"silver_bell\", \"silver_bell\", \"silver_bell\", \"similar\", \"similar\", \"similar\", \"similar\", \"similar\", \"similar\", \"similar\", \"similar\", \"similar\", \"simpleton\", \"simpleton\", \"simpleton\", \"simpleton\", \"simpleton\", \"simpleton\", \"simpleton\", \"sing\", \"sing\", \"sing\", \"sing\", \"sing\", \"sing\", \"sing\", \"sing\", \"sing\", \"sing\", \"sing\", \"sing\", \"sing\", \"sing\", \"sing\", \"sir\", \"sir\", \"sir\", \"sir\", \"sir\", \"sir\", \"sir\", \"sir\", \"sir\", \"sir\", \"sir\", \"sir\", \"sir\", \"sir\", \"sir\", \"sir\", \"sire\", \"sire\", \"sire\", \"sire\", \"sister\", \"sister\", \"sister\", \"sister\", \"sister\", \"sister\", \"sister\", \"sister\", \"sister\", \"sister\", \"sister\", \"sister\", \"sister\", \"sister\", \"sister\", \"sister\", \"sister\", \"sit\", \"sit\", \"sit\", \"sit\", \"sit\", \"sit\", \"sit\", \"sit\", \"sit\", \"sit\", \"sit\", \"sit\", \"sit\", \"sit\", \"sit\", \"sit\", \"sit\", \"sit\", \"sit\", \"skazkas\", \"skazkas\", \"skazkas\", \"skull\", \"skull\", \"skull\", \"skull\", \"skull\", \"skull\", \"skull\", \"skull\", \"skull\", \"skull\", \"sky\", \"sky\", \"sky\", \"sky\", \"sky\", \"sky\", \"sky\", \"sky\", \"sky\", \"sky\", \"sky\", \"sky\", \"sky\", \"sky\", \"sky\", \"sky\", \"slave\", \"slave\", \"slave\", \"slave\", \"slave\", \"slave\", \"slave\", \"slave\", \"slave\", \"slave\", \"slavonic\", \"slavonic\", \"slavonic\", \"slavonic\", \"slay\", \"slay\", \"slay\", \"slay\", \"slay\", \"slay\", \"slay\", \"slay\", \"slay\", \"slay\", \"slay\", \"slay\", \"slay\", \"slay\", \"slippery\", \"slippery\", \"slippery\", \"slippery\", \"slippery\", \"slippery\", \"slit\", \"slit\", \"slit\", \"slit\", \"smite\", \"smite\", \"smite\", \"smite\", \"smite\", \"smite\", \"smith\", \"smith\", \"smith\", \"smith\", \"smith\", \"smith\", \"smith\", \"smith\", \"snare\", \"snare\", \"snare\", \"snare\", \"snare\", \"snare\", \"snare\", \"snare\", \"snarl\", \"snarl\", \"snarl\", \"snarl\", \"snarl\", \"snarl\", \"snow\", \"snow\", \"snow\", \"snow\", \"snow\", \"snow\", \"snow\", \"snow\", \"snow\", \"snow\", \"snow\", \"snow\", \"snow_white\", \"snow_white\", \"snow_white\", \"snow_white\", \"snow_white\", \"snow_white\", \"snow_white\", \"snow_white\", \"snow_white\", \"soldier\", \"soldier\", \"soldier\", \"soldier\", \"soldier\", \"soldier\", \"soldier\", \"soldier\", \"soldier\", \"soldier\", \"solemn\", \"solemn\", \"solemn\", \"solemn\", \"solemn\", \"son\", \"son\", \"son\", \"son\", \"son\", \"son\", \"son\", \"son\", \"son\", \"son\", \"son\", \"son\", \"son\", \"son\", \"son\", \"son\", \"son\", \"son\", \"son\", \"soon\", \"soon\", \"soon\", \"soon\", \"soon\", \"soon\", \"soon\", \"soon\", \"soon\", \"soon\", \"soon\", \"soon\", \"soon\", \"soon\", \"soon\", \"soon\", \"soon\", \"soon\", \"soon\", \"soul\", \"soul\", \"soul\", \"soul\", \"soul\", \"soul\", \"soul\", \"soul\", \"soul\", \"soul\", \"soul\", \"soul\", \"soul\", \"soul\", \"soul\", \"soup\", \"soup\", \"soup\", \"soup\", \"soup\", \"soup\", \"soup\", \"soup\", \"sow\", \"sow\", \"sow\", \"sow\", \"sow\", \"sow\", \"sow\", \"sow\", \"sow\", \"sow\", \"sow\", \"sow\", \"sow\", \"spake\", \"spake\", \"spake\", \"spake\", \"spake\", \"spake\", \"spake\", \"speak\", \"speak\", \"speak\", \"speak\", \"speak\", \"speak\", \"speak\", \"speak\", \"speak\", \"speak\", \"speak\", \"speak\", \"speak\", \"speak\", \"speak\", \"speak\", \"speak\", \"speak\", \"speak\", \"spider\", \"spider\", \"spider\", \"spider\", \"spider\", \"spider\", \"spin\", \"spin\", \"spin\", \"spin\", \"spin\", \"spin\", \"spin\", \"spin\", \"spin\", \"spin\", \"spin\", \"spin\", \"spin\", \"spin\", \"spindle\", \"spindle\", \"spindle\", \"spindle\", \"spindle\", \"spinning\", \"spinning\", \"spinning\", \"spinning\", \"spinning\", \"spinning\", \"spinning\", \"spinning_wheel\", \"spinning_wheel\", \"spinning_wheel\", \"spinning_wheel\", \"spinning_wheel\", \"spinning_wheel\", \"spiteful\", \"spiteful\", \"spiteful\", \"spiteful\", \"squeak\", \"squeak\", \"squeak\", \"squirrel\", \"squirrel\", \"squirrel\", \"squirrel\", \"squirrel\", \"squirrel\", \"stable\", \"stable\", \"stable\", \"stable\", \"stable\", \"stable\", \"stable\", \"stable\", \"stable\", \"stable\", \"stable\", \"stable\", \"stable\", \"stable\", \"stack\", \"stack\", \"stack\", \"stack\", \"stack\", \"stag\", \"stag\", \"stag\", \"stag\", \"stag\", \"stag\", \"stag\", \"stag\", \"stand\", \"stand\", \"stand\", \"stand\", \"stand\", \"stand\", \"stand\", \"stand\", \"stand\", \"stand\", \"stand\", \"stand\", \"stand\", \"stand\", \"stand\", \"stand\", \"stand\", \"stand\", \"stand\", \"star\", \"star\", \"star\", \"star\", \"star\", \"star\", \"star\", \"star\", \"star\", \"star\", \"star\", \"star\", \"star\", \"starry\", \"starry\", \"starry\", \"starry\", \"steed\", \"steed\", \"steed\", \"steed\", \"steed\", \"steed\", \"steed\", \"steed\", \"steed\", \"steed\", \"step_mother\", \"step_mother\", \"step_mother\", \"step_mother\", \"step_mother\", \"step_mother\", \"step_mother\", \"step_mother\", \"stepmother\", \"stepmother\", \"stepmother\", \"stepmother\", \"stepmother\", \"stepmother\", \"stepmother\", \"stepmother\", \"stepmother\", \"stew\", \"stew\", \"stew\", \"stew\", \"stew\", \"steward\", \"steward\", \"steward\", \"steward\", \"still\", \"still\", \"still\", \"still\", \"still\", \"still\", \"still\", \"still\", \"still\", \"still\", \"still\", \"still\", \"still\", \"still\", \"still\", \"still\", \"still\", \"still\", \"still\", \"stoke\", \"stone\", \"stone\", \"stone\", \"stone\", \"stone\", \"stone\", \"stone\", \"stone\", \"stone\", \"stone\", \"stone\", \"stone\", \"stone\", \"stone\", \"stone\", \"stone\", \"stone\", \"stone\", \"stork\", \"stork\", \"stork\", \"stork\", \"storm\", \"storm\", \"storm\", \"storm\", \"storm\", \"storm\", \"storm\", \"storm\", \"storm\", \"storm\", \"storm\", \"storm\", \"story\", \"story\", \"story\", \"story\", \"story\", \"story\", \"story\", \"story\", \"story\", \"story\", \"story\", \"story\", \"story\", \"story\", \"story\", \"story\", \"story\", \"story\", \"story_teller\", \"story_teller\", \"story_teller\", \"strange\", \"strange\", \"strange\", \"strange\", \"strange\", \"strange\", \"strange\", \"strange\", \"strange\", \"strange\", \"strange\", \"strange\", \"strange\", \"strange\", \"strange\", \"strange\", \"strange\", \"strange\", \"strange\", \"straw\", \"straw\", \"straw\", \"straw\", \"straw\", \"straw\", \"straw\", \"straw\", \"straw\", \"straw\", \"straw\", \"straw\", \"straw\", \"strife\", \"strife\", \"strife\", \"strife\", \"strike\", \"strike\", \"strike\", \"strike\", \"strike\", \"strike\", \"strike\", \"strike\", \"strike\", \"strike\", \"strike\", \"strike\", \"strike\", \"strike\", \"strike\", \"strike\", \"strike\", \"strike\", \"strike\", \"student\", \"student\", \"student\", \"student\", \"student\", \"stump\", \"stump\", \"stump\", \"stump\", \"stump\", \"stump\", \"stump\", \"stump\", \"stump\", \"suffice\", \"suffice\", \"suffice\", \"suite\", \"suite\", \"suite\", \"suitor\", \"suitor\", \"suitor\", \"suitor\", \"suitor\", \"suitor\", \"suitor\", \"suitor\", \"suitor\", \"suitor\", \"sultan\", \"sultan\", \"sultan\", \"sunrise\", \"sunrise\", \"sunrise\", \"sunrise\", \"sunrise\", \"sunrise\", \"sunrise\", \"sunrise\", \"sunrise\", \"superb\", \"superb\", \"superb\", \"superb\", \"swallow\", \"swallow\", \"swallow\", \"swallow\", \"swallow\", \"swallow\", \"swallow\", \"swallow\", \"swallow\", \"swallow\", \"swallow\", \"swallow\", \"swallow\", \"swallow\", \"swallow\", \"swallow\", \"sweetmeat\", \"sweetmeat\", \"sweetmeat\", \"sweetmeat\", \"sweetmeat\", \"sweetmeat\", \"swine\", \"swine\", \"swine\", \"swine\", \"swine\", \"swine\", \"sword\", \"sword\", \"sword\", \"sword\", \"sword\", \"sword\", \"sword\", \"sword\", \"sword\", \"sword\", \"sword\", \"sword\", \"sword\", \"sword\", \"tailor\", \"tailor\", \"tailor\", \"tailor\", \"tailor\", \"tailor\", \"tailor\", \"tailor\", \"tailor\", \"tailor\", \"tailor\", \"tale\", \"tale\", \"tale\", \"tale\", \"tale\", \"tale\", \"tale\", \"tale\", \"tale\", \"tale\", \"tale\", \"tale\", \"tale\", \"tale\", \"tale\", \"tale\", \"tale\", \"tale\", \"tang\", \"tang\", \"tar\", \"tar\", \"tar\", \"tar\", \"tar\", \"tar\", \"tar\", \"tavern\", \"tavern\", \"tavern\", \"tavern\", \"tavern\", \"tavern\", \"tea\", \"tea\", \"tea\", \"tea\", \"tea\", \"tea\", \"tea\", \"tea\", \"tenderly\", \"tenderly\", \"tenderly\", \"tenderly\", \"tenderly\", \"tenderly\", \"tenderly\", \"tent\", \"tent\", \"tent\", \"tent\", \"tent\", \"tent\", \"tent\", \"tent\", \"tent\", \"thatch\", \"thatch\", \"thatch\", \"thatch\", \"thee\", \"thee\", \"thee\", \"thee\", \"thee\", \"thee\", \"thee\", \"thee\", \"thee\", \"thee\", \"thee\", \"thee\", \"thee\", \"thee\", \"thee\", \"thee_thy\", \"thee_thy\", \"thee_thy\", \"thee_thy\", \"therefore\", \"therefore\", \"therefore\", \"therefore\", \"therefore\", \"therefore\", \"therefore\", \"therefore\", \"therefore\", \"therefore\", \"therefore\", \"therefore\", \"therefore\", \"therefore\", \"therefore\", \"therefore\", \"thereof\", \"thereof\", \"thief\", \"thief\", \"thief\", \"thief\", \"thief\", \"thief\", \"thief\", \"thief\", \"thief\", \"thief\", \"thief\", \"thief\", \"thine\", \"thine\", \"thine\", \"thine\", \"thine\", \"thine\", \"thine\", \"thine\", \"thing\", \"thing\", \"thing\", \"thing\", \"thing\", \"thing\", \"thing\", \"thing\", \"thing\", \"thing\", \"thing\", \"thing\", \"thing\", \"thing\", \"thing\", \"thing\", \"thing\", \"thing\", \"thing\", \"think\", \"think\", \"think\", \"think\", \"think\", \"think\", \"think\", \"think\", \"think\", \"think\", \"think\", \"think\", \"think\", \"think\", \"think\", \"think\", \"think\", \"think\", \"think\", \"third\", \"third\", \"third\", \"third\", \"third\", \"third\", \"third\", \"third\", \"third\", \"third\", \"third\", \"third\", \"third\", \"third\", \"third\", \"third\", \"third\", \"third\", \"third\", \"thirteen\", \"thirteen\", \"thirteen\", \"thirteen\", \"thor\", \"thor\", \"thor\", \"thor\", \"thou\", \"thou\", \"thou\", \"thou\", \"thou\", \"thou\", \"thou\", \"thou\", \"thou\", \"thou\", \"thou\", \"thou\", \"thou_art\", \"thou_art\", \"thou_art\", \"thou_art\", \"thou_art\", \"thou_art\", \"thou_art\", \"thou_art\", \"thou_canst\", \"thou_canst\", \"thou_canst\", \"thou_canst\", \"thou_canst\", \"thou_canst\", \"thou_didst\", \"thou_didst\", \"thou_didst\", \"thou_didst\", \"thou_didst\", \"thou_dost\", \"thou_dost\", \"thou_dost\", \"thou_dost\", \"thou_dost\", \"thou_hast\", \"thou_hast\", \"thou_hast\", \"thou_hast\", \"thou_hast\", \"thou_hast\", \"thou_hast\", \"thou_hast\", \"thou_knowest\", \"thou_knowest\", \"thou_knowest\", \"thou_knowest\", \"thou_knowest\", \"thou_mayest\", \"thou_mayest\", \"thou_shalt\", \"thou_shalt\", \"thou_shalt\", \"thou_shalt\", \"thou_shalt\", \"thou_shalt\", \"thou_shalt\", \"thou_shalt\", \"thou_shalt\", \"thou_wilt\", \"thou_wilt\", \"thou_wilt\", \"thou_wilt\", \"thou_wilt\", \"thou_wilt\", \"thread\", \"thread\", \"thread\", \"thread\", \"thread\", \"thread\", \"thread\", \"thread\", \"thread\", \"thread\", \"thread\", \"three\", \"three\", \"three\", \"three\", \"three\", \"three\", \"three\", \"three\", \"three\", \"three\", \"three\", \"three\", \"three\", \"three\", \"three\", \"three\", \"three\", \"three\", \"three\", \"three_hundred\", \"three_hundred\", \"three_hundred\", \"three_hundred\", \"three_hundred\", \"three_hundred\", \"three_hundred\", \"three_hundred\", \"three_hundred\", \"three_hundred\", \"thrill\", \"thrill\", \"thrill\", \"throw\", \"throw\", \"throw\", \"throw\", \"throw\", \"throw\", \"throw\", \"throw\", \"throw\", \"throw\", \"throw\", \"throw\", \"throw\", \"throw\", \"throw\", \"throw\", \"throw\", \"throw\", \"throw\", \"thus\", \"thus\", \"thus\", \"thus\", \"thus\", \"thus\", \"thus\", \"thus\", \"thus\", \"thus\", \"thus\", \"thus\", \"thus\", \"thus\", \"thus\", \"thus\", \"thus\", \"thus\", \"thus\", \"thy\", \"thy\", \"thy\", \"thy\", \"thy\", \"thy\", \"thy\", \"thy\", \"thy\", \"thy\", \"thy\", \"thy\", \"thyself\", \"thyself\", \"thyself\", \"thyself\", \"thyself\", \"ti\", \"ti\", \"ti\", \"ti\", \"ti\", \"ti\", \"ti\", \"ti\", \"ti\", \"ti\", \"ti\", \"till\", \"till\", \"till\", \"till\", \"till\", \"till\", \"till\", \"till\", \"till\", \"till\", \"till\", \"till\", \"till\", \"till\", \"till\", \"till\", \"till\", \"till\", \"till\", \"timber\", \"timber\", \"timber\", \"timber\", \"timber\", \"timber\", \"timber\", \"tinkle\", \"tinkle\", \"tinkle\", \"tinkle\", \"tinkle\", \"tint\", \"tint\", \"tint\", \"tomorrow\", \"tomorrow\", \"tomorrow\", \"tomorrow\", \"tortoise\", \"tortoise\", \"tortoise\", \"tortoise\", \"tortoise\", \"towel\", \"towel\", \"towel\", \"towel\", \"tradition\", \"tradition\", \"tradition\", \"tradition\", \"tradition\", \"tradition\", \"tradition\", \"tradition\", \"translation\", \"transport\", \"transport\", \"transport\", \"transport\", \"transport\", \"transport\", \"tree\", \"tree\", \"tree\", \"tree\", \"tree\", \"tree\", \"tree\", \"tree\", \"tree\", \"tree\", \"tree\", \"tree\", \"tree\", \"tree\", \"tree\", \"tree\", \"tree\", \"tree\", \"tree\", \"tribe\", \"tribe\", \"tribe\", \"tribe\", \"tribe\", \"tribe\", \"tribe\", \"tribe\", \"triumphant\", \"triumphant\", \"troll\", \"troll\", \"troll\", \"troll\", \"troll\", \"troll\", \"troll\", \"troll\", \"trouser\", \"trouser\", \"trouser\", \"trouser\", \"trouser\", \"try_luck\", \"try_luck\", \"try_luck\", \"try_luck\", \"try_luck\", \"tsar\", \"tsar\", \"tuft\", \"tuft\", \"tuft\", \"tuft\", \"tumult\", \"tumult\", \"tumult\", \"turban\", \"turban\", \"turban\", \"turban\", \"turban\", \"turban\", \"turkey\", \"turkey\", \"turkey\", \"turkey\", \"turkey\", \"turnip\", \"turnip\", \"turnip\", \"turtle\", \"turtle\", \"turtle\", \"turtle\", \"turtle\", \"turtle\", \"twelve\", \"twelve\", \"twelve\", \"twelve\", \"twelve\", \"twelve\", \"twelve\", \"twelve\", \"twelve\", \"twelve\", \"twelve\", \"twelve\", \"twelve\", \"twelve\", \"twelve\", \"twelve\", \"two\", \"two\", \"two\", \"two\", \"two\", \"two\", \"two\", \"two\", \"two\", \"two\", \"two\", \"two\", \"two\", \"two\", \"two\", \"two\", \"two\", \"two\", \"two\", \"uncomfortable\", \"uncomfortable\", \"uncomfortable\", \"uncomfortable\", \"uncomfortable\", \"uncomfortable\", \"und\", \"und\", \"und\", \"undress\", \"undress\", \"undress\", \"undress\", \"undress\", \"undress\", \"unhappy\", \"unhappy\", \"unhappy\", \"unhappy\", \"unhappy\", \"unhappy\", \"unhappy\", \"unhappy\", \"unhappy\", \"unhappy\", \"unhappy\", \"unhappy\", \"unhappy\", \"upon\", \"upon\", \"upon\", \"upon\", \"upon\", \"upon\", \"upon\", \"upon\", \"upon\", \"upon\", \"upon\", \"upon\", \"upon\", \"upon\", \"upon\", \"upon\", \"upon\", \"upon\", \"upon\", \"upstairs\", \"upstairs\", \"upstairs\", \"upstairs\", \"upstairs\", \"upstairs\", \"upstairs\", \"vanya\", \"vanya\", \"vanya\", \"variant\", \"venerable\", \"venerable\", \"vernaleken\", \"version\", \"version\", \"victor\", \"victor\", \"victor\", \"victor\", \"victor\", \"victor\", \"victor\", \"village\", \"village\", \"village\", \"village\", \"village\", \"village\", \"village\", \"village\", \"village\", \"village\", \"village\", \"village\", \"village\", \"village\", \"village\", \"vine\", \"vine\", \"vine\", \"vine\", \"vine\", \"vine\", \"violet\", \"violet\", \"violet\", \"violet\", \"violet\", \"vizier\", \"vizier\", \"voice\", \"voice\", \"voice\", \"voice\", \"voice\", \"voice\", \"voice\", \"voice\", \"voice\", \"voice\", \"voice\", \"voice\", \"voice\", \"voice\", \"voice\", \"voice\", \"voice\", \"voice\", \"voice\", \"vol\", \"vol_ii\", \"waistcoat\", \"waistcoat\", \"waistcoat\", \"waistcoat\", \"waistcoat\", \"wallet\", \"wallet\", \"wallet\", \"wallet\", \"walnut\", \"walnut\", \"walnut\", \"walnut\", \"walnut\", \"walnut\", \"wanderer\", \"wanderer\", \"wanderer\", \"wanderer\", \"wanderer\", \"want\", \"want\", \"want\", \"want\", \"want\", \"want\", \"want\", \"want\", \"want\", \"want\", \"want\", \"want\", \"want\", \"want\", \"want\", \"want\", \"want\", \"want\", \"want\", \"warrant\", \"warrant\", \"warrant\", \"warrant\", \"wash\", \"wash\", \"wash\", \"wash\", \"wash\", \"wash\", \"wash\", \"wash\", \"wash\", \"wash\", \"wash\", \"wash\", \"wash\", \"wash\", \"wash\", \"wash\", \"water\", \"water\", \"water\", \"water\", \"water\", \"water\", \"water\", \"water\", \"water\", \"water\", \"water\", \"water\", \"water\", \"water\", \"water\", \"water\", \"water\", \"water\", \"water\", \"wave\", \"wave\", \"wave\", \"wave\", \"wave\", \"wave\", \"wave\", \"wave\", \"wave\", \"wave\", \"wave\", \"wave\", \"wave\", \"wave\", \"way\", \"way\", \"way\", \"way\", \"way\", \"way\", \"way\", \"way\", \"way\", \"way\", \"way\", \"way\", \"way\", \"way\", \"way\", \"way\", \"way\", \"way\", \"way\", \"weaving\", \"weaving\", \"weaving\", \"weaving\", \"wedge\", \"wedge\", \"wedge\", \"wedge\", \"weep\", \"weep\", \"weep\", \"weep\", \"weep\", \"weep\", \"weep\", \"weep\", \"weep\", \"weep\", \"weep\", \"weep\", \"weep\", \"weep\", \"weep\", \"weep\", \"weep\", \"wheat\", \"wheat\", \"wheat\", \"wheat\", \"wheat\", \"wheat\", \"wheat\", \"wheat\", \"wheat\", \"wheat\", \"wheat\", \"wheat\", \"wherefore\", \"wherefore\", \"wherefore\", \"wherefore\", \"wherefore\", \"whereon\", \"whereon\", \"whereon\", \"whereon\", \"whisker\", \"whisker\", \"whisker\", \"whisker\", \"whisker\", \"whisker\", \"white\", \"white\", \"white\", \"white\", \"white\", \"white\", \"white\", \"white\", \"white\", \"white\", \"white\", \"white\", \"white\", \"white\", \"white\", \"white\", \"white\", \"white\", \"white_snow\", \"white_snow\", \"white_snow\", \"white_snow\", \"white_snow\", \"white_snow\", \"white_snow\", \"whose\", \"whose\", \"whose\", \"whose\", \"whose\", \"whose\", \"whose\", \"whose\", \"whose\", \"whose\", \"whose\", \"whose\", \"whose\", \"whose\", \"whose\", \"whose\", \"whose\", \"wicked_witch\", \"wicked_witch\", \"wicked_witch\", \"wicked_witch\", \"wife\", \"wife\", \"wife\", \"wife\", \"wife\", \"wife\", \"wife\", \"wife\", \"wife\", \"wife\", \"wife\", \"wife\", \"wife\", \"wife\", \"wife\", \"wife\", \"wife\", \"wife\", \"wife\", \"wild_boar\", \"wild_boar\", \"wild_boar\", \"wild_boar\", \"wild_boar\", \"wild_boar\", \"wind\", \"wind\", \"wind\", \"wind\", \"wind\", \"wind\", \"wind\", \"wind\", \"wind\", \"wind\", \"wind\", \"wind\", \"wind\", \"wind\", \"wind\", \"wind\", \"wind\", \"winged\", \"winged\", \"winged\", \"wise_woman\", \"wise_woman\", \"wise_woman\", \"wise_woman\", \"wise_woman\", \"wise_woman\", \"wise_woman\", \"wise_woman\", \"wish\", \"wish\", \"wish\", \"wish\", \"wish\", \"wish\", \"wish\", \"wish\", \"wish\", \"wish\", \"wish\", \"wish\", \"wish\", \"wish\", \"wish\", \"wish\", \"wish\", \"wish\", \"witch\", \"witch\", \"witch\", \"witch\", \"witch\", \"witch\", \"witch\", \"witch\", \"witch\", \"witch\", \"witch\", \"witch\", \"witch\", \"witch\", \"witch\", \"without\", \"without\", \"without\", \"without\", \"without\", \"without\", \"without\", \"without\", \"without\", \"without\", \"without\", \"without\", \"without\", \"without\", \"without\", \"without\", \"without\", \"without\", \"without\", \"wolf\", \"wolf\", \"wolf\", \"wolf\", \"wolf\", \"wolf\", \"wolf\", \"wolf\", \"wolf\", \"wolf\", \"wolf\", \"wolf\", \"wolf\", \"wolf\", \"woman\", \"woman\", \"woman\", \"woman\", \"woman\", \"woman\", \"woman\", \"woman\", \"woman\", \"woman\", \"woman\", \"woman\", \"woman\", \"woman\", \"woman\", \"woman\", \"woman\", \"woman\", \"woman\", \"wood\", \"wood\", \"wood\", \"wood\", \"wood\", \"wood\", \"wood\", \"wood\", \"wood\", \"wood\", \"wood\", \"wood\", \"wood\", \"wood\", \"wood\", \"wood\", \"wood\", \"wood\", \"wood\", \"wool\", \"wool\", \"wool\", \"wool\", \"wool\", \"wool\", \"wool\", \"wool\", \"wool\", \"work\", \"work\", \"work\", \"work\", \"work\", \"work\", \"work\", \"work\", \"work\", \"work\", \"work\", \"work\", \"work\", \"work\", \"work\", \"work\", \"work\", \"work\", \"work\", \"wove\", \"wove\", \"wove\", \"wove\", \"wove\", \"wove\", \"wove\", \"yarn\", \"yarn\", \"yarn\", \"yarn\", \"yarn\", \"yarn\", \"yarn\", \"ye\", \"ye\", \"ye\", \"ye\", \"ye\", \"ye\", \"ye\", \"ye\", \"ye\", \"ye\", \"ye\", \"yellow\", \"yellow\", \"yellow\", \"yellow\", \"yellow\", \"yellow\", \"yellow\", \"yellow\", \"yellow\", \"yellow\", \"yellow\", \"yellow\", \"yellow\", \"yellow\", \"yellow\", \"yellow\", \"yet\", \"yet\", \"yet\", \"yet\", \"yet\", \"yet\", \"yet\", \"yet\", \"yet\", \"yet\", \"yet\", \"yet\", \"yet\", \"yet\", \"yet\", \"yet\", \"yet\", \"yet\", \"yet\", \"yon\", \"yon\", \"young\", \"young\", \"young\", \"young\", \"young\", \"young\", \"young\", \"young\", \"young\", \"young\", \"young\", \"young\", \"young\", \"young\", \"young\", \"young\", \"young\", \"young\", \"young\", \"young_fellow\", \"young_fellow\", \"young_fellow\", \"young_fellow\", \"young_fellow\", \"young_fellow\", \"young_man\", \"young_man\", \"young_man\", \"young_man\", \"young_man\", \"young_man\", \"young_man\", \"young_man\", \"young_man\", \"young_man\", \"young_man\", \"young_man\", \"young_man\", \"young_man\", \"young_man\", \"young_man\", \"youth\", \"youth\", \"youth\", \"youth\", \"youth\", \"youth\", \"youth\", \"youth\", \"youth\", \"youth\", \"youth\", \"youth\", \"youth\", \"youth\", \"youth\", \"youth\"]}, \"R\": 30, \"lambda.step\": 0.01, \"plot.opts\": {\"xlab\": \"PC1\", \"ylab\": \"PC2\"}, \"topic.order\": [11, 14, 6, 4, 13, 8, 2, 9, 7, 17, 18, 12, 3, 15, 19, 10, 16, 5, 1]};\n",
              "\n",
              "function LDAvis_load_lib(url, callback){\n",
              "  var s = document.createElement('script');\n",
              "  s.src = url;\n",
              "  s.async = true;\n",
              "  s.onreadystatechange = s.onload = callback;\n",
              "  s.onerror = function(){console.warn(\"failed to load library \" + url);};\n",
              "  document.getElementsByTagName(\"head\")[0].appendChild(s);\n",
              "}\n",
              "\n",
              "if(typeof(LDAvis) !== \"undefined\"){\n",
              "   // already loaded: just create the visualization\n",
              "   !function(LDAvis){\n",
              "       new LDAvis(\"#\" + \"ldavis_el5373139668842213712516636091\", ldavis_el5373139668842213712516636091_data);\n",
              "   }(LDAvis);\n",
              "}else if(typeof define === \"function\" && define.amd){\n",
              "   // require.js is available: use it to load d3/LDAvis\n",
              "   require.config({paths: {d3: \"https://d3js.org/d3.v5\"}});\n",
              "   require([\"d3\"], function(d3){\n",
              "      window.d3 = d3;\n",
              "      LDAvis_load_lib(\"https://cdn.jsdelivr.net/gh/bmabey/pyLDAvis@3.3.1/pyLDAvis/js/ldavis.v3.0.0.js\", function(){\n",
              "        new LDAvis(\"#\" + \"ldavis_el5373139668842213712516636091\", ldavis_el5373139668842213712516636091_data);\n",
              "      });\n",
              "    });\n",
              "}else{\n",
              "    // require.js not available: dynamically load d3 & LDAvis\n",
              "    LDAvis_load_lib(\"https://d3js.org/d3.v5.js\", function(){\n",
              "         LDAvis_load_lib(\"https://cdn.jsdelivr.net/gh/bmabey/pyLDAvis@3.3.1/pyLDAvis/js/ldavis.v3.0.0.js\", function(){\n",
              "                 new LDAvis(\"#\" + \"ldavis_el5373139668842213712516636091\", ldavis_el5373139668842213712516636091_data);\n",
              "            })\n",
              "         });\n",
              "}\n",
              "</script>"
            ]
          },
          "metadata": {},
          "execution_count": 61
        }
      ]
    },
    {
      "cell_type": "markdown",
      "source": [
        "Таким образом, будем пользоваться моделью LDA для определения тем текстов из тестовой выборки."
      ],
      "metadata": {
        "id": "d8L_faTK0YJO"
      }
    },
    {
      "cell_type": "markdown",
      "source": [
        "###Предсказание тем текстов из тестовой выборки"
      ],
      "metadata": {
        "id": "ecEj0AcejU-l"
      }
    },
    {
      "cell_type": "code",
      "source": [
        "DATA_PATH = '/content/drive/MyDrive/Dataset/test_data/'\n",
        "test_tales = []\n",
        "file_names = os.listdir(DATA_PATH)\n",
        "for file_name in file_names:\n",
        "    with open(DATA_PATH + file_name, encoding='utf-8', \n",
        "              errors='ignore', mode='r+') as f:\n",
        "      data = f.read()\n",
        "    test_tales.append(data)\n",
        "len(test_tales)"
      ],
      "metadata": {
        "colab": {
          "base_uri": "https://localhost:8080/"
        },
        "id": "icjAzjtjjZEx",
        "outputId": "60cb1068-8545-4caa-8040-0393b41d28a1"
      },
      "execution_count": null,
      "outputs": [
        {
          "output_type": "execute_result",
          "data": {
            "text/plain": [
              "197"
            ]
          },
          "metadata": {},
          "execution_count": 65
        }
      ]
    },
    {
      "cell_type": "code",
      "source": [
        "def text_preprocessing_pipeline(documents, normalizer_fn, normalizer_fn_2, bigram_model):\n",
        "  for text in documents:\n",
        "    chapter_pattern=re.compile(r'(CHAPTER [A-Z]+)|([Cc]hapter [A-Z]+)')\n",
        "    decoration_pattern=re.compile(r'(\\[Decoration])|(Decoration)')\n",
        "    ill_pattern=re.compile(r'(\\[Illustration:?[\\s\\w]*])|(Illustration)')\n",
        "    text = re.sub(chapter_pattern, '', text)\n",
        "    text = re.sub(ill_pattern, '', text)\n",
        "    text = re.sub(decoration_pattern, '', text)\n",
        "\n",
        "  norm_docs = normalizer_fn(documents)\n",
        "  norm_docs = normalizer_fn_2(norm_docs)\n",
        "  norm_docs_bigrams = bigram_model[norm_docs]\n",
        "  return norm_docs_bigrams\n",
        "\n",
        "def bow_features_pipeline(tokenized_docs, dictionary):\n",
        "  paper_bow_features = [dictionary.doc2bow(text) for text in tokenized_docs]\n",
        "  return paper_bow_features"
      ],
      "metadata": {
        "id": "qBZ01pZ4k5Dc"
      },
      "execution_count": null,
      "outputs": []
    },
    {
      "cell_type": "code",
      "source": [
        "norm_test_tales = text_preprocessing_pipeline(documents=test_tales, \n",
        "                                              normalizer_fn=normalize_corpus, normalizer_fn_2=normalize_corpus_2, bigram_model=bigram_model)\n",
        "norm_bow_features = bow_features_pipeline(tokenized_docs=norm_test_tales,\n",
        "                                          dictionary=dictionary)"
      ],
      "metadata": {
        "id": "erMiyrPqmqcd"
      },
      "execution_count": null,
      "outputs": []
    },
    {
      "cell_type": "code",
      "source": [
        "print(norm_test_tales[0][:30])"
      ],
      "metadata": {
        "colab": {
          "base_uri": "https://localhost:8080/"
        },
        "id": "C8gmHcI0ohM9",
        "outputId": "e6ba4d35-76fe-41b9-8f82-f816d97f39ee"
      },
      "execution_count": null,
      "outputs": [
        {
          "output_type": "stream",
          "name": "stdout",
          "text": [
            "['return', 'long', 'journey', 'hero', 'undertake', 'expedition', 'amazon', 'order', 'finish', 'ninth', 'adventure', 'bring', 'king', 'eurystheus', 'sword', 'belt', 'amazon', 'hippolyta', 'amazon', 'inhabit', 'region', 'river', 'thermodon', 'race', 'strong', 'woman', 'follow', 'occupation', 'man', 'child']\n"
          ]
        }
      ]
    },
    {
      "cell_type": "code",
      "source": [
        "print(norm_bow_features[0][:30])"
      ],
      "metadata": {
        "colab": {
          "base_uri": "https://localhost:8080/"
        },
        "id": "lAVwsYa7otxN",
        "outputId": "0d38e680-4193-4938-a0ad-9fa9abf19a42"
      },
      "execution_count": null,
      "outputs": [
        {
          "output_type": "stream",
          "name": "stdout",
          "text": [
            "[(2, 2), (11, 1), (12, 1), (13, 1), (15, 2), (29, 1), (38, 1), (46, 1), (58, 1), (66, 1), (71, 1), (85, 2), (144, 3), (152, 4), (161, 3), (166, 1), (167, 2), (171, 1), (178, 1), (180, 1), (194, 1), (199, 1), (209, 1), (215, 1), (252, 1), (254, 1), (261, 1), (264, 1), (273, 1), (278, 2)]\n"
          ]
        }
      ]
    },
    {
      "cell_type": "code",
      "source": [
        "def get_topic_predictions(topic_model, corpus, topn=3):\n",
        "  topic_predictions = topic_model[corpus]\n",
        "  best_topics = [[(topic, round(wt, 3))\n",
        "    for topic, wt in sorted(topic_predictions[i], key=lambda row: -row[1])[:topn]]\n",
        "      for i in range(len(topic_predictions))]\n",
        "  return best_topics"
      ],
      "metadata": {
        "id": "1_sHgdQSou2A"
      },
      "execution_count": null,
      "outputs": []
    },
    {
      "cell_type": "code",
      "source": [
        "topic_preds = get_topic_predictions(topic_model=best_lda_model, \n",
        "                                    corpus=norm_bow_features, topn=2)"
      ],
      "metadata": {
        "id": "Wx3aHVn1pK9F"
      },
      "execution_count": null,
      "outputs": []
    },
    {
      "cell_type": "code",
      "source": [
        "results_df = pd.DataFrame()\n",
        "results_df['Tales'] = range(1, len(test_tales)+1)\n",
        "results_df['Dominant Topics'] = [[topic_num+1 for topic_num, wt in item]\n",
        "                                                      for item in topic_preds]\n",
        "res = results_df.set_index(['Tales'])['Dominant Topics'].apply(\n",
        "                      pd.Series).stack().reset_index(level=1, drop=True)\n",
        "results_df = pd.DataFrame({'Dominant Topics': res.values}, index=res.index)\n",
        "results_df['Contribution %'] = [topic_wt for topic_list in\n",
        "                    [[round(wt*100, 2) for topic_num, wt in item]\n",
        "                      for item in topic_preds]\n",
        "                    for topic_wt in topic_list]\n",
        "results_df['Topic Desc'] = [topics_df_lda.iloc[t-1]['Terms per Topic']\n",
        "                                      for t in results_df['Dominant Topics'].values]\n",
        "results_df['Paper Desc'] = [test_tales[i-1][:205] for i in results_df.index.values]\n",
        "\n",
        "pd.set_option('display.max_colwidth', 300)\n",
        "results_df"
      ],
      "metadata": {
        "colab": {
          "base_uri": "https://localhost:8080/",
          "height": 864
        },
        "id": "sOU1B8depXIF",
        "outputId": "0c108379-73cf-4a4b-a246-a715e0000bc5"
      },
      "execution_count": null,
      "outputs": [
        {
          "output_type": "execute_result",
          "data": {
            "text/plain": [
              "       Dominant Topics  Contribution %  \\\n",
              "Tales                                    \n",
              "1                    2            34.4   \n",
              "1                   11            26.5   \n",
              "2                    8            30.4   \n",
              "2                   11            27.7   \n",
              "3                    1            33.9   \n",
              "...                ...             ...   \n",
              "195                 11            24.9   \n",
              "196                 10            38.3   \n",
              "196                 11            28.0   \n",
              "197                  3            27.4   \n",
              "197                 18            25.6   \n",
              "\n",
              "                                                                                                                                      Topic Desc  \\\n",
              "Tales                                                                                                                                              \n",
              "1                  upon, man, king, great, two, place, bring, order, head, god, long, city, hand, thee, may, thus, however, good, father, answer   \n",
              "1                     king, upon, great, hear, hand, long, like, prince, sea, eye, old, night, love, cry, land, heart, may, never, mountain, pas   \n",
              "2                          man, boy, great, like, bear, tree, long, cat, people, back, dog, get, old, good, bird, wolf, call, think, hear, child   \n",
              "2                     king, upon, great, hear, hand, long, like, prince, sea, eye, old, night, love, cry, land, heart, may, never, mountain, pas   \n",
              "3                     man, monkey, mill, get, turtle, sack, fox, ram, crab, mule, good, tortoise, poor, ask, wife, rich, think, away, long, wind   \n",
              "...                                                                                                                                          ...   \n",
              "195                   king, upon, great, hear, hand, long, like, prince, sea, eye, old, night, love, cry, land, heart, may, never, mountain, pas   \n",
              "196    giant, head, castle, john, youth, man, king, thor, may, like, two, stand, put, young_man, shepherd, great, tailor, dragon, monster, throw   \n",
              "196                   king, upon, great, hear, hand, long, like, prince, sea, eye, old, night, love, cry, land, heart, may, never, mountain, pas   \n",
              "197              king, giant, son, loki, odin, great, put, daughter, asgard, bear, house, back, head, leave, hand, get, thing, upon, man, father   \n",
              "197                   god, man, love, heart, sigurd, great, yet, may, hand, earth, like, eye, sword, river, upon, death, son, water, still, grow   \n",
              "\n",
              "                                                                                                                                                                                                          Paper Desc  \n",
              "Tales                                                                                                                                                                                                                 \n",
              "1        Returning from a long journey, the hero undertook an expedition against the Amazons in order to finish the ninth adventure and bring to King Eurystheus the sword belt of the Amazon Hippolyta.  The Amazon  \n",
              "1        Returning from a long journey, the hero undertook an expedition against the Amazons in order to finish the ninth adventure and bring to King Eurystheus the sword belt of the Amazon Hippolyta.  The Amazon  \n",
              "2         When the young queen Wilhelmina visited Brabant and Limburg, they amused her with pageants and plays, in which the little fellows called kabouters, in Dutch, and kobolds in German, played and showed off  \n",
              "2         When the young queen Wilhelmina visited Brabant and Limburg, they amused her with pageants and plays, in which the little fellows called kabouters, in Dutch, and kobolds in German, played and showed off  \n",
              "3         Once on a time, but it was a long, long time ago, there were two brothers, one rich and one poor. Now, one Christmas eve, the poor one hadn't so much as a crumb in the house, either of meat or bread, so  \n",
              "...                                                                                                                                                                                                              ...  \n",
              "195    .  Once on a time, Asa Thor and Loki set out on a journey from Asgard to Jötunheim. They travelled in Thor's chariot, drawn by two milk-white goats. It was a somewhat cumbrous iron chariot, and the wheels   \n",
              "196    .]  \"Who are you?\" said Thor, standing on tiptoe, and stretching his neck to look up; \"and why do you make such a noise as to prevent your neighbours from sleeping?\"  \"My name is Skrymir,\" said the giant s  \n",
              "196    .]  \"Who are you?\" said Thor, standing on tiptoe, and stretching his neck to look up; \"and why do you make such a noise as to prevent your neighbours from sleeping?\"  \"My name is Skrymir,\" said the giant s  \n",
              "197    .]  \"Nonsense,\" said Fialar and Galar; \"How should a giant care for such things as these? Our swords could not help him; he does not want pick-axes nor lanterns who lives amongst the mountain snows, nor sh  \n",
              "197    .]  \"Nonsense,\" said Fialar and Galar; \"How should a giant care for such things as these? Our swords could not help him; he does not want pick-axes nor lanterns who lives amongst the mountain snows, nor sh  \n",
              "\n",
              "[394 rows x 4 columns]"
            ],
            "text/html": [
              "\n",
              "  <div id=\"df-53eb26af-c5c0-4c61-80c8-dcc168c40e30\">\n",
              "    <div class=\"colab-df-container\">\n",
              "      <div>\n",
              "<style scoped>\n",
              "    .dataframe tbody tr th:only-of-type {\n",
              "        vertical-align: middle;\n",
              "    }\n",
              "\n",
              "    .dataframe tbody tr th {\n",
              "        vertical-align: top;\n",
              "    }\n",
              "\n",
              "    .dataframe thead th {\n",
              "        text-align: right;\n",
              "    }\n",
              "</style>\n",
              "<table border=\"1\" class=\"dataframe\">\n",
              "  <thead>\n",
              "    <tr style=\"text-align: right;\">\n",
              "      <th></th>\n",
              "      <th>Dominant Topics</th>\n",
              "      <th>Contribution %</th>\n",
              "      <th>Topic Desc</th>\n",
              "      <th>Paper Desc</th>\n",
              "    </tr>\n",
              "    <tr>\n",
              "      <th>Tales</th>\n",
              "      <th></th>\n",
              "      <th></th>\n",
              "      <th></th>\n",
              "      <th></th>\n",
              "    </tr>\n",
              "  </thead>\n",
              "  <tbody>\n",
              "    <tr>\n",
              "      <th>1</th>\n",
              "      <td>2</td>\n",
              "      <td>34.4</td>\n",
              "      <td>upon, man, king, great, two, place, bring, order, head, god, long, city, hand, thee, may, thus, however, good, father, answer</td>\n",
              "      <td>Returning from a long journey, the hero undertook an expedition against the Amazons in order to finish the ninth adventure and bring to King Eurystheus the sword belt of the Amazon Hippolyta.  The Amazon</td>\n",
              "    </tr>\n",
              "    <tr>\n",
              "      <th>1</th>\n",
              "      <td>11</td>\n",
              "      <td>26.5</td>\n",
              "      <td>king, upon, great, hear, hand, long, like, prince, sea, eye, old, night, love, cry, land, heart, may, never, mountain, pas</td>\n",
              "      <td>Returning from a long journey, the hero undertook an expedition against the Amazons in order to finish the ninth adventure and bring to King Eurystheus the sword belt of the Amazon Hippolyta.  The Amazon</td>\n",
              "    </tr>\n",
              "    <tr>\n",
              "      <th>2</th>\n",
              "      <td>8</td>\n",
              "      <td>30.4</td>\n",
              "      <td>man, boy, great, like, bear, tree, long, cat, people, back, dog, get, old, good, bird, wolf, call, think, hear, child</td>\n",
              "      <td>When the young queen Wilhelmina visited Brabant and Limburg, they amused her with pageants and plays, in which the little fellows called kabouters, in Dutch, and kobolds in German, played and showed off</td>\n",
              "    </tr>\n",
              "    <tr>\n",
              "      <th>2</th>\n",
              "      <td>11</td>\n",
              "      <td>27.7</td>\n",
              "      <td>king, upon, great, hear, hand, long, like, prince, sea, eye, old, night, love, cry, land, heart, may, never, mountain, pas</td>\n",
              "      <td>When the young queen Wilhelmina visited Brabant and Limburg, they amused her with pageants and plays, in which the little fellows called kabouters, in Dutch, and kobolds in German, played and showed off</td>\n",
              "    </tr>\n",
              "    <tr>\n",
              "      <th>3</th>\n",
              "      <td>1</td>\n",
              "      <td>33.9</td>\n",
              "      <td>man, monkey, mill, get, turtle, sack, fox, ram, crab, mule, good, tortoise, poor, ask, wife, rich, think, away, long, wind</td>\n",
              "      <td>Once on a time, but it was a long, long time ago, there were two brothers, one rich and one poor. Now, one Christmas eve, the poor one hadn't so much as a crumb in the house, either of meat or bread, so</td>\n",
              "    </tr>\n",
              "    <tr>\n",
              "      <th>...</th>\n",
              "      <td>...</td>\n",
              "      <td>...</td>\n",
              "      <td>...</td>\n",
              "      <td>...</td>\n",
              "    </tr>\n",
              "    <tr>\n",
              "      <th>195</th>\n",
              "      <td>11</td>\n",
              "      <td>24.9</td>\n",
              "      <td>king, upon, great, hear, hand, long, like, prince, sea, eye, old, night, love, cry, land, heart, may, never, mountain, pas</td>\n",
              "      <td>.  Once on a time, Asa Thor and Loki set out on a journey from Asgard to Jötunheim. They travelled in Thor's chariot, drawn by two milk-white goats. It was a somewhat cumbrous iron chariot, and the wheels</td>\n",
              "    </tr>\n",
              "    <tr>\n",
              "      <th>196</th>\n",
              "      <td>10</td>\n",
              "      <td>38.3</td>\n",
              "      <td>giant, head, castle, john, youth, man, king, thor, may, like, two, stand, put, young_man, shepherd, great, tailor, dragon, monster, throw</td>\n",
              "      <td>.]  \"Who are you?\" said Thor, standing on tiptoe, and stretching his neck to look up; \"and why do you make such a noise as to prevent your neighbours from sleeping?\"  \"My name is Skrymir,\" said the giant s</td>\n",
              "    </tr>\n",
              "    <tr>\n",
              "      <th>196</th>\n",
              "      <td>11</td>\n",
              "      <td>28.0</td>\n",
              "      <td>king, upon, great, hear, hand, long, like, prince, sea, eye, old, night, love, cry, land, heart, may, never, mountain, pas</td>\n",
              "      <td>.]  \"Who are you?\" said Thor, standing on tiptoe, and stretching his neck to look up; \"and why do you make such a noise as to prevent your neighbours from sleeping?\"  \"My name is Skrymir,\" said the giant s</td>\n",
              "    </tr>\n",
              "    <tr>\n",
              "      <th>197</th>\n",
              "      <td>3</td>\n",
              "      <td>27.4</td>\n",
              "      <td>king, giant, son, loki, odin, great, put, daughter, asgard, bear, house, back, head, leave, hand, get, thing, upon, man, father</td>\n",
              "      <td>.]  \"Nonsense,\" said Fialar and Galar; \"How should a giant care for such things as these? Our swords could not help him; he does not want pick-axes nor lanterns who lives amongst the mountain snows, nor sh</td>\n",
              "    </tr>\n",
              "    <tr>\n",
              "      <th>197</th>\n",
              "      <td>18</td>\n",
              "      <td>25.6</td>\n",
              "      <td>god, man, love, heart, sigurd, great, yet, may, hand, earth, like, eye, sword, river, upon, death, son, water, still, grow</td>\n",
              "      <td>.]  \"Nonsense,\" said Fialar and Galar; \"How should a giant care for such things as these? Our swords could not help him; he does not want pick-axes nor lanterns who lives amongst the mountain snows, nor sh</td>\n",
              "    </tr>\n",
              "  </tbody>\n",
              "</table>\n",
              "<p>394 rows × 4 columns</p>\n",
              "</div>\n",
              "      <button class=\"colab-df-convert\" onclick=\"convertToInteractive('df-53eb26af-c5c0-4c61-80c8-dcc168c40e30')\"\n",
              "              title=\"Convert this dataframe to an interactive table.\"\n",
              "              style=\"display:none;\">\n",
              "        \n",
              "  <svg xmlns=\"http://www.w3.org/2000/svg\" height=\"24px\"viewBox=\"0 0 24 24\"\n",
              "       width=\"24px\">\n",
              "    <path d=\"M0 0h24v24H0V0z\" fill=\"none\"/>\n",
              "    <path d=\"M18.56 5.44l.94 2.06.94-2.06 2.06-.94-2.06-.94-.94-2.06-.94 2.06-2.06.94zm-11 1L8.5 8.5l.94-2.06 2.06-.94-2.06-.94L8.5 2.5l-.94 2.06-2.06.94zm10 10l.94 2.06.94-2.06 2.06-.94-2.06-.94-.94-2.06-.94 2.06-2.06.94z\"/><path d=\"M17.41 7.96l-1.37-1.37c-.4-.4-.92-.59-1.43-.59-.52 0-1.04.2-1.43.59L10.3 9.45l-7.72 7.72c-.78.78-.78 2.05 0 2.83L4 21.41c.39.39.9.59 1.41.59.51 0 1.02-.2 1.41-.59l7.78-7.78 2.81-2.81c.8-.78.8-2.07 0-2.86zM5.41 20L4 18.59l7.72-7.72 1.47 1.35L5.41 20z\"/>\n",
              "  </svg>\n",
              "      </button>\n",
              "      \n",
              "  <style>\n",
              "    .colab-df-container {\n",
              "      display:flex;\n",
              "      flex-wrap:wrap;\n",
              "      gap: 12px;\n",
              "    }\n",
              "\n",
              "    .colab-df-convert {\n",
              "      background-color: #E8F0FE;\n",
              "      border: none;\n",
              "      border-radius: 50%;\n",
              "      cursor: pointer;\n",
              "      display: none;\n",
              "      fill: #1967D2;\n",
              "      height: 32px;\n",
              "      padding: 0 0 0 0;\n",
              "      width: 32px;\n",
              "    }\n",
              "\n",
              "    .colab-df-convert:hover {\n",
              "      background-color: #E2EBFA;\n",
              "      box-shadow: 0px 1px 2px rgba(60, 64, 67, 0.3), 0px 1px 3px 1px rgba(60, 64, 67, 0.15);\n",
              "      fill: #174EA6;\n",
              "    }\n",
              "\n",
              "    [theme=dark] .colab-df-convert {\n",
              "      background-color: #3B4455;\n",
              "      fill: #D2E3FC;\n",
              "    }\n",
              "\n",
              "    [theme=dark] .colab-df-convert:hover {\n",
              "      background-color: #434B5C;\n",
              "      box-shadow: 0px 1px 3px 1px rgba(0, 0, 0, 0.15);\n",
              "      filter: drop-shadow(0px 1px 2px rgba(0, 0, 0, 0.3));\n",
              "      fill: #FFFFFF;\n",
              "    }\n",
              "  </style>\n",
              "\n",
              "      <script>\n",
              "        const buttonEl =\n",
              "          document.querySelector('#df-53eb26af-c5c0-4c61-80c8-dcc168c40e30 button.colab-df-convert');\n",
              "        buttonEl.style.display =\n",
              "          google.colab.kernel.accessAllowed ? 'block' : 'none';\n",
              "\n",
              "        async function convertToInteractive(key) {\n",
              "          const element = document.querySelector('#df-53eb26af-c5c0-4c61-80c8-dcc168c40e30');\n",
              "          const dataTable =\n",
              "            await google.colab.kernel.invokeFunction('convertToInteractive',\n",
              "                                                     [key], {});\n",
              "          if (!dataTable) return;\n",
              "\n",
              "          const docLinkHtml = 'Like what you see? Visit the ' +\n",
              "            '<a target=\"_blank\" href=https://colab.research.google.com/notebooks/data_table.ipynb>data table notebook</a>'\n",
              "            + ' to learn more about interactive tables.';\n",
              "          element.innerHTML = '';\n",
              "          dataTable['output_type'] = 'display_data';\n",
              "          await google.colab.output.renderOutput(dataTable, element);\n",
              "          const docLink = document.createElement('div');\n",
              "          docLink.innerHTML = docLinkHtml;\n",
              "          element.appendChild(docLink);\n",
              "        }\n",
              "      </script>\n",
              "    </div>\n",
              "  </div>\n",
              "  "
            ]
          },
          "metadata": {},
          "execution_count": 75
        }
      ]
    }
  ]
}